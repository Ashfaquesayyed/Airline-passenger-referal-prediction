{
  "cells": [
    {
      "cell_type": "markdown",
      "metadata": {
        "id": "view-in-github",
        "colab_type": "text"
      },
      "source": [
        "<a href=\"https://colab.research.google.com/github/ashfaquesayyed/Airline-passenger-referal-prediction/blob/main/Copy_of_airline_passenger_referral_prediction_.ipynb\" target=\"_parent\"><img src=\"https://colab.research.google.com/assets/colab-badge.svg\" alt=\"Open In Colab\"/></a>"
      ]
    },
    {
      "cell_type": "markdown",
      "metadata": {
        "id": "XSatEL4m3zOc"
      },
      "source": [
        "#Data includes airline reviews from 2006 to 2019 for popular airlines around the world with multiple choice and free text questions. Data is scraped in Spring 2019. The main objective is to predict whether passengers will refer the airline to their friends."
      ]
    },
    {
      "cell_type": "markdown",
      "metadata": {
        "id": "Q5Z0k2ag4Hzu"
      },
      "source": [
        "#Feature descriptions briefly as follows:\n",
        "#airline: Name of the airline.\n",
        "#overall: Overall point is given to the trip between 1 to 10.\n",
        "#author: Author of the trip\n",
        "#reviewdate: Date of the Review customer review: Review of the customers in free text format\n",
        "#aircraft: Type of the aircraft\n",
        "#travellertype: Type of traveler (e.g. business, leisure)\n",
        "#cabin: Cabin at the flight \n",
        "#date flown: Flight date\n",
        "#seatcomfort: Rated between 1-5\n",
        "#cabin service: Rated between 1-5\n",
        "#foodbev: Rated between 1-5 entertainment: Rated between 1-5\n",
        "#groundservice: Rated between 1-5\n",
        "#valueformoney: Rated between 1-5\n",
        "#recommended: Binary, target variable."
      ]
    },
    {
      "cell_type": "code",
      "execution_count": null,
      "metadata": {
        "colab": {
          "background_save": true
        },
        "id": "qyGqk_KU4K-o"
      },
      "outputs": [],
      "source": [
        "#Importing libraries\n",
        "import pandas as pd \n",
        "import numpy as np\n",
        "from datetime import datetime as dt \n",
        "import matplotlib.pyplot as plt\n",
        "import seaborn as sns\n",
        "%matplotlib inline\n",
        "\n",
        "\n",
        "\n",
        "from sklearn.linear_model import LogisticRegression\n",
        "\n",
        "from sklearn.ensemble import RandomForestClassifier\n",
        "from sklearn.tree import DecisionTreeClassifier\n",
        "from sklearn.neighbors import KNeighborsClassifier\n",
        "from sklearn.preprocessing import LabelEncoder\n",
        "import lightgbm\n",
        "\n",
        "\n",
        "from sklearn import model_selection\n",
        "from sklearn.model_selection import train_test_split\n",
        "from sklearn.model_selection import GridSearchCV\n",
        "from sklearn.svm import SVC\n",
        "import xgboost as xgb\n",
        "# Importing  metrics for evaluation for our models\n",
        "from sklearn import metrics\n",
        "from sklearn.metrics import confusion_matrix\n",
        "from sklearn.metrics import accuracy_score\n",
        "from sklearn.metrics import precision_score\n",
        "from sklearn.metrics import recall_score\n",
        "from sklearn.metrics import f1_score\n",
        "from sklearn.metrics import roc_auc_score\n",
        "from sklearn.metrics import roc_curve\n",
        "from sklearn.metrics import auc\n",
        "import warnings\n",
        "warnings.filterwarnings('ignore')\n",
        "\n",
        "%matplotlib inline"
      ]
    },
    {
      "cell_type": "code",
      "execution_count": null,
      "metadata": {
        "colab": {
          "base_uri": "https://localhost:8080/"
        },
        "id": "xjGvbq0c4PEl",
        "outputId": "a5ba193a-92f7-4be2-b78a-4c3cecc11a57"
      },
      "outputs": [
        {
          "name": "stdout",
          "output_type": "stream",
          "text": [
            "Mounted at /content/drive/\n"
          ]
        }
      ],
      "source": [
        "from google.colab import drive\n",
        "drive.mount('/content/drive/')"
      ]
    },
    {
      "cell_type": "code",
      "execution_count": null,
      "metadata": {
        "id": "dqoeKrACghEp"
      },
      "outputs": [],
      "source": [
        "# Importing the dataset\n",
        "df = pd.read_excel(\"/content/drive/MyDrive/data folder/data_airline_reviews.xlsx\")"
      ]
    },
    {
      "cell_type": "code",
      "execution_count": null,
      "metadata": {
        "colab": {
          "base_uri": "https://localhost:8080/"
        },
        "id": "DByD8Di1_gOj",
        "outputId": "c1055a3b-5167-407e-a60c-ad326359c0a6"
      },
      "outputs": [
        {
          "data": {
            "text/plain": [
              "(131895, 17)"
            ]
          },
          "execution_count": 4,
          "metadata": {},
          "output_type": "execute_result"
        }
      ],
      "source": [
        "#shape of dataset\n",
        "df.shape"
      ]
    },
    {
      "cell_type": "code",
      "execution_count": null,
      "metadata": {
        "colab": {
          "base_uri": "https://localhost:8080/"
        },
        "id": "WZC6VV2X44P_",
        "outputId": "e6fcea26-7e66-4791-a82a-008fdf9f6387"
      },
      "outputs": [
        {
          "data": {
            "text/html": [
              "\n",
              "  <div id=\"df-0a0b46c3-d697-4878-8e78-94bd127513a2\">\n",
              "    <div class=\"colab-df-container\">\n",
              "      <div>\n",
              "<style scoped>\n",
              "    .dataframe tbody tr th:only-of-type {\n",
              "        vertical-align: middle;\n",
              "    }\n",
              "\n",
              "    .dataframe tbody tr th {\n",
              "        vertical-align: top;\n",
              "    }\n",
              "\n",
              "    .dataframe thead th {\n",
              "        text-align: right;\n",
              "    }\n",
              "</style>\n",
              "<table border=\"1\" class=\"dataframe\">\n",
              "  <thead>\n",
              "    <tr style=\"text-align: right;\">\n",
              "      <th></th>\n",
              "      <th>airline</th>\n",
              "      <th>overall</th>\n",
              "      <th>author</th>\n",
              "      <th>review_date</th>\n",
              "      <th>customer_review</th>\n",
              "      <th>aircraft</th>\n",
              "      <th>traveller_type</th>\n",
              "      <th>cabin</th>\n",
              "      <th>route</th>\n",
              "      <th>date_flown</th>\n",
              "      <th>seat_comfort</th>\n",
              "      <th>cabin_service</th>\n",
              "      <th>food_bev</th>\n",
              "      <th>entertainment</th>\n",
              "      <th>ground_service</th>\n",
              "      <th>value_for_money</th>\n",
              "      <th>recommended</th>\n",
              "    </tr>\n",
              "  </thead>\n",
              "  <tbody>\n",
              "    <tr>\n",
              "      <th>0</th>\n",
              "      <td>NaN</td>\n",
              "      <td>NaN</td>\n",
              "      <td>NaN</td>\n",
              "      <td>NaN</td>\n",
              "      <td>NaN</td>\n",
              "      <td>NaN</td>\n",
              "      <td>NaN</td>\n",
              "      <td>NaN</td>\n",
              "      <td>NaN</td>\n",
              "      <td>NaN</td>\n",
              "      <td>NaN</td>\n",
              "      <td>NaN</td>\n",
              "      <td>NaN</td>\n",
              "      <td>NaN</td>\n",
              "      <td>NaN</td>\n",
              "      <td>NaN</td>\n",
              "      <td>NaN</td>\n",
              "    </tr>\n",
              "    <tr>\n",
              "      <th>1</th>\n",
              "      <td>Turkish Airlines</td>\n",
              "      <td>7.0</td>\n",
              "      <td>Christopher Hackley</td>\n",
              "      <td>8th May 2019</td>\n",
              "      <td>âœ… Trip Verified | London to Izmir via Istanb...</td>\n",
              "      <td>NaN</td>\n",
              "      <td>Business</td>\n",
              "      <td>Economy Class</td>\n",
              "      <td>London to Izmir via Istanbul</td>\n",
              "      <td>2019-05-01 00:00:00</td>\n",
              "      <td>4.0</td>\n",
              "      <td>5.0</td>\n",
              "      <td>4.0</td>\n",
              "      <td>4.0</td>\n",
              "      <td>2.0</td>\n",
              "      <td>4.0</td>\n",
              "      <td>yes</td>\n",
              "    </tr>\n",
              "    <tr>\n",
              "      <th>2</th>\n",
              "      <td>NaN</td>\n",
              "      <td>NaN</td>\n",
              "      <td>NaN</td>\n",
              "      <td>NaN</td>\n",
              "      <td>NaN</td>\n",
              "      <td>NaN</td>\n",
              "      <td>NaN</td>\n",
              "      <td>NaN</td>\n",
              "      <td>NaN</td>\n",
              "      <td>NaN</td>\n",
              "      <td>NaN</td>\n",
              "      <td>NaN</td>\n",
              "      <td>NaN</td>\n",
              "      <td>NaN</td>\n",
              "      <td>NaN</td>\n",
              "      <td>NaN</td>\n",
              "      <td>NaN</td>\n",
              "    </tr>\n",
              "    <tr>\n",
              "      <th>3</th>\n",
              "      <td>Turkish Airlines</td>\n",
              "      <td>2.0</td>\n",
              "      <td>Adriana Pisoi</td>\n",
              "      <td>7th May 2019</td>\n",
              "      <td>âœ… Trip Verified | Istanbul to Bucharest. We ...</td>\n",
              "      <td>NaN</td>\n",
              "      <td>Family Leisure</td>\n",
              "      <td>Economy Class</td>\n",
              "      <td>Istanbul to Bucharest</td>\n",
              "      <td>2019-05-01 00:00:00</td>\n",
              "      <td>4.0</td>\n",
              "      <td>1.0</td>\n",
              "      <td>1.0</td>\n",
              "      <td>1.0</td>\n",
              "      <td>1.0</td>\n",
              "      <td>1.0</td>\n",
              "      <td>no</td>\n",
              "    </tr>\n",
              "    <tr>\n",
              "      <th>4</th>\n",
              "      <td>NaN</td>\n",
              "      <td>NaN</td>\n",
              "      <td>NaN</td>\n",
              "      <td>NaN</td>\n",
              "      <td>NaN</td>\n",
              "      <td>NaN</td>\n",
              "      <td>NaN</td>\n",
              "      <td>NaN</td>\n",
              "      <td>NaN</td>\n",
              "      <td>NaN</td>\n",
              "      <td>NaN</td>\n",
              "      <td>NaN</td>\n",
              "      <td>NaN</td>\n",
              "      <td>NaN</td>\n",
              "      <td>NaN</td>\n",
              "      <td>NaN</td>\n",
              "      <td>NaN</td>\n",
              "    </tr>\n",
              "  </tbody>\n",
              "</table>\n",
              "</div>\n",
              "      <button class=\"colab-df-convert\" onclick=\"convertToInteractive('df-0a0b46c3-d697-4878-8e78-94bd127513a2')\"\n",
              "              title=\"Convert this dataframe to an interactive table.\"\n",
              "              style=\"display:none;\">\n",
              "        \n",
              "  <svg xmlns=\"http://www.w3.org/2000/svg\" height=\"24px\"viewBox=\"0 0 24 24\"\n",
              "       width=\"24px\">\n",
              "    <path d=\"M0 0h24v24H0V0z\" fill=\"none\"/>\n",
              "    <path d=\"M18.56 5.44l.94 2.06.94-2.06 2.06-.94-2.06-.94-.94-2.06-.94 2.06-2.06.94zm-11 1L8.5 8.5l.94-2.06 2.06-.94-2.06-.94L8.5 2.5l-.94 2.06-2.06.94zm10 10l.94 2.06.94-2.06 2.06-.94-2.06-.94-.94-2.06-.94 2.06-2.06.94z\"/><path d=\"M17.41 7.96l-1.37-1.37c-.4-.4-.92-.59-1.43-.59-.52 0-1.04.2-1.43.59L10.3 9.45l-7.72 7.72c-.78.78-.78 2.05 0 2.83L4 21.41c.39.39.9.59 1.41.59.51 0 1.02-.2 1.41-.59l7.78-7.78 2.81-2.81c.8-.78.8-2.07 0-2.86zM5.41 20L4 18.59l7.72-7.72 1.47 1.35L5.41 20z\"/>\n",
              "  </svg>\n",
              "      </button>\n",
              "      \n",
              "  <style>\n",
              "    .colab-df-container {\n",
              "      display:flex;\n",
              "      flex-wrap:wrap;\n",
              "      gap: 12px;\n",
              "    }\n",
              "\n",
              "    .colab-df-convert {\n",
              "      background-color: #E8F0FE;\n",
              "      border: none;\n",
              "      border-radius: 50%;\n",
              "      cursor: pointer;\n",
              "      display: none;\n",
              "      fill: #1967D2;\n",
              "      height: 32px;\n",
              "      padding: 0 0 0 0;\n",
              "      width: 32px;\n",
              "    }\n",
              "\n",
              "    .colab-df-convert:hover {\n",
              "      background-color: #E2EBFA;\n",
              "      box-shadow: 0px 1px 2px rgba(60, 64, 67, 0.3), 0px 1px 3px 1px rgba(60, 64, 67, 0.15);\n",
              "      fill: #174EA6;\n",
              "    }\n",
              "\n",
              "    [theme=dark] .colab-df-convert {\n",
              "      background-color: #3B4455;\n",
              "      fill: #D2E3FC;\n",
              "    }\n",
              "\n",
              "    [theme=dark] .colab-df-convert:hover {\n",
              "      background-color: #434B5C;\n",
              "      box-shadow: 0px 1px 3px 1px rgba(0, 0, 0, 0.15);\n",
              "      filter: drop-shadow(0px 1px 2px rgba(0, 0, 0, 0.3));\n",
              "      fill: #FFFFFF;\n",
              "    }\n",
              "  </style>\n",
              "\n",
              "      <script>\n",
              "        const buttonEl =\n",
              "          document.querySelector('#df-0a0b46c3-d697-4878-8e78-94bd127513a2 button.colab-df-convert');\n",
              "        buttonEl.style.display =\n",
              "          google.colab.kernel.accessAllowed ? 'block' : 'none';\n",
              "\n",
              "        async function convertToInteractive(key) {\n",
              "          const element = document.querySelector('#df-0a0b46c3-d697-4878-8e78-94bd127513a2');\n",
              "          const dataTable =\n",
              "            await google.colab.kernel.invokeFunction('convertToInteractive',\n",
              "                                                     [key], {});\n",
              "          if (!dataTable) return;\n",
              "\n",
              "          const docLinkHtml = 'Like what you see? Visit the ' +\n",
              "            '<a target=\"_blank\" href=https://colab.research.google.com/notebooks/data_table.ipynb>data table notebook</a>'\n",
              "            + ' to learn more about interactive tables.';\n",
              "          element.innerHTML = '';\n",
              "          dataTable['output_type'] = 'display_data';\n",
              "          await google.colab.output.renderOutput(dataTable, element);\n",
              "          const docLink = document.createElement('div');\n",
              "          docLink.innerHTML = docLinkHtml;\n",
              "          element.appendChild(docLink);\n",
              "        }\n",
              "      </script>\n",
              "    </div>\n",
              "  </div>\n",
              "  "
            ],
            "text/plain": [
              "            airline  overall               author   review_date  \\\n",
              "0               NaN      NaN                  NaN           NaN   \n",
              "1  Turkish Airlines      7.0  Christopher Hackley  8th May 2019   \n",
              "2               NaN      NaN                  NaN           NaN   \n",
              "3  Turkish Airlines      2.0        Adriana Pisoi  7th May 2019   \n",
              "4               NaN      NaN                  NaN           NaN   \n",
              "\n",
              "                                     customer_review aircraft  traveller_type  \\\n",
              "0                                                NaN      NaN             NaN   \n",
              "1  âœ… Trip Verified | London to Izmir via Istanb...      NaN        Business   \n",
              "2                                                NaN      NaN             NaN   \n",
              "3  âœ… Trip Verified | Istanbul to Bucharest. We ...      NaN  Family Leisure   \n",
              "4                                                NaN      NaN             NaN   \n",
              "\n",
              "           cabin                         route           date_flown  \\\n",
              "0            NaN                           NaN                  NaN   \n",
              "1  Economy Class  London to Izmir via Istanbul  2019-05-01 00:00:00   \n",
              "2            NaN                           NaN                  NaN   \n",
              "3  Economy Class         Istanbul to Bucharest  2019-05-01 00:00:00   \n",
              "4            NaN                           NaN                  NaN   \n",
              "\n",
              "   seat_comfort  cabin_service  food_bev  entertainment  ground_service  \\\n",
              "0           NaN            NaN       NaN            NaN             NaN   \n",
              "1           4.0            5.0       4.0            4.0             2.0   \n",
              "2           NaN            NaN       NaN            NaN             NaN   \n",
              "3           4.0            1.0       1.0            1.0             1.0   \n",
              "4           NaN            NaN       NaN            NaN             NaN   \n",
              "\n",
              "   value_for_money recommended  \n",
              "0              NaN         NaN  \n",
              "1              4.0         yes  \n",
              "2              NaN         NaN  \n",
              "3              1.0          no  \n",
              "4              NaN         NaN  "
            ]
          },
          "execution_count": 5,
          "metadata": {},
          "output_type": "execute_result"
        }
      ],
      "source": [
        "#head of dataset\n",
        "df.head()"
      ]
    },
    {
      "cell_type": "code",
      "execution_count": null,
      "metadata": {
        "colab": {
          "base_uri": "https://localhost:8080/"
        },
        "id": "WMOcBPDz4_Dh",
        "outputId": "789d426c-14c4-4298-c9fa-c16e8edc43cc"
      },
      "outputs": [
        {
          "data": {
            "text/html": [
              "\n",
              "  <div id=\"df-316bf085-298f-45de-addb-b722de4153e0\">\n",
              "    <div class=\"colab-df-container\">\n",
              "      <div>\n",
              "<style scoped>\n",
              "    .dataframe tbody tr th:only-of-type {\n",
              "        vertical-align: middle;\n",
              "    }\n",
              "\n",
              "    .dataframe tbody tr th {\n",
              "        vertical-align: top;\n",
              "    }\n",
              "\n",
              "    .dataframe thead th {\n",
              "        text-align: right;\n",
              "    }\n",
              "</style>\n",
              "<table border=\"1\" class=\"dataframe\">\n",
              "  <thead>\n",
              "    <tr style=\"text-align: right;\">\n",
              "      <th></th>\n",
              "      <th>airline</th>\n",
              "      <th>overall</th>\n",
              "      <th>author</th>\n",
              "      <th>review_date</th>\n",
              "      <th>customer_review</th>\n",
              "      <th>aircraft</th>\n",
              "      <th>traveller_type</th>\n",
              "      <th>cabin</th>\n",
              "      <th>route</th>\n",
              "      <th>date_flown</th>\n",
              "      <th>seat_comfort</th>\n",
              "      <th>cabin_service</th>\n",
              "      <th>food_bev</th>\n",
              "      <th>entertainment</th>\n",
              "      <th>ground_service</th>\n",
              "      <th>value_for_money</th>\n",
              "      <th>recommended</th>\n",
              "    </tr>\n",
              "  </thead>\n",
              "  <tbody>\n",
              "    <tr>\n",
              "      <th>131890</th>\n",
              "      <td>Ukraine International</td>\n",
              "      <td>NaN</td>\n",
              "      <td>Andriy Yesypenko</td>\n",
              "      <td>19th May 2006</td>\n",
              "      <td>Kiev - London (Gatwick) in business class (in ...</td>\n",
              "      <td>NaN</td>\n",
              "      <td>NaN</td>\n",
              "      <td>NaN</td>\n",
              "      <td>NaN</td>\n",
              "      <td>NaN</td>\n",
              "      <td>NaN</td>\n",
              "      <td>NaN</td>\n",
              "      <td>NaN</td>\n",
              "      <td>NaN</td>\n",
              "      <td>NaN</td>\n",
              "      <td>NaN</td>\n",
              "      <td>no</td>\n",
              "    </tr>\n",
              "    <tr>\n",
              "      <th>131891</th>\n",
              "      <td>NaN</td>\n",
              "      <td>NaN</td>\n",
              "      <td>NaN</td>\n",
              "      <td>NaN</td>\n",
              "      <td>NaN</td>\n",
              "      <td>NaN</td>\n",
              "      <td>NaN</td>\n",
              "      <td>NaN</td>\n",
              "      <td>NaN</td>\n",
              "      <td>NaN</td>\n",
              "      <td>NaN</td>\n",
              "      <td>NaN</td>\n",
              "      <td>NaN</td>\n",
              "      <td>NaN</td>\n",
              "      <td>NaN</td>\n",
              "      <td>NaN</td>\n",
              "      <td>NaN</td>\n",
              "    </tr>\n",
              "    <tr>\n",
              "      <th>131892</th>\n",
              "      <td>Ukraine International</td>\n",
              "      <td>NaN</td>\n",
              "      <td>Volodya Bilotkach</td>\n",
              "      <td>29th April 2006</td>\n",
              "      <td>Several flights - KBP to AMS (3 times one way)...</td>\n",
              "      <td>NaN</td>\n",
              "      <td>NaN</td>\n",
              "      <td>NaN</td>\n",
              "      <td>NaN</td>\n",
              "      <td>NaN</td>\n",
              "      <td>NaN</td>\n",
              "      <td>NaN</td>\n",
              "      <td>NaN</td>\n",
              "      <td>NaN</td>\n",
              "      <td>NaN</td>\n",
              "      <td>NaN</td>\n",
              "      <td>no</td>\n",
              "    </tr>\n",
              "    <tr>\n",
              "      <th>131893</th>\n",
              "      <td>NaN</td>\n",
              "      <td>NaN</td>\n",
              "      <td>NaN</td>\n",
              "      <td>NaN</td>\n",
              "      <td>NaN</td>\n",
              "      <td>NaN</td>\n",
              "      <td>NaN</td>\n",
              "      <td>NaN</td>\n",
              "      <td>NaN</td>\n",
              "      <td>NaN</td>\n",
              "      <td>NaN</td>\n",
              "      <td>NaN</td>\n",
              "      <td>NaN</td>\n",
              "      <td>NaN</td>\n",
              "      <td>NaN</td>\n",
              "      <td>NaN</td>\n",
              "      <td>NaN</td>\n",
              "    </tr>\n",
              "    <tr>\n",
              "      <th>131894</th>\n",
              "      <td>Ukraine International</td>\n",
              "      <td>NaN</td>\n",
              "      <td>Kasper Hettinga</td>\n",
              "      <td>10th February 2006</td>\n",
              "      <td>KBP-AMS with UIA. Although it was a relatively...</td>\n",
              "      <td>NaN</td>\n",
              "      <td>NaN</td>\n",
              "      <td>NaN</td>\n",
              "      <td>NaN</td>\n",
              "      <td>NaN</td>\n",
              "      <td>NaN</td>\n",
              "      <td>NaN</td>\n",
              "      <td>NaN</td>\n",
              "      <td>NaN</td>\n",
              "      <td>NaN</td>\n",
              "      <td>NaN</td>\n",
              "      <td>no</td>\n",
              "    </tr>\n",
              "  </tbody>\n",
              "</table>\n",
              "</div>\n",
              "      <button class=\"colab-df-convert\" onclick=\"convertToInteractive('df-316bf085-298f-45de-addb-b722de4153e0')\"\n",
              "              title=\"Convert this dataframe to an interactive table.\"\n",
              "              style=\"display:none;\">\n",
              "        \n",
              "  <svg xmlns=\"http://www.w3.org/2000/svg\" height=\"24px\"viewBox=\"0 0 24 24\"\n",
              "       width=\"24px\">\n",
              "    <path d=\"M0 0h24v24H0V0z\" fill=\"none\"/>\n",
              "    <path d=\"M18.56 5.44l.94 2.06.94-2.06 2.06-.94-2.06-.94-.94-2.06-.94 2.06-2.06.94zm-11 1L8.5 8.5l.94-2.06 2.06-.94-2.06-.94L8.5 2.5l-.94 2.06-2.06.94zm10 10l.94 2.06.94-2.06 2.06-.94-2.06-.94-.94-2.06-.94 2.06-2.06.94z\"/><path d=\"M17.41 7.96l-1.37-1.37c-.4-.4-.92-.59-1.43-.59-.52 0-1.04.2-1.43.59L10.3 9.45l-7.72 7.72c-.78.78-.78 2.05 0 2.83L4 21.41c.39.39.9.59 1.41.59.51 0 1.02-.2 1.41-.59l7.78-7.78 2.81-2.81c.8-.78.8-2.07 0-2.86zM5.41 20L4 18.59l7.72-7.72 1.47 1.35L5.41 20z\"/>\n",
              "  </svg>\n",
              "      </button>\n",
              "      \n",
              "  <style>\n",
              "    .colab-df-container {\n",
              "      display:flex;\n",
              "      flex-wrap:wrap;\n",
              "      gap: 12px;\n",
              "    }\n",
              "\n",
              "    .colab-df-convert {\n",
              "      background-color: #E8F0FE;\n",
              "      border: none;\n",
              "      border-radius: 50%;\n",
              "      cursor: pointer;\n",
              "      display: none;\n",
              "      fill: #1967D2;\n",
              "      height: 32px;\n",
              "      padding: 0 0 0 0;\n",
              "      width: 32px;\n",
              "    }\n",
              "\n",
              "    .colab-df-convert:hover {\n",
              "      background-color: #E2EBFA;\n",
              "      box-shadow: 0px 1px 2px rgba(60, 64, 67, 0.3), 0px 1px 3px 1px rgba(60, 64, 67, 0.15);\n",
              "      fill: #174EA6;\n",
              "    }\n",
              "\n",
              "    [theme=dark] .colab-df-convert {\n",
              "      background-color: #3B4455;\n",
              "      fill: #D2E3FC;\n",
              "    }\n",
              "\n",
              "    [theme=dark] .colab-df-convert:hover {\n",
              "      background-color: #434B5C;\n",
              "      box-shadow: 0px 1px 3px 1px rgba(0, 0, 0, 0.15);\n",
              "      filter: drop-shadow(0px 1px 2px rgba(0, 0, 0, 0.3));\n",
              "      fill: #FFFFFF;\n",
              "    }\n",
              "  </style>\n",
              "\n",
              "      <script>\n",
              "        const buttonEl =\n",
              "          document.querySelector('#df-316bf085-298f-45de-addb-b722de4153e0 button.colab-df-convert');\n",
              "        buttonEl.style.display =\n",
              "          google.colab.kernel.accessAllowed ? 'block' : 'none';\n",
              "\n",
              "        async function convertToInteractive(key) {\n",
              "          const element = document.querySelector('#df-316bf085-298f-45de-addb-b722de4153e0');\n",
              "          const dataTable =\n",
              "            await google.colab.kernel.invokeFunction('convertToInteractive',\n",
              "                                                     [key], {});\n",
              "          if (!dataTable) return;\n",
              "\n",
              "          const docLinkHtml = 'Like what you see? Visit the ' +\n",
              "            '<a target=\"_blank\" href=https://colab.research.google.com/notebooks/data_table.ipynb>data table notebook</a>'\n",
              "            + ' to learn more about interactive tables.';\n",
              "          element.innerHTML = '';\n",
              "          dataTable['output_type'] = 'display_data';\n",
              "          await google.colab.output.renderOutput(dataTable, element);\n",
              "          const docLink = document.createElement('div');\n",
              "          docLink.innerHTML = docLinkHtml;\n",
              "          element.appendChild(docLink);\n",
              "        }\n",
              "      </script>\n",
              "    </div>\n",
              "  </div>\n",
              "  "
            ],
            "text/plain": [
              "                      airline  overall             author         review_date  \\\n",
              "131890  Ukraine International      NaN   Andriy Yesypenko       19th May 2006   \n",
              "131891                    NaN      NaN                NaN                 NaN   \n",
              "131892  Ukraine International      NaN  Volodya Bilotkach     29th April 2006   \n",
              "131893                    NaN      NaN                NaN                 NaN   \n",
              "131894  Ukraine International      NaN    Kasper Hettinga  10th February 2006   \n",
              "\n",
              "                                          customer_review aircraft  \\\n",
              "131890  Kiev - London (Gatwick) in business class (in ...      NaN   \n",
              "131891                                                NaN      NaN   \n",
              "131892  Several flights - KBP to AMS (3 times one way)...      NaN   \n",
              "131893                                                NaN      NaN   \n",
              "131894  KBP-AMS with UIA. Although it was a relatively...      NaN   \n",
              "\n",
              "       traveller_type cabin route date_flown  seat_comfort  cabin_service  \\\n",
              "131890            NaN   NaN   NaN        NaN           NaN            NaN   \n",
              "131891            NaN   NaN   NaN        NaN           NaN            NaN   \n",
              "131892            NaN   NaN   NaN        NaN           NaN            NaN   \n",
              "131893            NaN   NaN   NaN        NaN           NaN            NaN   \n",
              "131894            NaN   NaN   NaN        NaN           NaN            NaN   \n",
              "\n",
              "        food_bev  entertainment  ground_service  value_for_money recommended  \n",
              "131890       NaN            NaN             NaN              NaN          no  \n",
              "131891       NaN            NaN             NaN              NaN         NaN  \n",
              "131892       NaN            NaN             NaN              NaN          no  \n",
              "131893       NaN            NaN             NaN              NaN         NaN  \n",
              "131894       NaN            NaN             NaN              NaN          no  "
            ]
          },
          "execution_count": 6,
          "metadata": {},
          "output_type": "execute_result"
        }
      ],
      "source": [
        "#tail of dataset\n",
        "df.tail()"
      ]
    },
    {
      "cell_type": "code",
      "execution_count": null,
      "metadata": {
        "colab": {
          "base_uri": "https://localhost:8080/"
        },
        "id": "_WpNtmEI6H7u",
        "outputId": "0f885a7f-e09c-41f0-cd99-952980138811"
      },
      "outputs": [
        {
          "data": {
            "text/plain": [
              "Index(['airline', 'overall', 'author', 'review_date', 'customer_review',\n",
              "       'aircraft', 'traveller_type', 'cabin', 'route', 'date_flown',\n",
              "       'seat_comfort', 'cabin_service', 'food_bev', 'entertainment',\n",
              "       'ground_service', 'value_for_money', 'recommended'],\n",
              "      dtype='object')"
            ]
          },
          "execution_count": 7,
          "metadata": {},
          "output_type": "execute_result"
        }
      ],
      "source": [
        "#columns name of df\n",
        "df.columns"
      ]
    },
    {
      "cell_type": "code",
      "execution_count": null,
      "metadata": {
        "colab": {
          "base_uri": "https://localhost:8080/"
        },
        "id": "8RSDrA5o6z6M",
        "outputId": "4dea8bb1-e5d9-49ec-f1f2-525d38a25e6d"
      },
      "outputs": [
        {
          "data": {
            "text/html": [
              "\n",
              "  <div id=\"df-2c9e62d5-46e2-46bc-893b-7f5bca6dbb1a\">\n",
              "    <div class=\"colab-df-container\">\n",
              "      <div>\n",
              "<style scoped>\n",
              "    .dataframe tbody tr th:only-of-type {\n",
              "        vertical-align: middle;\n",
              "    }\n",
              "\n",
              "    .dataframe tbody tr th {\n",
              "        vertical-align: top;\n",
              "    }\n",
              "\n",
              "    .dataframe thead th {\n",
              "        text-align: right;\n",
              "    }\n",
              "</style>\n",
              "<table border=\"1\" class=\"dataframe\">\n",
              "  <thead>\n",
              "    <tr style=\"text-align: right;\">\n",
              "      <th></th>\n",
              "      <th>count</th>\n",
              "      <th>unique</th>\n",
              "      <th>top</th>\n",
              "      <th>freq</th>\n",
              "      <th>mean</th>\n",
              "      <th>std</th>\n",
              "      <th>min</th>\n",
              "      <th>25%</th>\n",
              "      <th>50%</th>\n",
              "      <th>75%</th>\n",
              "      <th>max</th>\n",
              "    </tr>\n",
              "  </thead>\n",
              "  <tbody>\n",
              "    <tr>\n",
              "      <th>airline</th>\n",
              "      <td>65947</td>\n",
              "      <td>81</td>\n",
              "      <td>Spirit Airlines</td>\n",
              "      <td>2934</td>\n",
              "      <td>NaN</td>\n",
              "      <td>NaN</td>\n",
              "      <td>NaN</td>\n",
              "      <td>NaN</td>\n",
              "      <td>NaN</td>\n",
              "      <td>NaN</td>\n",
              "      <td>NaN</td>\n",
              "    </tr>\n",
              "    <tr>\n",
              "      <th>overall</th>\n",
              "      <td>64017.0</td>\n",
              "      <td>NaN</td>\n",
              "      <td>NaN</td>\n",
              "      <td>NaN</td>\n",
              "      <td>5.14543</td>\n",
              "      <td>3.477532</td>\n",
              "      <td>1.0</td>\n",
              "      <td>1.0</td>\n",
              "      <td>5.0</td>\n",
              "      <td>9.0</td>\n",
              "      <td>10.0</td>\n",
              "    </tr>\n",
              "    <tr>\n",
              "      <th>author</th>\n",
              "      <td>65947</td>\n",
              "      <td>44069</td>\n",
              "      <td>Anders Pedersen</td>\n",
              "      <td>96</td>\n",
              "      <td>NaN</td>\n",
              "      <td>NaN</td>\n",
              "      <td>NaN</td>\n",
              "      <td>NaN</td>\n",
              "      <td>NaN</td>\n",
              "      <td>NaN</td>\n",
              "      <td>NaN</td>\n",
              "    </tr>\n",
              "    <tr>\n",
              "      <th>review_date</th>\n",
              "      <td>65947</td>\n",
              "      <td>3015</td>\n",
              "      <td>19th January 2015</td>\n",
              "      <td>253</td>\n",
              "      <td>NaN</td>\n",
              "      <td>NaN</td>\n",
              "      <td>NaN</td>\n",
              "      <td>NaN</td>\n",
              "      <td>NaN</td>\n",
              "      <td>NaN</td>\n",
              "      <td>NaN</td>\n",
              "    </tr>\n",
              "    <tr>\n",
              "      <th>customer_review</th>\n",
              "      <td>65947</td>\n",
              "      <td>61172</td>\n",
              "      <td>On March 2/14 a friend and I were booked on an...</td>\n",
              "      <td>6</td>\n",
              "      <td>NaN</td>\n",
              "      <td>NaN</td>\n",
              "      <td>NaN</td>\n",
              "      <td>NaN</td>\n",
              "      <td>NaN</td>\n",
              "      <td>NaN</td>\n",
              "      <td>NaN</td>\n",
              "    </tr>\n",
              "    <tr>\n",
              "      <th>aircraft</th>\n",
              "      <td>19718</td>\n",
              "      <td>2088</td>\n",
              "      <td>A320</td>\n",
              "      <td>2157</td>\n",
              "      <td>NaN</td>\n",
              "      <td>NaN</td>\n",
              "      <td>NaN</td>\n",
              "      <td>NaN</td>\n",
              "      <td>NaN</td>\n",
              "      <td>NaN</td>\n",
              "      <td>NaN</td>\n",
              "    </tr>\n",
              "    <tr>\n",
              "      <th>traveller_type</th>\n",
              "      <td>39755</td>\n",
              "      <td>4</td>\n",
              "      <td>Solo Leisure</td>\n",
              "      <td>14798</td>\n",
              "      <td>NaN</td>\n",
              "      <td>NaN</td>\n",
              "      <td>NaN</td>\n",
              "      <td>NaN</td>\n",
              "      <td>NaN</td>\n",
              "      <td>NaN</td>\n",
              "      <td>NaN</td>\n",
              "    </tr>\n",
              "    <tr>\n",
              "      <th>cabin</th>\n",
              "      <td>63303</td>\n",
              "      <td>4</td>\n",
              "      <td>Economy Class</td>\n",
              "      <td>48558</td>\n",
              "      <td>NaN</td>\n",
              "      <td>NaN</td>\n",
              "      <td>NaN</td>\n",
              "      <td>NaN</td>\n",
              "      <td>NaN</td>\n",
              "      <td>NaN</td>\n",
              "      <td>NaN</td>\n",
              "    </tr>\n",
              "    <tr>\n",
              "      <th>route</th>\n",
              "      <td>39726</td>\n",
              "      <td>24549</td>\n",
              "      <td>Bangkok to Hong Kong</td>\n",
              "      <td>35</td>\n",
              "      <td>NaN</td>\n",
              "      <td>NaN</td>\n",
              "      <td>NaN</td>\n",
              "      <td>NaN</td>\n",
              "      <td>NaN</td>\n",
              "      <td>NaN</td>\n",
              "      <td>NaN</td>\n",
              "    </tr>\n",
              "    <tr>\n",
              "      <th>date_flown</th>\n",
              "      <td>39633</td>\n",
              "      <td>63</td>\n",
              "      <td>August 2015</td>\n",
              "      <td>1204</td>\n",
              "      <td>NaN</td>\n",
              "      <td>NaN</td>\n",
              "      <td>NaN</td>\n",
              "      <td>NaN</td>\n",
              "      <td>NaN</td>\n",
              "      <td>NaN</td>\n",
              "      <td>NaN</td>\n",
              "    </tr>\n",
              "    <tr>\n",
              "      <th>seat_comfort</th>\n",
              "      <td>60681.0</td>\n",
              "      <td>NaN</td>\n",
              "      <td>NaN</td>\n",
              "      <td>NaN</td>\n",
              "      <td>2.95216</td>\n",
              "      <td>1.441362</td>\n",
              "      <td>1.0</td>\n",
              "      <td>1.0</td>\n",
              "      <td>3.0</td>\n",
              "      <td>4.0</td>\n",
              "      <td>5.0</td>\n",
              "    </tr>\n",
              "    <tr>\n",
              "      <th>cabin_service</th>\n",
              "      <td>60715.0</td>\n",
              "      <td>NaN</td>\n",
              "      <td>NaN</td>\n",
              "      <td>NaN</td>\n",
              "      <td>3.191814</td>\n",
              "      <td>1.565789</td>\n",
              "      <td>1.0</td>\n",
              "      <td>2.0</td>\n",
              "      <td>3.0</td>\n",
              "      <td>5.0</td>\n",
              "      <td>5.0</td>\n",
              "    </tr>\n",
              "    <tr>\n",
              "      <th>food_bev</th>\n",
              "      <td>52608.0</td>\n",
              "      <td>NaN</td>\n",
              "      <td>NaN</td>\n",
              "      <td>NaN</td>\n",
              "      <td>2.90817</td>\n",
              "      <td>1.481893</td>\n",
              "      <td>1.0</td>\n",
              "      <td>1.0</td>\n",
              "      <td>3.0</td>\n",
              "      <td>4.0</td>\n",
              "      <td>5.0</td>\n",
              "    </tr>\n",
              "    <tr>\n",
              "      <th>entertainment</th>\n",
              "      <td>44193.0</td>\n",
              "      <td>NaN</td>\n",
              "      <td>NaN</td>\n",
              "      <td>NaN</td>\n",
              "      <td>2.863372</td>\n",
              "      <td>1.507262</td>\n",
              "      <td>1.0</td>\n",
              "      <td>1.0</td>\n",
              "      <td>3.0</td>\n",
              "      <td>4.0</td>\n",
              "      <td>5.0</td>\n",
              "    </tr>\n",
              "    <tr>\n",
              "      <th>ground_service</th>\n",
              "      <td>39358.0</td>\n",
              "      <td>NaN</td>\n",
              "      <td>NaN</td>\n",
              "      <td>NaN</td>\n",
              "      <td>2.69282</td>\n",
              "      <td>1.612215</td>\n",
              "      <td>1.0</td>\n",
              "      <td>1.0</td>\n",
              "      <td>3.0</td>\n",
              "      <td>4.0</td>\n",
              "      <td>5.0</td>\n",
              "    </tr>\n",
              "    <tr>\n",
              "      <th>value_for_money</th>\n",
              "      <td>63975.0</td>\n",
              "      <td>NaN</td>\n",
              "      <td>NaN</td>\n",
              "      <td>NaN</td>\n",
              "      <td>2.943962</td>\n",
              "      <td>1.58737</td>\n",
              "      <td>1.0</td>\n",
              "      <td>1.0</td>\n",
              "      <td>3.0</td>\n",
              "      <td>4.0</td>\n",
              "      <td>5.0</td>\n",
              "    </tr>\n",
              "    <tr>\n",
              "      <th>recommended</th>\n",
              "      <td>64440</td>\n",
              "      <td>2</td>\n",
              "      <td>no</td>\n",
              "      <td>33894</td>\n",
              "      <td>NaN</td>\n",
              "      <td>NaN</td>\n",
              "      <td>NaN</td>\n",
              "      <td>NaN</td>\n",
              "      <td>NaN</td>\n",
              "      <td>NaN</td>\n",
              "      <td>NaN</td>\n",
              "    </tr>\n",
              "  </tbody>\n",
              "</table>\n",
              "</div>\n",
              "      <button class=\"colab-df-convert\" onclick=\"convertToInteractive('df-2c9e62d5-46e2-46bc-893b-7f5bca6dbb1a')\"\n",
              "              title=\"Convert this dataframe to an interactive table.\"\n",
              "              style=\"display:none;\">\n",
              "        \n",
              "  <svg xmlns=\"http://www.w3.org/2000/svg\" height=\"24px\"viewBox=\"0 0 24 24\"\n",
              "       width=\"24px\">\n",
              "    <path d=\"M0 0h24v24H0V0z\" fill=\"none\"/>\n",
              "    <path d=\"M18.56 5.44l.94 2.06.94-2.06 2.06-.94-2.06-.94-.94-2.06-.94 2.06-2.06.94zm-11 1L8.5 8.5l.94-2.06 2.06-.94-2.06-.94L8.5 2.5l-.94 2.06-2.06.94zm10 10l.94 2.06.94-2.06 2.06-.94-2.06-.94-.94-2.06-.94 2.06-2.06.94z\"/><path d=\"M17.41 7.96l-1.37-1.37c-.4-.4-.92-.59-1.43-.59-.52 0-1.04.2-1.43.59L10.3 9.45l-7.72 7.72c-.78.78-.78 2.05 0 2.83L4 21.41c.39.39.9.59 1.41.59.51 0 1.02-.2 1.41-.59l7.78-7.78 2.81-2.81c.8-.78.8-2.07 0-2.86zM5.41 20L4 18.59l7.72-7.72 1.47 1.35L5.41 20z\"/>\n",
              "  </svg>\n",
              "      </button>\n",
              "      \n",
              "  <style>\n",
              "    .colab-df-container {\n",
              "      display:flex;\n",
              "      flex-wrap:wrap;\n",
              "      gap: 12px;\n",
              "    }\n",
              "\n",
              "    .colab-df-convert {\n",
              "      background-color: #E8F0FE;\n",
              "      border: none;\n",
              "      border-radius: 50%;\n",
              "      cursor: pointer;\n",
              "      display: none;\n",
              "      fill: #1967D2;\n",
              "      height: 32px;\n",
              "      padding: 0 0 0 0;\n",
              "      width: 32px;\n",
              "    }\n",
              "\n",
              "    .colab-df-convert:hover {\n",
              "      background-color: #E2EBFA;\n",
              "      box-shadow: 0px 1px 2px rgba(60, 64, 67, 0.3), 0px 1px 3px 1px rgba(60, 64, 67, 0.15);\n",
              "      fill: #174EA6;\n",
              "    }\n",
              "\n",
              "    [theme=dark] .colab-df-convert {\n",
              "      background-color: #3B4455;\n",
              "      fill: #D2E3FC;\n",
              "    }\n",
              "\n",
              "    [theme=dark] .colab-df-convert:hover {\n",
              "      background-color: #434B5C;\n",
              "      box-shadow: 0px 1px 3px 1px rgba(0, 0, 0, 0.15);\n",
              "      filter: drop-shadow(0px 1px 2px rgba(0, 0, 0, 0.3));\n",
              "      fill: #FFFFFF;\n",
              "    }\n",
              "  </style>\n",
              "\n",
              "      <script>\n",
              "        const buttonEl =\n",
              "          document.querySelector('#df-2c9e62d5-46e2-46bc-893b-7f5bca6dbb1a button.colab-df-convert');\n",
              "        buttonEl.style.display =\n",
              "          google.colab.kernel.accessAllowed ? 'block' : 'none';\n",
              "\n",
              "        async function convertToInteractive(key) {\n",
              "          const element = document.querySelector('#df-2c9e62d5-46e2-46bc-893b-7f5bca6dbb1a');\n",
              "          const dataTable =\n",
              "            await google.colab.kernel.invokeFunction('convertToInteractive',\n",
              "                                                     [key], {});\n",
              "          if (!dataTable) return;\n",
              "\n",
              "          const docLinkHtml = 'Like what you see? Visit the ' +\n",
              "            '<a target=\"_blank\" href=https://colab.research.google.com/notebooks/data_table.ipynb>data table notebook</a>'\n",
              "            + ' to learn more about interactive tables.';\n",
              "          element.innerHTML = '';\n",
              "          dataTable['output_type'] = 'display_data';\n",
              "          await google.colab.output.renderOutput(dataTable, element);\n",
              "          const docLink = document.createElement('div');\n",
              "          docLink.innerHTML = docLinkHtml;\n",
              "          element.appendChild(docLink);\n",
              "        }\n",
              "      </script>\n",
              "    </div>\n",
              "  </div>\n",
              "  "
            ],
            "text/plain": [
              "                   count unique  \\\n",
              "airline            65947     81   \n",
              "overall          64017.0    NaN   \n",
              "author             65947  44069   \n",
              "review_date        65947   3015   \n",
              "customer_review    65947  61172   \n",
              "aircraft           19718   2088   \n",
              "traveller_type     39755      4   \n",
              "cabin              63303      4   \n",
              "route              39726  24549   \n",
              "date_flown         39633     63   \n",
              "seat_comfort     60681.0    NaN   \n",
              "cabin_service    60715.0    NaN   \n",
              "food_bev         52608.0    NaN   \n",
              "entertainment    44193.0    NaN   \n",
              "ground_service   39358.0    NaN   \n",
              "value_for_money  63975.0    NaN   \n",
              "recommended        64440      2   \n",
              "\n",
              "                                                               top   freq  \\\n",
              "airline                                            Spirit Airlines   2934   \n",
              "overall                                                        NaN    NaN   \n",
              "author                                             Anders Pedersen     96   \n",
              "review_date                                      19th January 2015    253   \n",
              "customer_review  On March 2/14 a friend and I were booked on an...      6   \n",
              "aircraft                                                      A320   2157   \n",
              "traveller_type                                        Solo Leisure  14798   \n",
              "cabin                                                Economy Class  48558   \n",
              "route                                         Bangkok to Hong Kong     35   \n",
              "date_flown                                             August 2015   1204   \n",
              "seat_comfort                                                   NaN    NaN   \n",
              "cabin_service                                                  NaN    NaN   \n",
              "food_bev                                                       NaN    NaN   \n",
              "entertainment                                                  NaN    NaN   \n",
              "ground_service                                                 NaN    NaN   \n",
              "value_for_money                                                NaN    NaN   \n",
              "recommended                                                     no  33894   \n",
              "\n",
              "                     mean       std  min  25%  50%  75%   max  \n",
              "airline               NaN       NaN  NaN  NaN  NaN  NaN   NaN  \n",
              "overall           5.14543  3.477532  1.0  1.0  5.0  9.0  10.0  \n",
              "author                NaN       NaN  NaN  NaN  NaN  NaN   NaN  \n",
              "review_date           NaN       NaN  NaN  NaN  NaN  NaN   NaN  \n",
              "customer_review       NaN       NaN  NaN  NaN  NaN  NaN   NaN  \n",
              "aircraft              NaN       NaN  NaN  NaN  NaN  NaN   NaN  \n",
              "traveller_type        NaN       NaN  NaN  NaN  NaN  NaN   NaN  \n",
              "cabin                 NaN       NaN  NaN  NaN  NaN  NaN   NaN  \n",
              "route                 NaN       NaN  NaN  NaN  NaN  NaN   NaN  \n",
              "date_flown            NaN       NaN  NaN  NaN  NaN  NaN   NaN  \n",
              "seat_comfort      2.95216  1.441362  1.0  1.0  3.0  4.0   5.0  \n",
              "cabin_service    3.191814  1.565789  1.0  2.0  3.0  5.0   5.0  \n",
              "food_bev          2.90817  1.481893  1.0  1.0  3.0  4.0   5.0  \n",
              "entertainment    2.863372  1.507262  1.0  1.0  3.0  4.0   5.0  \n",
              "ground_service    2.69282  1.612215  1.0  1.0  3.0  4.0   5.0  \n",
              "value_for_money  2.943962   1.58737  1.0  1.0  3.0  4.0   5.0  \n",
              "recommended           NaN       NaN  NaN  NaN  NaN  NaN   NaN  "
            ]
          },
          "execution_count": 8,
          "metadata": {},
          "output_type": "execute_result"
        }
      ],
      "source": [
        "# description of data\n",
        "df.describe(include='all').T"
      ]
    },
    {
      "cell_type": "code",
      "execution_count": null,
      "metadata": {
        "colab": {
          "base_uri": "https://localhost:8080/"
        },
        "id": "MdFlAjbc-aGe",
        "outputId": "5bf72ed9-26bf-48d2-9ada-632865b6ae47"
      },
      "outputs": [
        {
          "name": "stdout",
          "output_type": "stream",
          "text": [
            "<class 'pandas.core.frame.DataFrame'>\n",
            "RangeIndex: 131895 entries, 0 to 131894\n",
            "Data columns (total 17 columns):\n",
            " #   Column           Non-Null Count  Dtype  \n",
            "---  ------           --------------  -----  \n",
            " 0   airline          65947 non-null  object \n",
            " 1   overall          64017 non-null  float64\n",
            " 2   author           65947 non-null  object \n",
            " 3   review_date      65947 non-null  object \n",
            " 4   customer_review  65947 non-null  object \n",
            " 5   aircraft         19718 non-null  object \n",
            " 6   traveller_type   39755 non-null  object \n",
            " 7   cabin            63303 non-null  object \n",
            " 8   route            39726 non-null  object \n",
            " 9   date_flown       39633 non-null  object \n",
            " 10  seat_comfort     60681 non-null  float64\n",
            " 11  cabin_service    60715 non-null  float64\n",
            " 12  food_bev         52608 non-null  float64\n",
            " 13  entertainment    44193 non-null  float64\n",
            " 14  ground_service   39358 non-null  float64\n",
            " 15  value_for_money  63975 non-null  float64\n",
            " 16  recommended      64440 non-null  object \n",
            "dtypes: float64(7), object(10)\n",
            "memory usage: 17.1+ MB\n"
          ]
        }
      ],
      "source": [
        "#information about dataset\n",
        "df.info()\n"
      ]
    },
    {
      "cell_type": "code",
      "execution_count": null,
      "metadata": {
        "id": "j6OtG98te5Qb"
      },
      "outputs": [],
      "source": [
        "#dropping unneccessary columns\n",
        "df=df.drop(columns=['author','review_date','customer_review','aircraft','date_flown'])"
      ]
    },
    {
      "cell_type": "markdown",
      "metadata": {
        "id": "dwVQtI7sPlP4"
      },
      "source": [
        "These columns are irrelevant with respect to dependent variable hence i am dropping this columns."
      ]
    },
    {
      "cell_type": "code",
      "execution_count": null,
      "metadata": {
        "colab": {
          "base_uri": "https://localhost:8080/"
        },
        "id": "GoSCcB0Y-rM1",
        "outputId": "2623f500-a0fe-4200-ccd2-c4e1bb650c17"
      },
      "outputs": [
        {
          "data": {
            "text/plain": [
              "airline               81\n",
              "overall               10\n",
              "traveller_type         4\n",
              "cabin                  4\n",
              "route              24549\n",
              "seat_comfort           5\n",
              "cabin_service          5\n",
              "food_bev               5\n",
              "entertainment          5\n",
              "ground_service         5\n",
              "value_for_money        5\n",
              "recommended            2\n",
              "dtype: int64"
            ]
          },
          "execution_count": 11,
          "metadata": {},
          "output_type": "execute_result"
        }
      ],
      "source": [
        "#unique values\n",
        "df.nunique()"
      ]
    },
    {
      "cell_type": "code",
      "execution_count": null,
      "metadata": {
        "colab": {
          "base_uri": "https://localhost:8080/"
        },
        "id": "-25KWK2-_Et_",
        "outputId": "591ef8f0-f7ae-45b2-8721-c91a4d361860"
      },
      "outputs": [
        {
          "data": {
            "text/plain": [
              "airline            11581\n",
              "overall            10863\n",
              "traveller_type      2412\n",
              "cabin               9905\n",
              "route               2409\n",
              "seat_comfort        8772\n",
              "cabin_service       8802\n",
              "food_bev            8314\n",
              "entertainment       7477\n",
              "ground_service      2385\n",
              "value_for_money    10362\n",
              "recommended        10566\n",
              "dtype: int64"
            ]
          },
          "execution_count": 12,
          "metadata": {},
          "output_type": "execute_result"
        }
      ],
      "source": [
        "\n",
        "#duplicate values\n",
        "df[df.duplicated()].count()"
      ]
    },
    {
      "cell_type": "code",
      "execution_count": null,
      "metadata": {
        "id": "2aYawFgZBEgY"
      },
      "outputs": [],
      "source": [
        "#Droping duplicate rows\n",
        "df.drop_duplicates(inplace=True)"
      ]
    },
    {
      "cell_type": "code",
      "execution_count": null,
      "metadata": {
        "colab": {
          "base_uri": "https://localhost:8080/"
        },
        "id": "FfsPB8PeJKMD",
        "outputId": "19b948d8-97c8-4775-9d4d-4ae0b79695db"
      },
      "outputs": [
        {
          "data": {
            "text/plain": [
              "airline            0\n",
              "overall            0\n",
              "traveller_type     0\n",
              "cabin              0\n",
              "route              0\n",
              "seat_comfort       0\n",
              "cabin_service      0\n",
              "food_bev           0\n",
              "entertainment      0\n",
              "ground_service     0\n",
              "value_for_money    0\n",
              "recommended        0\n",
              "dtype: int64"
            ]
          },
          "execution_count": 14,
          "metadata": {},
          "output_type": "execute_result"
        }
      ],
      "source": [
        "#checking duplicates\n",
        "df[df.duplicated()].count()\n",
        "\n"
      ]
    },
    {
      "cell_type": "code",
      "execution_count": null,
      "metadata": {
        "id": "RtgrYkUb7DTA"
      },
      "outputs": [],
      "source": [
        "# remove NAN values from dataset\n",
        "df.dropna(how='all',inplace=True)"
      ]
    },
    {
      "cell_type": "code",
      "execution_count": null,
      "metadata": {
        "colab": {
          "base_uri": "https://localhost:8080/"
        },
        "id": "lNkqpR-Rr7zf",
        "outputId": "ad06953f-ab3e-4896-e97c-a0737427604b"
      },
      "outputs": [
        {
          "data": {
            "text/plain": [
              "airline                0\n",
              "overall             1212\n",
              "traveller_type     17023\n",
              "cabin                968\n",
              "route              17049\n",
              "seat_comfort        2457\n",
              "cabin_service       2453\n",
              "food_bev           10072\n",
              "entertainment      17650\n",
              "ground_service     17393\n",
              "value_for_money      753\n",
              "recommended          492\n",
              "dtype: int64"
            ]
          },
          "execution_count": 16,
          "metadata": {},
          "output_type": "execute_result"
        }
      ],
      "source": [
        "# null values check\n",
        "df.isnull().sum()"
      ]
    },
    {
      "cell_type": "code",
      "execution_count": null,
      "metadata": {
        "id": "iWVEmszSh8vO"
      },
      "outputs": [],
      "source": [
        "#remove the rows where recommended value is null\n",
        "df.drop(df[df['recommended'].isnull()].index, inplace = True)"
      ]
    },
    {
      "cell_type": "code",
      "execution_count": null,
      "metadata": {
        "id": "hD9jUSlwAz0l"
      },
      "outputs": [],
      "source": [
        "#checking null \n",
        "a=df.isnull().sum()/len(df)*100\n",
        "b=a.sort_values(ascending=False)"
      ]
    },
    {
      "cell_type": "code",
      "execution_count": null,
      "metadata": {
        "colab": {
          "base_uri": "https://localhost:8080/"
        },
        "id": "do3wvizNmt2t",
        "outputId": "32762a8d-5dd4-40dc-c667-a434322dbb4a"
      },
      "outputs": [
        {
          "data": {
            "text/plain": [
              "entertainment      31.848387\n",
              "ground_service     31.371348\n",
              "route              30.734677\n",
              "traveller_type     30.686416\n",
              "food_bev           17.782233\n",
              "seat_comfort        3.647399\n",
              "cabin_service       3.639975\n",
              "overall             2.221851\n",
              "cabin               0.885399\n",
              "value_for_money     0.484464\n",
              "airline             0.000000\n",
              "recommended         0.000000\n",
              "dtype: float64"
            ]
          },
          "execution_count": 19,
          "metadata": {},
          "output_type": "execute_result"
        }
      ],
      "source": [
        "#Null values percentage\n",
        "b"
      ]
    },
    {
      "cell_type": "markdown",
      "metadata": {
        "id": "w99jh3bfVORY"
      },
      "source": [
        "#Null values imputation"
      ]
    },
    {
      "cell_type": "code",
      "execution_count": null,
      "metadata": {
        "colab": {
          "base_uri": "https://localhost:8080/"
        },
        "id": "rfYvgUKhWdHs",
        "outputId": "7eaaf89b-c667-4aec-e190-2f11f430f0af"
      },
      "outputs": [
        {
          "data": {
            "text/plain": [
              "entertainment      17158\n",
              "ground_service     16901\n",
              "route              16558\n",
              "traveller_type     16532\n",
              "food_bev            9580\n",
              "seat_comfort        1965\n",
              "cabin_service       1961\n",
              "overall             1197\n",
              "cabin                477\n",
              "value_for_money      261\n",
              "airline                0\n",
              "recommended            0\n",
              "dtype: int64"
            ]
          },
          "execution_count": 20,
          "metadata": {},
          "output_type": "execute_result"
        }
      ],
      "source": [
        "#null values count in sorted order \n",
        "df.isnull().sum().sort_values(ascending=False)"
      ]
    },
    {
      "cell_type": "code",
      "execution_count": null,
      "metadata": {
        "id": "oBakPnkDiA9E"
      },
      "outputs": [],
      "source": [
        "# replacing the columns with imputing values in new columns.\n",
        "new_df = df[['overall','seat_comfort','cabin_service','food_bev','entertainment','ground_service', 'value_for_money']]"
      ]
    },
    {
      "cell_type": "code",
      "execution_count": null,
      "metadata": {
        "id": "gku-gUjrrk0j"
      },
      "outputs": [],
      "source": [
        "# Filling null values with KNN Imputer\n",
        "from sklearn.impute import KNNImputer\n",
        "imputer=KNNImputer(n_neighbors=5)\n",
        "new_df = pd.DataFrame(imputer.fit_transform(new_df),columns = new_df.columns)"
      ]
    },
    {
      "cell_type": "code",
      "execution_count": null,
      "metadata": {
        "id": "6O6SP1TPjVuL"
      },
      "outputs": [],
      "source": [
        "#drop columns\n",
        "df = df.drop(columns = ['seat_comfort','traveller_type','route','food_bev','cabin_service','overall','entertainment','ground_service', 'value_for_money'])\n"
      ]
    },
    {
      "cell_type": "code",
      "execution_count": null,
      "metadata": {
        "colab": {
          "base_uri": "https://localhost:8080/"
        },
        "id": "Rap4DJn3f_7u",
        "outputId": "c5b7ed1c-55ea-4ac3-a9ee-d8b42f53948c"
      },
      "outputs": [
        {
          "name": "stdout",
          "output_type": "stream",
          "text": [
            "<class 'pandas.core.frame.DataFrame'>\n",
            "RangeIndex: 53874 entries, 0 to 53873\n",
            "Data columns (total 7 columns):\n",
            " #   Column           Non-Null Count  Dtype  \n",
            "---  ------           --------------  -----  \n",
            " 0   overall          53874 non-null  float64\n",
            " 1   seat_comfort     53874 non-null  float64\n",
            " 2   cabin_service    53874 non-null  float64\n",
            " 3   food_bev         53874 non-null  float64\n",
            " 4   entertainment    53874 non-null  float64\n",
            " 5   ground_service   53874 non-null  float64\n",
            " 6   value_for_money  53874 non-null  float64\n",
            "dtypes: float64(7)\n",
            "memory usage: 2.9 MB\n"
          ]
        }
      ],
      "source": [
        "#info of new dataset\n",
        "df.info()\n"
      ]
    },
    {
      "cell_type": "code",
      "execution_count": null,
      "metadata": {
        "colab": {
          "base_uri": "https://localhost:8080/"
        },
        "id": "kxNcQLcgk0cy",
        "outputId": "ce01bdcb-9541-44af-cdc8-991ed26c789e"
      },
      "outputs": [
        {
          "data": {
            "text/plain": [
              "overall            0\n",
              "seat_comfort       0\n",
              "cabin_service      0\n",
              "food_bev           0\n",
              "entertainment      0\n",
              "ground_service     0\n",
              "value_for_money    0\n",
              "dtype: int64"
            ]
          },
          "execution_count": 25,
          "metadata": {},
          "output_type": "execute_result"
        }
      ],
      "source": [
        "#null value count\n",
        "df.isnull().sum()"
      ]
    },
    {
      "cell_type": "code",
      "execution_count": null,
      "metadata": {
        "id": "jtHdX0vukaxY"
      },
      "outputs": [],
      "source": [
        "#concatenate old and new dataframe\n",
        "df = pd.concat([df.reset_index(),new_df.reset_index()], axis =1)\n"
      ]
    },
    {
      "cell_type": "code",
      "execution_count": null,
      "metadata": {
        "id": "yeoZmwwNoIoD"
      },
      "outputs": [],
      "source": [
        "#showing datatypes in dataset\n",
        "df = df.select_dtypes(include=['object','float64'])"
      ]
    },
    {
      "cell_type": "code",
      "execution_count": null,
      "metadata": {
        "id": "6KruuaONam9z"
      },
      "outputs": [],
      "source": [
        "df = df.reindex(columns=['airline', 'overall', 'cabin', 'seat_comfort','cabin_service', 'food_bev', 'entertainment', 'ground_service', 'value_for_money', 'recommended'])"
      ]
    },
    {
      "cell_type": "code",
      "execution_count": null,
      "metadata": {
        "colab": {
          "base_uri": "https://localhost:8080/",
          "height": 424
        },
        "id": "vVrYKfZAmsFe",
        "outputId": "b0d1e76a-6b35-4315-d356-38f74c2a856e"
      },
      "outputs": [
        {
          "data": {
            "text/html": [
              "\n",
              "  <div id=\"df-79b35592-9814-4145-aed1-872d5ed3e2f8\">\n",
              "    <div class=\"colab-df-container\">\n",
              "      <div>\n",
              "<style scoped>\n",
              "    .dataframe tbody tr th:only-of-type {\n",
              "        vertical-align: middle;\n",
              "    }\n",
              "\n",
              "    .dataframe tbody tr th {\n",
              "        vertical-align: top;\n",
              "    }\n",
              "\n",
              "    .dataframe thead th {\n",
              "        text-align: right;\n",
              "    }\n",
              "</style>\n",
              "<table border=\"1\" class=\"dataframe\">\n",
              "  <thead>\n",
              "    <tr style=\"text-align: right;\">\n",
              "      <th></th>\n",
              "      <th>airline</th>\n",
              "      <th>overall</th>\n",
              "      <th>cabin</th>\n",
              "      <th>seat_comfort</th>\n",
              "      <th>cabin_service</th>\n",
              "      <th>food_bev</th>\n",
              "      <th>entertainment</th>\n",
              "      <th>ground_service</th>\n",
              "      <th>value_for_money</th>\n",
              "      <th>recommended</th>\n",
              "    </tr>\n",
              "  </thead>\n",
              "  <tbody>\n",
              "    <tr>\n",
              "      <th>0</th>\n",
              "      <td>Turkish Airlines</td>\n",
              "      <td>7.0</td>\n",
              "      <td>Economy Class</td>\n",
              "      <td>4.0</td>\n",
              "      <td>5.0</td>\n",
              "      <td>4.0</td>\n",
              "      <td>4.0</td>\n",
              "      <td>2.0</td>\n",
              "      <td>4.0</td>\n",
              "      <td>yes</td>\n",
              "    </tr>\n",
              "    <tr>\n",
              "      <th>1</th>\n",
              "      <td>Turkish Airlines</td>\n",
              "      <td>2.0</td>\n",
              "      <td>Economy Class</td>\n",
              "      <td>4.0</td>\n",
              "      <td>1.0</td>\n",
              "      <td>1.0</td>\n",
              "      <td>1.0</td>\n",
              "      <td>1.0</td>\n",
              "      <td>1.0</td>\n",
              "      <td>no</td>\n",
              "    </tr>\n",
              "    <tr>\n",
              "      <th>2</th>\n",
              "      <td>Turkish Airlines</td>\n",
              "      <td>3.0</td>\n",
              "      <td>Economy Class</td>\n",
              "      <td>1.0</td>\n",
              "      <td>4.0</td>\n",
              "      <td>1.0</td>\n",
              "      <td>3.0</td>\n",
              "      <td>1.0</td>\n",
              "      <td>2.0</td>\n",
              "      <td>no</td>\n",
              "    </tr>\n",
              "    <tr>\n",
              "      <th>3</th>\n",
              "      <td>Turkish Airlines</td>\n",
              "      <td>10.0</td>\n",
              "      <td>Economy Class</td>\n",
              "      <td>4.0</td>\n",
              "      <td>5.0</td>\n",
              "      <td>5.0</td>\n",
              "      <td>5.0</td>\n",
              "      <td>5.0</td>\n",
              "      <td>5.0</td>\n",
              "      <td>yes</td>\n",
              "    </tr>\n",
              "    <tr>\n",
              "      <th>4</th>\n",
              "      <td>Turkish Airlines</td>\n",
              "      <td>1.0</td>\n",
              "      <td>Economy Class</td>\n",
              "      <td>1.0</td>\n",
              "      <td>1.0</td>\n",
              "      <td>1.0</td>\n",
              "      <td>1.0</td>\n",
              "      <td>1.0</td>\n",
              "      <td>1.0</td>\n",
              "      <td>no</td>\n",
              "    </tr>\n",
              "    <tr>\n",
              "      <th>...</th>\n",
              "      <td>...</td>\n",
              "      <td>...</td>\n",
              "      <td>...</td>\n",
              "      <td>...</td>\n",
              "      <td>...</td>\n",
              "      <td>...</td>\n",
              "      <td>...</td>\n",
              "      <td>...</td>\n",
              "      <td>...</td>\n",
              "      <td>...</td>\n",
              "    </tr>\n",
              "    <tr>\n",
              "      <th>53869</th>\n",
              "      <td>Ukraine International</td>\n",
              "      <td>5.0</td>\n",
              "      <td>Economy Class</td>\n",
              "      <td>3.0</td>\n",
              "      <td>2.0</td>\n",
              "      <td>3.0</td>\n",
              "      <td>4.0</td>\n",
              "      <td>2.0</td>\n",
              "      <td>4.0</td>\n",
              "      <td>no</td>\n",
              "    </tr>\n",
              "    <tr>\n",
              "      <th>53870</th>\n",
              "      <td>Ukraine International</td>\n",
              "      <td>2.0</td>\n",
              "      <td>NaN</td>\n",
              "      <td>2.0</td>\n",
              "      <td>2.0</td>\n",
              "      <td>2.0</td>\n",
              "      <td>1.0</td>\n",
              "      <td>1.0</td>\n",
              "      <td>2.0</td>\n",
              "      <td>no</td>\n",
              "    </tr>\n",
              "    <tr>\n",
              "      <th>53871</th>\n",
              "      <td>Ukraine International</td>\n",
              "      <td>3.0</td>\n",
              "      <td>NaN</td>\n",
              "      <td>2.0</td>\n",
              "      <td>2.0</td>\n",
              "      <td>3.0</td>\n",
              "      <td>3.0</td>\n",
              "      <td>3.0</td>\n",
              "      <td>2.0</td>\n",
              "      <td>no</td>\n",
              "    </tr>\n",
              "    <tr>\n",
              "      <th>53872</th>\n",
              "      <td>Ukraine International</td>\n",
              "      <td>4.0</td>\n",
              "      <td>NaN</td>\n",
              "      <td>3.0</td>\n",
              "      <td>4.0</td>\n",
              "      <td>2.0</td>\n",
              "      <td>2.0</td>\n",
              "      <td>2.0</td>\n",
              "      <td>2.0</td>\n",
              "      <td>no</td>\n",
              "    </tr>\n",
              "    <tr>\n",
              "      <th>53873</th>\n",
              "      <td>Ukraine International</td>\n",
              "      <td>5.0</td>\n",
              "      <td>NaN</td>\n",
              "      <td>3.0</td>\n",
              "      <td>3.0</td>\n",
              "      <td>3.0</td>\n",
              "      <td>3.0</td>\n",
              "      <td>3.0</td>\n",
              "      <td>3.0</td>\n",
              "      <td>no</td>\n",
              "    </tr>\n",
              "  </tbody>\n",
              "</table>\n",
              "<p>53874 rows × 10 columns</p>\n",
              "</div>\n",
              "      <button class=\"colab-df-convert\" onclick=\"convertToInteractive('df-79b35592-9814-4145-aed1-872d5ed3e2f8')\"\n",
              "              title=\"Convert this dataframe to an interactive table.\"\n",
              "              style=\"display:none;\">\n",
              "        \n",
              "  <svg xmlns=\"http://www.w3.org/2000/svg\" height=\"24px\"viewBox=\"0 0 24 24\"\n",
              "       width=\"24px\">\n",
              "    <path d=\"M0 0h24v24H0V0z\" fill=\"none\"/>\n",
              "    <path d=\"M18.56 5.44l.94 2.06.94-2.06 2.06-.94-2.06-.94-.94-2.06-.94 2.06-2.06.94zm-11 1L8.5 8.5l.94-2.06 2.06-.94-2.06-.94L8.5 2.5l-.94 2.06-2.06.94zm10 10l.94 2.06.94-2.06 2.06-.94-2.06-.94-.94-2.06-.94 2.06-2.06.94z\"/><path d=\"M17.41 7.96l-1.37-1.37c-.4-.4-.92-.59-1.43-.59-.52 0-1.04.2-1.43.59L10.3 9.45l-7.72 7.72c-.78.78-.78 2.05 0 2.83L4 21.41c.39.39.9.59 1.41.59.51 0 1.02-.2 1.41-.59l7.78-7.78 2.81-2.81c.8-.78.8-2.07 0-2.86zM5.41 20L4 18.59l7.72-7.72 1.47 1.35L5.41 20z\"/>\n",
              "  </svg>\n",
              "      </button>\n",
              "      \n",
              "  <style>\n",
              "    .colab-df-container {\n",
              "      display:flex;\n",
              "      flex-wrap:wrap;\n",
              "      gap: 12px;\n",
              "    }\n",
              "\n",
              "    .colab-df-convert {\n",
              "      background-color: #E8F0FE;\n",
              "      border: none;\n",
              "      border-radius: 50%;\n",
              "      cursor: pointer;\n",
              "      display: none;\n",
              "      fill: #1967D2;\n",
              "      height: 32px;\n",
              "      padding: 0 0 0 0;\n",
              "      width: 32px;\n",
              "    }\n",
              "\n",
              "    .colab-df-convert:hover {\n",
              "      background-color: #E2EBFA;\n",
              "      box-shadow: 0px 1px 2px rgba(60, 64, 67, 0.3), 0px 1px 3px 1px rgba(60, 64, 67, 0.15);\n",
              "      fill: #174EA6;\n",
              "    }\n",
              "\n",
              "    [theme=dark] .colab-df-convert {\n",
              "      background-color: #3B4455;\n",
              "      fill: #D2E3FC;\n",
              "    }\n",
              "\n",
              "    [theme=dark] .colab-df-convert:hover {\n",
              "      background-color: #434B5C;\n",
              "      box-shadow: 0px 1px 3px 1px rgba(0, 0, 0, 0.15);\n",
              "      filter: drop-shadow(0px 1px 2px rgba(0, 0, 0, 0.3));\n",
              "      fill: #FFFFFF;\n",
              "    }\n",
              "  </style>\n",
              "\n",
              "      <script>\n",
              "        const buttonEl =\n",
              "          document.querySelector('#df-79b35592-9814-4145-aed1-872d5ed3e2f8 button.colab-df-convert');\n",
              "        buttonEl.style.display =\n",
              "          google.colab.kernel.accessAllowed ? 'block' : 'none';\n",
              "\n",
              "        async function convertToInteractive(key) {\n",
              "          const element = document.querySelector('#df-79b35592-9814-4145-aed1-872d5ed3e2f8');\n",
              "          const dataTable =\n",
              "            await google.colab.kernel.invokeFunction('convertToInteractive',\n",
              "                                                     [key], {});\n",
              "          if (!dataTable) return;\n",
              "\n",
              "          const docLinkHtml = 'Like what you see? Visit the ' +\n",
              "            '<a target=\"_blank\" href=https://colab.research.google.com/notebooks/data_table.ipynb>data table notebook</a>'\n",
              "            + ' to learn more about interactive tables.';\n",
              "          element.innerHTML = '';\n",
              "          dataTable['output_type'] = 'display_data';\n",
              "          await google.colab.output.renderOutput(dataTable, element);\n",
              "          const docLink = document.createElement('div');\n",
              "          docLink.innerHTML = docLinkHtml;\n",
              "          element.appendChild(docLink);\n",
              "        }\n",
              "      </script>\n",
              "    </div>\n",
              "  </div>\n",
              "  "
            ],
            "text/plain": [
              "                     airline  overall          cabin  seat_comfort  \\\n",
              "0           Turkish Airlines      7.0  Economy Class           4.0   \n",
              "1           Turkish Airlines      2.0  Economy Class           4.0   \n",
              "2           Turkish Airlines      3.0  Economy Class           1.0   \n",
              "3           Turkish Airlines     10.0  Economy Class           4.0   \n",
              "4           Turkish Airlines      1.0  Economy Class           1.0   \n",
              "...                      ...      ...            ...           ...   \n",
              "53869  Ukraine International      5.0  Economy Class           3.0   \n",
              "53870  Ukraine International      2.0            NaN           2.0   \n",
              "53871  Ukraine International      3.0            NaN           2.0   \n",
              "53872  Ukraine International      4.0            NaN           3.0   \n",
              "53873  Ukraine International      5.0            NaN           3.0   \n",
              "\n",
              "       cabin_service  food_bev  entertainment  ground_service  \\\n",
              "0                5.0       4.0            4.0             2.0   \n",
              "1                1.0       1.0            1.0             1.0   \n",
              "2                4.0       1.0            3.0             1.0   \n",
              "3                5.0       5.0            5.0             5.0   \n",
              "4                1.0       1.0            1.0             1.0   \n",
              "...              ...       ...            ...             ...   \n",
              "53869            2.0       3.0            4.0             2.0   \n",
              "53870            2.0       2.0            1.0             1.0   \n",
              "53871            2.0       3.0            3.0             3.0   \n",
              "53872            4.0       2.0            2.0             2.0   \n",
              "53873            3.0       3.0            3.0             3.0   \n",
              "\n",
              "       value_for_money recommended  \n",
              "0                  4.0         yes  \n",
              "1                  1.0          no  \n",
              "2                  2.0          no  \n",
              "3                  5.0         yes  \n",
              "4                  1.0          no  \n",
              "...                ...         ...  \n",
              "53869              4.0          no  \n",
              "53870              2.0          no  \n",
              "53871              2.0          no  \n",
              "53872              2.0          no  \n",
              "53873              3.0          no  \n",
              "\n",
              "[53874 rows x 10 columns]"
            ]
          },
          "execution_count": 29,
          "metadata": {},
          "output_type": "execute_result"
        }
      ],
      "source": [
        "#dataframe\n",
        "df=round(df)\n",
        "df"
      ]
    },
    {
      "cell_type": "markdown",
      "metadata": {
        "id": "R9f7vO_tR6bO"
      },
      "source": [
        "##EXPLORATORY DATA ANALYSIS"
      ]
    },
    {
      "cell_type": "markdown",
      "metadata": {
        "id": "ZFWYaLhNSbRe"
      },
      "source": [
        "##1.Outlier detection"
      ]
    },
    {
      "cell_type": "code",
      "execution_count": null,
      "metadata": {
        "colab": {
          "base_uri": "https://localhost:8080/",
          "height": 527
        },
        "id": "NogZtqAGRhTp",
        "outputId": "dfa2aa36-c2a9-4518-83bc-f2f8e262cf51"
      },
      "outputs": [
        {
          "data": {
            "text/plain": [
              "Text(0, 0.5, 'rating')"
            ]
          },
          "execution_count": 30,
          "metadata": {},
          "output_type": "execute_result"
        },
        {
          "data": {
            "image/png": "[encoded data removed]",
            "text/plain": [
              "<Figure size 1152x576 with 1 Axes>"
            ]
          },
          "metadata": {},
          "output_type": "display_data"
        }
      ],
      "source": [
        "#boxplot\n",
        "#figuresize\n",
        "plt.figure(figsize =(16, 8))\n",
        "#plotting boxplot \n",
        "sns.boxplot(data=df)\n",
        "#Fontsize\n",
        "plt.xticks(fontsize=14)\n",
        "plt.yticks(fontsize=14)\n",
        "#Labels\n",
        "plt.xlabel('features', fontsize= 20)\n",
        "plt.ylabel('rating', fontsize= 20)"
      ]
    },
    {
      "cell_type": "markdown",
      "metadata": {
        "id": "v8fwTAUEYLzY"
      },
      "source": [
        "##Observations\n",
        "\n",
        "Outliers are not present in data.\n",
        "\n",
        "The median of 'Overall' is 5, The median of other features are approximately 3."
      ]
    },
    {
      "cell_type": "markdown",
      "metadata": {
        "id": "KoOw55jkcnSv"
      },
      "source": [
        "##2)Which type of Cabin has more recommendation?"
      ]
    },
    {
      "cell_type": "code",
      "execution_count": null,
      "metadata": {
        "colab": {
          "base_uri": "https://localhost:8080/",
          "height": 206
        },
        "id": "sArj_qRnePFj",
        "outputId": "048b92c1-b598-47ba-b9f5-87143ac2ef0c"
      },
      "outputs": [
        {
          "data": {
            "text/html": [
              "\n",
              "  <div id=\"df-97f081c0-fcfe-4fdb-9f28-3674ce7a2da1\">\n",
              "    <div class=\"colab-df-container\">\n",
              "      <div>\n",
              "<style scoped>\n",
              "    .dataframe tbody tr th:only-of-type {\n",
              "        vertical-align: middle;\n",
              "    }\n",
              "\n",
              "    .dataframe tbody tr th {\n",
              "        vertical-align: top;\n",
              "    }\n",
              "\n",
              "    .dataframe thead th {\n",
              "        text-align: right;\n",
              "    }\n",
              "</style>\n",
              "<table border=\"1\" class=\"dataframe\">\n",
              "  <thead>\n",
              "    <tr style=\"text-align: right;\">\n",
              "      <th></th>\n",
              "      <th>airline</th>\n",
              "      <th>overall</th>\n",
              "      <th>cabin</th>\n",
              "      <th>seat_comfort</th>\n",
              "      <th>cabin_service</th>\n",
              "      <th>food_bev</th>\n",
              "      <th>entertainment</th>\n",
              "      <th>ground_service</th>\n",
              "      <th>value_for_money</th>\n",
              "      <th>recommended</th>\n",
              "    </tr>\n",
              "  </thead>\n",
              "  <tbody>\n",
              "    <tr>\n",
              "      <th>0</th>\n",
              "      <td>Turkish Airlines</td>\n",
              "      <td>7.0</td>\n",
              "      <td>Economy Class</td>\n",
              "      <td>4.0</td>\n",
              "      <td>5.0</td>\n",
              "      <td>4.0</td>\n",
              "      <td>4.0</td>\n",
              "      <td>2.0</td>\n",
              "      <td>4.0</td>\n",
              "      <td>yes</td>\n",
              "    </tr>\n",
              "    <tr>\n",
              "      <th>1</th>\n",
              "      <td>Turkish Airlines</td>\n",
              "      <td>2.0</td>\n",
              "      <td>Economy Class</td>\n",
              "      <td>4.0</td>\n",
              "      <td>1.0</td>\n",
              "      <td>1.0</td>\n",
              "      <td>1.0</td>\n",
              "      <td>1.0</td>\n",
              "      <td>1.0</td>\n",
              "      <td>no</td>\n",
              "    </tr>\n",
              "    <tr>\n",
              "      <th>2</th>\n",
              "      <td>Turkish Airlines</td>\n",
              "      <td>3.0</td>\n",
              "      <td>Economy Class</td>\n",
              "      <td>1.0</td>\n",
              "      <td>4.0</td>\n",
              "      <td>1.0</td>\n",
              "      <td>3.0</td>\n",
              "      <td>1.0</td>\n",
              "      <td>2.0</td>\n",
              "      <td>no</td>\n",
              "    </tr>\n",
              "    <tr>\n",
              "      <th>3</th>\n",
              "      <td>Turkish Airlines</td>\n",
              "      <td>10.0</td>\n",
              "      <td>Economy Class</td>\n",
              "      <td>4.0</td>\n",
              "      <td>5.0</td>\n",
              "      <td>5.0</td>\n",
              "      <td>5.0</td>\n",
              "      <td>5.0</td>\n",
              "      <td>5.0</td>\n",
              "      <td>yes</td>\n",
              "    </tr>\n",
              "    <tr>\n",
              "      <th>4</th>\n",
              "      <td>Turkish Airlines</td>\n",
              "      <td>1.0</td>\n",
              "      <td>Economy Class</td>\n",
              "      <td>1.0</td>\n",
              "      <td>1.0</td>\n",
              "      <td>1.0</td>\n",
              "      <td>1.0</td>\n",
              "      <td>1.0</td>\n",
              "      <td>1.0</td>\n",
              "      <td>no</td>\n",
              "    </tr>\n",
              "  </tbody>\n",
              "</table>\n",
              "</div>\n",
              "      <button class=\"colab-df-convert\" onclick=\"convertToInteractive('df-97f081c0-fcfe-4fdb-9f28-3674ce7a2da1')\"\n",
              "              title=\"Convert this dataframe to an interactive table.\"\n",
              "              style=\"display:none;\">\n",
              "        \n",
              "  <svg xmlns=\"http://www.w3.org/2000/svg\" height=\"24px\"viewBox=\"0 0 24 24\"\n",
              "       width=\"24px\">\n",
              "    <path d=\"M0 0h24v24H0V0z\" fill=\"none\"/>\n",
              "    <path d=\"M18.56 5.44l.94 2.06.94-2.06 2.06-.94-2.06-.94-.94-2.06-.94 2.06-2.06.94zm-11 1L8.5 8.5l.94-2.06 2.06-.94-2.06-.94L8.5 2.5l-.94 2.06-2.06.94zm10 10l.94 2.06.94-2.06 2.06-.94-2.06-.94-.94-2.06-.94 2.06-2.06.94z\"/><path d=\"M17.41 7.96l-1.37-1.37c-.4-.4-.92-.59-1.43-.59-.52 0-1.04.2-1.43.59L10.3 9.45l-7.72 7.72c-.78.78-.78 2.05 0 2.83L4 21.41c.39.39.9.59 1.41.59.51 0 1.02-.2 1.41-.59l7.78-7.78 2.81-2.81c.8-.78.8-2.07 0-2.86zM5.41 20L4 18.59l7.72-7.72 1.47 1.35L5.41 20z\"/>\n",
              "  </svg>\n",
              "      </button>\n",
              "      \n",
              "  <style>\n",
              "    .colab-df-container {\n",
              "      display:flex;\n",
              "      flex-wrap:wrap;\n",
              "      gap: 12px;\n",
              "    }\n",
              "\n",
              "    .colab-df-convert {\n",
              "      background-color: #E8F0FE;\n",
              "      border: none;\n",
              "      border-radius: 50%;\n",
              "      cursor: pointer;\n",
              "      display: none;\n",
              "      fill: #1967D2;\n",
              "      height: 32px;\n",
              "      padding: 0 0 0 0;\n",
              "      width: 32px;\n",
              "    }\n",
              "\n",
              "    .colab-df-convert:hover {\n",
              "      background-color: #E2EBFA;\n",
              "      box-shadow: 0px 1px 2px rgba(60, 64, 67, 0.3), 0px 1px 3px 1px rgba(60, 64, 67, 0.15);\n",
              "      fill: #174EA6;\n",
              "    }\n",
              "\n",
              "    [theme=dark] .colab-df-convert {\n",
              "      background-color: #3B4455;\n",
              "      fill: #D2E3FC;\n",
              "    }\n",
              "\n",
              "    [theme=dark] .colab-df-convert:hover {\n",
              "      background-color: #434B5C;\n",
              "      box-shadow: 0px 1px 3px 1px rgba(0, 0, 0, 0.15);\n",
              "      filter: drop-shadow(0px 1px 2px rgba(0, 0, 0, 0.3));\n",
              "      fill: #FFFFFF;\n",
              "    }\n",
              "  </style>\n",
              "\n",
              "      <script>\n",
              "        const buttonEl =\n",
              "          document.querySelector('#df-97f081c0-fcfe-4fdb-9f28-3674ce7a2da1 button.colab-df-convert');\n",
              "        buttonEl.style.display =\n",
              "          google.colab.kernel.accessAllowed ? 'block' : 'none';\n",
              "\n",
              "        async function convertToInteractive(key) {\n",
              "          const element = document.querySelector('#df-97f081c0-fcfe-4fdb-9f28-3674ce7a2da1');\n",
              "          const dataTable =\n",
              "            await google.colab.kernel.invokeFunction('convertToInteractive',\n",
              "                                                     [key], {});\n",
              "          if (!dataTable) return;\n",
              "\n",
              "          const docLinkHtml = 'Like what you see? Visit the ' +\n",
              "            '<a target=\"_blank\" href=https://colab.research.google.com/notebooks/data_table.ipynb>data table notebook</a>'\n",
              "            + ' to learn more about interactive tables.';\n",
              "          element.innerHTML = '';\n",
              "          dataTable['output_type'] = 'display_data';\n",
              "          await google.colab.output.renderOutput(dataTable, element);\n",
              "          const docLink = document.createElement('div');\n",
              "          docLink.innerHTML = docLinkHtml;\n",
              "          element.appendChild(docLink);\n",
              "        }\n",
              "      </script>\n",
              "    </div>\n",
              "  </div>\n",
              "  "
            ],
            "text/plain": [
              "            airline  overall          cabin  seat_comfort  cabin_service  \\\n",
              "0  Turkish Airlines      7.0  Economy Class           4.0            5.0   \n",
              "1  Turkish Airlines      2.0  Economy Class           4.0            1.0   \n",
              "2  Turkish Airlines      3.0  Economy Class           1.0            4.0   \n",
              "3  Turkish Airlines     10.0  Economy Class           4.0            5.0   \n",
              "4  Turkish Airlines      1.0  Economy Class           1.0            1.0   \n",
              "\n",
              "   food_bev  entertainment  ground_service  value_for_money recommended  \n",
              "0       4.0            4.0             2.0              4.0         yes  \n",
              "1       1.0            1.0             1.0              1.0          no  \n",
              "2       1.0            3.0             1.0              2.0          no  \n",
              "3       5.0            5.0             5.0              5.0         yes  \n",
              "4       1.0            1.0             1.0              1.0          no  "
            ]
          },
          "execution_count": 31,
          "metadata": {},
          "output_type": "execute_result"
        }
      ],
      "source": [
        "df.head()"
      ]
    },
    {
      "cell_type": "code",
      "execution_count": null,
      "metadata": {
        "colab": {
          "base_uri": "https://localhost:8080/",
          "height": 405
        },
        "id": "2cpNv-rMTLVz",
        "outputId": "8bf2c78a-2d09-45bb-bf65-084b1796c7f9"
      },
      "outputs": [
        {
          "data": {
            "text/plain": [
              "<matplotlib.axes._subplots.AxesSubplot at 0x7f69fe2c3bd0>"
            ]
          },
          "execution_count": 32,
          "metadata": {},
          "output_type": "execute_result"
        },
        {
          "data": {
            "image/png": "[encoded data removed]",
            "text/plain": [
              "<Figure size 576x432 with 1 Axes>"
            ]
          },
          "metadata": {},
          "output_type": "display_data"
        }
      ],
      "source": [
        "#setting the figure size and plotting the graph\n",
        "plt.figure(figsize=(8,6))\n",
        "sns.countplot(df['cabin'], hue=df['recommended'])\n",
        "\n"
      ]
    },
    {
      "cell_type": "markdown",
      "metadata": {
        "id": "131QIL5adszP"
      },
      "source": [
        "* For Economy class, Number of 'NO' recommendations are more than 'YES' recommendations.\n",
        "\n",
        "\n",
        "* For business class and first class, Number of 'YES' recommendations are more than 'NO' recommendations.\n",
        "\n",
        "*   For Premium account number of 'YES' recommendation and 'NO' recommendations are approximately equal.\n",
        "\n",
        "\n",
        "\n",
        "\n",
        "\n",
        "\n",
        "\n"
      ]
    },
    {
      "cell_type": "markdown",
      "metadata": {
        "id": "QMG1Cf3Ak-Aq"
      },
      "source": [
        "  ## 3.What is the total recommendation percentage for all airlines?"
      ]
    },
    {
      "cell_type": "code",
      "execution_count": null,
      "metadata": {
        "colab": {
          "base_uri": "https://localhost:8080/",
          "height": 320
        },
        "id": "bKRS3OdQY6Ri",
        "outputId": "e53f739a-ac09-454b-bce8-8b1e919b6874"
      },
      "outputs": [
        {
          "data": {
            "text/plain": [
              "<matplotlib.axes._subplots.AxesSubplot at 0x7f69f2ff8d10>"
            ]
          },
          "execution_count": 33,
          "metadata": {},
          "output_type": "execute_result"
        },
        {
          "data": {
            "image/png": "[encoded data removed]",
            "text/plain": [
              "<Figure size 720x360 with 1 Axes>"
            ]
          },
          "metadata": {},
          "output_type": "display_data"
        }
      ],
      "source": [
        "#Plotting bar graph to identify classes of dependent variable\n",
        "sns.set_palette('gist_ncar')\n",
        "df['recommended'].value_counts().plot(kind='pie',autopct='%1.0f%%',figsize=(10,5))"
      ]
    },
    {
      "cell_type": "markdown",
      "metadata": {
        "id": "_-qHdHMylpRd"
      },
      "source": [
        "The overall recommendation percentage for all airlines is 47% which is less than recommended 'NO' by 53%. Dependent feature have balanced data."
      ]
    },
    {
      "cell_type": "markdown",
      "metadata": {
        "id": "CG2yEsLsobon"
      },
      "source": [
        "##3. What is the maximum overall rating got by different airlines?"
      ]
    },
    {
      "cell_type": "code",
      "execution_count": null,
      "metadata": {
        "colab": {
          "base_uri": "https://localhost:8080/"
        },
        "id": "r2ha34pnlBHe",
        "outputId": "2f38c218-5061-41b5-ea8c-4c8bca036f97"
      },
      "outputs": [
        {
          "data": {
            "text/plain": [
              "Text(0, 0.5, 'overall rating')"
            ]
          },
          "execution_count": 34,
          "metadata": {},
          "output_type": "execute_result"
        },
        {
          "data": {
            "image/png": "[encoded data removed]",
            "text/plain": [
              "<Figure size 1800x576 with 1 Axes>"
            ]
          },
          "metadata": {},
          "output_type": "display_data"
        }
      ],
      "source": [
        "#figure size\n",
        "plt.figure(figsize=(25,8))\n",
        "#barplot\n",
        "sns.barplot(x='airline', y='overall', data=df)\n",
        "#font size\n",
        "plt.xticks(rotation=90,fontsize=14)                                                             \n",
        "plt.yticks(fontsize=15)\n",
        "#labels\n",
        "plt.xlabel('airlines', fontsize= 20)\n",
        "plt.ylabel('overall rating', fontsize= 20)"
      ]
    },
    {
      "cell_type": "markdown",
      "metadata": {
        "id": "vy91otNur_Td"
      },
      "source": [
        "* The maximum overall ratings are received by Qatar airlines, Aegean airlines,Asiana airlines, China southern Airlines etc ( rating is around 7.5-8).\n",
        "*  The minimum overall rating is around 2.5 received by frontier airlines\n",
        "\n",
        "\n",
        "\n",
        "\n",
        "\n"
      ]
    },
    {
      "cell_type": "markdown",
      "metadata": {
        "id": "7M86dMK-tngB"
      },
      "source": [
        "##4. Which airlines got the maximum and minmum recommendations?"
      ]
    },
    {
      "cell_type": "code",
      "execution_count": null,
      "metadata": {
        "colab": {
          "base_uri": "https://localhost:8080/",
          "height": 661
        },
        "id": "a6fCaLZdrKr_",
        "outputId": "0f38b7ec-8eb6-40aa-d73f-47c3c4fac1fd"
      },
      "outputs": [
        {
          "data": {
            "text/plain": [
              "Text(0, 0.5, 'Count')"
            ]
          },
          "execution_count": 35,
          "metadata": {},
          "output_type": "execute_result"
        },
        {
          "data": {
            "image/png": "[encoded data removed]",
            "text/plain": [
              "<Figure size 1800x576 with 1 Axes>"
            ]
          },
          "metadata": {},
          "output_type": "display_data"
        }
      ],
      "source": [
        "#figure size\n",
        "plt.figure(figsize=(25,8))\n",
        "#barplot\n",
        "sns.countplot(x='airline', hue='recommended', data=df)\n",
        "#font size\n",
        "plt.xticks(rotation=90,fontsize=14)                                                             \n",
        "plt.yticks(fontsize=15)\n",
        "#labels\n",
        "plt.xlabel('airlines', fontsize= 20)\n",
        "plt.ylabel('Count', fontsize= 20)"
      ]
    },
    {
      "cell_type": "markdown",
      "metadata": {
        "id": "2N5ClM10v2Dw"
      },
      "source": [
        "\n",
        "\n",
        "1.   American airlines,united airlines,spirit and Spirit airlines received maximum 'NO' recommendations.\n",
        "2.   Chins southern airlines, Qatar  and British airways received maximum 'YES' recommendations. Thai smile, Tunisair, Air arabia, adria airways received minimum 'Yes' recommendations.\n",
        "\n"
      ]
    },
    {
      "cell_type": "markdown",
      "metadata": {
        "id": "QZAgaPs2fMey"
      },
      "source": [
        "##5. Checking the frequency of values"
      ]
    },
    {
      "cell_type": "code",
      "execution_count": null,
      "metadata": {
        "id": "zNx5OivqVaQl"
      },
      "outputs": [],
      "source": [
        "# replacing yes =1 and no =0 in recommended column\n",
        "df['recommended'].replace({'yes':1,'no':0},inplace=True)"
      ]
    },
    {
      "cell_type": "code",
      "execution_count": null,
      "metadata": {
        "id": "3ZsJ_McswjhR"
      },
      "outputs": [],
      "source": [
        "#assigning variable to Features\n",
        "features=['overall','seat_comfort','cabin_service','food_bev','entertainment','ground_service','value_for_money']"
      ]
    },
    {
      "cell_type": "code",
      "execution_count": null,
      "metadata": {
        "colab": {
          "base_uri": "https://localhost:8080/",
          "height": 1000
        },
        "id": "zRnecydYfVOw",
        "outputId": "21e7dab8-2d97-42f9-8839-1a45d619e4af"
      },
      "outputs": [
        {
          "data": {
            "image/png": "[encoded data removed]",
            "text/plain": [
              "<Figure size 864x648 with 1 Axes>"
            ]
          },
          "metadata": {},
          "output_type": "display_data"
        },
        {
          "data": {
            "image/png": "[encoded data removed]",
            "text/plain": [
              "<Figure size 864x648 with 1 Axes>"
            ]
          },
          "metadata": {},
          "output_type": "display_data"
        },
        {
          "data": {
            "image/png": "[encoded data removed]",
            "text/plain": [
              "<Figure size 864x648 with 1 Axes>"
            ]
          },
          "metadata": {},
          "output_type": "display_data"
        },
        {
          "data": {
            "image/png": "[encoded data removed]",
            "text/plain": [
              "<Figure size 864x648 with 1 Axes>"
            ]
          },
          "metadata": {},
          "output_type": "display_data"
        },
        {
          "data": {
            "image/png": "[encoded data removed]",
            "text/plain": [
              "<Figure size 864x648 with 1 Axes>"
            ]
          },
          "metadata": {},
          "output_type": "display_data"
        },
        {
          "data": {
            "image/png": "[encoded data removed]",
            "text/plain": [
              "<Figure size 864x648 with 1 Axes>"
            ]
          },
          "metadata": {},
          "output_type": "display_data"
        },
        {
          "data": {
            "image/png": "[encoded data removed]",
            "text/plain": [
              "<Figure size 864x648 with 1 Axes>"
            ]
          },
          "metadata": {},
          "output_type": "display_data"
        }
      ],
      "source": [
        "# Plotting histogram for all numeric feature \n",
        "for i in features:\n",
        "  #figure size\n",
        "  plt.rcParams['figure.figsize']=(12,9)\n",
        "  #histogram plot\n",
        "  plt.hist(df[i], bins=10)\n",
        "  #title of plot\n",
        "  plt.title(i+\" Plot\")\n",
        "  #label\n",
        "  plt.xlabel(i)\n",
        "  plt.ylabel(\"Frequency\")\n",
        "  plt.show()"
      ]
    },
    {
      "cell_type": "markdown",
      "metadata": {
        "id": "cTVeYziABK-A"
      },
      "source": [
        "#Conclusion"
      ]
    },
    {
      "cell_type": "markdown",
      "metadata": {
        "id": "4alch5YFfBun"
      },
      "source": [
        "1.\tCabin service got the maximum rating of 5.\n",
        "2.\tOverall rating got by the airlines is poor equal to 1.\n",
        "3.\tMaximum customers  rate food_bev as  poor equal to 1.\n",
        "4.\tMost of the customers have rated airlines as 1 indicating expensive(value for money).\n"
      ]
    },
    {
      "cell_type": "markdown",
      "metadata": {
        "id": "ZjuIWyHFYf9B"
      },
      "source": [
        "##7.Correlation\n",
        "\n"
      ]
    },
    {
      "cell_type": "code",
      "execution_count": null,
      "metadata": {
        "colab": {
          "base_uri": "https://localhost:8080/",
          "height": 525
        },
        "id": "ldpfOcP3ScRO",
        "outputId": "a86239a5-7e9f-4691-b7b0-4222f2dc238b"
      },
      "outputs": [
        {
          "data": {
            "text/plain": [
              "<matplotlib.axes._subplots.AxesSubplot at 0x7f69ef6deed0>"
            ]
          },
          "execution_count": 39,
          "metadata": {},
          "output_type": "execute_result"
        },
        {
          "data": {
            "image/png": "[encoded data removed]",
            "text/plain": [
              "<Figure size 720x504 with 2 Axes>"
            ]
          },
          "metadata": {},
          "output_type": "display_data"
        }
      ],
      "source": [
        "#setting the figure size and plotting the heatmap\n",
        "plt.figure(figsize=(10,7))\n",
        "sns.heatmap(df.corr(),annot=True)"
      ]
    },
    {
      "cell_type": "markdown",
      "metadata": {
        "id": "LDq4yy_AVjnf"
      },
      "source": [
        "\n",
        "\n",
        "1.  'Overall','food bev','cabin_service', 'value_for_money' etc are positively correlated with recommendation.\n",
        "\n",
        "2.  'Overall' is most correlatetd with recommendation.\n",
        "\n",
        "3. entertainment has 0.65 of correlation which is less than others.\n",
        "\n",
        "4.  overall and value for money have multicollinearity.\n",
        "\n",
        "\n",
        "\n"
      ]
    },
    {
      "cell_type": "code",
      "execution_count": null,
      "metadata": {
        "colab": {
          "base_uri": "https://localhost:8080/"
        },
        "id": "_HbiFVjpoSBB",
        "outputId": "1f1646d9-aa68-4e2f-fc78-67f0650fd7af"
      },
      "outputs": [
        {
          "data": {
            "text/plain": [
              "Index(['airline', 'overall', 'cabin', 'seat_comfort', 'cabin_service',\n",
              "       'food_bev', 'entertainment', 'ground_service', 'value_for_money',\n",
              "       'recommended'],\n",
              "      dtype='object')"
            ]
          },
          "execution_count": 40,
          "metadata": {},
          "output_type": "execute_result"
        }
      ],
      "source": [
        "# features present in dataset\n",
        "features= df.columns\n",
        "features"
      ]
    },
    {
      "cell_type": "code",
      "execution_count": null,
      "metadata": {
        "id": "pGGa6VJrlu05"
      },
      "outputs": [],
      "source": [
        "#Numerical features\n",
        "features_1=(['overall','seat_comfort','cabin_service','food_bev','entertainment','ground_service','value_for_money'])"
      ]
    },
    {
      "cell_type": "code",
      "execution_count": null,
      "metadata": {
        "id": "JgaLUkX8qytm"
      },
      "outputs": [],
      "source": [
        "# categoriacal features to do one hot encoding\n",
        "categorical_columns =['airline','cabin']"
      ]
    },
    {
      "cell_type": "code",
      "execution_count": null,
      "metadata": {
        "id": "PQh831GXq4-N"
      },
      "outputs": [],
      "source": [
        "dummy= pd.get_dummies(df,columns=categorical_columns , drop_first = False)"
      ]
    },
    {
      "cell_type": "markdown",
      "metadata": {
        "id": "qRatrrZtz6ys"
      },
      "source": [
        "##Splitting the Data to Train and Test"
      ]
    },
    {
      "cell_type": "code",
      "execution_count": null,
      "metadata": {
        "colab": {
          "base_uri": "https://localhost:8080/",
          "height": 522
        },
        "id": "5sZxXyOstqS1",
        "outputId": "29a8bcec-3d8f-476e-a25c-b29e5540dce4"
      },
      "outputs": [
        {
          "data": {
            "text/html": [
              "\n",
              "  <div id=\"df-656dbc53-ca73-4992-bcdf-823c5e21cec7\">\n",
              "    <div class=\"colab-df-container\">\n",
              "      <div>\n",
              "<style scoped>\n",
              "    .dataframe tbody tr th:only-of-type {\n",
              "        vertical-align: middle;\n",
              "    }\n",
              "\n",
              "    .dataframe tbody tr th {\n",
              "        vertical-align: top;\n",
              "    }\n",
              "\n",
              "    .dataframe thead th {\n",
              "        text-align: right;\n",
              "    }\n",
              "</style>\n",
              "<table border=\"1\" class=\"dataframe\">\n",
              "  <thead>\n",
              "    <tr style=\"text-align: right;\">\n",
              "      <th></th>\n",
              "      <th>overall</th>\n",
              "      <th>seat_comfort</th>\n",
              "      <th>cabin_service</th>\n",
              "      <th>food_bev</th>\n",
              "      <th>entertainment</th>\n",
              "      <th>ground_service</th>\n",
              "      <th>value_for_money</th>\n",
              "      <th>recommended</th>\n",
              "      <th>airline_ANA All Nippon Airways</th>\n",
              "      <th>airline_Adria Airways</th>\n",
              "      <th>...</th>\n",
              "      <th>airline_Vueling Airlines</th>\n",
              "      <th>airline_WOW air</th>\n",
              "      <th>airline_Wizz Air</th>\n",
              "      <th>airline_airBaltic</th>\n",
              "      <th>airline_easyJet</th>\n",
              "      <th>airline_flydubai</th>\n",
              "      <th>cabin_Business Class</th>\n",
              "      <th>cabin_Economy Class</th>\n",
              "      <th>cabin_First Class</th>\n",
              "      <th>cabin_Premium Economy</th>\n",
              "    </tr>\n",
              "  </thead>\n",
              "  <tbody>\n",
              "    <tr>\n",
              "      <th>0</th>\n",
              "      <td>7.0</td>\n",
              "      <td>4.0</td>\n",
              "      <td>5.0</td>\n",
              "      <td>4.0</td>\n",
              "      <td>4.0</td>\n",
              "      <td>2.0</td>\n",
              "      <td>4.0</td>\n",
              "      <td>1</td>\n",
              "      <td>0</td>\n",
              "      <td>0</td>\n",
              "      <td>...</td>\n",
              "      <td>0</td>\n",
              "      <td>0</td>\n",
              "      <td>0</td>\n",
              "      <td>0</td>\n",
              "      <td>0</td>\n",
              "      <td>0</td>\n",
              "      <td>0</td>\n",
              "      <td>1</td>\n",
              "      <td>0</td>\n",
              "      <td>0</td>\n",
              "    </tr>\n",
              "    <tr>\n",
              "      <th>1</th>\n",
              "      <td>2.0</td>\n",
              "      <td>4.0</td>\n",
              "      <td>1.0</td>\n",
              "      <td>1.0</td>\n",
              "      <td>1.0</td>\n",
              "      <td>1.0</td>\n",
              "      <td>1.0</td>\n",
              "      <td>0</td>\n",
              "      <td>0</td>\n",
              "      <td>0</td>\n",
              "      <td>...</td>\n",
              "      <td>0</td>\n",
              "      <td>0</td>\n",
              "      <td>0</td>\n",
              "      <td>0</td>\n",
              "      <td>0</td>\n",
              "      <td>0</td>\n",
              "      <td>0</td>\n",
              "      <td>1</td>\n",
              "      <td>0</td>\n",
              "      <td>0</td>\n",
              "    </tr>\n",
              "    <tr>\n",
              "      <th>2</th>\n",
              "      <td>3.0</td>\n",
              "      <td>1.0</td>\n",
              "      <td>4.0</td>\n",
              "      <td>1.0</td>\n",
              "      <td>3.0</td>\n",
              "      <td>1.0</td>\n",
              "      <td>2.0</td>\n",
              "      <td>0</td>\n",
              "      <td>0</td>\n",
              "      <td>0</td>\n",
              "      <td>...</td>\n",
              "      <td>0</td>\n",
              "      <td>0</td>\n",
              "      <td>0</td>\n",
              "      <td>0</td>\n",
              "      <td>0</td>\n",
              "      <td>0</td>\n",
              "      <td>0</td>\n",
              "      <td>1</td>\n",
              "      <td>0</td>\n",
              "      <td>0</td>\n",
              "    </tr>\n",
              "    <tr>\n",
              "      <th>3</th>\n",
              "      <td>10.0</td>\n",
              "      <td>4.0</td>\n",
              "      <td>5.0</td>\n",
              "      <td>5.0</td>\n",
              "      <td>5.0</td>\n",
              "      <td>5.0</td>\n",
              "      <td>5.0</td>\n",
              "      <td>1</td>\n",
              "      <td>0</td>\n",
              "      <td>0</td>\n",
              "      <td>...</td>\n",
              "      <td>0</td>\n",
              "      <td>0</td>\n",
              "      <td>0</td>\n",
              "      <td>0</td>\n",
              "      <td>0</td>\n",
              "      <td>0</td>\n",
              "      <td>0</td>\n",
              "      <td>1</td>\n",
              "      <td>0</td>\n",
              "      <td>0</td>\n",
              "    </tr>\n",
              "    <tr>\n",
              "      <th>4</th>\n",
              "      <td>1.0</td>\n",
              "      <td>1.0</td>\n",
              "      <td>1.0</td>\n",
              "      <td>1.0</td>\n",
              "      <td>1.0</td>\n",
              "      <td>1.0</td>\n",
              "      <td>1.0</td>\n",
              "      <td>0</td>\n",
              "      <td>0</td>\n",
              "      <td>0</td>\n",
              "      <td>...</td>\n",
              "      <td>0</td>\n",
              "      <td>0</td>\n",
              "      <td>0</td>\n",
              "      <td>0</td>\n",
              "      <td>0</td>\n",
              "      <td>0</td>\n",
              "      <td>0</td>\n",
              "      <td>1</td>\n",
              "      <td>0</td>\n",
              "      <td>0</td>\n",
              "    </tr>\n",
              "    <tr>\n",
              "      <th>...</th>\n",
              "      <td>...</td>\n",
              "      <td>...</td>\n",
              "      <td>...</td>\n",
              "      <td>...</td>\n",
              "      <td>...</td>\n",
              "      <td>...</td>\n",
              "      <td>...</td>\n",
              "      <td>...</td>\n",
              "      <td>...</td>\n",
              "      <td>...</td>\n",
              "      <td>...</td>\n",
              "      <td>...</td>\n",
              "      <td>...</td>\n",
              "      <td>...</td>\n",
              "      <td>...</td>\n",
              "      <td>...</td>\n",
              "      <td>...</td>\n",
              "      <td>...</td>\n",
              "      <td>...</td>\n",
              "      <td>...</td>\n",
              "      <td>...</td>\n",
              "    </tr>\n",
              "    <tr>\n",
              "      <th>53869</th>\n",
              "      <td>5.0</td>\n",
              "      <td>3.0</td>\n",
              "      <td>2.0</td>\n",
              "      <td>3.0</td>\n",
              "      <td>4.0</td>\n",
              "      <td>2.0</td>\n",
              "      <td>4.0</td>\n",
              "      <td>0</td>\n",
              "      <td>0</td>\n",
              "      <td>0</td>\n",
              "      <td>...</td>\n",
              "      <td>0</td>\n",
              "      <td>0</td>\n",
              "      <td>0</td>\n",
              "      <td>0</td>\n",
              "      <td>0</td>\n",
              "      <td>0</td>\n",
              "      <td>0</td>\n",
              "      <td>1</td>\n",
              "      <td>0</td>\n",
              "      <td>0</td>\n",
              "    </tr>\n",
              "    <tr>\n",
              "      <th>53870</th>\n",
              "      <td>2.0</td>\n",
              "      <td>2.0</td>\n",
              "      <td>2.0</td>\n",
              "      <td>2.0</td>\n",
              "      <td>1.0</td>\n",
              "      <td>1.0</td>\n",
              "      <td>2.0</td>\n",
              "      <td>0</td>\n",
              "      <td>0</td>\n",
              "      <td>0</td>\n",
              "      <td>...</td>\n",
              "      <td>0</td>\n",
              "      <td>0</td>\n",
              "      <td>0</td>\n",
              "      <td>0</td>\n",
              "      <td>0</td>\n",
              "      <td>0</td>\n",
              "      <td>0</td>\n",
              "      <td>0</td>\n",
              "      <td>0</td>\n",
              "      <td>0</td>\n",
              "    </tr>\n",
              "    <tr>\n",
              "      <th>53871</th>\n",
              "      <td>3.0</td>\n",
              "      <td>2.0</td>\n",
              "      <td>2.0</td>\n",
              "      <td>3.0</td>\n",
              "      <td>3.0</td>\n",
              "      <td>3.0</td>\n",
              "      <td>2.0</td>\n",
              "      <td>0</td>\n",
              "      <td>0</td>\n",
              "      <td>0</td>\n",
              "      <td>...</td>\n",
              "      <td>0</td>\n",
              "      <td>0</td>\n",
              "      <td>0</td>\n",
              "      <td>0</td>\n",
              "      <td>0</td>\n",
              "      <td>0</td>\n",
              "      <td>0</td>\n",
              "      <td>0</td>\n",
              "      <td>0</td>\n",
              "      <td>0</td>\n",
              "    </tr>\n",
              "    <tr>\n",
              "      <th>53872</th>\n",
              "      <td>4.0</td>\n",
              "      <td>3.0</td>\n",
              "      <td>4.0</td>\n",
              "      <td>2.0</td>\n",
              "      <td>2.0</td>\n",
              "      <td>2.0</td>\n",
              "      <td>2.0</td>\n",
              "      <td>0</td>\n",
              "      <td>0</td>\n",
              "      <td>0</td>\n",
              "      <td>...</td>\n",
              "      <td>0</td>\n",
              "      <td>0</td>\n",
              "      <td>0</td>\n",
              "      <td>0</td>\n",
              "      <td>0</td>\n",
              "      <td>0</td>\n",
              "      <td>0</td>\n",
              "      <td>0</td>\n",
              "      <td>0</td>\n",
              "      <td>0</td>\n",
              "    </tr>\n",
              "    <tr>\n",
              "      <th>53873</th>\n",
              "      <td>5.0</td>\n",
              "      <td>3.0</td>\n",
              "      <td>3.0</td>\n",
              "      <td>3.0</td>\n",
              "      <td>3.0</td>\n",
              "      <td>3.0</td>\n",
              "      <td>3.0</td>\n",
              "      <td>0</td>\n",
              "      <td>0</td>\n",
              "      <td>0</td>\n",
              "      <td>...</td>\n",
              "      <td>0</td>\n",
              "      <td>0</td>\n",
              "      <td>0</td>\n",
              "      <td>0</td>\n",
              "      <td>0</td>\n",
              "      <td>0</td>\n",
              "      <td>0</td>\n",
              "      <td>0</td>\n",
              "      <td>0</td>\n",
              "      <td>0</td>\n",
              "    </tr>\n",
              "  </tbody>\n",
              "</table>\n",
              "<p>53874 rows × 93 columns</p>\n",
              "</div>\n",
              "      <button class=\"colab-df-convert\" onclick=\"convertToInteractive('df-656dbc53-ca73-4992-bcdf-823c5e21cec7')\"\n",
              "              title=\"Convert this dataframe to an interactive table.\"\n",
              "              style=\"display:none;\">\n",
              "        \n",
              "  <svg xmlns=\"http://www.w3.org/2000/svg\" height=\"24px\"viewBox=\"0 0 24 24\"\n",
              "       width=\"24px\">\n",
              "    <path d=\"M0 0h24v24H0V0z\" fill=\"none\"/>\n",
              "    <path d=\"M18.56 5.44l.94 2.06.94-2.06 2.06-.94-2.06-.94-.94-2.06-.94 2.06-2.06.94zm-11 1L8.5 8.5l.94-2.06 2.06-.94-2.06-.94L8.5 2.5l-.94 2.06-2.06.94zm10 10l.94 2.06.94-2.06 2.06-.94-2.06-.94-.94-2.06-.94 2.06-2.06.94z\"/><path d=\"M17.41 7.96l-1.37-1.37c-.4-.4-.92-.59-1.43-.59-.52 0-1.04.2-1.43.59L10.3 9.45l-7.72 7.72c-.78.78-.78 2.05 0 2.83L4 21.41c.39.39.9.59 1.41.59.51 0 1.02-.2 1.41-.59l7.78-7.78 2.81-2.81c.8-.78.8-2.07 0-2.86zM5.41 20L4 18.59l7.72-7.72 1.47 1.35L5.41 20z\"/>\n",
              "  </svg>\n",
              "      </button>\n",
              "      \n",
              "  <style>\n",
              "    .colab-df-container {\n",
              "      display:flex;\n",
              "      flex-wrap:wrap;\n",
              "      gap: 12px;\n",
              "    }\n",
              "\n",
              "    .colab-df-convert {\n",
              "      background-color: #E8F0FE;\n",
              "      border: none;\n",
              "      border-radius: 50%;\n",
              "      cursor: pointer;\n",
              "      display: none;\n",
              "      fill: #1967D2;\n",
              "      height: 32px;\n",
              "      padding: 0 0 0 0;\n",
              "      width: 32px;\n",
              "    }\n",
              "\n",
              "    .colab-df-convert:hover {\n",
              "      background-color: #E2EBFA;\n",
              "      box-shadow: 0px 1px 2px rgba(60, 64, 67, 0.3), 0px 1px 3px 1px rgba(60, 64, 67, 0.15);\n",
              "      fill: #174EA6;\n",
              "    }\n",
              "\n",
              "    [theme=dark] .colab-df-convert {\n",
              "      background-color: #3B4455;\n",
              "      fill: #D2E3FC;\n",
              "    }\n",
              "\n",
              "    [theme=dark] .colab-df-convert:hover {\n",
              "      background-color: #434B5C;\n",
              "      box-shadow: 0px 1px 3px 1px rgba(0, 0, 0, 0.15);\n",
              "      filter: drop-shadow(0px 1px 2px rgba(0, 0, 0, 0.3));\n",
              "      fill: #FFFFFF;\n",
              "    }\n",
              "  </style>\n",
              "\n",
              "      <script>\n",
              "        const buttonEl =\n",
              "          document.querySelector('#df-656dbc53-ca73-4992-bcdf-823c5e21cec7 button.colab-df-convert');\n",
              "        buttonEl.style.display =\n",
              "          google.colab.kernel.accessAllowed ? 'block' : 'none';\n",
              "\n",
              "        async function convertToInteractive(key) {\n",
              "          const element = document.querySelector('#df-656dbc53-ca73-4992-bcdf-823c5e21cec7');\n",
              "          const dataTable =\n",
              "            await google.colab.kernel.invokeFunction('convertToInteractive',\n",
              "                                                     [key], {});\n",
              "          if (!dataTable) return;\n",
              "\n",
              "          const docLinkHtml = 'Like what you see? Visit the ' +\n",
              "            '<a target=\"_blank\" href=https://colab.research.google.com/notebooks/data_table.ipynb>data table notebook</a>'\n",
              "            + ' to learn more about interactive tables.';\n",
              "          element.innerHTML = '';\n",
              "          dataTable['output_type'] = 'display_data';\n",
              "          await google.colab.output.renderOutput(dataTable, element);\n",
              "          const docLink = document.createElement('div');\n",
              "          docLink.innerHTML = docLinkHtml;\n",
              "          element.appendChild(docLink);\n",
              "        }\n",
              "      </script>\n",
              "    </div>\n",
              "  </div>\n",
              "  "
            ],
            "text/plain": [
              "       overall  seat_comfort  cabin_service  food_bev  entertainment  \\\n",
              "0          7.0           4.0            5.0       4.0            4.0   \n",
              "1          2.0           4.0            1.0       1.0            1.0   \n",
              "2          3.0           1.0            4.0       1.0            3.0   \n",
              "3         10.0           4.0            5.0       5.0            5.0   \n",
              "4          1.0           1.0            1.0       1.0            1.0   \n",
              "...        ...           ...            ...       ...            ...   \n",
              "53869      5.0           3.0            2.0       3.0            4.0   \n",
              "53870      2.0           2.0            2.0       2.0            1.0   \n",
              "53871      3.0           2.0            2.0       3.0            3.0   \n",
              "53872      4.0           3.0            4.0       2.0            2.0   \n",
              "53873      5.0           3.0            3.0       3.0            3.0   \n",
              "\n",
              "       ground_service  value_for_money  recommended  \\\n",
              "0                 2.0              4.0            1   \n",
              "1                 1.0              1.0            0   \n",
              "2                 1.0              2.0            0   \n",
              "3                 5.0              5.0            1   \n",
              "4                 1.0              1.0            0   \n",
              "...               ...              ...          ...   \n",
              "53869             2.0              4.0            0   \n",
              "53870             1.0              2.0            0   \n",
              "53871             3.0              2.0            0   \n",
              "53872             2.0              2.0            0   \n",
              "53873             3.0              3.0            0   \n",
              "\n",
              "       airline_ANA All Nippon Airways  airline_Adria Airways  ...  \\\n",
              "0                                   0                      0  ...   \n",
              "1                                   0                      0  ...   \n",
              "2                                   0                      0  ...   \n",
              "3                                   0                      0  ...   \n",
              "4                                   0                      0  ...   \n",
              "...                               ...                    ...  ...   \n",
              "53869                               0                      0  ...   \n",
              "53870                               0                      0  ...   \n",
              "53871                               0                      0  ...   \n",
              "53872                               0                      0  ...   \n",
              "53873                               0                      0  ...   \n",
              "\n",
              "       airline_Vueling Airlines  airline_WOW air  airline_Wizz Air  \\\n",
              "0                             0                0                 0   \n",
              "1                             0                0                 0   \n",
              "2                             0                0                 0   \n",
              "3                             0                0                 0   \n",
              "4                             0                0                 0   \n",
              "...                         ...              ...               ...   \n",
              "53869                         0                0                 0   \n",
              "53870                         0                0                 0   \n",
              "53871                         0                0                 0   \n",
              "53872                         0                0                 0   \n",
              "53873                         0                0                 0   \n",
              "\n",
              "       airline_airBaltic  airline_easyJet  airline_flydubai  \\\n",
              "0                      0                0                 0   \n",
              "1                      0                0                 0   \n",
              "2                      0                0                 0   \n",
              "3                      0                0                 0   \n",
              "4                      0                0                 0   \n",
              "...                  ...              ...               ...   \n",
              "53869                  0                0                 0   \n",
              "53870                  0                0                 0   \n",
              "53871                  0                0                 0   \n",
              "53872                  0                0                 0   \n",
              "53873                  0                0                 0   \n",
              "\n",
              "       cabin_Business Class  cabin_Economy Class  cabin_First Class  \\\n",
              "0                         0                    1                  0   \n",
              "1                         0                    1                  0   \n",
              "2                         0                    1                  0   \n",
              "3                         0                    1                  0   \n",
              "4                         0                    1                  0   \n",
              "...                     ...                  ...                ...   \n",
              "53869                     0                    1                  0   \n",
              "53870                     0                    0                  0   \n",
              "53871                     0                    0                  0   \n",
              "53872                     0                    0                  0   \n",
              "53873                     0                    0                  0   \n",
              "\n",
              "       cabin_Premium Economy  \n",
              "0                          0  \n",
              "1                          0  \n",
              "2                          0  \n",
              "3                          0  \n",
              "4                          0  \n",
              "...                      ...  \n",
              "53869                      0  \n",
              "53870                      0  \n",
              "53871                      0  \n",
              "53872                      0  \n",
              "53873                      0  \n",
              "\n",
              "[53874 rows x 93 columns]"
            ]
          },
          "execution_count": 44,
          "metadata": {},
          "output_type": "execute_result"
        }
      ],
      "source": [
        "dummy"
      ]
    },
    {
      "cell_type": "code",
      "execution_count": null,
      "metadata": {
        "id": "uxe27yivwPFm"
      },
      "outputs": [],
      "source": [
        "# Import libraries\n",
        "from sklearn.model_selection import train_test_split"
      ]
    },
    {
      "cell_type": "code",
      "execution_count": null,
      "metadata": {
        "id": "6njowoY4ll0B"
      },
      "outputs": [],
      "source": [
        "#getting the independent variables\n",
        "X = dummy.drop('recommended', axis =1)\n",
        "\n",
        "\n",
        "#getting the dependent variables\n",
        "y= dummy['recommended']"
      ]
    },
    {
      "cell_type": "code",
      "execution_count": null,
      "metadata": {
        "id": "wM1Y4w6mrtCD"
      },
      "outputs": [],
      "source": [
        "# Perform Train Test Split\n",
        "X_train,X_test,y_train,y_test = train_test_split(X,y, test_size =0.2, random_state = 0)"
      ]
    },
    {
      "cell_type": "code",
      "execution_count": null,
      "metadata": {
        "colab": {
          "base_uri": "https://localhost:8080/"
        },
        "id": "IRNlthGWstxu",
        "outputId": "467ab2fc-b98b-4844-c7b2-d0320c08792f"
      },
      "outputs": [
        {
          "data": {
            "text/plain": [
              "((43099, 92), (10775, 92), (43099,), (10775,))"
            ]
          },
          "execution_count": 48,
          "metadata": {},
          "output_type": "execute_result"
        }
      ],
      "source": [
        "# Get shapes for Train and Test set\n",
        "X_train.shape,X_test.shape,y_train.shape,y_test.shape"
      ]
    },
    {
      "cell_type": "code",
      "execution_count": null,
      "metadata": {
        "id": "IGNpsvtY1FFO"
      },
      "outputs": [],
      "source": [
        "column = ['Model','Accuracy','Recall','Precision','f1-score','roc_auc_score']\n",
        "evaluation_metrics_df= pd.DataFrame(columns = column)"
      ]
    },
    {
      "cell_type": "markdown",
      "metadata": {
        "id": "AFBcmxbd1cwZ"
      },
      "source": [
        "Creating Function to store evaluation metrics values"
      ]
    },
    {
      "cell_type": "code",
      "execution_count": null,
      "metadata": {
        "id": "Jl9R4heA1bbN"
      },
      "outputs": [],
      "source": [
        "#creating function for storing evaluation metrices\n",
        "def evaluation_metric(model,y_test,pred_value,metric_df):\n",
        "  metric_df= metric_df.append({'Model': model,\n",
        "                               'Accuracy':accuracy_score(y_test,pred_value),\n",
        "                               'Recall':recall_score(y_test,pred_value),\n",
        "                               'Precision':precision_score(y_test,pred_value),\n",
        "                               'f1-score':f1_score(y_test,pred_value),\n",
        "                               'roc_auc_score':roc_auc_score(y_test,pred_value)},ignore_index=True)\n",
        "  return metric_df"
      ]
    },
    {
      "cell_type": "markdown",
      "metadata": {
        "id": "ZHJRlGDj1sNF"
      },
      "source": [
        "##Logistic Regression"
      ]
    },
    {
      "cell_type": "code",
      "execution_count": null,
      "metadata": {
        "colab": {
          "base_uri": "https://localhost:8080/"
        },
        "id": "LJvsTmsj1J_v",
        "outputId": "168fa577-0154-429a-c4e1-f81c65d92770"
      },
      "outputs": [
        {
          "name": "stdout",
          "output_type": "stream",
          "text": [
            "Logistic regression score : 0.9509976798143851\n"
          ]
        }
      ],
      "source": [
        "#logistic regression\n",
        "lr= LogisticRegression(max_iter=10000)\n",
        "lr.fit(X_train, y_train)\n",
        "score=lr.score(X_test,y_test)\n",
        "print(f'Logistic regression score : {score}')"
      ]
    },
    {
      "cell_type": "code",
      "execution_count": null,
      "metadata": {
        "colab": {
          "base_uri": "https://localhost:8080/",
          "height": 761
        },
        "id": "qZRKWp4lpr78",
        "outputId": "f29add3d-0986-44f7-a520-06e2409e27f6"
      },
      "outputs": [
        {
          "name": "stdout",
          "output_type": "stream",
          "text": [
            "              precision    recall  f1-score   support\n",
            "\n",
            "           0       0.95      0.96      0.95      5766\n",
            "           1       0.95      0.94      0.95      5009\n",
            "\n",
            "    accuracy                           0.95     10775\n",
            "   macro avg       0.95      0.95      0.95     10775\n",
            "weighted avg       0.95      0.95      0.95     10775\n",
            "\n",
            "\n",
            "Accuracy score % of the model is 95.1%\n",
            "\n"
          ]
        },
        {
          "data": {
            "image/png": "[encoded data removed]",
            "text/plain": [
              "<Figure size 864x648 with 2 Axes>"
            ]
          },
          "metadata": {},
          "output_type": "display_data"
        }
      ],
      "source": [
        "#model evaluation\n",
        "pred_value = lr.predict(X_test)\n",
        "\n",
        "print(metrics.classification_report(y_test,pred_value))\n",
        "cm = confusion_matrix(y_test,pred_value,labels=[1,0])\n",
        "\n",
        "print(f'\\nAccuracy score % of the model is {round(accuracy_score(y_test,pred_value)*100,2)}%\\n')\n",
        "sns.heatmap(cm, annot=True, fmt = \".1f\",cmap='icefire')\n",
        "plt.title('Confusion Matrix for Logistic Regeression')\n",
        "\n",
        "#calling function to append evaluation metrices\n",
        "evaluation_metrics_df=evaluation_metric('Logistic Regression',y_test,pred_value,evaluation_metrics_df)"
      ]
    },
    {
      "cell_type": "code",
      "execution_count": null,
      "metadata": {
        "colab": {
          "base_uri": "https://localhost:8080/",
          "height": 567
        },
        "id": "Nge2xbcYQUiu",
        "outputId": "41b5b1a0-0d89-410f-8ba0-0e7a6d0d7e2a"
      },
      "outputs": [
        {
          "data": {
            "image/png": "[encoded data removed]",
            "text/plain": [
              "<Figure size 864x648 with 1 Axes>"
            ]
          },
          "metadata": {},
          "output_type": "display_data"
        }
      ],
      "source": [
        "#ROC curve\n",
        "lr_probability =lr.predict_proba(X_test)[::,1]\n",
        "\n",
        "fpr, tpr, _ = roc_curve(y_test, lr_probability)\n",
        "\n",
        "plt.title('Logistic Regression ROC curve')\n",
        "plt.xlabel('FPR (Precision)')\n",
        "plt.ylabel('TPR (Recall)')\n",
        "\n",
        "plt.plot(fpr,tpr)\n",
        "plt.plot((0,1), ls='dashed',color='black')\n",
        "plt.show()"
      ]
    },
    {
      "cell_type": "markdown",
      "metadata": {
        "id": "NPx0pE-Iz3Vu"
      },
      "source": [
        "##Decision Tree"
      ]
    },
    {
      "cell_type": "code",
      "execution_count": null,
      "metadata": {
        "colab": {
          "base_uri": "https://localhost:8080/"
        },
        "id": "17Xn9v2lz2dQ",
        "outputId": "0037c559-87be-47fa-fdc5-7aba5b924cd4"
      },
      "outputs": [
        {
          "name": "stdout",
          "output_type": "stream",
          "text": [
            "Decision Tree score : 0.9339211136890951\n"
          ]
        }
      ],
      "source": [
        "#Decision Tree\n",
        "dtc =DecisionTreeClassifier()\n",
        "dtc.fit(X_train,y_train)\n",
        "score=dtc.score(X_test,y_test)\n",
        "print(f'Decision Tree score : {score}')"
      ]
    },
    {
      "cell_type": "code",
      "execution_count": null,
      "metadata": {
        "colab": {
          "base_uri": "https://localhost:8080/",
          "height": 761
        },
        "id": "HRS8L31rxfiQ",
        "outputId": "307e88d1-6ba1-4e57-e128-0e10f1303946"
      },
      "outputs": [
        {
          "name": "stdout",
          "output_type": "stream",
          "text": [
            "              precision    recall  f1-score   support\n",
            "\n",
            "           0       0.93      0.94      0.94      5766\n",
            "           1       0.93      0.92      0.93      5009\n",
            "\n",
            "    accuracy                           0.93     10775\n",
            "   macro avg       0.93      0.93      0.93     10775\n",
            "weighted avg       0.93      0.93      0.93     10775\n",
            "\n",
            "\n",
            "Accuracy score % of the model is 93.39%\n",
            "\n"
          ]
        },
        {
          "data": {
            "image/png": "[encoded data removed]",
            "text/plain": [
              "<Figure size 864x648 with 2 Axes>"
            ]
          },
          "metadata": {},
          "output_type": "display_data"
        }
      ],
      "source": [
        "#model evaluation\n",
        "pred_value = dtc.predict(X_test)\n",
        "\n",
        "print(metrics.classification_report(y_test,pred_value))\n",
        "cm = confusion_matrix(y_test,pred_value,labels=[1,0])\n",
        "\n",
        "print(f'\\nAccuracy score % of the model is {round(accuracy_score(y_test,pred_value)*100,2)}%\\n')\n",
        "sns.heatmap(cm, annot=True, fmt = \".1f\",cmap='icefire')\n",
        "plt.title('Confusion Matrix for Decision Tree')\n",
        "\n",
        "#calling function to append evaluation metrices\n",
        "evaluation_metrics_df=evaluation_metric('Decision Tree',y_test,pred_value,evaluation_metrics_df)"
      ]
    },
    {
      "cell_type": "code",
      "execution_count": null,
      "metadata": {
        "colab": {
          "base_uri": "https://localhost:8080/"
        },
        "id": "AtILXLxSTY2z",
        "outputId": "dfe75756-0616-4793-edba-d8566d04ef30"
      },
      "outputs": [
        {
          "data": {
            "image/png": "[encoded data removed]",
            "text/plain": [
              "<Figure size 864x648 with 1 Axes>"
            ]
          },
          "metadata": {},
          "output_type": "display_data"
        }
      ],
      "source": [
        "#ROC curve of decision tree\n",
        "dtc_probability =dtc.predict_proba(X_test)[::,1]\n",
        "\n",
        "fpr, tpr, _ = roc_curve(y_test, dtc_probability)\n",
        "\n",
        "plt.title('Decision tree ROC curve')\n",
        "plt.xlabel('FPR (Precision)')\n",
        "plt.ylabel('TPR (Recall)')\n",
        "\n",
        "plt.plot(fpr,tpr)\n",
        "plt.plot((0,1), ls='dashed',color='black')\n",
        "plt.show()"
      ]
    },
    {
      "cell_type": "markdown",
      "metadata": {
        "id": "uK9I6LKy03ZT"
      },
      "source": [
        "##Random forest"
      ]
    },
    {
      "cell_type": "code",
      "execution_count": null,
      "metadata": {
        "colab": {
          "base_uri": "https://localhost:8080/"
        },
        "id": "1-mJg7cdyOTt",
        "outputId": "70d551ad-fec3-4611-b64e-80598a105904"
      },
      "outputs": [
        {
          "name": "stdout",
          "output_type": "stream",
          "text": [
            "Random Forest score : 0.9493271461716938\n"
          ]
        }
      ],
      "source": [
        "rf=RandomForestClassifier()\n",
        "rf.fit(X_train,y_train)\n",
        "score=rf.score(X_test,y_test)\n",
        "print(f'Random Forest score : {score}')"
      ]
    },
    {
      "cell_type": "code",
      "execution_count": null,
      "metadata": {
        "colab": {
          "base_uri": "https://localhost:8080/"
        },
        "id": "DwmsENWy1o9k",
        "outputId": "209d5fd0-a7fe-41af-9ad7-cafa197250d0"
      },
      "outputs": [
        {
          "name": "stdout",
          "output_type": "stream",
          "text": [
            "              precision    recall  f1-score   support\n",
            "\n",
            "           0       0.94      0.96      0.95      5766\n",
            "           1       0.96      0.93      0.94      5009\n",
            "\n",
            "    accuracy                           0.95     10775\n",
            "   macro avg       0.95      0.95      0.95     10775\n",
            "weighted avg       0.95      0.95      0.95     10775\n",
            "\n",
            "\n",
            "Accuracy score % of the model is 94.93%\n",
            "\n"
          ]
        },
        {
          "data": {
            "image/png": "[encoded data removed]",
            "text/plain": [
              "<Figure size 864x648 with 2 Axes>"
            ]
          },
          "metadata": {},
          "output_type": "display_data"
        }
      ],
      "source": [
        "pred_value = rf.predict(X_test)\n",
        "\n",
        "print(metrics.classification_report(y_test,pred_value))\n",
        "cm = confusion_matrix(y_test,pred_value,labels=[1,0])\n",
        "\n",
        "print(f'\\nAccuracy score % of the model is {round(accuracy_score(y_test,pred_value)*100,2)}%\\n')\n",
        "sns.heatmap(cm, annot=True, fmt = \".1f\",cmap='icefire')\n",
        "plt.title('Confusion Matrix for Random Forest')\n",
        "\n",
        "\n",
        "#calling function to append evaluation metrices\n",
        "evaluation_metrics_df=evaluation_metric('Random Forest',y_test,pred_value,evaluation_metrics_df)"
      ]
    },
    {
      "cell_type": "code",
      "execution_count": null,
      "metadata": {
        "colab": {
          "base_uri": "https://localhost:8080/"
        },
        "id": "EQDG2qUyULex",
        "outputId": "de1f7b94-9c83-4234-cd27-71f810b60b21"
      },
      "outputs": [
        {
          "data": {
            "image/png": "[encoded data removed]",
            "text/plain": [
              "<Figure size 864x648 with 1 Axes>"
            ]
          },
          "metadata": {},
          "output_type": "display_data"
        }
      ],
      "source": [
        "#ROC curve of decision tree\n",
        "rf_probability =rf.predict_proba(X_test)[::,1]\n",
        "\n",
        "fpr, tpr, _ = roc_curve(y_test, rf_probability)\n",
        "\n",
        "plt.title('Randon free ROC curve')\n",
        "plt.xlabel('FPR (Precision)')\n",
        "plt.ylabel('TPR (Recall)')\n",
        "\n",
        "plt.plot(fpr,tpr)\n",
        "plt.plot((0,1), ls='dashed',color='black')\n",
        "plt.show()"
      ]
    },
    {
      "cell_type": "markdown",
      "metadata": {
        "id": "0WiC3cBD6ECi"
      },
      "source": [
        "##K_nearest Neighbour Model"
      ]
    },
    {
      "cell_type": "code",
      "execution_count": null,
      "metadata": {
        "colab": {
          "base_uri": "https://localhost:8080/"
        },
        "id": "HIEDynAN2sfi",
        "outputId": "b0b3c4b9-0c3b-4dbb-c946-bb9721cf1716"
      },
      "outputs": [
        {
          "name": "stdout",
          "output_type": "stream",
          "text": [
            "K-nearest-neighbour score : 0.9464501160092808\n"
          ]
        }
      ],
      "source": [
        "#using knn \n",
        "knn=KNeighborsClassifier()\n",
        "knn.fit(X_train,y_train)\n",
        "score=knn.score(X_test,y_test)\n",
        "print(f'K-nearest-neighbour score : {score}')"
      ]
    },
    {
      "cell_type": "code",
      "execution_count": null,
      "metadata": {
        "colab": {
          "base_uri": "https://localhost:8080/"
        },
        "id": "pAMWrwWB4EFZ",
        "outputId": "e1cd664d-6eb1-4375-9b2c-65ff662e4af8"
      },
      "outputs": [
        {
          "name": "stdout",
          "output_type": "stream",
          "text": [
            "              precision    recall  f1-score   support\n",
            "\n",
            "           0       0.95      0.95      0.95      5766\n",
            "           1       0.95      0.94      0.94      5009\n",
            "\n",
            "    accuracy                           0.95     10775\n",
            "   macro avg       0.95      0.95      0.95     10775\n",
            "weighted avg       0.95      0.95      0.95     10775\n",
            "\n",
            "\n",
            "Accuracy score % of the model is 94.65%\n",
            "\n"
          ]
        },
        {
          "data": {
            "image/png": "[encoded data removed]",
            "text/plain": [
              "<Figure size 864x648 with 2 Axes>"
            ]
          },
          "metadata": {},
          "output_type": "display_data"
        }
      ],
      "source": [
        "#model evaluation\n",
        "pred_value=knn.predict(X_test)\n",
        "print(metrics.classification_report(y_test,pred_value))\n",
        "cm = confusion_matrix(y_test,pred_value,labels=[1,0])\n",
        "print(f'\\nAccuracy score % of the model is {round(accuracy_score(y_test,pred_value)*100,2)}%\\n')\n",
        "sns.heatmap(cm, annot=True, fmt = \".1f\",cmap='icefire')\n",
        "plt.title('Confusion Matrix for K-nearest-neighbour')\n",
        "#calling function to append evaluation metrices\n",
        "evaluation_metrics_df=evaluation_metric('K-nearest-neighbour',y_test,pred_value,evaluation_metrics_df)\n"
      ]
    },
    {
      "cell_type": "code",
      "execution_count": null,
      "metadata": {
        "colab": {
          "base_uri": "https://localhost:8080/"
        },
        "id": "lQX_wEIcf9VG",
        "outputId": "fe014362-f5e2-4b21-ffda-83c974675ca5"
      },
      "outputs": [
        {
          "data": {
            "text/plain": [
              "0.9776157685503588"
            ]
          },
          "execution_count": 62,
          "metadata": {},
          "output_type": "execute_result"
        }
      ],
      "source": [
        "knn_probability =knn.predict_proba(X_test)[::,1]\n",
        "#area under curve\n",
        "auc_score=roc_auc_score(y_test,knn_probability)\n",
        "auc_score"
      ]
    },
    {
      "cell_type": "code",
      "execution_count": null,
      "metadata": {
        "colab": {
          "base_uri": "https://localhost:8080/"
        },
        "id": "eb9yweIlgC87",
        "outputId": "bcb60b58-be1a-4b3e-f108-7cf24f856b27"
      },
      "outputs": [
        {
          "data": {
            "image/png": "[encoded data removed]",
            "text/plain": [
              "<Figure size 864x648 with 1 Axes>"
            ]
          },
          "metadata": {},
          "output_type": "display_data"
        }
      ],
      "source": [
        "#ROC curve plot\n",
        "fpr, tpr, _ = roc_curve(y_test, rf_probability)\n",
        "\n",
        "plt.title('Random Forest ROC curve')\n",
        "plt.xlabel('FPR (Precision)')\n",
        "plt.ylabel('TPR (Recall)')\n",
        "\n",
        "plt.plot(fpr,tpr)\n",
        "plt.plot((0,1), ls='dashed',color='black')\n",
        "plt.show()"
      ]
    },
    {
      "cell_type": "markdown",
      "metadata": {
        "id": "SxCzhq1VDZHi"
      },
      "source": [
        "##Accuracy is good, let's try cross validation once. "
      ]
    },
    {
      "cell_type": "markdown",
      "metadata": {
        "id": "vY9Ya6hSEdMp"
      },
      "source": [
        "##Random Forest with GridSearchCV"
      ]
    },
    {
      "cell_type": "code",
      "execution_count": null,
      "metadata": {
        "id": "VuNAAMMdJyw6"
      },
      "outputs": [],
      "source": [
        "#Hyperparametric Tuning to get best parameter for evaluation\n",
        "param_dict = {'n_estimators' : [50,80,100],\n",
        "              'max_depth' : [6,8,10,12],\n",
        "              'min_samples_split' : [10,50,100],\n",
        "              'min_samples_leaf' : [30,40,50]}"
      ]
    },
    {
      "cell_type": "code",
      "execution_count": null,
      "metadata": {
        "id": "2V-QT1yfOFWR"
      },
      "outputs": [],
      "source": [
        "#uassigning grid search variable\n",
        "rf_grid = GridSearchCV(estimator=rf,\n",
        "                       param_grid = param_dict,\n",
        "                       cv = 5, verbose=2)"
      ]
    },
    {
      "cell_type": "code",
      "execution_count": null,
      "metadata": {
        "colab": {
          "background_save": true,
          "base_uri": "https://localhost:8080/"
        },
        "id": "pdMbtgCWkTbI",
        "outputId": "b90b82bc-f9fc-43a5-92fc-2c776075d3bb"
      },
      "outputs": [
        {
          "name": "stdout",
          "output_type": "stream",
          "text": [
            "Fitting 5 folds for each of 108 candidates, totalling 540 fits\n",
            "[CV] END max_depth=6, min_samples_leaf=30, min_samples_split=10, n_estimators=50; total time=   1.0s\n",
            "[CV] END max_depth=6, min_samples_leaf=30, min_samples_split=10, n_estimators=50; total time=   1.0s\n",
            "[CV] END max_depth=6, min_samples_leaf=30, min_samples_split=10, n_estimators=50; total time=   1.0s\n",
            "[CV] END max_depth=6, min_samples_leaf=30, min_samples_split=10, n_estimators=50; total time=   1.0s\n",
            "[CV] END max_depth=6, min_samples_leaf=30, min_samples_split=10, n_estimators=50; total time=   1.0s\n",
            "[CV] END max_depth=6, min_samples_leaf=30, min_samples_split=10, n_estimators=80; total time=   1.5s\n",
            "[CV] END max_depth=6, min_samples_leaf=30, min_samples_split=10, n_estimators=80; total time=   1.5s\n",
            "[CV] END max_depth=6, min_samples_leaf=30, min_samples_split=10, n_estimators=80; total time=   1.5s\n",
            "[CV] END max_depth=6, min_samples_leaf=30, min_samples_split=10, n_estimators=80; total time=   1.5s\n",
            "[CV] END max_depth=6, min_samples_leaf=30, min_samples_split=10, n_estimators=80; total time=   1.5s\n",
            "[CV] END max_depth=6, min_samples_leaf=30, min_samples_split=10, n_estimators=100; total time=   1.8s\n",
            "[CV] END max_depth=6, min_samples_leaf=30, min_samples_split=10, n_estimators=100; total time=   1.8s\n",
            "[CV] END max_depth=6, min_samples_leaf=30, min_samples_split=10, n_estimators=100; total time=   1.8s\n",
            "[CV] END max_depth=6, min_samples_leaf=30, min_samples_split=10, n_estimators=100; total time=   1.8s\n",
            "[CV] END max_depth=6, min_samples_leaf=30, min_samples_split=10, n_estimators=100; total time=   1.8s\n",
            "[CV] END max_depth=6, min_samples_leaf=30, min_samples_split=50, n_estimators=50; total time=   1.0s\n",
            "[CV] END max_depth=6, min_samples_leaf=30, min_samples_split=50, n_estimators=50; total time=   1.2s\n",
            "[CV] END max_depth=6, min_samples_leaf=30, min_samples_split=50, n_estimators=50; total time=   1.5s\n",
            "[CV] END max_depth=6, min_samples_leaf=30, min_samples_split=50, n_estimators=50; total time=   1.5s\n",
            "[CV] END max_depth=6, min_samples_leaf=30, min_samples_split=50, n_estimators=50; total time=   1.0s\n",
            "[CV] END max_depth=6, min_samples_leaf=30, min_samples_split=50, n_estimators=80; total time=   1.5s\n",
            "[CV] END max_depth=6, min_samples_leaf=30, min_samples_split=50, n_estimators=80; total time=   1.5s\n",
            "[CV] END max_depth=6, min_samples_leaf=30, min_samples_split=50, n_estimators=80; total time=   1.5s\n",
            "[CV] END max_depth=6, min_samples_leaf=30, min_samples_split=50, n_estimators=80; total time=   1.5s\n",
            "[CV] END max_depth=6, min_samples_leaf=30, min_samples_split=50, n_estimators=80; total time=   1.5s\n",
            "[CV] END max_depth=6, min_samples_leaf=30, min_samples_split=50, n_estimators=100; total time=   1.8s\n",
            "[CV] END max_depth=6, min_samples_leaf=30, min_samples_split=50, n_estimators=100; total time=   1.8s\n",
            "[CV] END max_depth=6, min_samples_leaf=30, min_samples_split=50, n_estimators=100; total time=   2.7s\n",
            "[CV] END max_depth=6, min_samples_leaf=30, min_samples_split=50, n_estimators=100; total time=   2.4s\n",
            "[CV] END max_depth=6, min_samples_leaf=30, min_samples_split=50, n_estimators=100; total time=   1.8s\n",
            "[CV] END max_depth=6, min_samples_leaf=30, min_samples_split=100, n_estimators=50; total time=   1.0s\n",
            "[CV] END max_depth=6, min_samples_leaf=30, min_samples_split=100, n_estimators=50; total time=   0.9s\n",
            "[CV] END max_depth=6, min_samples_leaf=30, min_samples_split=100, n_estimators=50; total time=   0.9s\n",
            "[CV] END max_depth=6, min_samples_leaf=30, min_samples_split=100, n_estimators=50; total time=   0.9s\n",
            "[CV] END max_depth=6, min_samples_leaf=30, min_samples_split=100, n_estimators=50; total time=   1.0s\n",
            "[CV] END max_depth=6, min_samples_leaf=30, min_samples_split=100, n_estimators=80; total time=   1.5s\n",
            "[CV] END max_depth=6, min_samples_leaf=30, min_samples_split=100, n_estimators=80; total time=   1.5s\n",
            "[CV] END max_depth=6, min_samples_leaf=30, min_samples_split=100, n_estimators=80; total time=   1.5s\n",
            "[CV] END max_depth=6, min_samples_leaf=30, min_samples_split=100, n_estimators=80; total time=   1.4s\n",
            "[CV] END max_depth=6, min_samples_leaf=30, min_samples_split=100, n_estimators=80; total time=   1.5s\n",
            "[CV] END max_depth=6, min_samples_leaf=30, min_samples_split=100, n_estimators=100; total time=   1.8s\n",
            "[CV] END max_depth=6, min_samples_leaf=30, min_samples_split=100, n_estimators=100; total time=   1.8s\n",
            "[CV] END max_depth=6, min_samples_leaf=30, min_samples_split=100, n_estimators=100; total time=   1.8s\n",
            "[CV] END max_depth=6, min_samples_leaf=30, min_samples_split=100, n_estimators=100; total time=   1.8s\n",
            "[CV] END max_depth=6, min_samples_leaf=30, min_samples_split=100, n_estimators=100; total time=   1.8s\n",
            "[CV] END max_depth=6, min_samples_leaf=40, min_samples_split=10, n_estimators=50; total time=   0.9s\n",
            "[CV] END max_depth=6, min_samples_leaf=40, min_samples_split=10, n_estimators=50; total time=   0.9s\n",
            "[CV] END max_depth=6, min_samples_leaf=40, min_samples_split=10, n_estimators=50; total time=   0.9s\n",
            "[CV] END max_depth=6, min_samples_leaf=40, min_samples_split=10, n_estimators=50; total time=   0.9s\n",
            "[CV] END max_depth=6, min_samples_leaf=40, min_samples_split=10, n_estimators=50; total time=   1.0s\n",
            "[CV] END max_depth=6, min_samples_leaf=40, min_samples_split=10, n_estimators=80; total time=   1.5s\n",
            "[CV] END max_depth=6, min_samples_leaf=40, min_samples_split=10, n_estimators=80; total time=   1.4s\n",
            "[CV] END max_depth=6, min_samples_leaf=40, min_samples_split=10, n_estimators=80; total time=   1.4s\n",
            "[CV] END max_depth=6, min_samples_leaf=40, min_samples_split=10, n_estimators=80; total time=   1.4s\n",
            "[CV] END max_depth=6, min_samples_leaf=40, min_samples_split=10, n_estimators=80; total time=   1.9s\n",
            "[CV] END max_depth=6, min_samples_leaf=40, min_samples_split=10, n_estimators=100; total time=   2.7s\n",
            "[CV] END max_depth=6, min_samples_leaf=40, min_samples_split=10, n_estimators=100; total time=   1.9s\n",
            "[CV] END max_depth=6, min_samples_leaf=40, min_samples_split=10, n_estimators=100; total time=   1.9s\n",
            "[CV] END max_depth=6, min_samples_leaf=40, min_samples_split=10, n_estimators=100; total time=   1.9s\n",
            "[CV] END max_depth=6, min_samples_leaf=40, min_samples_split=10, n_estimators=100; total time=   1.9s\n",
            "[CV] END max_depth=6, min_samples_leaf=40, min_samples_split=50, n_estimators=50; total time=   1.0s\n",
            "[CV] END max_depth=6, min_samples_leaf=40, min_samples_split=50, n_estimators=50; total time=   1.0s\n",
            "[CV] END max_depth=6, min_samples_leaf=40, min_samples_split=50, n_estimators=50; total time=   1.0s\n",
            "[CV] END max_depth=6, min_samples_leaf=40, min_samples_split=50, n_estimators=50; total time=   1.0s\n",
            "[CV] END max_depth=6, min_samples_leaf=40, min_samples_split=50, n_estimators=50; total time=   1.0s\n",
            "[CV] END max_depth=6, min_samples_leaf=40, min_samples_split=50, n_estimators=80; total time=   1.5s\n",
            "[CV] END max_depth=6, min_samples_leaf=40, min_samples_split=50, n_estimators=80; total time=   1.5s\n",
            "[CV] END max_depth=6, min_samples_leaf=40, min_samples_split=50, n_estimators=80; total time=   1.4s\n",
            "[CV] END max_depth=6, min_samples_leaf=40, min_samples_split=50, n_estimators=80; total time=   1.5s\n",
            "[CV] END max_depth=6, min_samples_leaf=40, min_samples_split=50, n_estimators=80; total time=   1.5s\n",
            "[CV] END max_depth=6, min_samples_leaf=40, min_samples_split=50, n_estimators=100; total time=   1.8s\n",
            "[CV] END max_depth=6, min_samples_leaf=40, min_samples_split=50, n_estimators=100; total time=   1.8s\n",
            "[CV] END max_depth=6, min_samples_leaf=40, min_samples_split=50, n_estimators=100; total time=   1.8s\n",
            "[CV] END max_depth=6, min_samples_leaf=40, min_samples_split=50, n_estimators=100; total time=   1.8s\n",
            "[CV] END max_depth=6, min_samples_leaf=40, min_samples_split=50, n_estimators=100; total time=   1.8s\n",
            "[CV] END max_depth=6, min_samples_leaf=40, min_samples_split=100, n_estimators=50; total time=   0.9s\n",
            "[CV] END max_depth=6, min_samples_leaf=40, min_samples_split=100, n_estimators=50; total time=   1.0s\n",
            "[CV] END max_depth=6, min_samples_leaf=40, min_samples_split=100, n_estimators=50; total time=   1.0s\n",
            "[CV] END max_depth=6, min_samples_leaf=40, min_samples_split=100, n_estimators=50; total time=   1.0s\n",
            "[CV] END max_depth=6, min_samples_leaf=40, min_samples_split=100, n_estimators=50; total time=   1.0s\n",
            "[CV] END max_depth=6, min_samples_leaf=40, min_samples_split=100, n_estimators=80; total time=   1.5s\n",
            "[CV] END max_depth=6, min_samples_leaf=40, min_samples_split=100, n_estimators=80; total time=   1.5s\n",
            "[CV] END max_depth=6, min_samples_leaf=40, min_samples_split=100, n_estimators=80; total time=   1.4s\n",
            "[CV] END max_depth=6, min_samples_leaf=40, min_samples_split=100, n_estimators=80; total time=   1.5s\n",
            "[CV] END max_depth=6, min_samples_leaf=40, min_samples_split=100, n_estimators=80; total time=   1.4s\n",
            "[CV] END max_depth=6, min_samples_leaf=40, min_samples_split=100, n_estimators=100; total time=   1.8s\n",
            "[CV] END max_depth=6, min_samples_leaf=40, min_samples_split=100, n_estimators=100; total time=   1.9s\n",
            "[CV] END max_depth=6, min_samples_leaf=40, min_samples_split=100, n_estimators=100; total time=   1.8s\n",
            "[CV] END max_depth=6, min_samples_leaf=40, min_samples_split=100, n_estimators=100; total time=   1.8s\n",
            "[CV] END max_depth=6, min_samples_leaf=40, min_samples_split=100, n_estimators=100; total time=   2.2s\n",
            "[CV] END max_depth=6, min_samples_leaf=50, min_samples_split=10, n_estimators=50; total time=   1.5s\n",
            "[CV] END max_depth=6, min_samples_leaf=50, min_samples_split=10, n_estimators=50; total time=   1.4s\n",
            "[CV] END max_depth=6, min_samples_leaf=50, min_samples_split=10, n_estimators=50; total time=   1.0s\n",
            "[CV] END max_depth=6, min_samples_leaf=50, min_samples_split=10, n_estimators=50; total time=   1.0s\n",
            "[CV] END max_depth=6, min_samples_leaf=50, min_samples_split=10, n_estimators=50; total time=   0.9s\n",
            "[CV] END max_depth=6, min_samples_leaf=50, min_samples_split=10, n_estimators=80; total time=   1.5s\n",
            "[CV] END max_depth=6, min_samples_leaf=50, min_samples_split=10, n_estimators=80; total time=   1.5s\n",
            "[CV] END max_depth=6, min_samples_leaf=50, min_samples_split=10, n_estimators=80; total time=   1.5s\n",
            "[CV] END max_depth=6, min_samples_leaf=50, min_samples_split=10, n_estimators=80; total time=   1.5s\n",
            "[CV] END max_depth=6, min_samples_leaf=50, min_samples_split=10, n_estimators=80; total time=   1.5s\n",
            "[CV] END max_depth=6, min_samples_leaf=50, min_samples_split=10, n_estimators=100; total time=   1.8s\n",
            "[CV] END max_depth=6, min_samples_leaf=50, min_samples_split=10, n_estimators=100; total time=   1.8s\n",
            "[CV] END max_depth=6, min_samples_leaf=50, min_samples_split=10, n_estimators=100; total time=   1.8s\n",
            "[CV] END max_depth=6, min_samples_leaf=50, min_samples_split=10, n_estimators=100; total time=   1.8s\n",
            "[CV] END max_depth=6, min_samples_leaf=50, min_samples_split=10, n_estimators=100; total time=   1.9s\n",
            "[CV] END max_depth=6, min_samples_leaf=50, min_samples_split=50, n_estimators=50; total time=   0.9s\n",
            "[CV] END max_depth=6, min_samples_leaf=50, min_samples_split=50, n_estimators=50; total time=   0.9s\n",
            "[CV] END max_depth=6, min_samples_leaf=50, min_samples_split=50, n_estimators=50; total time=   0.9s\n",
            "[CV] END max_depth=6, min_samples_leaf=50, min_samples_split=50, n_estimators=50; total time=   1.0s\n",
            "[CV] END max_depth=6, min_samples_leaf=50, min_samples_split=50, n_estimators=50; total time=   1.0s\n",
            "[CV] END max_depth=6, min_samples_leaf=50, min_samples_split=50, n_estimators=80; total time=   1.5s\n",
            "[CV] END max_depth=6, min_samples_leaf=50, min_samples_split=50, n_estimators=80; total time=   1.5s\n",
            "[CV] END max_depth=6, min_samples_leaf=50, min_samples_split=50, n_estimators=80; total time=   1.6s\n",
            "[CV] END max_depth=6, min_samples_leaf=50, min_samples_split=50, n_estimators=80; total time=   1.5s\n",
            "[CV] END max_depth=6, min_samples_leaf=50, min_samples_split=50, n_estimators=80; total time=   1.6s\n",
            "[CV] END max_depth=6, min_samples_leaf=50, min_samples_split=50, n_estimators=100; total time=   1.9s\n",
            "[CV] END max_depth=6, min_samples_leaf=50, min_samples_split=50, n_estimators=100; total time=   1.9s\n",
            "[CV] END max_depth=6, min_samples_leaf=50, min_samples_split=50, n_estimators=100; total time=   1.8s\n",
            "[CV] END max_depth=6, min_samples_leaf=50, min_samples_split=50, n_estimators=100; total time=   1.8s\n",
            "[CV] END max_depth=6, min_samples_leaf=50, min_samples_split=50, n_estimators=100; total time=   1.8s\n",
            "[CV] END max_depth=6, min_samples_leaf=50, min_samples_split=100, n_estimators=50; total time=   1.0s\n",
            "[CV] END max_depth=6, min_samples_leaf=50, min_samples_split=100, n_estimators=50; total time=   1.0s\n",
            "[CV] END max_depth=6, min_samples_leaf=50, min_samples_split=100, n_estimators=50; total time=   1.0s\n",
            "[CV] END max_depth=6, min_samples_leaf=50, min_samples_split=100, n_estimators=50; total time=   1.0s\n",
            "[CV] END max_depth=6, min_samples_leaf=50, min_samples_split=100, n_estimators=50; total time=   1.0s\n",
            "[CV] END max_depth=6, min_samples_leaf=50, min_samples_split=100, n_estimators=80; total time=   1.4s\n",
            "[CV] END max_depth=6, min_samples_leaf=50, min_samples_split=100, n_estimators=80; total time=   1.5s\n",
            "[CV] END max_depth=6, min_samples_leaf=50, min_samples_split=100, n_estimators=80; total time=   1.5s\n",
            "[CV] END max_depth=6, min_samples_leaf=50, min_samples_split=100, n_estimators=80; total time=   2.2s\n",
            "[CV] END max_depth=6, min_samples_leaf=50, min_samples_split=100, n_estimators=80; total time=   2.0s\n",
            "[CV] END max_depth=6, min_samples_leaf=50, min_samples_split=100, n_estimators=100; total time=   1.8s\n",
            "[CV] END max_depth=6, min_samples_leaf=50, min_samples_split=100, n_estimators=100; total time=   1.8s\n",
            "[CV] END max_depth=6, min_samples_leaf=50, min_samples_split=100, n_estimators=100; total time=   1.8s\n",
            "[CV] END max_depth=6, min_samples_leaf=50, min_samples_split=100, n_estimators=100; total time=   1.8s\n",
            "[CV] END max_depth=6, min_samples_leaf=50, min_samples_split=100, n_estimators=100; total time=   1.8s\n",
            "[CV] END max_depth=8, min_samples_leaf=30, min_samples_split=10, n_estimators=50; total time=   1.1s\n",
            "[CV] END max_depth=8, min_samples_leaf=30, min_samples_split=10, n_estimators=50; total time=   1.1s\n",
            "[CV] END max_depth=8, min_samples_leaf=30, min_samples_split=10, n_estimators=50; total time=   1.1s\n",
            "[CV] END max_depth=8, min_samples_leaf=30, min_samples_split=10, n_estimators=50; total time=   1.1s\n",
            "[CV] END max_depth=8, min_samples_leaf=30, min_samples_split=10, n_estimators=50; total time=   1.1s\n",
            "[CV] END max_depth=8, min_samples_leaf=30, min_samples_split=10, n_estimators=80; total time=   1.8s\n",
            "[CV] END max_depth=8, min_samples_leaf=30, min_samples_split=10, n_estimators=80; total time=   1.7s\n",
            "[CV] END max_depth=8, min_samples_leaf=30, min_samples_split=10, n_estimators=80; total time=   1.7s\n",
            "[CV] END max_depth=8, min_samples_leaf=30, min_samples_split=10, n_estimators=80; total time=   1.7s\n",
            "[CV] END max_depth=8, min_samples_leaf=30, min_samples_split=10, n_estimators=80; total time=   1.7s\n",
            "[CV] END max_depth=8, min_samples_leaf=30, min_samples_split=10, n_estimators=100; total time=   2.1s\n",
            "[CV] END max_depth=8, min_samples_leaf=30, min_samples_split=10, n_estimators=100; total time=   2.1s\n",
            "[CV] END max_depth=8, min_samples_leaf=30, min_samples_split=10, n_estimators=100; total time=   2.1s\n",
            "[CV] END max_depth=8, min_samples_leaf=30, min_samples_split=10, n_estimators=100; total time=   2.1s\n",
            "[CV] END max_depth=8, min_samples_leaf=30, min_samples_split=10, n_estimators=100; total time=   2.1s\n",
            "[CV] END max_depth=8, min_samples_leaf=30, min_samples_split=50, n_estimators=50; total time=   1.1s\n",
            "[CV] END max_depth=8, min_samples_leaf=30, min_samples_split=50, n_estimators=50; total time=   1.1s\n",
            "[CV] END max_depth=8, min_samples_leaf=30, min_samples_split=50, n_estimators=50; total time=   1.1s\n",
            "[CV] END max_depth=8, min_samples_leaf=30, min_samples_split=50, n_estimators=50; total time=   1.1s\n",
            "[CV] END max_depth=8, min_samples_leaf=30, min_samples_split=50, n_estimators=50; total time=   1.1s\n",
            "[CV] END max_depth=8, min_samples_leaf=30, min_samples_split=50, n_estimators=80; total time=   1.7s\n",
            "[CV] END max_depth=8, min_samples_leaf=30, min_samples_split=50, n_estimators=80; total time=   1.7s\n",
            "[CV] END max_depth=8, min_samples_leaf=30, min_samples_split=50, n_estimators=80; total time=   1.7s\n",
            "[CV] END max_depth=8, min_samples_leaf=30, min_samples_split=50, n_estimators=80; total time=   1.7s\n",
            "[CV] END max_depth=8, min_samples_leaf=30, min_samples_split=50, n_estimators=80; total time=   1.7s\n",
            "[CV] END max_depth=8, min_samples_leaf=30, min_samples_split=50, n_estimators=100; total time=   2.3s\n",
            "[CV] END max_depth=8, min_samples_leaf=30, min_samples_split=50, n_estimators=100; total time=   3.4s\n",
            "[CV] END max_depth=8, min_samples_leaf=30, min_samples_split=50, n_estimators=100; total time=   2.2s\n",
            "[CV] END max_depth=8, min_samples_leaf=30, min_samples_split=50, n_estimators=100; total time=   2.2s\n",
            "[CV] END max_depth=8, min_samples_leaf=30, min_samples_split=50, n_estimators=100; total time=   2.2s\n",
            "[CV] END max_depth=8, min_samples_leaf=30, min_samples_split=100, n_estimators=50; total time=   1.1s\n",
            "[CV] END max_depth=8, min_samples_leaf=30, min_samples_split=100, n_estimators=50; total time=   1.1s\n",
            "[CV] END max_depth=8, min_samples_leaf=30, min_samples_split=100, n_estimators=50; total time=   1.1s\n",
            "[CV] END max_depth=8, min_samples_leaf=30, min_samples_split=100, n_estimators=50; total time=   1.7s\n",
            "[CV] END max_depth=8, min_samples_leaf=30, min_samples_split=100, n_estimators=50; total time=   1.7s\n",
            "[CV] END max_depth=8, min_samples_leaf=30, min_samples_split=100, n_estimators=80; total time=   1.9s\n",
            "[CV] END max_depth=8, min_samples_leaf=30, min_samples_split=100, n_estimators=80; total time=   1.8s\n",
            "[CV] END max_depth=8, min_samples_leaf=30, min_samples_split=100, n_estimators=80; total time=   2.0s\n",
            "[CV] END max_depth=8, min_samples_leaf=30, min_samples_split=100, n_estimators=80; total time=   2.5s\n",
            "[CV] END max_depth=8, min_samples_leaf=30, min_samples_split=100, n_estimators=80; total time=   1.9s\n",
            "[CV] END max_depth=8, min_samples_leaf=30, min_samples_split=100, n_estimators=100; total time=   2.1s\n",
            "[CV] END max_depth=8, min_samples_leaf=30, min_samples_split=100, n_estimators=100; total time=   2.1s\n",
            "[CV] END max_depth=8, min_samples_leaf=30, min_samples_split=100, n_estimators=100; total time=   2.2s\n",
            "[CV] END max_depth=8, min_samples_leaf=30, min_samples_split=100, n_estimators=100; total time=   2.1s\n",
            "[CV] END max_depth=8, min_samples_leaf=30, min_samples_split=100, n_estimators=100; total time=   2.1s\n",
            "[CV] END max_depth=8, min_samples_leaf=40, min_samples_split=10, n_estimators=50; total time=   1.1s\n",
            "[CV] END max_depth=8, min_samples_leaf=40, min_samples_split=10, n_estimators=50; total time=   1.1s\n",
            "[CV] END max_depth=8, min_samples_leaf=40, min_samples_split=10, n_estimators=50; total time=   1.1s\n",
            "[CV] END max_depth=8, min_samples_leaf=40, min_samples_split=10, n_estimators=50; total time=   1.1s\n",
            "[CV] END max_depth=8, min_samples_leaf=40, min_samples_split=10, n_estimators=50; total time=   1.1s\n",
            "[CV] END max_depth=8, min_samples_leaf=40, min_samples_split=10, n_estimators=80; total time=   1.7s\n",
            "[CV] END max_depth=8, min_samples_leaf=40, min_samples_split=10, n_estimators=80; total time=   1.7s\n",
            "[CV] END max_depth=8, min_samples_leaf=40, min_samples_split=10, n_estimators=80; total time=   1.7s\n",
            "[CV] END max_depth=8, min_samples_leaf=40, min_samples_split=10, n_estimators=80; total time=   1.7s\n",
            "[CV] END max_depth=8, min_samples_leaf=40, min_samples_split=10, n_estimators=80; total time=   1.7s\n",
            "[CV] END max_depth=8, min_samples_leaf=40, min_samples_split=10, n_estimators=100; total time=   2.2s\n",
            "[CV] END max_depth=8, min_samples_leaf=40, min_samples_split=10, n_estimators=100; total time=   2.8s\n",
            "[CV] END max_depth=8, min_samples_leaf=40, min_samples_split=10, n_estimators=100; total time=   2.7s\n",
            "[CV] END max_depth=8, min_samples_leaf=40, min_samples_split=10, n_estimators=100; total time=   2.1s\n",
            "[CV] END max_depth=8, min_samples_leaf=40, min_samples_split=10, n_estimators=100; total time=   2.1s\n",
            "[CV] END max_depth=8, min_samples_leaf=40, min_samples_split=50, n_estimators=50; total time=   1.1s\n",
            "[CV] END max_depth=8, min_samples_leaf=40, min_samples_split=50, n_estimators=50; total time=   1.1s\n",
            "[CV] END max_depth=8, min_samples_leaf=40, min_samples_split=50, n_estimators=50; total time=   1.1s\n",
            "[CV] END max_depth=8, min_samples_leaf=40, min_samples_split=50, n_estimators=50; total time=   1.1s\n",
            "[CV] END max_depth=8, min_samples_leaf=40, min_samples_split=50, n_estimators=50; total time=   1.1s\n",
            "[CV] END max_depth=8, min_samples_leaf=40, min_samples_split=50, n_estimators=80; total time=   1.7s\n",
            "[CV] END max_depth=8, min_samples_leaf=40, min_samples_split=50, n_estimators=80; total time=   1.8s\n",
            "[CV] END max_depth=8, min_samples_leaf=40, min_samples_split=50, n_estimators=80; total time=   1.8s\n",
            "[CV] END max_depth=8, min_samples_leaf=40, min_samples_split=50, n_estimators=80; total time=   1.7s\n",
            "[CV] END max_depth=8, min_samples_leaf=40, min_samples_split=50, n_estimators=80; total time=   1.7s\n",
            "[CV] END max_depth=8, min_samples_leaf=40, min_samples_split=50, n_estimators=100; total time=   2.1s\n",
            "[CV] END max_depth=8, min_samples_leaf=40, min_samples_split=50, n_estimators=100; total time=   2.1s\n",
            "[CV] END max_depth=8, min_samples_leaf=40, min_samples_split=50, n_estimators=100; total time=   2.2s\n",
            "[CV] END max_depth=8, min_samples_leaf=40, min_samples_split=50, n_estimators=100; total time=   2.1s\n",
            "[CV] END max_depth=8, min_samples_leaf=40, min_samples_split=50, n_estimators=100; total time=   2.1s\n",
            "[CV] END max_depth=8, min_samples_leaf=40, min_samples_split=100, n_estimators=50; total time=   1.1s\n",
            "[CV] END max_depth=8, min_samples_leaf=40, min_samples_split=100, n_estimators=50; total time=   1.1s\n",
            "[CV] END max_depth=8, min_samples_leaf=40, min_samples_split=100, n_estimators=50; total time=   1.1s\n",
            "[CV] END max_depth=8, min_samples_leaf=40, min_samples_split=100, n_estimators=50; total time=   1.1s\n",
            "[CV] END max_depth=8, min_samples_leaf=40, min_samples_split=100, n_estimators=50; total time=   1.1s\n",
            "[CV] END max_depth=8, min_samples_leaf=40, min_samples_split=100, n_estimators=80; total time=   1.7s\n",
            "[CV] END max_depth=8, min_samples_leaf=40, min_samples_split=100, n_estimators=80; total time=   1.7s\n",
            "[CV] END max_depth=8, min_samples_leaf=40, min_samples_split=100, n_estimators=80; total time=   1.8s\n",
            "[CV] END max_depth=8, min_samples_leaf=40, min_samples_split=100, n_estimators=80; total time=   1.7s\n",
            "[CV] END max_depth=8, min_samples_leaf=40, min_samples_split=100, n_estimators=80; total time=   1.7s\n",
            "[CV] END max_depth=8, min_samples_leaf=40, min_samples_split=100, n_estimators=100; total time=   2.1s\n",
            "[CV] END max_depth=8, min_samples_leaf=40, min_samples_split=100, n_estimators=100; total time=   2.1s\n",
            "[CV] END max_depth=8, min_samples_leaf=40, min_samples_split=100, n_estimators=100; total time=   2.1s\n",
            "[CV] END max_depth=8, min_samples_leaf=40, min_samples_split=100, n_estimators=100; total time=   2.5s\n",
            "[CV] END max_depth=8, min_samples_leaf=40, min_samples_split=100, n_estimators=100; total time=   2.8s\n",
            "[CV] END max_depth=8, min_samples_leaf=50, min_samples_split=10, n_estimators=50; total time=   1.1s\n",
            "[CV] END max_depth=8, min_samples_leaf=50, min_samples_split=10, n_estimators=50; total time=   1.1s\n",
            "[CV] END max_depth=8, min_samples_leaf=50, min_samples_split=10, n_estimators=50; total time=   1.1s\n",
            "[CV] END max_depth=8, min_samples_leaf=50, min_samples_split=10, n_estimators=50; total time=   1.1s\n",
            "[CV] END max_depth=8, min_samples_leaf=50, min_samples_split=10, n_estimators=50; total time=   1.1s\n",
            "[CV] END max_depth=8, min_samples_leaf=50, min_samples_split=10, n_estimators=80; total time=   1.7s\n",
            "[CV] END max_depth=8, min_samples_leaf=50, min_samples_split=10, n_estimators=80; total time=   1.7s\n",
            "[CV] END max_depth=8, min_samples_leaf=50, min_samples_split=10, n_estimators=80; total time=   1.7s\n",
            "[CV] END max_depth=8, min_samples_leaf=50, min_samples_split=10, n_estimators=80; total time=   1.7s\n",
            "[CV] END max_depth=8, min_samples_leaf=50, min_samples_split=10, n_estimators=80; total time=   1.8s\n",
            "[CV] END max_depth=8, min_samples_leaf=50, min_samples_split=10, n_estimators=100; total time=   2.2s\n",
            "[CV] END max_depth=8, min_samples_leaf=50, min_samples_split=10, n_estimators=100; total time=   2.2s\n",
            "[CV] END max_depth=8, min_samples_leaf=50, min_samples_split=10, n_estimators=100; total time=   2.1s\n",
            "[CV] END max_depth=8, min_samples_leaf=50, min_samples_split=10, n_estimators=100; total time=   2.1s\n",
            "[CV] END max_depth=8, min_samples_leaf=50, min_samples_split=10, n_estimators=100; total time=   2.0s\n",
            "[CV] END max_depth=8, min_samples_leaf=50, min_samples_split=50, n_estimators=50; total time=   1.0s\n",
            "[CV] END max_depth=8, min_samples_leaf=50, min_samples_split=50, n_estimators=50; total time=   1.1s\n",
            "[CV] END max_depth=8, min_samples_leaf=50, min_samples_split=50, n_estimators=50; total time=   1.1s\n",
            "[CV] END max_depth=8, min_samples_leaf=50, min_samples_split=50, n_estimators=50; total time=   1.1s\n",
            "[CV] END max_depth=8, min_samples_leaf=50, min_samples_split=50, n_estimators=50; total time=   1.1s\n",
            "[CV] END max_depth=8, min_samples_leaf=50, min_samples_split=50, n_estimators=80; total time=   1.7s\n",
            "[CV] END max_depth=8, min_samples_leaf=50, min_samples_split=50, n_estimators=80; total time=   1.7s\n",
            "[CV] END max_depth=8, min_samples_leaf=50, min_samples_split=50, n_estimators=80; total time=   1.8s\n",
            "[CV] END max_depth=8, min_samples_leaf=50, min_samples_split=50, n_estimators=80; total time=   1.7s\n",
            "[CV] END max_depth=8, min_samples_leaf=50, min_samples_split=50, n_estimators=80; total time=   1.7s\n",
            "[CV] END max_depth=8, min_samples_leaf=50, min_samples_split=50, n_estimators=100; total time=   2.1s\n",
            "[CV] END max_depth=8, min_samples_leaf=50, min_samples_split=50, n_estimators=100; total time=   2.1s\n",
            "[CV] END max_depth=8, min_samples_leaf=50, min_samples_split=50, n_estimators=100; total time=   2.1s\n",
            "[CV] END max_depth=8, min_samples_leaf=50, min_samples_split=50, n_estimators=100; total time=   2.1s\n",
            "[CV] END max_depth=8, min_samples_leaf=50, min_samples_split=50, n_estimators=100; total time=   2.1s\n",
            "[CV] END max_depth=8, min_samples_leaf=50, min_samples_split=100, n_estimators=50; total time=   1.1s\n",
            "[CV] END max_depth=8, min_samples_leaf=50, min_samples_split=100, n_estimators=50; total time=   1.3s\n",
            "[CV] END max_depth=8, min_samples_leaf=50, min_samples_split=100, n_estimators=50; total time=   1.7s\n",
            "[CV] END max_depth=8, min_samples_leaf=50, min_samples_split=100, n_estimators=50; total time=   1.4s\n",
            "[CV] END max_depth=8, min_samples_leaf=50, min_samples_split=100, n_estimators=50; total time=   1.1s\n",
            "[CV] END max_depth=8, min_samples_leaf=50, min_samples_split=100, n_estimators=80; total time=   1.7s\n",
            "[CV] END max_depth=8, min_samples_leaf=50, min_samples_split=100, n_estimators=80; total time=   1.7s\n",
            "[CV] END max_depth=8, min_samples_leaf=50, min_samples_split=100, n_estimators=80; total time=   1.7s\n",
            "[CV] END max_depth=8, min_samples_leaf=50, min_samples_split=100, n_estimators=80; total time=   1.7s\n",
            "[CV] END max_depth=8, min_samples_leaf=50, min_samples_split=100, n_estimators=80; total time=   1.6s\n",
            "[CV] END max_depth=8, min_samples_leaf=50, min_samples_split=100, n_estimators=100; total time=   2.1s\n",
            "[CV] END max_depth=8, min_samples_leaf=50, min_samples_split=100, n_estimators=100; total time=   2.1s\n",
            "[CV] END max_depth=8, min_samples_leaf=50, min_samples_split=100, n_estimators=100; total time=   2.1s\n",
            "[CV] END max_depth=8, min_samples_leaf=50, min_samples_split=100, n_estimators=100; total time=   2.2s\n",
            "[CV] END max_depth=8, min_samples_leaf=50, min_samples_split=100, n_estimators=100; total time=   2.2s\n",
            "[CV] END max_depth=10, min_samples_leaf=30, min_samples_split=10, n_estimators=50; total time=   1.3s\n",
            "[CV] END max_depth=10, min_samples_leaf=30, min_samples_split=10, n_estimators=50; total time=   1.3s\n",
            "[CV] END max_depth=10, min_samples_leaf=30, min_samples_split=10, n_estimators=50; total time=   1.3s\n",
            "[CV] END max_depth=10, min_samples_leaf=30, min_samples_split=10, n_estimators=50; total time=   1.3s\n",
            "[CV] END max_depth=10, min_samples_leaf=30, min_samples_split=10, n_estimators=50; total time=   1.3s\n",
            "[CV] END max_depth=10, min_samples_leaf=30, min_samples_split=10, n_estimators=80; total time=   2.0s\n",
            "[CV] END max_depth=10, min_samples_leaf=30, min_samples_split=10, n_estimators=80; total time=   2.0s\n",
            "[CV] END max_depth=10, min_samples_leaf=30, min_samples_split=10, n_estimators=80; total time=   2.0s\n",
            "[CV] END max_depth=10, min_samples_leaf=30, min_samples_split=10, n_estimators=80; total time=   2.0s\n",
            "[CV] END max_depth=10, min_samples_leaf=30, min_samples_split=10, n_estimators=80; total time=   2.0s\n",
            "[CV] END max_depth=10, min_samples_leaf=30, min_samples_split=10, n_estimators=100; total time=   2.4s\n",
            "[CV] END max_depth=10, min_samples_leaf=30, min_samples_split=10, n_estimators=100; total time=   2.4s\n",
            "[CV] END max_depth=10, min_samples_leaf=30, min_samples_split=10, n_estimators=100; total time=   2.4s\n",
            "[CV] END max_depth=10, min_samples_leaf=30, min_samples_split=10, n_estimators=100; total time=   2.4s\n",
            "[CV] END max_depth=10, min_samples_leaf=30, min_samples_split=10, n_estimators=100; total time=   2.4s\n",
            "[CV] END max_depth=10, min_samples_leaf=30, min_samples_split=50, n_estimators=50; total time=   1.3s\n",
            "[CV] END max_depth=10, min_samples_leaf=30, min_samples_split=50, n_estimators=50; total time=   1.5s\n",
            "[CV] END max_depth=10, min_samples_leaf=30, min_samples_split=50, n_estimators=50; total time=   2.0s\n",
            "[CV] END max_depth=10, min_samples_leaf=30, min_samples_split=50, n_estimators=50; total time=   1.4s\n",
            "[CV] END max_depth=10, min_samples_leaf=30, min_samples_split=50, n_estimators=50; total time=   1.3s\n",
            "[CV] END max_depth=10, min_samples_leaf=30, min_samples_split=50, n_estimators=80; total time=   3.0s\n",
            "[CV] END max_depth=10, min_samples_leaf=30, min_samples_split=50, n_estimators=80; total time=   2.0s\n",
            "[CV] END max_depth=10, min_samples_leaf=30, min_samples_split=50, n_estimators=80; total time=   1.9s\n",
            "[CV] END max_depth=10, min_samples_leaf=30, min_samples_split=50, n_estimators=80; total time=   1.9s\n",
            "[CV] END max_depth=10, min_samples_leaf=30, min_samples_split=50, n_estimators=80; total time=   1.9s\n",
            "[CV] END max_depth=10, min_samples_leaf=30, min_samples_split=50, n_estimators=100; total time=   2.4s\n",
            "[CV] END max_depth=10, min_samples_leaf=30, min_samples_split=50, n_estimators=100; total time=   2.3s\n",
            "[CV] END max_depth=10, min_samples_leaf=30, min_samples_split=50, n_estimators=100; total time=   2.4s\n",
            "[CV] END max_depth=10, min_samples_leaf=30, min_samples_split=50, n_estimators=100; total time=   2.4s\n",
            "[CV] END max_depth=10, min_samples_leaf=30, min_samples_split=50, n_estimators=100; total time=   2.3s\n",
            "[CV] END max_depth=10, min_samples_leaf=30, min_samples_split=100, n_estimators=50; total time=   1.4s\n",
            "[CV] END max_depth=10, min_samples_leaf=30, min_samples_split=100, n_estimators=50; total time=   1.2s\n",
            "[CV] END max_depth=10, min_samples_leaf=30, min_samples_split=100, n_estimators=50; total time=   1.2s\n",
            "[CV] END max_depth=10, min_samples_leaf=30, min_samples_split=100, n_estimators=50; total time=   1.1s\n",
            "[CV] END max_depth=10, min_samples_leaf=30, min_samples_split=100, n_estimators=50; total time=   1.2s\n",
            "[CV] END max_depth=10, min_samples_leaf=30, min_samples_split=100, n_estimators=80; total time=   1.8s\n",
            "[CV] END max_depth=10, min_samples_leaf=30, min_samples_split=100, n_estimators=80; total time=   1.8s\n",
            "[CV] END max_depth=10, min_samples_leaf=30, min_samples_split=100, n_estimators=80; total time=   1.8s\n",
            "[CV] END max_depth=10, min_samples_leaf=30, min_samples_split=100, n_estimators=80; total time=   1.8s\n",
            "[CV] END max_depth=10, min_samples_leaf=30, min_samples_split=100, n_estimators=80; total time=   1.8s\n",
            "[CV] END max_depth=10, min_samples_leaf=30, min_samples_split=100, n_estimators=100; total time=   2.3s\n",
            "[CV] END max_depth=10, min_samples_leaf=30, min_samples_split=100, n_estimators=100; total time=   2.4s\n",
            "[CV] END max_depth=10, min_samples_leaf=30, min_samples_split=100, n_estimators=100; total time=   2.4s\n",
            "[CV] END max_depth=10, min_samples_leaf=30, min_samples_split=100, n_estimators=100; total time=   2.4s\n",
            "[CV] END max_depth=10, min_samples_leaf=30, min_samples_split=100, n_estimators=100; total time=   3.4s\n",
            "[CV] END max_depth=10, min_samples_leaf=40, min_samples_split=10, n_estimators=50; total time=   1.4s\n",
            "[CV] END max_depth=10, min_samples_leaf=40, min_samples_split=10, n_estimators=50; total time=   1.1s\n",
            "[CV] END max_depth=10, min_samples_leaf=40, min_samples_split=10, n_estimators=50; total time=   1.2s\n",
            "[CV] END max_depth=10, min_samples_leaf=40, min_samples_split=10, n_estimators=50; total time=   1.2s\n",
            "[CV] END max_depth=10, min_samples_leaf=40, min_samples_split=10, n_estimators=50; total time=   1.1s\n",
            "[CV] END max_depth=10, min_samples_leaf=40, min_samples_split=10, n_estimators=80; total time=   1.8s\n",
            "[CV] END max_depth=10, min_samples_leaf=40, min_samples_split=10, n_estimators=80; total time=   1.8s\n",
            "[CV] END max_depth=10, min_samples_leaf=40, min_samples_split=10, n_estimators=80; total time=   1.8s\n",
            "[CV] END max_depth=10, min_samples_leaf=40, min_samples_split=10, n_estimators=80; total time=   1.8s\n",
            "[CV] END max_depth=10, min_samples_leaf=40, min_samples_split=10, n_estimators=80; total time=   1.8s\n",
            "[CV] END max_depth=10, min_samples_leaf=40, min_samples_split=10, n_estimators=100; total time=   2.2s\n",
            "[CV] END max_depth=10, min_samples_leaf=40, min_samples_split=10, n_estimators=100; total time=   2.2s\n",
            "[CV] END max_depth=10, min_samples_leaf=40, min_samples_split=10, n_estimators=100; total time=   2.3s\n",
            "[CV] END max_depth=10, min_samples_leaf=40, min_samples_split=10, n_estimators=100; total time=   2.2s\n",
            "[CV] END max_depth=10, min_samples_leaf=40, min_samples_split=10, n_estimators=100; total time=   2.2s\n",
            "[CV] END max_depth=10, min_samples_leaf=40, min_samples_split=50, n_estimators=50; total time=   1.1s\n",
            "[CV] END max_depth=10, min_samples_leaf=40, min_samples_split=50, n_estimators=50; total time=   1.2s\n",
            "[CV] END max_depth=10, min_samples_leaf=40, min_samples_split=50, n_estimators=50; total time=   1.1s\n",
            "[CV] END max_depth=10, min_samples_leaf=40, min_samples_split=50, n_estimators=50; total time=   1.1s\n",
            "[CV] END max_depth=10, min_samples_leaf=40, min_samples_split=50, n_estimators=50; total time=   1.2s\n",
            "[CV] END max_depth=10, min_samples_leaf=40, min_samples_split=50, n_estimators=80; total time=   1.8s\n",
            "[CV] END max_depth=10, min_samples_leaf=40, min_samples_split=50, n_estimators=80; total time=   1.8s\n",
            "[CV] END max_depth=10, min_samples_leaf=40, min_samples_split=50, n_estimators=80; total time=   1.8s\n",
            "[CV] END max_depth=10, min_samples_leaf=40, min_samples_split=50, n_estimators=80; total time=   1.8s\n",
            "[CV] END max_depth=10, min_samples_leaf=40, min_samples_split=50, n_estimators=80; total time=   1.8s\n",
            "[CV] END max_depth=10, min_samples_leaf=40, min_samples_split=50, n_estimators=100; total time=   2.3s\n",
            "[CV] END max_depth=10, min_samples_leaf=40, min_samples_split=50, n_estimators=100; total time=   2.2s\n",
            "[CV] END max_depth=10, min_samples_leaf=40, min_samples_split=50, n_estimators=100; total time=   2.2s\n",
            "[CV] END max_depth=10, min_samples_leaf=40, min_samples_split=50, n_estimators=100; total time=   2.2s\n",
            "[CV] END max_depth=10, min_samples_leaf=40, min_samples_split=50, n_estimators=100; total time=   2.2s\n",
            "[CV] END max_depth=10, min_samples_leaf=40, min_samples_split=100, n_estimators=50; total time=   1.8s\n",
            "[CV] END max_depth=10, min_samples_leaf=40, min_samples_split=100, n_estimators=50; total time=   1.6s\n",
            "[CV] END max_depth=10, min_samples_leaf=40, min_samples_split=100, n_estimators=50; total time=   1.1s\n",
            "[CV] END max_depth=10, min_samples_leaf=40, min_samples_split=100, n_estimators=50; total time=   1.1s\n",
            "[CV] END max_depth=10, min_samples_leaf=40, min_samples_split=100, n_estimators=50; total time=   1.2s\n",
            "[CV] END max_depth=10, min_samples_leaf=40, min_samples_split=100, n_estimators=80; total time=   1.7s\n",
            "[CV] END max_depth=10, min_samples_leaf=40, min_samples_split=100, n_estimators=80; total time=   1.7s\n",
            "[CV] END max_depth=10, min_samples_leaf=40, min_samples_split=100, n_estimators=80; total time=   1.8s\n",
            "[CV] END max_depth=10, min_samples_leaf=40, min_samples_split=100, n_estimators=80; total time=   1.8s\n",
            "[CV] END max_depth=10, min_samples_leaf=40, min_samples_split=100, n_estimators=80; total time=   1.8s\n",
            "[CV] END max_depth=10, min_samples_leaf=40, min_samples_split=100, n_estimators=100; total time=   2.4s\n",
            "[CV] END max_depth=10, min_samples_leaf=40, min_samples_split=100, n_estimators=100; total time=   2.4s\n",
            "[CV] END max_depth=10, min_samples_leaf=40, min_samples_split=100, n_estimators=100; total time=   2.5s\n",
            "[CV] END max_depth=10, min_samples_leaf=40, min_samples_split=100, n_estimators=100; total time=   2.5s\n",
            "[CV] END max_depth=10, min_samples_leaf=40, min_samples_split=100, n_estimators=100; total time=   2.5s\n",
            "[CV] END max_depth=10, min_samples_leaf=50, min_samples_split=10, n_estimators=50; total time=   1.2s\n",
            "[CV] END max_depth=10, min_samples_leaf=50, min_samples_split=10, n_estimators=50; total time=   1.2s\n",
            "[CV] END max_depth=10, min_samples_leaf=50, min_samples_split=10, n_estimators=50; total time=   1.2s\n",
            "[CV] END max_depth=10, min_samples_leaf=50, min_samples_split=10, n_estimators=50; total time=   1.2s\n",
            "[CV] END max_depth=10, min_samples_leaf=50, min_samples_split=10, n_estimators=50; total time=   1.2s\n",
            "[CV] END max_depth=10, min_samples_leaf=50, min_samples_split=10, n_estimators=80; total time=   1.8s\n",
            "[CV] END max_depth=10, min_samples_leaf=50, min_samples_split=10, n_estimators=80; total time=   1.8s\n",
            "[CV] END max_depth=10, min_samples_leaf=50, min_samples_split=10, n_estimators=80; total time=   1.9s\n",
            "[CV] END max_depth=10, min_samples_leaf=50, min_samples_split=10, n_estimators=80; total time=   1.9s\n",
            "[CV] END max_depth=10, min_samples_leaf=50, min_samples_split=10, n_estimators=80; total time=   1.9s\n",
            "[CV] END max_depth=10, min_samples_leaf=50, min_samples_split=10, n_estimators=100; total time=   2.4s\n",
            "[CV] END max_depth=10, min_samples_leaf=50, min_samples_split=10, n_estimators=100; total time=   2.4s\n",
            "[CV] END max_depth=10, min_samples_leaf=50, min_samples_split=10, n_estimators=100; total time=   2.4s\n",
            "[CV] END max_depth=10, min_samples_leaf=50, min_samples_split=10, n_estimators=100; total time=   2.4s\n",
            "[CV] END max_depth=10, min_samples_leaf=50, min_samples_split=10, n_estimators=100; total time=   2.6s\n",
            "[CV] END max_depth=10, min_samples_leaf=50, min_samples_split=50, n_estimators=50; total time=   1.9s\n",
            "[CV] END max_depth=10, min_samples_leaf=50, min_samples_split=50, n_estimators=50; total time=   1.5s\n",
            "[CV] END max_depth=10, min_samples_leaf=50, min_samples_split=50, n_estimators=50; total time=   1.2s\n",
            "[CV] END max_depth=10, min_samples_leaf=50, min_samples_split=50, n_estimators=50; total time=   1.2s\n",
            "[CV] END max_depth=10, min_samples_leaf=50, min_samples_split=50, n_estimators=50; total time=   1.2s\n",
            "[CV] END max_depth=10, min_samples_leaf=50, min_samples_split=50, n_estimators=80; total time=   1.9s\n",
            "[CV] END max_depth=10, min_samples_leaf=50, min_samples_split=50, n_estimators=80; total time=   2.0s\n",
            "[CV] END max_depth=10, min_samples_leaf=50, min_samples_split=50, n_estimators=80; total time=   1.9s\n",
            "[CV] END max_depth=10, min_samples_leaf=50, min_samples_split=50, n_estimators=80; total time=   1.9s\n",
            "[CV] END max_depth=10, min_samples_leaf=50, min_samples_split=50, n_estimators=80; total time=   1.9s\n",
            "[CV] END max_depth=10, min_samples_leaf=50, min_samples_split=50, n_estimators=100; total time=   2.4s\n",
            "[CV] END max_depth=10, min_samples_leaf=50, min_samples_split=50, n_estimators=100; total time=   2.3s\n",
            "[CV] END max_depth=10, min_samples_leaf=50, min_samples_split=50, n_estimators=100; total time=   2.3s\n",
            "[CV] END max_depth=10, min_samples_leaf=50, min_samples_split=50, n_estimators=100; total time=   2.3s\n",
            "[CV] END max_depth=10, min_samples_leaf=50, min_samples_split=50, n_estimators=100; total time=   2.3s\n",
            "[CV] END max_depth=10, min_samples_leaf=50, min_samples_split=100, n_estimators=50; total time=   1.2s\n",
            "[CV] END max_depth=10, min_samples_leaf=50, min_samples_split=100, n_estimators=50; total time=   1.2s\n",
            "[CV] END max_depth=10, min_samples_leaf=50, min_samples_split=100, n_estimators=50; total time=   1.1s\n",
            "[CV] END max_depth=10, min_samples_leaf=50, min_samples_split=100, n_estimators=50; total time=   1.1s\n",
            "[CV] END max_depth=10, min_samples_leaf=50, min_samples_split=100, n_estimators=50; total time=   1.1s\n",
            "[CV] END max_depth=10, min_samples_leaf=50, min_samples_split=100, n_estimators=80; total time=   1.7s\n",
            "[CV] END max_depth=10, min_samples_leaf=50, min_samples_split=100, n_estimators=80; total time=   1.7s\n",
            "[CV] END max_depth=10, min_samples_leaf=50, min_samples_split=100, n_estimators=80; total time=   1.8s\n",
            "[CV] END max_depth=10, min_samples_leaf=50, min_samples_split=100, n_estimators=80; total time=   1.8s\n",
            "[CV] END max_depth=10, min_samples_leaf=50, min_samples_split=100, n_estimators=80; total time=   1.8s\n",
            "[CV] END max_depth=10, min_samples_leaf=50, min_samples_split=100, n_estimators=100; total time=   2.2s\n",
            "[CV] END max_depth=10, min_samples_leaf=50, min_samples_split=100, n_estimators=100; total time=   2.3s\n",
            "[CV] END max_depth=10, min_samples_leaf=50, min_samples_split=100, n_estimators=100; total time=   2.4s\n",
            "[CV] END max_depth=10, min_samples_leaf=50, min_samples_split=100, n_estimators=100; total time=   2.4s\n",
            "[CV] END max_depth=10, min_samples_leaf=50, min_samples_split=100, n_estimators=100; total time=   2.4s\n",
            "[CV] END max_depth=12, min_samples_leaf=30, min_samples_split=10, n_estimators=50; total time=   2.2s\n",
            "[CV] END max_depth=12, min_samples_leaf=30, min_samples_split=10, n_estimators=50; total time=   2.4s\n",
            "[CV] END max_depth=12, min_samples_leaf=30, min_samples_split=10, n_estimators=50; total time=   1.9s\n",
            "[CV] END max_depth=12, min_samples_leaf=30, min_samples_split=10, n_estimators=50; total time=   1.3s\n",
            "[CV] END max_depth=12, min_samples_leaf=30, min_samples_split=10, n_estimators=50; total time=   1.3s\n",
            "[CV] END max_depth=12, min_samples_leaf=30, min_samples_split=10, n_estimators=80; total time=   2.0s\n",
            "[CV] END max_depth=12, min_samples_leaf=30, min_samples_split=10, n_estimators=80; total time=   1.9s\n",
            "[CV] END max_depth=12, min_samples_leaf=30, min_samples_split=10, n_estimators=80; total time=   1.9s\n",
            "[CV] END max_depth=12, min_samples_leaf=30, min_samples_split=10, n_estimators=80; total time=   1.9s\n",
            "[CV] END max_depth=12, min_samples_leaf=30, min_samples_split=10, n_estimators=80; total time=   2.0s\n",
            "[CV] END max_depth=12, min_samples_leaf=30, min_samples_split=10, n_estimators=100; total time=   2.6s\n",
            "[CV] END max_depth=12, min_samples_leaf=30, min_samples_split=10, n_estimators=100; total time=   2.6s\n",
            "[CV] END max_depth=12, min_samples_leaf=30, min_samples_split=10, n_estimators=100; total time=   2.6s\n",
            "[CV] END max_depth=12, min_samples_leaf=30, min_samples_split=10, n_estimators=100; total time=   2.5s\n",
            "[CV] END max_depth=12, min_samples_leaf=30, min_samples_split=10, n_estimators=100; total time=   2.5s\n",
            "[CV] END max_depth=12, min_samples_leaf=30, min_samples_split=50, n_estimators=50; total time=   1.3s\n",
            "[CV] END max_depth=12, min_samples_leaf=30, min_samples_split=50, n_estimators=50; total time=   1.2s\n",
            "[CV] END max_depth=12, min_samples_leaf=30, min_samples_split=50, n_estimators=50; total time=   1.2s\n",
            "[CV] END max_depth=12, min_samples_leaf=30, min_samples_split=50, n_estimators=50; total time=   1.2s\n",
            "[CV] END max_depth=12, min_samples_leaf=30, min_samples_split=50, n_estimators=50; total time=   1.3s\n",
            "[CV] END max_depth=12, min_samples_leaf=30, min_samples_split=50, n_estimators=80; total time=   2.1s\n",
            "[CV] END max_depth=12, min_samples_leaf=30, min_samples_split=50, n_estimators=80; total time=   2.1s\n",
            "[CV] END max_depth=12, min_samples_leaf=30, min_samples_split=50, n_estimators=80; total time=   2.1s\n",
            "[CV] END max_depth=12, min_samples_leaf=30, min_samples_split=50, n_estimators=80; total time=   2.2s\n",
            "[CV] END max_depth=12, min_samples_leaf=30, min_samples_split=50, n_estimators=80; total time=   2.1s\n",
            "[CV] END max_depth=12, min_samples_leaf=30, min_samples_split=50, n_estimators=100; total time=   2.7s\n",
            "[CV] END max_depth=12, min_samples_leaf=30, min_samples_split=50, n_estimators=100; total time=   2.7s\n",
            "[CV] END max_depth=12, min_samples_leaf=30, min_samples_split=50, n_estimators=100; total time=   3.5s\n",
            "[CV] END max_depth=12, min_samples_leaf=30, min_samples_split=50, n_estimators=100; total time=   2.8s\n",
            "[CV] END max_depth=12, min_samples_leaf=30, min_samples_split=50, n_estimators=100; total time=   2.6s\n",
            "[CV] END max_depth=12, min_samples_leaf=30, min_samples_split=100, n_estimators=50; total time=   1.3s\n",
            "[CV] END max_depth=12, min_samples_leaf=30, min_samples_split=100, n_estimators=50; total time=   1.3s\n",
            "[CV] END max_depth=12, min_samples_leaf=30, min_samples_split=100, n_estimators=50; total time=   1.3s\n",
            "[CV] END max_depth=12, min_samples_leaf=30, min_samples_split=100, n_estimators=50; total time=   1.3s\n",
            "[CV] END max_depth=12, min_samples_leaf=30, min_samples_split=100, n_estimators=50; total time=   1.3s\n",
            "[CV] END max_depth=12, min_samples_leaf=30, min_samples_split=100, n_estimators=80; total time=   2.1s\n",
            "[CV] END max_depth=12, min_samples_leaf=30, min_samples_split=100, n_estimators=80; total time=   2.0s\n",
            "[CV] END max_depth=12, min_samples_leaf=30, min_samples_split=100, n_estimators=80; total time=   2.0s\n",
            "[CV] END max_depth=12, min_samples_leaf=30, min_samples_split=100, n_estimators=80; total time=   2.0s\n",
            "[CV] END max_depth=12, min_samples_leaf=30, min_samples_split=100, n_estimators=80; total time=   1.8s\n",
            "[CV] END max_depth=12, min_samples_leaf=30, min_samples_split=100, n_estimators=100; total time=   2.3s\n",
            "[CV] END max_depth=12, min_samples_leaf=30, min_samples_split=100, n_estimators=100; total time=   2.4s\n",
            "[CV] END max_depth=12, min_samples_leaf=30, min_samples_split=100, n_estimators=100; total time=   2.4s\n",
            "[CV] END max_depth=12, min_samples_leaf=30, min_samples_split=100, n_estimators=100; total time=   2.3s\n",
            "[CV] END max_depth=12, min_samples_leaf=30, min_samples_split=100, n_estimators=100; total time=   2.3s\n",
            "[CV] END max_depth=12, min_samples_leaf=40, min_samples_split=10, n_estimators=50; total time=   1.2s\n",
            "[CV] END max_depth=12, min_samples_leaf=40, min_samples_split=10, n_estimators=50; total time=   1.2s\n",
            "[CV] END max_depth=12, min_samples_leaf=40, min_samples_split=10, n_estimators=50; total time=   1.1s\n",
            "[CV] END max_depth=12, min_samples_leaf=40, min_samples_split=10, n_estimators=50; total time=   1.2s\n",
            "[CV] END max_depth=12, min_samples_leaf=40, min_samples_split=10, n_estimators=50; total time=   1.2s\n",
            "[CV] END max_depth=12, min_samples_leaf=40, min_samples_split=10, n_estimators=80; total time=   1.9s\n",
            "[CV] END max_depth=12, min_samples_leaf=40, min_samples_split=10, n_estimators=80; total time=   1.8s\n",
            "[CV] END max_depth=12, min_samples_leaf=40, min_samples_split=10, n_estimators=80; total time=   1.9s\n",
            "[CV] END max_depth=12, min_samples_leaf=40, min_samples_split=10, n_estimators=80; total time=   1.9s\n",
            "[CV] END max_depth=12, min_samples_leaf=40, min_samples_split=10, n_estimators=80; total time=   2.0s\n",
            "[CV] END max_depth=12, min_samples_leaf=40, min_samples_split=10, n_estimators=100; total time=   2.5s\n",
            "[CV] END max_depth=12, min_samples_leaf=40, min_samples_split=10, n_estimators=100; total time=   3.4s\n",
            "[CV] END max_depth=12, min_samples_leaf=40, min_samples_split=10, n_estimators=100; total time=   2.8s\n",
            "[CV] END max_depth=12, min_samples_leaf=40, min_samples_split=10, n_estimators=100; total time=   2.3s\n",
            "[CV] END max_depth=12, min_samples_leaf=40, min_samples_split=10, n_estimators=100; total time=   2.3s\n",
            "[CV] END max_depth=12, min_samples_leaf=40, min_samples_split=50, n_estimators=50; total time=   1.1s\n",
            "[CV] END max_depth=12, min_samples_leaf=40, min_samples_split=50, n_estimators=50; total time=   1.1s\n",
            "[CV] END max_depth=12, min_samples_leaf=40, min_samples_split=50, n_estimators=50; total time=   1.2s\n",
            "[CV] END max_depth=12, min_samples_leaf=40, min_samples_split=50, n_estimators=50; total time=   1.2s\n",
            "[CV] END max_depth=12, min_samples_leaf=40, min_samples_split=50, n_estimators=50; total time=   1.3s\n",
            "[CV] END max_depth=12, min_samples_leaf=40, min_samples_split=50, n_estimators=80; total time=   2.0s\n",
            "[CV] END max_depth=12, min_samples_leaf=40, min_samples_split=50, n_estimators=80; total time=   2.0s\n",
            "[CV] END max_depth=12, min_samples_leaf=40, min_samples_split=50, n_estimators=80; total time=   2.0s\n",
            "[CV] END max_depth=12, min_samples_leaf=40, min_samples_split=50, n_estimators=80; total time=   1.9s\n",
            "[CV] END max_depth=12, min_samples_leaf=40, min_samples_split=50, n_estimators=80; total time=   1.9s\n",
            "[CV] END max_depth=12, min_samples_leaf=40, min_samples_split=50, n_estimators=100; total time=   2.3s\n",
            "[CV] END max_depth=12, min_samples_leaf=40, min_samples_split=50, n_estimators=100; total time=   2.3s\n",
            "[CV] END max_depth=12, min_samples_leaf=40, min_samples_split=50, n_estimators=100; total time=   2.2s\n",
            "[CV] END max_depth=12, min_samples_leaf=40, min_samples_split=50, n_estimators=100; total time=   2.3s\n",
            "[CV] END max_depth=12, min_samples_leaf=40, min_samples_split=50, n_estimators=100; total time=   2.4s\n",
            "[CV] END max_depth=12, min_samples_leaf=40, min_samples_split=100, n_estimators=50; total time=   1.2s\n",
            "[CV] END max_depth=12, min_samples_leaf=40, min_samples_split=100, n_estimators=50; total time=   1.2s\n",
            "[CV] END max_depth=12, min_samples_leaf=40, min_samples_split=100, n_estimators=50; total time=   1.2s\n",
            "[CV] END max_depth=12, min_samples_leaf=40, min_samples_split=100, n_estimators=50; total time=   1.2s\n",
            "[CV] END max_depth=12, min_samples_leaf=40, min_samples_split=100, n_estimators=50; total time=   1.2s\n",
            "[CV] END max_depth=12, min_samples_leaf=40, min_samples_split=100, n_estimators=80; total time=   1.8s\n",
            "[CV] END max_depth=12, min_samples_leaf=40, min_samples_split=100, n_estimators=80; total time=   1.8s\n",
            "[CV] END max_depth=12, min_samples_leaf=40, min_samples_split=100, n_estimators=80; total time=   1.8s\n",
            "[CV] END max_depth=12, min_samples_leaf=40, min_samples_split=100, n_estimators=80; total time=   1.8s\n",
            "[CV] END max_depth=12, min_samples_leaf=40, min_samples_split=100, n_estimators=80; total time=   1.8s\n",
            "[CV] END max_depth=12, min_samples_leaf=40, min_samples_split=100, n_estimators=100; total time=   2.6s\n",
            "[CV] END max_depth=12, min_samples_leaf=40, min_samples_split=100, n_estimators=100; total time=   2.9s\n",
            "[CV] END max_depth=12, min_samples_leaf=40, min_samples_split=100, n_estimators=100; total time=   2.2s\n",
            "[CV] END max_depth=12, min_samples_leaf=40, min_samples_split=100, n_estimators=100; total time=   2.2s\n",
            "[CV] END max_depth=12, min_samples_leaf=40, min_samples_split=100, n_estimators=100; total time=   2.1s\n",
            "[CV] END max_depth=12, min_samples_leaf=50, min_samples_split=10, n_estimators=50; total time=   1.1s\n",
            "[CV] END max_depth=12, min_samples_leaf=50, min_samples_split=10, n_estimators=50; total time=   1.1s\n",
            "[CV] END max_depth=12, min_samples_leaf=50, min_samples_split=10, n_estimators=50; total time=   1.1s\n",
            "[CV] END max_depth=12, min_samples_leaf=50, min_samples_split=10, n_estimators=50; total time=   1.2s\n",
            "[CV] END max_depth=12, min_samples_leaf=50, min_samples_split=10, n_estimators=50; total time=   1.1s\n",
            "[CV] END max_depth=12, min_samples_leaf=50, min_samples_split=10, n_estimators=80; total time=   1.8s\n",
            "[CV] END max_depth=12, min_samples_leaf=50, min_samples_split=10, n_estimators=80; total time=   1.7s\n",
            "[CV] END max_depth=12, min_samples_leaf=50, min_samples_split=10, n_estimators=80; total time=   1.7s\n",
            "[CV] END max_depth=12, min_samples_leaf=50, min_samples_split=10, n_estimators=80; total time=   1.7s\n",
            "[CV] END max_depth=12, min_samples_leaf=50, min_samples_split=10, n_estimators=80; total time=   1.7s\n",
            "[CV] END max_depth=12, min_samples_leaf=50, min_samples_split=10, n_estimators=100; total time=   2.1s\n",
            "[CV] END max_depth=12, min_samples_leaf=50, min_samples_split=10, n_estimators=100; total time=   2.2s\n",
            "[CV] END max_depth=12, min_samples_leaf=50, min_samples_split=10, n_estimators=100; total time=   2.3s\n",
            "[CV] END max_depth=12, min_samples_leaf=50, min_samples_split=10, n_estimators=100; total time=   2.6s\n",
            "[CV] END max_depth=12, min_samples_leaf=50, min_samples_split=10, n_estimators=100; total time=   3.1s\n",
            "[CV] END max_depth=12, min_samples_leaf=50, min_samples_split=50, n_estimators=50; total time=   1.2s\n",
            "[CV] END max_depth=12, min_samples_leaf=50, min_samples_split=50, n_estimators=50; total time=   1.2s\n",
            "[CV] END max_depth=12, min_samples_leaf=50, min_samples_split=50, n_estimators=50; total time=   1.1s\n",
            "[CV] END max_depth=12, min_samples_leaf=50, min_samples_split=50, n_estimators=50; total time=   1.1s\n",
            "[CV] END max_depth=12, min_samples_leaf=50, min_samples_split=50, n_estimators=50; total time=   1.1s\n",
            "[CV] END max_depth=12, min_samples_leaf=50, min_samples_split=50, n_estimators=80; total time=   1.8s\n",
            "[CV] END max_depth=12, min_samples_leaf=50, min_samples_split=50, n_estimators=80; total time=   1.8s\n",
            "[CV] END max_depth=12, min_samples_leaf=50, min_samples_split=50, n_estimators=80; total time=   1.8s\n",
            "[CV] END max_depth=12, min_samples_leaf=50, min_samples_split=50, n_estimators=80; total time=   1.8s\n",
            "[CV] END max_depth=12, min_samples_leaf=50, min_samples_split=50, n_estimators=80; total time=   1.8s\n",
            "[CV] END max_depth=12, min_samples_leaf=50, min_samples_split=50, n_estimators=100; total time=   2.3s\n",
            "[CV] END max_depth=12, min_samples_leaf=50, min_samples_split=50, n_estimators=100; total time=   3.7s\n",
            "[CV] END max_depth=12, min_samples_leaf=50, min_samples_split=50, n_estimators=100; total time=   3.4s\n",
            "[CV] END max_depth=12, min_samples_leaf=50, min_samples_split=50, n_estimators=100; total time=   2.2s\n",
            "[CV] END max_depth=12, min_samples_leaf=50, min_samples_split=50, n_estimators=100; total time=   2.2s\n",
            "[CV] END max_depth=12, min_samples_leaf=50, min_samples_split=100, n_estimators=50; total time=   1.1s\n",
            "[CV] END max_depth=12, min_samples_leaf=50, min_samples_split=100, n_estimators=50; total time=   1.2s\n",
            "[CV] END max_depth=12, min_samples_leaf=50, min_samples_split=100, n_estimators=50; total time=   1.1s\n",
            "[CV] END max_depth=12, min_samples_leaf=50, min_samples_split=100, n_estimators=50; total time=   1.2s\n",
            "[CV] END max_depth=12, min_samples_leaf=50, min_samples_split=100, n_estimators=50; total time=   1.2s\n",
            "[CV] END max_depth=12, min_samples_leaf=50, min_samples_split=100, n_estimators=80; total time=   1.8s\n",
            "[CV] END max_depth=12, min_samples_leaf=50, min_samples_split=100, n_estimators=80; total time=   1.8s\n",
            "[CV] END max_depth=12, min_samples_leaf=50, min_samples_split=100, n_estimators=80; total time=   1.8s\n",
            "[CV] END max_depth=12, min_samples_leaf=50, min_samples_split=100, n_estimators=80; total time=   1.8s\n",
            "[CV] END max_depth=12, min_samples_leaf=50, min_samples_split=100, n_estimators=80; total time=   1.8s\n",
            "[CV] END max_depth=12, min_samples_leaf=50, min_samples_split=100, n_estimators=100; total time=   2.2s\n",
            "[CV] END max_depth=12, min_samples_leaf=50, min_samples_split=100, n_estimators=100; total time=   2.2s\n",
            "[CV] END max_depth=12, min_samples_leaf=50, min_samples_split=100, n_estimators=100; total time=   2.2s\n",
            "[CV] END max_depth=12, min_samples_leaf=50, min_samples_split=100, n_estimators=100; total time=   2.3s\n",
            "[CV] END max_depth=12, min_samples_leaf=50, min_samples_split=100, n_estimators=100; total time=   2.3s\n"
          ]
        },
        {
          "data": {
            "text/plain": [
              "RandomForestClassifier(max_depth=12, min_samples_leaf=30, min_samples_split=50,\n",
              "                       n_estimators=50)"
            ]
          },
          "execution_count": 66,
          "metadata": {},
          "output_type": "execute_result"
        }
      ],
      "source": [
        "#Evaluating the optimal parameters\n",
        "rf_grid.fit(X_train,y_train)\n",
        "rf_grid.best_estimator_"
      ]
    },
    {
      "cell_type": "code",
      "execution_count": null,
      "metadata": {
        "colab": {
          "background_save": true
        },
        "id": "z7c_jhKOlGkx",
        "outputId": "9969a57f-9d3b-4f98-8440-3d97057b23bf"
      },
      "outputs": [
        {
          "data": {
            "text/plain": [
              "{'max_depth': 12,\n",
              " 'min_samples_leaf': 30,\n",
              " 'min_samples_split': 50,\n",
              " 'n_estimators': 50}"
            ]
          },
          "execution_count": 67,
          "metadata": {},
          "output_type": "execute_result"
        }
      ],
      "source": [
        "#getting best parameter from grid search\n",
        "rf_grid.best_params_"
      ]
    },
    {
      "cell_type": "code",
      "execution_count": null,
      "metadata": {
        "colab": {
          "background_save": true
        },
        "id": "TgIYLsMtp1yp"
      },
      "outputs": [],
      "source": [
        "#assigning best param variable\n",
        "rf_grid_best = rf_grid.best_estimator_"
      ]
    },
    {
      "cell_type": "code",
      "execution_count": null,
      "metadata": {
        "colab": {
          "background_save": true
        },
        "id": "13KzZ9HjreRF",
        "outputId": "2b5f2568-134b-4894-b28e-3d79c59996bb"
      },
      "outputs": [
        {
          "name": "stdout",
          "output_type": "stream",
          "text": [
            "              precision    recall  f1-score   support\n",
            "\n",
            "           0       0.94      0.96      0.95      5766\n",
            "           1       0.96      0.93      0.95      5009\n",
            "\n",
            "    accuracy                           0.95     10775\n",
            "   macro avg       0.95      0.95      0.95     10775\n",
            "weighted avg       0.95      0.95      0.95     10775\n",
            "\n",
            "\n",
            "Accuracy score % of the model is 95.0%\n",
            "\n"
          ]
        },
        {
          "data": {
            "image/png": "[encoded data removed]",
            "text/plain": [
              "<Figure size 864x648 with 2 Axes>"
            ]
          },
          "metadata": {},
          "output_type": "display_data"
        }
      ],
      "source": [
        "#model evaluation\n",
        "pred_value = rf_grid_best.predict(X_test)\n",
        "\n",
        "\n",
        "print(metrics.classification_report(y_test,pred_value))\n",
        "cm = confusion_matrix(y_test,pred_value,labels=[1,0])\n",
        "\n",
        "print(f'\\nAccuracy score % of the model is {round(accuracy_score(y_test,pred_value)*100,2)}%\\n')\n",
        "sns.heatmap(cm, annot=True, fmt = \".1f\",cmap='icefire')\n",
        "plt.title('Confusion Matrix for Random Forest with GridSearchCV')\n",
        "\n",
        "\n",
        "#calling function to append evaluation metrices\n",
        "evaluation_metrics_df=evaluation_metric('Random Forest with GridSearchCV',y_test,pred_value,evaluation_metrics_df)"
      ]
    },
    {
      "cell_type": "code",
      "execution_count": null,
      "metadata": {
        "colab": {
          "background_save": true
        },
        "id": "4eTfV8BuX6uw",
        "outputId": "76148814-04dd-4f76-91f5-13c4f9b334b2"
      },
      "outputs": [
        {
          "data": {
            "text/plain": [
              "0.9879199058067314"
            ]
          },
          "execution_count": 70,
          "metadata": {},
          "output_type": "execute_result"
        }
      ],
      "source": [
        "# predict the probability after hyperparameter tuning\n",
        "rf_gridprobability=rf_grid_best.predict_proba(X_test)[::,1]\n",
        "#area under curve\n",
        "auc_score=roc_auc_score(y_test,rf_gridprobability)\n",
        "auc_score"
      ]
    },
    {
      "cell_type": "code",
      "execution_count": null,
      "metadata": {
        "colab": {
          "background_save": true
        },
        "id": "UhP9BQQfWCju",
        "outputId": "c0547344-e4ab-447f-f827-d0414c42a7ae"
      },
      "outputs": [
        {
          "data": {
            "image/png": "[encoded data removed]",
            "text/plain": [
              "<Figure size 864x648 with 1 Axes>"
            ]
          },
          "metadata": {},
          "output_type": "display_data"
        }
      ],
      "source": [
        "#ROC curve plot\n",
        "fpr, tpr, _ = roc_curve(y_test, rf_gridprobability)\n",
        "\n",
        "plt.title('Random Forest ROC curve')\n",
        "plt.xlabel('FPR (Precision)')\n",
        "plt.ylabel('TPR (Recall)')\n",
        "\n",
        "plt.plot(fpr,tpr)\n",
        "plt.plot((0,1), ls='dashed',color='black')\n",
        "plt.show()"
      ]
    },
    {
      "cell_type": "markdown",
      "metadata": {
        "id": "U3aIDtiIuzKW"
      },
      "source": [
        "##Conclusion"
      ]
    },
    {
      "cell_type": "markdown",
      "metadata": {
        "id": "if5KRUCkup7s"
      },
      "source": [
        "1.  'Overall','food bev','cabin_service', 'value_for_money' etc are positively correlated with recommendation. these parameters should be improved to provide better service and hence it will improve recommendation chances for airlines. \n",
        "2. entertainment has 0.65 of correlation which is less than others.\n",
        "3.  'Overall' is most correlatetd with recommendation. \n",
        "4. Logistic regression, decision tree, random forest and KNearest neighbor gave good results in terms of accuracy. The highest accuracy obtained is 95.1% with logistic regression. \n",
        "5.Random forest with Gridsearch CV also gave good accuracy approximately equal to logistic regression (95.08%).\n",
        "6.   American airlines,united airlines,spirit and frontier irlines received maximum 'NO' recommendations.\n",
        "7.   Chins southern airlines, Qatar  and British airways received maximum 'YES' recommendations. Thai smile, Tunisair, Air arabia, adria airways received minimum 'Yes' recommendations.\n",
        "8.For Economy class, Number of 'NO' recommendations are more than 'YES' recommendations.\n",
        "9.For business class and first class, Number of 'YES' recommendations are more than 'NO' recommendations.\n",
        "10.For Premium account number of 'YES' recommendation and 'NO' recommendations are approximately equal."
      ]
    }
  ],
  "metadata": {
    "colab": {
      "provenance": [],
      "include_colab_link": true
    },
    "kernelspec": {
      "display_name": "Python 3",
      "name": "python3"
    },
    "language_info": {
      "name": "python"
    }
  },
  "nbformat": 4,
  "nbformat_minor": 0
}