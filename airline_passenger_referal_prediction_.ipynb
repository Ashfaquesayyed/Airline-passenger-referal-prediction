{
  "cells": [
    {
      "cell_type": "markdown",
      "metadata": {
        "id": "view-in-github",
        "colab_type": "text"
      },
      "source": [
        "<a href=\"https://colab.research.google.com/github/ashfaquesayyed/Airline-passenger-referal-prediction/blob/main/airline_passenger_referal_prediction_.ipynb\" target=\"_parent\"><img src=\"https://colab.research.google.com/assets/colab-badge.svg\" alt=\"Open In Colab\"/></a>"
      ]
    },
    {
      "cell_type": "markdown",
      "metadata": {
        "id": "XSatEL4m3zOc"
      },
      "source": [
        "#Data includes airline reviews from 2006 to 2019 for popular airlines around the world with multiple choice and free text questions. Data is scraped in Spring 2019. The main objective is to predict whether passengers will refer the airline to their friends."
      ]
    },
    {
      "cell_type": "markdown",
      "metadata": {
        "id": "Q5Z0k2ag4Hzu"
      },
      "source": [
        "#Feature descriptions briefly as follows:\n",
        "#airline: Name of the airline.\n",
        "#overall: Overall point is given to the trip between 1 to 10.\n",
        "#author: Author of the trip\n",
        "#reviewdate: Date of the Review customer review: Review of the customers in free text format\n",
        "#aircraft: Type of the aircraft\n",
        "#travellertype: Type of traveler (e.g. business, leisure)\n",
        "#cabin: Cabin at the flight \n",
        "#date flown: Flight date\n",
        "#seatcomfort: Rated between 1-5\n",
        "#cabin service: Rated between 1-5\n",
        "#foodbev: Rated between 1-5 entertainment: Rated between 1-5\n",
        "#groundservice: Rated between 1-5\n",
        "#valueformoney: Rated between 1-5\n",
        "#recommended: Binary, target variable."
      ]
    },
    {
      "cell_type": "code",
      "execution_count": 1,
      "metadata": {
        "id": "qyGqk_KU4K-o"
      },
      "outputs": [],
      "source": [
        "#Importing libraries\n",
        "import pandas as pd \n",
        "import numpy as np\n",
        "from datetime import datetime as dt \n",
        "import matplotlib.pyplot as plt\n",
        "import seaborn as sns\n",
        "%matplotlib inline\n",
        "\n",
        "\n",
        "\n",
        "from sklearn.linear_model import LogisticRegression\n",
        "\n",
        "from sklearn.ensemble import RandomForestClassifier\n",
        "from sklearn.tree import DecisionTreeClassifier\n",
        "from sklearn.neighbors import KNeighborsClassifier\n",
        "from sklearn.preprocessing import LabelEncoder\n",
        "import lightgbm\n",
        "\n",
        "\n",
        "from sklearn import model_selection\n",
        "from sklearn.model_selection import train_test_split\n",
        "from sklearn.model_selection import GridSearchCV\n",
        "from sklearn.svm import SVC\n",
        "import xgboost as xgb\n",
        "# Importing  metrics for evaluation for our models\n",
        "from sklearn import metrics\n",
        "from sklearn.metrics import confusion_matrix\n",
        "from sklearn.metrics import accuracy_score\n",
        "from sklearn.metrics import precision_score\n",
        "from sklearn.metrics import recall_score\n",
        "from sklearn.metrics import f1_score\n",
        "from sklearn.metrics import roc_auc_score\n",
        "from sklearn.metrics import roc_curve\n",
        "from sklearn.metrics import auc\n",
        "import warnings\n",
        "warnings.filterwarnings('ignore')\n",
        "\n",
        "%matplotlib inline"
      ]
    },
    {
      "cell_type": "code",
      "execution_count": 2,
      "metadata": {
        "colab": {
          "base_uri": "https://localhost:8080/"
        },
        "id": "xjGvbq0c4PEl",
        "outputId": "5207b955-1380-4f27-c7b9-964426710665"
      },
      "outputs": [
        {
          "output_type": "stream",
          "name": "stdout",
          "text": [
            "Mounted at /content/drive/\n"
          ]
        }
      ],
      "source": [
        "from google.colab import drive\n",
        "drive.mount('/content/drive/')"
      ]
    },
    {
      "cell_type": "code",
      "execution_count": 3,
      "metadata": {
        "id": "dqoeKrACghEp"
      },
      "outputs": [],
      "source": [
        "# Importing the dataset\n",
        "df = pd.read_excel(\"/content/drive/MyDrive/data folder/data_airline_reviews.xlsx\")"
      ]
    },
    {
      "cell_type": "code",
      "execution_count": 4,
      "metadata": {
        "colab": {
          "base_uri": "https://localhost:8080/"
        },
        "id": "DByD8Di1_gOj",
        "outputId": "bd62082e-3c55-4369-d259-2bc172e54da8"
      },
      "outputs": [
        {
          "output_type": "execute_result",
          "data": {
            "text/plain": [
              "(131895, 17)"
            ]
          },
          "metadata": {},
          "execution_count": 4
        }
      ],
      "source": [
        "#shape of dataset\n",
        "df.shape"
      ]
    },
    {
      "cell_type": "code",
      "execution_count": 5,
      "metadata": {
        "colab": {
          "base_uri": "https://localhost:8080/",
          "height": 340
        },
        "id": "WZC6VV2X44P_",
        "outputId": "81108d23-fa42-415a-d31e-b2e08e04f231"
      },
      "outputs": [
        {
          "output_type": "execute_result",
          "data": {
            "text/plain": [
              "            airline  overall               author   review_date  \\\n",
              "0               NaN      NaN                  NaN           NaN   \n",
              "1  Turkish Airlines      7.0  Christopher Hackley  8th May 2019   \n",
              "2               NaN      NaN                  NaN           NaN   \n",
              "3  Turkish Airlines      2.0        Adriana Pisoi  7th May 2019   \n",
              "4               NaN      NaN                  NaN           NaN   \n",
              "\n",
              "                                     customer_review aircraft  traveller_type  \\\n",
              "0                                                NaN      NaN             NaN   \n",
              "1  âœ… Trip Verified | London to Izmir via Istanb...      NaN        Business   \n",
              "2                                                NaN      NaN             NaN   \n",
              "3  âœ… Trip Verified | Istanbul to Bucharest. We ...      NaN  Family Leisure   \n",
              "4                                                NaN      NaN             NaN   \n",
              "\n",
              "           cabin                         route           date_flown  \\\n",
              "0            NaN                           NaN                  NaN   \n",
              "1  Economy Class  London to Izmir via Istanbul  2019-05-01 00:00:00   \n",
              "2            NaN                           NaN                  NaN   \n",
              "3  Economy Class         Istanbul to Bucharest  2019-05-01 00:00:00   \n",
              "4            NaN                           NaN                  NaN   \n",
              "\n",
              "   seat_comfort  cabin_service  food_bev  entertainment  ground_service  \\\n",
              "0           NaN            NaN       NaN            NaN             NaN   \n",
              "1           4.0            5.0       4.0            4.0             2.0   \n",
              "2           NaN            NaN       NaN            NaN             NaN   \n",
              "3           4.0            1.0       1.0            1.0             1.0   \n",
              "4           NaN            NaN       NaN            NaN             NaN   \n",
              "\n",
              "   value_for_money recommended  \n",
              "0              NaN         NaN  \n",
              "1              4.0         yes  \n",
              "2              NaN         NaN  \n",
              "3              1.0          no  \n",
              "4              NaN         NaN  "
            ],
            "text/html": [
              "\n",
              "  <div id=\"df-1958bf12-1cef-48d8-8452-a0a99d610a26\">\n",
              "    <div class=\"colab-df-container\">\n",
              "      <div>\n",
              "<style scoped>\n",
              "    .dataframe tbody tr th:only-of-type {\n",
              "        vertical-align: middle;\n",
              "    }\n",
              "\n",
              "    .dataframe tbody tr th {\n",
              "        vertical-align: top;\n",
              "    }\n",
              "\n",
              "    .dataframe thead th {\n",
              "        text-align: right;\n",
              "    }\n",
              "</style>\n",
              "<table border=\"1\" class=\"dataframe\">\n",
              "  <thead>\n",
              "    <tr style=\"text-align: right;\">\n",
              "      <th></th>\n",
              "      <th>airline</th>\n",
              "      <th>overall</th>\n",
              "      <th>author</th>\n",
              "      <th>review_date</th>\n",
              "      <th>customer_review</th>\n",
              "      <th>aircraft</th>\n",
              "      <th>traveller_type</th>\n",
              "      <th>cabin</th>\n",
              "      <th>route</th>\n",
              "      <th>date_flown</th>\n",
              "      <th>seat_comfort</th>\n",
              "      <th>cabin_service</th>\n",
              "      <th>food_bev</th>\n",
              "      <th>entertainment</th>\n",
              "      <th>ground_service</th>\n",
              "      <th>value_for_money</th>\n",
              "      <th>recommended</th>\n",
              "    </tr>\n",
              "  </thead>\n",
              "  <tbody>\n",
              "    <tr>\n",
              "      <th>0</th>\n",
              "      <td>NaN</td>\n",
              "      <td>NaN</td>\n",
              "      <td>NaN</td>\n",
              "      <td>NaN</td>\n",
              "      <td>NaN</td>\n",
              "      <td>NaN</td>\n",
              "      <td>NaN</td>\n",
              "      <td>NaN</td>\n",
              "      <td>NaN</td>\n",
              "      <td>NaN</td>\n",
              "      <td>NaN</td>\n",
              "      <td>NaN</td>\n",
              "      <td>NaN</td>\n",
              "      <td>NaN</td>\n",
              "      <td>NaN</td>\n",
              "      <td>NaN</td>\n",
              "      <td>NaN</td>\n",
              "    </tr>\n",
              "    <tr>\n",
              "      <th>1</th>\n",
              "      <td>Turkish Airlines</td>\n",
              "      <td>7.0</td>\n",
              "      <td>Christopher Hackley</td>\n",
              "      <td>8th May 2019</td>\n",
              "      <td>âœ… Trip Verified | London to Izmir via Istanb...</td>\n",
              "      <td>NaN</td>\n",
              "      <td>Business</td>\n",
              "      <td>Economy Class</td>\n",
              "      <td>London to Izmir via Istanbul</td>\n",
              "      <td>2019-05-01 00:00:00</td>\n",
              "      <td>4.0</td>\n",
              "      <td>5.0</td>\n",
              "      <td>4.0</td>\n",
              "      <td>4.0</td>\n",
              "      <td>2.0</td>\n",
              "      <td>4.0</td>\n",
              "      <td>yes</td>\n",
              "    </tr>\n",
              "    <tr>\n",
              "      <th>2</th>\n",
              "      <td>NaN</td>\n",
              "      <td>NaN</td>\n",
              "      <td>NaN</td>\n",
              "      <td>NaN</td>\n",
              "      <td>NaN</td>\n",
              "      <td>NaN</td>\n",
              "      <td>NaN</td>\n",
              "      <td>NaN</td>\n",
              "      <td>NaN</td>\n",
              "      <td>NaN</td>\n",
              "      <td>NaN</td>\n",
              "      <td>NaN</td>\n",
              "      <td>NaN</td>\n",
              "      <td>NaN</td>\n",
              "      <td>NaN</td>\n",
              "      <td>NaN</td>\n",
              "      <td>NaN</td>\n",
              "    </tr>\n",
              "    <tr>\n",
              "      <th>3</th>\n",
              "      <td>Turkish Airlines</td>\n",
              "      <td>2.0</td>\n",
              "      <td>Adriana Pisoi</td>\n",
              "      <td>7th May 2019</td>\n",
              "      <td>âœ… Trip Verified | Istanbul to Bucharest. We ...</td>\n",
              "      <td>NaN</td>\n",
              "      <td>Family Leisure</td>\n",
              "      <td>Economy Class</td>\n",
              "      <td>Istanbul to Bucharest</td>\n",
              "      <td>2019-05-01 00:00:00</td>\n",
              "      <td>4.0</td>\n",
              "      <td>1.0</td>\n",
              "      <td>1.0</td>\n",
              "      <td>1.0</td>\n",
              "      <td>1.0</td>\n",
              "      <td>1.0</td>\n",
              "      <td>no</td>\n",
              "    </tr>\n",
              "    <tr>\n",
              "      <th>4</th>\n",
              "      <td>NaN</td>\n",
              "      <td>NaN</td>\n",
              "      <td>NaN</td>\n",
              "      <td>NaN</td>\n",
              "      <td>NaN</td>\n",
              "      <td>NaN</td>\n",
              "      <td>NaN</td>\n",
              "      <td>NaN</td>\n",
              "      <td>NaN</td>\n",
              "      <td>NaN</td>\n",
              "      <td>NaN</td>\n",
              "      <td>NaN</td>\n",
              "      <td>NaN</td>\n",
              "      <td>NaN</td>\n",
              "      <td>NaN</td>\n",
              "      <td>NaN</td>\n",
              "      <td>NaN</td>\n",
              "    </tr>\n",
              "  </tbody>\n",
              "</table>\n",
              "</div>\n",
              "      <button class=\"colab-df-convert\" onclick=\"convertToInteractive('df-1958bf12-1cef-48d8-8452-a0a99d610a26')\"\n",
              "              title=\"Convert this dataframe to an interactive table.\"\n",
              "              style=\"display:none;\">\n",
              "        \n",
              "  <svg xmlns=\"http://www.w3.org/2000/svg\" height=\"24px\"viewBox=\"0 0 24 24\"\n",
              "       width=\"24px\">\n",
              "    <path d=\"M0 0h24v24H0V0z\" fill=\"none\"/>\n",
              "    <path d=\"M18.56 5.44l.94 2.06.94-2.06 2.06-.94-2.06-.94-.94-2.06-.94 2.06-2.06.94zm-11 1L8.5 8.5l.94-2.06 2.06-.94-2.06-.94L8.5 2.5l-.94 2.06-2.06.94zm10 10l.94 2.06.94-2.06 2.06-.94-2.06-.94-.94-2.06-.94 2.06-2.06.94z\"/><path d=\"M17.41 7.96l-1.37-1.37c-.4-.4-.92-.59-1.43-.59-.52 0-1.04.2-1.43.59L10.3 9.45l-7.72 7.72c-.78.78-.78 2.05 0 2.83L4 21.41c.39.39.9.59 1.41.59.51 0 1.02-.2 1.41-.59l7.78-7.78 2.81-2.81c.8-.78.8-2.07 0-2.86zM5.41 20L4 18.59l7.72-7.72 1.47 1.35L5.41 20z\"/>\n",
              "  </svg>\n",
              "      </button>\n",
              "      \n",
              "  <style>\n",
              "    .colab-df-container {\n",
              "      display:flex;\n",
              "      flex-wrap:wrap;\n",
              "      gap: 12px;\n",
              "    }\n",
              "\n",
              "    .colab-df-convert {\n",
              "      background-color: #E8F0FE;\n",
              "      border: none;\n",
              "      border-radius: 50%;\n",
              "      cursor: pointer;\n",
              "      display: none;\n",
              "      fill: #1967D2;\n",
              "      height: 32px;\n",
              "      padding: 0 0 0 0;\n",
              "      width: 32px;\n",
              "    }\n",
              "\n",
              "    .colab-df-convert:hover {\n",
              "      background-color: #E2EBFA;\n",
              "      box-shadow: 0px 1px 2px rgba(60, 64, 67, 0.3), 0px 1px 3px 1px rgba(60, 64, 67, 0.15);\n",
              "      fill: #174EA6;\n",
              "    }\n",
              "\n",
              "    [theme=dark] .colab-df-convert {\n",
              "      background-color: #3B4455;\n",
              "      fill: #D2E3FC;\n",
              "    }\n",
              "\n",
              "    [theme=dark] .colab-df-convert:hover {\n",
              "      background-color: #434B5C;\n",
              "      box-shadow: 0px 1px 3px 1px rgba(0, 0, 0, 0.15);\n",
              "      filter: drop-shadow(0px 1px 2px rgba(0, 0, 0, 0.3));\n",
              "      fill: #FFFFFF;\n",
              "    }\n",
              "  </style>\n",
              "\n",
              "      <script>\n",
              "        const buttonEl =\n",
              "          document.querySelector('#df-1958bf12-1cef-48d8-8452-a0a99d610a26 button.colab-df-convert');\n",
              "        buttonEl.style.display =\n",
              "          google.colab.kernel.accessAllowed ? 'block' : 'none';\n",
              "\n",
              "        async function convertToInteractive(key) {\n",
              "          const element = document.querySelector('#df-1958bf12-1cef-48d8-8452-a0a99d610a26');\n",
              "          const dataTable =\n",
              "            await google.colab.kernel.invokeFunction('convertToInteractive',\n",
              "                                                     [key], {});\n",
              "          if (!dataTable) return;\n",
              "\n",
              "          const docLinkHtml = 'Like what you see? Visit the ' +\n",
              "            '<a target=\"_blank\" href=https://colab.research.google.com/notebooks/data_table.ipynb>data table notebook</a>'\n",
              "            + ' to learn more about interactive tables.';\n",
              "          element.innerHTML = '';\n",
              "          dataTable['output_type'] = 'display_data';\n",
              "          await google.colab.output.renderOutput(dataTable, element);\n",
              "          const docLink = document.createElement('div');\n",
              "          docLink.innerHTML = docLinkHtml;\n",
              "          element.appendChild(docLink);\n",
              "        }\n",
              "      </script>\n",
              "    </div>\n",
              "  </div>\n",
              "  "
            ]
          },
          "metadata": {},
          "execution_count": 5
        }
      ],
      "source": [
        "#head of dataset\n",
        "df.head()"
      ]
    },
    {
      "cell_type": "code",
      "execution_count": 6,
      "metadata": {
        "colab": {
          "base_uri": "https://localhost:8080/",
          "height": 392
        },
        "id": "WMOcBPDz4_Dh",
        "outputId": "c13cb53d-7d2a-4148-aea8-dc878da5dde4"
      },
      "outputs": [
        {
          "output_type": "execute_result",
          "data": {
            "text/plain": [
              "                      airline  overall             author         review_date  \\\n",
              "131890  Ukraine International      NaN   Andriy Yesypenko       19th May 2006   \n",
              "131891                    NaN      NaN                NaN                 NaN   \n",
              "131892  Ukraine International      NaN  Volodya Bilotkach     29th April 2006   \n",
              "131893                    NaN      NaN                NaN                 NaN   \n",
              "131894  Ukraine International      NaN    Kasper Hettinga  10th February 2006   \n",
              "\n",
              "                                          customer_review aircraft  \\\n",
              "131890  Kiev - London (Gatwick) in business class (in ...      NaN   \n",
              "131891                                                NaN      NaN   \n",
              "131892  Several flights - KBP to AMS (3 times one way)...      NaN   \n",
              "131893                                                NaN      NaN   \n",
              "131894  KBP-AMS with UIA. Although it was a relatively...      NaN   \n",
              "\n",
              "       traveller_type cabin route date_flown  seat_comfort  cabin_service  \\\n",
              "131890            NaN   NaN   NaN        NaN           NaN            NaN   \n",
              "131891            NaN   NaN   NaN        NaN           NaN            NaN   \n",
              "131892            NaN   NaN   NaN        NaN           NaN            NaN   \n",
              "131893            NaN   NaN   NaN        NaN           NaN            NaN   \n",
              "131894            NaN   NaN   NaN        NaN           NaN            NaN   \n",
              "\n",
              "        food_bev  entertainment  ground_service  value_for_money recommended  \n",
              "131890       NaN            NaN             NaN              NaN          no  \n",
              "131891       NaN            NaN             NaN              NaN         NaN  \n",
              "131892       NaN            NaN             NaN              NaN          no  \n",
              "131893       NaN            NaN             NaN              NaN         NaN  \n",
              "131894       NaN            NaN             NaN              NaN          no  "
            ],
            "text/html": [
              "\n",
              "  <div id=\"df-9e96ed9a-df52-49ac-9f42-83350a14875a\">\n",
              "    <div class=\"colab-df-container\">\n",
              "      <div>\n",
              "<style scoped>\n",
              "    .dataframe tbody tr th:only-of-type {\n",
              "        vertical-align: middle;\n",
              "    }\n",
              "\n",
              "    .dataframe tbody tr th {\n",
              "        vertical-align: top;\n",
              "    }\n",
              "\n",
              "    .dataframe thead th {\n",
              "        text-align: right;\n",
              "    }\n",
              "</style>\n",
              "<table border=\"1\" class=\"dataframe\">\n",
              "  <thead>\n",
              "    <tr style=\"text-align: right;\">\n",
              "      <th></th>\n",
              "      <th>airline</th>\n",
              "      <th>overall</th>\n",
              "      <th>author</th>\n",
              "      <th>review_date</th>\n",
              "      <th>customer_review</th>\n",
              "      <th>aircraft</th>\n",
              "      <th>traveller_type</th>\n",
              "      <th>cabin</th>\n",
              "      <th>route</th>\n",
              "      <th>date_flown</th>\n",
              "      <th>seat_comfort</th>\n",
              "      <th>cabin_service</th>\n",
              "      <th>food_bev</th>\n",
              "      <th>entertainment</th>\n",
              "      <th>ground_service</th>\n",
              "      <th>value_for_money</th>\n",
              "      <th>recommended</th>\n",
              "    </tr>\n",
              "  </thead>\n",
              "  <tbody>\n",
              "    <tr>\n",
              "      <th>131890</th>\n",
              "      <td>Ukraine International</td>\n",
              "      <td>NaN</td>\n",
              "      <td>Andriy Yesypenko</td>\n",
              "      <td>19th May 2006</td>\n",
              "      <td>Kiev - London (Gatwick) in business class (in ...</td>\n",
              "      <td>NaN</td>\n",
              "      <td>NaN</td>\n",
              "      <td>NaN</td>\n",
              "      <td>NaN</td>\n",
              "      <td>NaN</td>\n",
              "      <td>NaN</td>\n",
              "      <td>NaN</td>\n",
              "      <td>NaN</td>\n",
              "      <td>NaN</td>\n",
              "      <td>NaN</td>\n",
              "      <td>NaN</td>\n",
              "      <td>no</td>\n",
              "    </tr>\n",
              "    <tr>\n",
              "      <th>131891</th>\n",
              "      <td>NaN</td>\n",
              "      <td>NaN</td>\n",
              "      <td>NaN</td>\n",
              "      <td>NaN</td>\n",
              "      <td>NaN</td>\n",
              "      <td>NaN</td>\n",
              "      <td>NaN</td>\n",
              "      <td>NaN</td>\n",
              "      <td>NaN</td>\n",
              "      <td>NaN</td>\n",
              "      <td>NaN</td>\n",
              "      <td>NaN</td>\n",
              "      <td>NaN</td>\n",
              "      <td>NaN</td>\n",
              "      <td>NaN</td>\n",
              "      <td>NaN</td>\n",
              "      <td>NaN</td>\n",
              "    </tr>\n",
              "    <tr>\n",
              "      <th>131892</th>\n",
              "      <td>Ukraine International</td>\n",
              "      <td>NaN</td>\n",
              "      <td>Volodya Bilotkach</td>\n",
              "      <td>29th April 2006</td>\n",
              "      <td>Several flights - KBP to AMS (3 times one way)...</td>\n",
              "      <td>NaN</td>\n",
              "      <td>NaN</td>\n",
              "      <td>NaN</td>\n",
              "      <td>NaN</td>\n",
              "      <td>NaN</td>\n",
              "      <td>NaN</td>\n",
              "      <td>NaN</td>\n",
              "      <td>NaN</td>\n",
              "      <td>NaN</td>\n",
              "      <td>NaN</td>\n",
              "      <td>NaN</td>\n",
              "      <td>no</td>\n",
              "    </tr>\n",
              "    <tr>\n",
              "      <th>131893</th>\n",
              "      <td>NaN</td>\n",
              "      <td>NaN</td>\n",
              "      <td>NaN</td>\n",
              "      <td>NaN</td>\n",
              "      <td>NaN</td>\n",
              "      <td>NaN</td>\n",
              "      <td>NaN</td>\n",
              "      <td>NaN</td>\n",
              "      <td>NaN</td>\n",
              "      <td>NaN</td>\n",
              "      <td>NaN</td>\n",
              "      <td>NaN</td>\n",
              "      <td>NaN</td>\n",
              "      <td>NaN</td>\n",
              "      <td>NaN</td>\n",
              "      <td>NaN</td>\n",
              "      <td>NaN</td>\n",
              "    </tr>\n",
              "    <tr>\n",
              "      <th>131894</th>\n",
              "      <td>Ukraine International</td>\n",
              "      <td>NaN</td>\n",
              "      <td>Kasper Hettinga</td>\n",
              "      <td>10th February 2006</td>\n",
              "      <td>KBP-AMS with UIA. Although it was a relatively...</td>\n",
              "      <td>NaN</td>\n",
              "      <td>NaN</td>\n",
              "      <td>NaN</td>\n",
              "      <td>NaN</td>\n",
              "      <td>NaN</td>\n",
              "      <td>NaN</td>\n",
              "      <td>NaN</td>\n",
              "      <td>NaN</td>\n",
              "      <td>NaN</td>\n",
              "      <td>NaN</td>\n",
              "      <td>NaN</td>\n",
              "      <td>no</td>\n",
              "    </tr>\n",
              "  </tbody>\n",
              "</table>\n",
              "</div>\n",
              "      <button class=\"colab-df-convert\" onclick=\"convertToInteractive('df-9e96ed9a-df52-49ac-9f42-83350a14875a')\"\n",
              "              title=\"Convert this dataframe to an interactive table.\"\n",
              "              style=\"display:none;\">\n",
              "        \n",
              "  <svg xmlns=\"http://www.w3.org/2000/svg\" height=\"24px\"viewBox=\"0 0 24 24\"\n",
              "       width=\"24px\">\n",
              "    <path d=\"M0 0h24v24H0V0z\" fill=\"none\"/>\n",
              "    <path d=\"M18.56 5.44l.94 2.06.94-2.06 2.06-.94-2.06-.94-.94-2.06-.94 2.06-2.06.94zm-11 1L8.5 8.5l.94-2.06 2.06-.94-2.06-.94L8.5 2.5l-.94 2.06-2.06.94zm10 10l.94 2.06.94-2.06 2.06-.94-2.06-.94-.94-2.06-.94 2.06-2.06.94z\"/><path d=\"M17.41 7.96l-1.37-1.37c-.4-.4-.92-.59-1.43-.59-.52 0-1.04.2-1.43.59L10.3 9.45l-7.72 7.72c-.78.78-.78 2.05 0 2.83L4 21.41c.39.39.9.59 1.41.59.51 0 1.02-.2 1.41-.59l7.78-7.78 2.81-2.81c.8-.78.8-2.07 0-2.86zM5.41 20L4 18.59l7.72-7.72 1.47 1.35L5.41 20z\"/>\n",
              "  </svg>\n",
              "      </button>\n",
              "      \n",
              "  <style>\n",
              "    .colab-df-container {\n",
              "      display:flex;\n",
              "      flex-wrap:wrap;\n",
              "      gap: 12px;\n",
              "    }\n",
              "\n",
              "    .colab-df-convert {\n",
              "      background-color: #E8F0FE;\n",
              "      border: none;\n",
              "      border-radius: 50%;\n",
              "      cursor: pointer;\n",
              "      display: none;\n",
              "      fill: #1967D2;\n",
              "      height: 32px;\n",
              "      padding: 0 0 0 0;\n",
              "      width: 32px;\n",
              "    }\n",
              "\n",
              "    .colab-df-convert:hover {\n",
              "      background-color: #E2EBFA;\n",
              "      box-shadow: 0px 1px 2px rgba(60, 64, 67, 0.3), 0px 1px 3px 1px rgba(60, 64, 67, 0.15);\n",
              "      fill: #174EA6;\n",
              "    }\n",
              "\n",
              "    [theme=dark] .colab-df-convert {\n",
              "      background-color: #3B4455;\n",
              "      fill: #D2E3FC;\n",
              "    }\n",
              "\n",
              "    [theme=dark] .colab-df-convert:hover {\n",
              "      background-color: #434B5C;\n",
              "      box-shadow: 0px 1px 3px 1px rgba(0, 0, 0, 0.15);\n",
              "      filter: drop-shadow(0px 1px 2px rgba(0, 0, 0, 0.3));\n",
              "      fill: #FFFFFF;\n",
              "    }\n",
              "  </style>\n",
              "\n",
              "      <script>\n",
              "        const buttonEl =\n",
              "          document.querySelector('#df-9e96ed9a-df52-49ac-9f42-83350a14875a button.colab-df-convert');\n",
              "        buttonEl.style.display =\n",
              "          google.colab.kernel.accessAllowed ? 'block' : 'none';\n",
              "\n",
              "        async function convertToInteractive(key) {\n",
              "          const element = document.querySelector('#df-9e96ed9a-df52-49ac-9f42-83350a14875a');\n",
              "          const dataTable =\n",
              "            await google.colab.kernel.invokeFunction('convertToInteractive',\n",
              "                                                     [key], {});\n",
              "          if (!dataTable) return;\n",
              "\n",
              "          const docLinkHtml = 'Like what you see? Visit the ' +\n",
              "            '<a target=\"_blank\" href=https://colab.research.google.com/notebooks/data_table.ipynb>data table notebook</a>'\n",
              "            + ' to learn more about interactive tables.';\n",
              "          element.innerHTML = '';\n",
              "          dataTable['output_type'] = 'display_data';\n",
              "          await google.colab.output.renderOutput(dataTable, element);\n",
              "          const docLink = document.createElement('div');\n",
              "          docLink.innerHTML = docLinkHtml;\n",
              "          element.appendChild(docLink);\n",
              "        }\n",
              "      </script>\n",
              "    </div>\n",
              "  </div>\n",
              "  "
            ]
          },
          "metadata": {},
          "execution_count": 6
        }
      ],
      "source": [
        "#tail of dataset\n",
        "df.tail()"
      ]
    },
    {
      "cell_type": "code",
      "execution_count": 7,
      "metadata": {
        "colab": {
          "base_uri": "https://localhost:8080/"
        },
        "id": "_WpNtmEI6H7u",
        "outputId": "e3a5e891-83a3-475a-f232-054f20c89415"
      },
      "outputs": [
        {
          "output_type": "execute_result",
          "data": {
            "text/plain": [
              "Index(['airline', 'overall', 'author', 'review_date', 'customer_review',\n",
              "       'aircraft', 'traveller_type', 'cabin', 'route', 'date_flown',\n",
              "       'seat_comfort', 'cabin_service', 'food_bev', 'entertainment',\n",
              "       'ground_service', 'value_for_money', 'recommended'],\n",
              "      dtype='object')"
            ]
          },
          "metadata": {},
          "execution_count": 7
        }
      ],
      "source": [
        "#columns name of df\n",
        "df.columns"
      ]
    },
    {
      "cell_type": "code",
      "execution_count": 8,
      "metadata": {
        "colab": {
          "base_uri": "https://localhost:8080/",
          "height": 582
        },
        "id": "8RSDrA5o6z6M",
        "outputId": "cf081967-bd3e-4a98-8e39-0eddfc305f6b"
      },
      "outputs": [
        {
          "output_type": "execute_result",
          "data": {
            "text/plain": [
              "                   count unique  \\\n",
              "airline            65947     81   \n",
              "overall          64017.0    NaN   \n",
              "author             65947  44069   \n",
              "review_date        65947   3015   \n",
              "customer_review    65947  61172   \n",
              "aircraft           19718   2088   \n",
              "traveller_type     39755      4   \n",
              "cabin              63303      4   \n",
              "route              39726  24549   \n",
              "date_flown         39633     63   \n",
              "seat_comfort     60681.0    NaN   \n",
              "cabin_service    60715.0    NaN   \n",
              "food_bev         52608.0    NaN   \n",
              "entertainment    44193.0    NaN   \n",
              "ground_service   39358.0    NaN   \n",
              "value_for_money  63975.0    NaN   \n",
              "recommended        64440      2   \n",
              "\n",
              "                                                               top   freq  \\\n",
              "airline                                            Spirit Airlines   2934   \n",
              "overall                                                        NaN    NaN   \n",
              "author                                             Anders Pedersen     96   \n",
              "review_date                                      19th January 2015    253   \n",
              "customer_review  On March 2/14 a friend and I were booked on an...      6   \n",
              "aircraft                                                      A320   2157   \n",
              "traveller_type                                        Solo Leisure  14798   \n",
              "cabin                                                Economy Class  48558   \n",
              "route                                         Bangkok to Hong Kong     35   \n",
              "date_flown                                             August 2015   1204   \n",
              "seat_comfort                                                   NaN    NaN   \n",
              "cabin_service                                                  NaN    NaN   \n",
              "food_bev                                                       NaN    NaN   \n",
              "entertainment                                                  NaN    NaN   \n",
              "ground_service                                                 NaN    NaN   \n",
              "value_for_money                                                NaN    NaN   \n",
              "recommended                                                     no  33894   \n",
              "\n",
              "                     mean       std  min  25%  50%  75%   max  \n",
              "airline               NaN       NaN  NaN  NaN  NaN  NaN   NaN  \n",
              "overall           5.14543  3.477532  1.0  1.0  5.0  9.0  10.0  \n",
              "author                NaN       NaN  NaN  NaN  NaN  NaN   NaN  \n",
              "review_date           NaN       NaN  NaN  NaN  NaN  NaN   NaN  \n",
              "customer_review       NaN       NaN  NaN  NaN  NaN  NaN   NaN  \n",
              "aircraft              NaN       NaN  NaN  NaN  NaN  NaN   NaN  \n",
              "traveller_type        NaN       NaN  NaN  NaN  NaN  NaN   NaN  \n",
              "cabin                 NaN       NaN  NaN  NaN  NaN  NaN   NaN  \n",
              "route                 NaN       NaN  NaN  NaN  NaN  NaN   NaN  \n",
              "date_flown            NaN       NaN  NaN  NaN  NaN  NaN   NaN  \n",
              "seat_comfort      2.95216  1.441362  1.0  1.0  3.0  4.0   5.0  \n",
              "cabin_service    3.191814  1.565789  1.0  2.0  3.0  5.0   5.0  \n",
              "food_bev          2.90817  1.481893  1.0  1.0  3.0  4.0   5.0  \n",
              "entertainment    2.863372  1.507262  1.0  1.0  3.0  4.0   5.0  \n",
              "ground_service    2.69282  1.612215  1.0  1.0  3.0  4.0   5.0  \n",
              "value_for_money  2.943962   1.58737  1.0  1.0  3.0  4.0   5.0  \n",
              "recommended           NaN       NaN  NaN  NaN  NaN  NaN   NaN  "
            ],
            "text/html": [
              "\n",
              "  <div id=\"df-50864dfc-104b-4cca-8325-af73c9964f29\">\n",
              "    <div class=\"colab-df-container\">\n",
              "      <div>\n",
              "<style scoped>\n",
              "    .dataframe tbody tr th:only-of-type {\n",
              "        vertical-align: middle;\n",
              "    }\n",
              "\n",
              "    .dataframe tbody tr th {\n",
              "        vertical-align: top;\n",
              "    }\n",
              "\n",
              "    .dataframe thead th {\n",
              "        text-align: right;\n",
              "    }\n",
              "</style>\n",
              "<table border=\"1\" class=\"dataframe\">\n",
              "  <thead>\n",
              "    <tr style=\"text-align: right;\">\n",
              "      <th></th>\n",
              "      <th>count</th>\n",
              "      <th>unique</th>\n",
              "      <th>top</th>\n",
              "      <th>freq</th>\n",
              "      <th>mean</th>\n",
              "      <th>std</th>\n",
              "      <th>min</th>\n",
              "      <th>25%</th>\n",
              "      <th>50%</th>\n",
              "      <th>75%</th>\n",
              "      <th>max</th>\n",
              "    </tr>\n",
              "  </thead>\n",
              "  <tbody>\n",
              "    <tr>\n",
              "      <th>airline</th>\n",
              "      <td>65947</td>\n",
              "      <td>81</td>\n",
              "      <td>Spirit Airlines</td>\n",
              "      <td>2934</td>\n",
              "      <td>NaN</td>\n",
              "      <td>NaN</td>\n",
              "      <td>NaN</td>\n",
              "      <td>NaN</td>\n",
              "      <td>NaN</td>\n",
              "      <td>NaN</td>\n",
              "      <td>NaN</td>\n",
              "    </tr>\n",
              "    <tr>\n",
              "      <th>overall</th>\n",
              "      <td>64017.0</td>\n",
              "      <td>NaN</td>\n",
              "      <td>NaN</td>\n",
              "      <td>NaN</td>\n",
              "      <td>5.14543</td>\n",
              "      <td>3.477532</td>\n",
              "      <td>1.0</td>\n",
              "      <td>1.0</td>\n",
              "      <td>5.0</td>\n",
              "      <td>9.0</td>\n",
              "      <td>10.0</td>\n",
              "    </tr>\n",
              "    <tr>\n",
              "      <th>author</th>\n",
              "      <td>65947</td>\n",
              "      <td>44069</td>\n",
              "      <td>Anders Pedersen</td>\n",
              "      <td>96</td>\n",
              "      <td>NaN</td>\n",
              "      <td>NaN</td>\n",
              "      <td>NaN</td>\n",
              "      <td>NaN</td>\n",
              "      <td>NaN</td>\n",
              "      <td>NaN</td>\n",
              "      <td>NaN</td>\n",
              "    </tr>\n",
              "    <tr>\n",
              "      <th>review_date</th>\n",
              "      <td>65947</td>\n",
              "      <td>3015</td>\n",
              "      <td>19th January 2015</td>\n",
              "      <td>253</td>\n",
              "      <td>NaN</td>\n",
              "      <td>NaN</td>\n",
              "      <td>NaN</td>\n",
              "      <td>NaN</td>\n",
              "      <td>NaN</td>\n",
              "      <td>NaN</td>\n",
              "      <td>NaN</td>\n",
              "    </tr>\n",
              "    <tr>\n",
              "      <th>customer_review</th>\n",
              "      <td>65947</td>\n",
              "      <td>61172</td>\n",
              "      <td>On March 2/14 a friend and I were booked on an...</td>\n",
              "      <td>6</td>\n",
              "      <td>NaN</td>\n",
              "      <td>NaN</td>\n",
              "      <td>NaN</td>\n",
              "      <td>NaN</td>\n",
              "      <td>NaN</td>\n",
              "      <td>NaN</td>\n",
              "      <td>NaN</td>\n",
              "    </tr>\n",
              "    <tr>\n",
              "      <th>aircraft</th>\n",
              "      <td>19718</td>\n",
              "      <td>2088</td>\n",
              "      <td>A320</td>\n",
              "      <td>2157</td>\n",
              "      <td>NaN</td>\n",
              "      <td>NaN</td>\n",
              "      <td>NaN</td>\n",
              "      <td>NaN</td>\n",
              "      <td>NaN</td>\n",
              "      <td>NaN</td>\n",
              "      <td>NaN</td>\n",
              "    </tr>\n",
              "    <tr>\n",
              "      <th>traveller_type</th>\n",
              "      <td>39755</td>\n",
              "      <td>4</td>\n",
              "      <td>Solo Leisure</td>\n",
              "      <td>14798</td>\n",
              "      <td>NaN</td>\n",
              "      <td>NaN</td>\n",
              "      <td>NaN</td>\n",
              "      <td>NaN</td>\n",
              "      <td>NaN</td>\n",
              "      <td>NaN</td>\n",
              "      <td>NaN</td>\n",
              "    </tr>\n",
              "    <tr>\n",
              "      <th>cabin</th>\n",
              "      <td>63303</td>\n",
              "      <td>4</td>\n",
              "      <td>Economy Class</td>\n",
              "      <td>48558</td>\n",
              "      <td>NaN</td>\n",
              "      <td>NaN</td>\n",
              "      <td>NaN</td>\n",
              "      <td>NaN</td>\n",
              "      <td>NaN</td>\n",
              "      <td>NaN</td>\n",
              "      <td>NaN</td>\n",
              "    </tr>\n",
              "    <tr>\n",
              "      <th>route</th>\n",
              "      <td>39726</td>\n",
              "      <td>24549</td>\n",
              "      <td>Bangkok to Hong Kong</td>\n",
              "      <td>35</td>\n",
              "      <td>NaN</td>\n",
              "      <td>NaN</td>\n",
              "      <td>NaN</td>\n",
              "      <td>NaN</td>\n",
              "      <td>NaN</td>\n",
              "      <td>NaN</td>\n",
              "      <td>NaN</td>\n",
              "    </tr>\n",
              "    <tr>\n",
              "      <th>date_flown</th>\n",
              "      <td>39633</td>\n",
              "      <td>63</td>\n",
              "      <td>August 2015</td>\n",
              "      <td>1204</td>\n",
              "      <td>NaN</td>\n",
              "      <td>NaN</td>\n",
              "      <td>NaN</td>\n",
              "      <td>NaN</td>\n",
              "      <td>NaN</td>\n",
              "      <td>NaN</td>\n",
              "      <td>NaN</td>\n",
              "    </tr>\n",
              "    <tr>\n",
              "      <th>seat_comfort</th>\n",
              "      <td>60681.0</td>\n",
              "      <td>NaN</td>\n",
              "      <td>NaN</td>\n",
              "      <td>NaN</td>\n",
              "      <td>2.95216</td>\n",
              "      <td>1.441362</td>\n",
              "      <td>1.0</td>\n",
              "      <td>1.0</td>\n",
              "      <td>3.0</td>\n",
              "      <td>4.0</td>\n",
              "      <td>5.0</td>\n",
              "    </tr>\n",
              "    <tr>\n",
              "      <th>cabin_service</th>\n",
              "      <td>60715.0</td>\n",
              "      <td>NaN</td>\n",
              "      <td>NaN</td>\n",
              "      <td>NaN</td>\n",
              "      <td>3.191814</td>\n",
              "      <td>1.565789</td>\n",
              "      <td>1.0</td>\n",
              "      <td>2.0</td>\n",
              "      <td>3.0</td>\n",
              "      <td>5.0</td>\n",
              "      <td>5.0</td>\n",
              "    </tr>\n",
              "    <tr>\n",
              "      <th>food_bev</th>\n",
              "      <td>52608.0</td>\n",
              "      <td>NaN</td>\n",
              "      <td>NaN</td>\n",
              "      <td>NaN</td>\n",
              "      <td>2.90817</td>\n",
              "      <td>1.481893</td>\n",
              "      <td>1.0</td>\n",
              "      <td>1.0</td>\n",
              "      <td>3.0</td>\n",
              "      <td>4.0</td>\n",
              "      <td>5.0</td>\n",
              "    </tr>\n",
              "    <tr>\n",
              "      <th>entertainment</th>\n",
              "      <td>44193.0</td>\n",
              "      <td>NaN</td>\n",
              "      <td>NaN</td>\n",
              "      <td>NaN</td>\n",
              "      <td>2.863372</td>\n",
              "      <td>1.507262</td>\n",
              "      <td>1.0</td>\n",
              "      <td>1.0</td>\n",
              "      <td>3.0</td>\n",
              "      <td>4.0</td>\n",
              "      <td>5.0</td>\n",
              "    </tr>\n",
              "    <tr>\n",
              "      <th>ground_service</th>\n",
              "      <td>39358.0</td>\n",
              "      <td>NaN</td>\n",
              "      <td>NaN</td>\n",
              "      <td>NaN</td>\n",
              "      <td>2.69282</td>\n",
              "      <td>1.612215</td>\n",
              "      <td>1.0</td>\n",
              "      <td>1.0</td>\n",
              "      <td>3.0</td>\n",
              "      <td>4.0</td>\n",
              "      <td>5.0</td>\n",
              "    </tr>\n",
              "    <tr>\n",
              "      <th>value_for_money</th>\n",
              "      <td>63975.0</td>\n",
              "      <td>NaN</td>\n",
              "      <td>NaN</td>\n",
              "      <td>NaN</td>\n",
              "      <td>2.943962</td>\n",
              "      <td>1.58737</td>\n",
              "      <td>1.0</td>\n",
              "      <td>1.0</td>\n",
              "      <td>3.0</td>\n",
              "      <td>4.0</td>\n",
              "      <td>5.0</td>\n",
              "    </tr>\n",
              "    <tr>\n",
              "      <th>recommended</th>\n",
              "      <td>64440</td>\n",
              "      <td>2</td>\n",
              "      <td>no</td>\n",
              "      <td>33894</td>\n",
              "      <td>NaN</td>\n",
              "      <td>NaN</td>\n",
              "      <td>NaN</td>\n",
              "      <td>NaN</td>\n",
              "      <td>NaN</td>\n",
              "      <td>NaN</td>\n",
              "      <td>NaN</td>\n",
              "    </tr>\n",
              "  </tbody>\n",
              "</table>\n",
              "</div>\n",
              "      <button class=\"colab-df-convert\" onclick=\"convertToInteractive('df-50864dfc-104b-4cca-8325-af73c9964f29')\"\n",
              "              title=\"Convert this dataframe to an interactive table.\"\n",
              "              style=\"display:none;\">\n",
              "        \n",
              "  <svg xmlns=\"http://www.w3.org/2000/svg\" height=\"24px\"viewBox=\"0 0 24 24\"\n",
              "       width=\"24px\">\n",
              "    <path d=\"M0 0h24v24H0V0z\" fill=\"none\"/>\n",
              "    <path d=\"M18.56 5.44l.94 2.06.94-2.06 2.06-.94-2.06-.94-.94-2.06-.94 2.06-2.06.94zm-11 1L8.5 8.5l.94-2.06 2.06-.94-2.06-.94L8.5 2.5l-.94 2.06-2.06.94zm10 10l.94 2.06.94-2.06 2.06-.94-2.06-.94-.94-2.06-.94 2.06-2.06.94z\"/><path d=\"M17.41 7.96l-1.37-1.37c-.4-.4-.92-.59-1.43-.59-.52 0-1.04.2-1.43.59L10.3 9.45l-7.72 7.72c-.78.78-.78 2.05 0 2.83L4 21.41c.39.39.9.59 1.41.59.51 0 1.02-.2 1.41-.59l7.78-7.78 2.81-2.81c.8-.78.8-2.07 0-2.86zM5.41 20L4 18.59l7.72-7.72 1.47 1.35L5.41 20z\"/>\n",
              "  </svg>\n",
              "      </button>\n",
              "      \n",
              "  <style>\n",
              "    .colab-df-container {\n",
              "      display:flex;\n",
              "      flex-wrap:wrap;\n",
              "      gap: 12px;\n",
              "    }\n",
              "\n",
              "    .colab-df-convert {\n",
              "      background-color: #E8F0FE;\n",
              "      border: none;\n",
              "      border-radius: 50%;\n",
              "      cursor: pointer;\n",
              "      display: none;\n",
              "      fill: #1967D2;\n",
              "      height: 32px;\n",
              "      padding: 0 0 0 0;\n",
              "      width: 32px;\n",
              "    }\n",
              "\n",
              "    .colab-df-convert:hover {\n",
              "      background-color: #E2EBFA;\n",
              "      box-shadow: 0px 1px 2px rgba(60, 64, 67, 0.3), 0px 1px 3px 1px rgba(60, 64, 67, 0.15);\n",
              "      fill: #174EA6;\n",
              "    }\n",
              "\n",
              "    [theme=dark] .colab-df-convert {\n",
              "      background-color: #3B4455;\n",
              "      fill: #D2E3FC;\n",
              "    }\n",
              "\n",
              "    [theme=dark] .colab-df-convert:hover {\n",
              "      background-color: #434B5C;\n",
              "      box-shadow: 0px 1px 3px 1px rgba(0, 0, 0, 0.15);\n",
              "      filter: drop-shadow(0px 1px 2px rgba(0, 0, 0, 0.3));\n",
              "      fill: #FFFFFF;\n",
              "    }\n",
              "  </style>\n",
              "\n",
              "      <script>\n",
              "        const buttonEl =\n",
              "          document.querySelector('#df-50864dfc-104b-4cca-8325-af73c9964f29 button.colab-df-convert');\n",
              "        buttonEl.style.display =\n",
              "          google.colab.kernel.accessAllowed ? 'block' : 'none';\n",
              "\n",
              "        async function convertToInteractive(key) {\n",
              "          const element = document.querySelector('#df-50864dfc-104b-4cca-8325-af73c9964f29');\n",
              "          const dataTable =\n",
              "            await google.colab.kernel.invokeFunction('convertToInteractive',\n",
              "                                                     [key], {});\n",
              "          if (!dataTable) return;\n",
              "\n",
              "          const docLinkHtml = 'Like what you see? Visit the ' +\n",
              "            '<a target=\"_blank\" href=https://colab.research.google.com/notebooks/data_table.ipynb>data table notebook</a>'\n",
              "            + ' to learn more about interactive tables.';\n",
              "          element.innerHTML = '';\n",
              "          dataTable['output_type'] = 'display_data';\n",
              "          await google.colab.output.renderOutput(dataTable, element);\n",
              "          const docLink = document.createElement('div');\n",
              "          docLink.innerHTML = docLinkHtml;\n",
              "          element.appendChild(docLink);\n",
              "        }\n",
              "      </script>\n",
              "    </div>\n",
              "  </div>\n",
              "  "
            ]
          },
          "metadata": {},
          "execution_count": 8
        }
      ],
      "source": [
        "# description of data\n",
        "df.describe(include='all').T"
      ]
    },
    {
      "cell_type": "code",
      "execution_count": 9,
      "metadata": {
        "colab": {
          "base_uri": "https://localhost:8080/"
        },
        "id": "MdFlAjbc-aGe",
        "outputId": "c3343d8a-0de0-4f7c-d9da-22b359abe959"
      },
      "outputs": [
        {
          "output_type": "stream",
          "name": "stdout",
          "text": [
            "<class 'pandas.core.frame.DataFrame'>\n",
            "RangeIndex: 131895 entries, 0 to 131894\n",
            "Data columns (total 17 columns):\n",
            " #   Column           Non-Null Count  Dtype  \n",
            "---  ------           --------------  -----  \n",
            " 0   airline          65947 non-null  object \n",
            " 1   overall          64017 non-null  float64\n",
            " 2   author           65947 non-null  object \n",
            " 3   review_date      65947 non-null  object \n",
            " 4   customer_review  65947 non-null  object \n",
            " 5   aircraft         19718 non-null  object \n",
            " 6   traveller_type   39755 non-null  object \n",
            " 7   cabin            63303 non-null  object \n",
            " 8   route            39726 non-null  object \n",
            " 9   date_flown       39633 non-null  object \n",
            " 10  seat_comfort     60681 non-null  float64\n",
            " 11  cabin_service    60715 non-null  float64\n",
            " 12  food_bev         52608 non-null  float64\n",
            " 13  entertainment    44193 non-null  float64\n",
            " 14  ground_service   39358 non-null  float64\n",
            " 15  value_for_money  63975 non-null  float64\n",
            " 16  recommended      64440 non-null  object \n",
            "dtypes: float64(7), object(10)\n",
            "memory usage: 17.1+ MB\n"
          ]
        }
      ],
      "source": [
        "#information about dataset\n",
        "df.info()\n"
      ]
    },
    {
      "cell_type": "code",
      "execution_count": 10,
      "metadata": {
        "id": "j6OtG98te5Qb"
      },
      "outputs": [],
      "source": [
        "#dropping unneccessary columns\n",
        "df=df.drop(columns=['author','review_date','customer_review','aircraft','date_flown'])"
      ]
    },
    {
      "cell_type": "markdown",
      "source": [
        "These columns are irrelevant with respect to dependent variable hence i am dropping this columns."
      ],
      "metadata": {
        "id": "dwVQtI7sPlP4"
      }
    },
    {
      "cell_type": "code",
      "execution_count": 11,
      "metadata": {
        "colab": {
          "base_uri": "https://localhost:8080/"
        },
        "id": "GoSCcB0Y-rM1",
        "outputId": "72c27c8f-57a0-4fb8-e85d-c0ad365a8c8e"
      },
      "outputs": [
        {
          "output_type": "execute_result",
          "data": {
            "text/plain": [
              "airline               81\n",
              "overall               10\n",
              "traveller_type         4\n",
              "cabin                  4\n",
              "route              24549\n",
              "seat_comfort           5\n",
              "cabin_service          5\n",
              "food_bev               5\n",
              "entertainment          5\n",
              "ground_service         5\n",
              "value_for_money        5\n",
              "recommended            2\n",
              "dtype: int64"
            ]
          },
          "metadata": {},
          "execution_count": 11
        }
      ],
      "source": [
        "#unique values\n",
        "df.nunique()"
      ]
    },
    {
      "cell_type": "code",
      "execution_count": 12,
      "metadata": {
        "colab": {
          "base_uri": "https://localhost:8080/"
        },
        "id": "-25KWK2-_Et_",
        "outputId": "962db22d-b152-4c28-85f2-af36b167bd9a"
      },
      "outputs": [
        {
          "output_type": "execute_result",
          "data": {
            "text/plain": [
              "airline            11581\n",
              "overall            10863\n",
              "traveller_type      2412\n",
              "cabin               9905\n",
              "route               2409\n",
              "seat_comfort        8772\n",
              "cabin_service       8802\n",
              "food_bev            8314\n",
              "entertainment       7477\n",
              "ground_service      2385\n",
              "value_for_money    10362\n",
              "recommended        10566\n",
              "dtype: int64"
            ]
          },
          "metadata": {},
          "execution_count": 12
        }
      ],
      "source": [
        "\n",
        "#duplicate values\n",
        "df[df.duplicated()].count()"
      ]
    },
    {
      "cell_type": "code",
      "execution_count": 13,
      "metadata": {
        "id": "2aYawFgZBEgY"
      },
      "outputs": [],
      "source": [
        "#Droping duplicate rows\n",
        "df.drop_duplicates(inplace=True)"
      ]
    },
    {
      "cell_type": "code",
      "execution_count": 14,
      "metadata": {
        "colab": {
          "base_uri": "https://localhost:8080/"
        },
        "id": "FfsPB8PeJKMD",
        "outputId": "79221be7-bca6-4f94-88e5-fd49514b40cd"
      },
      "outputs": [
        {
          "output_type": "execute_result",
          "data": {
            "text/plain": [
              "airline            0\n",
              "overall            0\n",
              "traveller_type     0\n",
              "cabin              0\n",
              "route              0\n",
              "seat_comfort       0\n",
              "cabin_service      0\n",
              "food_bev           0\n",
              "entertainment      0\n",
              "ground_service     0\n",
              "value_for_money    0\n",
              "recommended        0\n",
              "dtype: int64"
            ]
          },
          "metadata": {},
          "execution_count": 14
        }
      ],
      "source": [
        "#checking duplicates\n",
        "df[df.duplicated()].count()\n",
        "\n"
      ]
    },
    {
      "cell_type": "code",
      "execution_count": 15,
      "metadata": {
        "id": "RtgrYkUb7DTA"
      },
      "outputs": [],
      "source": [
        "# remove NAN values from dataset\n",
        "df.dropna(how='all',inplace=True)"
      ]
    },
    {
      "cell_type": "code",
      "execution_count": 16,
      "metadata": {
        "colab": {
          "base_uri": "https://localhost:8080/"
        },
        "id": "lNkqpR-Rr7zf",
        "outputId": "f298db76-2689-469a-b018-97889f174adf"
      },
      "outputs": [
        {
          "output_type": "execute_result",
          "data": {
            "text/plain": [
              "airline                0\n",
              "overall             1212\n",
              "traveller_type     17023\n",
              "cabin                968\n",
              "route              17049\n",
              "seat_comfort        2457\n",
              "cabin_service       2453\n",
              "food_bev           10072\n",
              "entertainment      17650\n",
              "ground_service     17393\n",
              "value_for_money      753\n",
              "recommended          492\n",
              "dtype: int64"
            ]
          },
          "metadata": {},
          "execution_count": 16
        }
      ],
      "source": [
        "# null values check\n",
        "df.isnull().sum()"
      ]
    },
    {
      "cell_type": "code",
      "execution_count": 17,
      "metadata": {
        "id": "iWVEmszSh8vO"
      },
      "outputs": [],
      "source": [
        "#remove the rows where recommended value is null\n",
        "df.drop(df[df['recommended'].isnull()].index, inplace = True)"
      ]
    },
    {
      "cell_type": "code",
      "execution_count": 18,
      "metadata": {
        "id": "hD9jUSlwAz0l"
      },
      "outputs": [],
      "source": [
        "#checking null \n",
        "a=df.isnull().sum()/len(df)*100\n",
        "b=a.sort_values(ascending=False)"
      ]
    },
    {
      "cell_type": "code",
      "execution_count": 19,
      "metadata": {
        "colab": {
          "base_uri": "https://localhost:8080/"
        },
        "id": "do3wvizNmt2t",
        "outputId": "55fc4560-8e5c-492c-d77d-12608e94726a"
      },
      "outputs": [
        {
          "output_type": "execute_result",
          "data": {
            "text/plain": [
              "entertainment      31.848387\n",
              "ground_service     31.371348\n",
              "route              30.734677\n",
              "traveller_type     30.686416\n",
              "food_bev           17.782233\n",
              "seat_comfort        3.647399\n",
              "cabin_service       3.639975\n",
              "overall             2.221851\n",
              "cabin               0.885399\n",
              "value_for_money     0.484464\n",
              "airline             0.000000\n",
              "recommended         0.000000\n",
              "dtype: float64"
            ]
          },
          "metadata": {},
          "execution_count": 19
        }
      ],
      "source": [
        "#Null values percentage\n",
        "b"
      ]
    },
    {
      "cell_type": "markdown",
      "metadata": {
        "id": "w99jh3bfVORY"
      },
      "source": [
        "#Null values imputation"
      ]
    },
    {
      "cell_type": "code",
      "execution_count": 20,
      "metadata": {
        "colab": {
          "base_uri": "https://localhost:8080/"
        },
        "id": "rfYvgUKhWdHs",
        "outputId": "4dae6f2a-4b23-432a-a189-23e0175c3aaf"
      },
      "outputs": [
        {
          "output_type": "execute_result",
          "data": {
            "text/plain": [
              "entertainment      17158\n",
              "ground_service     16901\n",
              "route              16558\n",
              "traveller_type     16532\n",
              "food_bev            9580\n",
              "seat_comfort        1965\n",
              "cabin_service       1961\n",
              "overall             1197\n",
              "cabin                477\n",
              "value_for_money      261\n",
              "airline                0\n",
              "recommended            0\n",
              "dtype: int64"
            ]
          },
          "metadata": {},
          "execution_count": 20
        }
      ],
      "source": [
        "#null values count in sorted order \n",
        "df.isnull().sum().sort_values(ascending=False)"
      ]
    },
    {
      "cell_type": "code",
      "execution_count": 21,
      "metadata": {
        "id": "oBakPnkDiA9E"
      },
      "outputs": [],
      "source": [
        "# replacing the columns with imputing values in new columns.\n",
        "new_df = df[['overall','seat_comfort','cabin_service','food_bev','entertainment','ground_service', 'value_for_money']]"
      ]
    },
    {
      "cell_type": "code",
      "execution_count": 22,
      "metadata": {
        "id": "gku-gUjrrk0j"
      },
      "outputs": [],
      "source": [
        "# Filling null values with KNN Imputer\n",
        "from sklearn.impute import KNNImputer\n",
        "imputer=KNNImputer(n_neighbors=5)\n",
        "new_df = pd.DataFrame(imputer.fit_transform(new_df),columns = new_df.columns)"
      ]
    },
    {
      "cell_type": "code",
      "execution_count": 23,
      "metadata": {
        "id": "6O6SP1TPjVuL"
      },
      "outputs": [],
      "source": [
        "#drop columns\n",
        "df = df.drop(columns = ['seat_comfort','traveller_type','route','food_bev','cabin_service','overall','entertainment','ground_service', 'value_for_money'])\n"
      ]
    },
    {
      "cell_type": "code",
      "execution_count": 24,
      "metadata": {
        "colab": {
          "base_uri": "https://localhost:8080/"
        },
        "id": "Rap4DJn3f_7u",
        "outputId": "85cfa53e-f89e-48c0-c513-c80c8ded27d4"
      },
      "outputs": [
        {
          "output_type": "stream",
          "name": "stdout",
          "text": [
            "<class 'pandas.core.frame.DataFrame'>\n",
            "RangeIndex: 53874 entries, 0 to 53873\n",
            "Data columns (total 7 columns):\n",
            " #   Column           Non-Null Count  Dtype  \n",
            "---  ------           --------------  -----  \n",
            " 0   overall          53874 non-null  float64\n",
            " 1   seat_comfort     53874 non-null  float64\n",
            " 2   cabin_service    53874 non-null  float64\n",
            " 3   food_bev         53874 non-null  float64\n",
            " 4   entertainment    53874 non-null  float64\n",
            " 5   ground_service   53874 non-null  float64\n",
            " 6   value_for_money  53874 non-null  float64\n",
            "dtypes: float64(7)\n",
            "memory usage: 2.9 MB\n"
          ]
        }
      ],
      "source": [
        "#info of new dataset\n",
        "new_df.info()\n"
      ]
    },
    {
      "cell_type": "code",
      "execution_count": 25,
      "metadata": {
        "colab": {
          "base_uri": "https://localhost:8080/"
        },
        "id": "kxNcQLcgk0cy",
        "outputId": "1e074a84-aa7e-4c3f-99d8-54be0a37cdfd"
      },
      "outputs": [
        {
          "output_type": "execute_result",
          "data": {
            "text/plain": [
              "overall            0\n",
              "seat_comfort       0\n",
              "cabin_service      0\n",
              "food_bev           0\n",
              "entertainment      0\n",
              "ground_service     0\n",
              "value_for_money    0\n",
              "dtype: int64"
            ]
          },
          "metadata": {},
          "execution_count": 25
        }
      ],
      "source": [
        "#null value count\n",
        "new_df.isnull().sum()"
      ]
    },
    {
      "cell_type": "code",
      "execution_count": 26,
      "metadata": {
        "id": "jtHdX0vukaxY"
      },
      "outputs": [],
      "source": [
        "#concatenate old and new dataframe\n",
        "df = pd.concat([df.reset_index(),new_df.reset_index()], axis =1)\n"
      ]
    },
    {
      "cell_type": "code",
      "execution_count": 27,
      "metadata": {
        "id": "yeoZmwwNoIoD"
      },
      "outputs": [],
      "source": [
        "#showing datatypes in dataset\n",
        "df = df.select_dtypes(include=['object','float64'])"
      ]
    },
    {
      "cell_type": "code",
      "execution_count": 28,
      "metadata": {
        "id": "6KruuaONam9z"
      },
      "outputs": [],
      "source": [
        "df = df.reindex(columns=['airline', 'overall', 'cabin', 'seat_comfort','cabin_service', 'food_bev', 'entertainment', 'ground_service', 'value_for_money', 'recommended'])"
      ]
    },
    {
      "cell_type": "code",
      "execution_count": 29,
      "metadata": {
        "colab": {
          "base_uri": "https://localhost:8080/",
          "height": 424
        },
        "id": "vVrYKfZAmsFe",
        "outputId": "9d023b04-c5ea-41ef-e3c6-74575c2c9bf4"
      },
      "outputs": [
        {
          "output_type": "execute_result",
          "data": {
            "text/plain": [
              "                     airline  overall          cabin  seat_comfort  \\\n",
              "0           Turkish Airlines      7.0  Economy Class           4.0   \n",
              "1           Turkish Airlines      2.0  Economy Class           4.0   \n",
              "2           Turkish Airlines      3.0  Economy Class           1.0   \n",
              "3           Turkish Airlines     10.0  Economy Class           4.0   \n",
              "4           Turkish Airlines      1.0  Economy Class           1.0   \n",
              "...                      ...      ...            ...           ...   \n",
              "53869  Ukraine International      5.0  Economy Class           3.0   \n",
              "53870  Ukraine International      2.0            NaN           2.0   \n",
              "53871  Ukraine International      3.0            NaN           2.0   \n",
              "53872  Ukraine International      4.0            NaN           3.0   \n",
              "53873  Ukraine International      5.0            NaN           3.0   \n",
              "\n",
              "       cabin_service  food_bev  entertainment  ground_service  \\\n",
              "0                5.0       4.0            4.0             2.0   \n",
              "1                1.0       1.0            1.0             1.0   \n",
              "2                4.0       1.0            3.0             1.0   \n",
              "3                5.0       5.0            5.0             5.0   \n",
              "4                1.0       1.0            1.0             1.0   \n",
              "...              ...       ...            ...             ...   \n",
              "53869            2.0       3.0            4.0             2.0   \n",
              "53870            2.0       2.0            1.0             1.0   \n",
              "53871            2.0       3.0            3.0             3.0   \n",
              "53872            4.0       2.0            2.0             2.0   \n",
              "53873            3.0       3.0            3.0             3.0   \n",
              "\n",
              "       value_for_money recommended  \n",
              "0                  4.0         yes  \n",
              "1                  1.0          no  \n",
              "2                  2.0          no  \n",
              "3                  5.0         yes  \n",
              "4                  1.0          no  \n",
              "...                ...         ...  \n",
              "53869              4.0          no  \n",
              "53870              2.0          no  \n",
              "53871              2.0          no  \n",
              "53872              2.0          no  \n",
              "53873              3.0          no  \n",
              "\n",
              "[53874 rows x 10 columns]"
            ],
            "text/html": [
              "\n",
              "  <div id=\"df-487e1614-38b5-41c7-b1ec-7b20be3d2678\">\n",
              "    <div class=\"colab-df-container\">\n",
              "      <div>\n",
              "<style scoped>\n",
              "    .dataframe tbody tr th:only-of-type {\n",
              "        vertical-align: middle;\n",
              "    }\n",
              "\n",
              "    .dataframe tbody tr th {\n",
              "        vertical-align: top;\n",
              "    }\n",
              "\n",
              "    .dataframe thead th {\n",
              "        text-align: right;\n",
              "    }\n",
              "</style>\n",
              "<table border=\"1\" class=\"dataframe\">\n",
              "  <thead>\n",
              "    <tr style=\"text-align: right;\">\n",
              "      <th></th>\n",
              "      <th>airline</th>\n",
              "      <th>overall</th>\n",
              "      <th>cabin</th>\n",
              "      <th>seat_comfort</th>\n",
              "      <th>cabin_service</th>\n",
              "      <th>food_bev</th>\n",
              "      <th>entertainment</th>\n",
              "      <th>ground_service</th>\n",
              "      <th>value_for_money</th>\n",
              "      <th>recommended</th>\n",
              "    </tr>\n",
              "  </thead>\n",
              "  <tbody>\n",
              "    <tr>\n",
              "      <th>0</th>\n",
              "      <td>Turkish Airlines</td>\n",
              "      <td>7.0</td>\n",
              "      <td>Economy Class</td>\n",
              "      <td>4.0</td>\n",
              "      <td>5.0</td>\n",
              "      <td>4.0</td>\n",
              "      <td>4.0</td>\n",
              "      <td>2.0</td>\n",
              "      <td>4.0</td>\n",
              "      <td>yes</td>\n",
              "    </tr>\n",
              "    <tr>\n",
              "      <th>1</th>\n",
              "      <td>Turkish Airlines</td>\n",
              "      <td>2.0</td>\n",
              "      <td>Economy Class</td>\n",
              "      <td>4.0</td>\n",
              "      <td>1.0</td>\n",
              "      <td>1.0</td>\n",
              "      <td>1.0</td>\n",
              "      <td>1.0</td>\n",
              "      <td>1.0</td>\n",
              "      <td>no</td>\n",
              "    </tr>\n",
              "    <tr>\n",
              "      <th>2</th>\n",
              "      <td>Turkish Airlines</td>\n",
              "      <td>3.0</td>\n",
              "      <td>Economy Class</td>\n",
              "      <td>1.0</td>\n",
              "      <td>4.0</td>\n",
              "      <td>1.0</td>\n",
              "      <td>3.0</td>\n",
              "      <td>1.0</td>\n",
              "      <td>2.0</td>\n",
              "      <td>no</td>\n",
              "    </tr>\n",
              "    <tr>\n",
              "      <th>3</th>\n",
              "      <td>Turkish Airlines</td>\n",
              "      <td>10.0</td>\n",
              "      <td>Economy Class</td>\n",
              "      <td>4.0</td>\n",
              "      <td>5.0</td>\n",
              "      <td>5.0</td>\n",
              "      <td>5.0</td>\n",
              "      <td>5.0</td>\n",
              "      <td>5.0</td>\n",
              "      <td>yes</td>\n",
              "    </tr>\n",
              "    <tr>\n",
              "      <th>4</th>\n",
              "      <td>Turkish Airlines</td>\n",
              "      <td>1.0</td>\n",
              "      <td>Economy Class</td>\n",
              "      <td>1.0</td>\n",
              "      <td>1.0</td>\n",
              "      <td>1.0</td>\n",
              "      <td>1.0</td>\n",
              "      <td>1.0</td>\n",
              "      <td>1.0</td>\n",
              "      <td>no</td>\n",
              "    </tr>\n",
              "    <tr>\n",
              "      <th>...</th>\n",
              "      <td>...</td>\n",
              "      <td>...</td>\n",
              "      <td>...</td>\n",
              "      <td>...</td>\n",
              "      <td>...</td>\n",
              "      <td>...</td>\n",
              "      <td>...</td>\n",
              "      <td>...</td>\n",
              "      <td>...</td>\n",
              "      <td>...</td>\n",
              "    </tr>\n",
              "    <tr>\n",
              "      <th>53869</th>\n",
              "      <td>Ukraine International</td>\n",
              "      <td>5.0</td>\n",
              "      <td>Economy Class</td>\n",
              "      <td>3.0</td>\n",
              "      <td>2.0</td>\n",
              "      <td>3.0</td>\n",
              "      <td>4.0</td>\n",
              "      <td>2.0</td>\n",
              "      <td>4.0</td>\n",
              "      <td>no</td>\n",
              "    </tr>\n",
              "    <tr>\n",
              "      <th>53870</th>\n",
              "      <td>Ukraine International</td>\n",
              "      <td>2.0</td>\n",
              "      <td>NaN</td>\n",
              "      <td>2.0</td>\n",
              "      <td>2.0</td>\n",
              "      <td>2.0</td>\n",
              "      <td>1.0</td>\n",
              "      <td>1.0</td>\n",
              "      <td>2.0</td>\n",
              "      <td>no</td>\n",
              "    </tr>\n",
              "    <tr>\n",
              "      <th>53871</th>\n",
              "      <td>Ukraine International</td>\n",
              "      <td>3.0</td>\n",
              "      <td>NaN</td>\n",
              "      <td>2.0</td>\n",
              "      <td>2.0</td>\n",
              "      <td>3.0</td>\n",
              "      <td>3.0</td>\n",
              "      <td>3.0</td>\n",
              "      <td>2.0</td>\n",
              "      <td>no</td>\n",
              "    </tr>\n",
              "    <tr>\n",
              "      <th>53872</th>\n",
              "      <td>Ukraine International</td>\n",
              "      <td>4.0</td>\n",
              "      <td>NaN</td>\n",
              "      <td>3.0</td>\n",
              "      <td>4.0</td>\n",
              "      <td>2.0</td>\n",
              "      <td>2.0</td>\n",
              "      <td>2.0</td>\n",
              "      <td>2.0</td>\n",
              "      <td>no</td>\n",
              "    </tr>\n",
              "    <tr>\n",
              "      <th>53873</th>\n",
              "      <td>Ukraine International</td>\n",
              "      <td>5.0</td>\n",
              "      <td>NaN</td>\n",
              "      <td>3.0</td>\n",
              "      <td>3.0</td>\n",
              "      <td>3.0</td>\n",
              "      <td>3.0</td>\n",
              "      <td>3.0</td>\n",
              "      <td>3.0</td>\n",
              "      <td>no</td>\n",
              "    </tr>\n",
              "  </tbody>\n",
              "</table>\n",
              "<p>53874 rows × 10 columns</p>\n",
              "</div>\n",
              "      <button class=\"colab-df-convert\" onclick=\"convertToInteractive('df-487e1614-38b5-41c7-b1ec-7b20be3d2678')\"\n",
              "              title=\"Convert this dataframe to an interactive table.\"\n",
              "              style=\"display:none;\">\n",
              "        \n",
              "  <svg xmlns=\"http://www.w3.org/2000/svg\" height=\"24px\"viewBox=\"0 0 24 24\"\n",
              "       width=\"24px\">\n",
              "    <path d=\"M0 0h24v24H0V0z\" fill=\"none\"/>\n",
              "    <path d=\"M18.56 5.44l.94 2.06.94-2.06 2.06-.94-2.06-.94-.94-2.06-.94 2.06-2.06.94zm-11 1L8.5 8.5l.94-2.06 2.06-.94-2.06-.94L8.5 2.5l-.94 2.06-2.06.94zm10 10l.94 2.06.94-2.06 2.06-.94-2.06-.94-.94-2.06-.94 2.06-2.06.94z\"/><path d=\"M17.41 7.96l-1.37-1.37c-.4-.4-.92-.59-1.43-.59-.52 0-1.04.2-1.43.59L10.3 9.45l-7.72 7.72c-.78.78-.78 2.05 0 2.83L4 21.41c.39.39.9.59 1.41.59.51 0 1.02-.2 1.41-.59l7.78-7.78 2.81-2.81c.8-.78.8-2.07 0-2.86zM5.41 20L4 18.59l7.72-7.72 1.47 1.35L5.41 20z\"/>\n",
              "  </svg>\n",
              "      </button>\n",
              "      \n",
              "  <style>\n",
              "    .colab-df-container {\n",
              "      display:flex;\n",
              "      flex-wrap:wrap;\n",
              "      gap: 12px;\n",
              "    }\n",
              "\n",
              "    .colab-df-convert {\n",
              "      background-color: #E8F0FE;\n",
              "      border: none;\n",
              "      border-radius: 50%;\n",
              "      cursor: pointer;\n",
              "      display: none;\n",
              "      fill: #1967D2;\n",
              "      height: 32px;\n",
              "      padding: 0 0 0 0;\n",
              "      width: 32px;\n",
              "    }\n",
              "\n",
              "    .colab-df-convert:hover {\n",
              "      background-color: #E2EBFA;\n",
              "      box-shadow: 0px 1px 2px rgba(60, 64, 67, 0.3), 0px 1px 3px 1px rgba(60, 64, 67, 0.15);\n",
              "      fill: #174EA6;\n",
              "    }\n",
              "\n",
              "    [theme=dark] .colab-df-convert {\n",
              "      background-color: #3B4455;\n",
              "      fill: #D2E3FC;\n",
              "    }\n",
              "\n",
              "    [theme=dark] .colab-df-convert:hover {\n",
              "      background-color: #434B5C;\n",
              "      box-shadow: 0px 1px 3px 1px rgba(0, 0, 0, 0.15);\n",
              "      filter: drop-shadow(0px 1px 2px rgba(0, 0, 0, 0.3));\n",
              "      fill: #FFFFFF;\n",
              "    }\n",
              "  </style>\n",
              "\n",
              "      <script>\n",
              "        const buttonEl =\n",
              "          document.querySelector('#df-487e1614-38b5-41c7-b1ec-7b20be3d2678 button.colab-df-convert');\n",
              "        buttonEl.style.display =\n",
              "          google.colab.kernel.accessAllowed ? 'block' : 'none';\n",
              "\n",
              "        async function convertToInteractive(key) {\n",
              "          const element = document.querySelector('#df-487e1614-38b5-41c7-b1ec-7b20be3d2678');\n",
              "          const dataTable =\n",
              "            await google.colab.kernel.invokeFunction('convertToInteractive',\n",
              "                                                     [key], {});\n",
              "          if (!dataTable) return;\n",
              "\n",
              "          const docLinkHtml = 'Like what you see? Visit the ' +\n",
              "            '<a target=\"_blank\" href=https://colab.research.google.com/notebooks/data_table.ipynb>data table notebook</a>'\n",
              "            + ' to learn more about interactive tables.';\n",
              "          element.innerHTML = '';\n",
              "          dataTable['output_type'] = 'display_data';\n",
              "          await google.colab.output.renderOutput(dataTable, element);\n",
              "          const docLink = document.createElement('div');\n",
              "          docLink.innerHTML = docLinkHtml;\n",
              "          element.appendChild(docLink);\n",
              "        }\n",
              "      </script>\n",
              "    </div>\n",
              "  </div>\n",
              "  "
            ]
          },
          "metadata": {},
          "execution_count": 29
        }
      ],
      "source": [
        "#dataframe\n",
        "df=round(df)\n",
        "df"
      ]
    },
    {
      "cell_type": "markdown",
      "metadata": {
        "id": "R9f7vO_tR6bO"
      },
      "source": [
        "##EXPLORATORY DATA ANALYSIS"
      ]
    },
    {
      "cell_type": "markdown",
      "metadata": {
        "id": "ZFWYaLhNSbRe"
      },
      "source": [
        "##Outlier detection"
      ]
    },
    {
      "cell_type": "code",
      "execution_count": 30,
      "metadata": {
        "colab": {
          "base_uri": "https://localhost:8080/",
          "height": 527
        },
        "id": "NogZtqAGRhTp",
        "outputId": "b55e0912-f7c6-4db2-cf59-b444cf496f2a"
      },
      "outputs": [
        {
          "output_type": "execute_result",
          "data": {
            "text/plain": [
              "Text(0, 0.5, 'rating')"
            ]
          },
          "metadata": {},
          "execution_count": 30
        },
        {
          "output_type": "display_data",
          "data": {
            "text/plain": [
              "<Figure size 1152x576 with 1 Axes>"
            ],
            "image/png": "[encoded data removed]"
          },
          "metadata": {
            "needs_background": "light"
          }
        }
      ],
      "source": [
        "#boxplot\n",
        "#figuresize\n",
        "plt.figure(figsize =(16, 8))\n",
        "#plotting boxplot \n",
        "sns.boxplot(data=df)\n",
        "#Fontsize\n",
        "plt.xticks(fontsize=14)\n",
        "plt.yticks(fontsize=14)\n",
        "#Labels\n",
        "plt.xlabel('features', fontsize= 20)\n",
        "plt.ylabel('rating', fontsize= 20)"
      ]
    },
    {
      "cell_type": "markdown",
      "metadata": {
        "id": "v8fwTAUEYLzY"
      },
      "source": [
        "##Observations\n",
        "\n",
        "Outliers are not present in data.\n",
        "\n",
        "The median of 'Overall' is 5, The median of other features are approximately 3."
      ]
    },
    {
      "cell_type": "markdown",
      "metadata": {
        "id": "KoOw55jkcnSv"
      },
      "source": [
        "##2)Which type of Cabin has more recommendation?"
      ]
    },
    {
      "cell_type": "code",
      "execution_count": 31,
      "metadata": {
        "colab": {
          "base_uri": "https://localhost:8080/",
          "height": 206
        },
        "id": "sArj_qRnePFj",
        "outputId": "ae1149a5-f42a-4e09-fd31-41683215cd71"
      },
      "outputs": [
        {
          "output_type": "execute_result",
          "data": {
            "text/plain": [
              "            airline  overall          cabin  seat_comfort  cabin_service  \\\n",
              "0  Turkish Airlines      7.0  Economy Class           4.0            5.0   \n",
              "1  Turkish Airlines      2.0  Economy Class           4.0            1.0   \n",
              "2  Turkish Airlines      3.0  Economy Class           1.0            4.0   \n",
              "3  Turkish Airlines     10.0  Economy Class           4.0            5.0   \n",
              "4  Turkish Airlines      1.0  Economy Class           1.0            1.0   \n",
              "\n",
              "   food_bev  entertainment  ground_service  value_for_money recommended  \n",
              "0       4.0            4.0             2.0              4.0         yes  \n",
              "1       1.0            1.0             1.0              1.0          no  \n",
              "2       1.0            3.0             1.0              2.0          no  \n",
              "3       5.0            5.0             5.0              5.0         yes  \n",
              "4       1.0            1.0             1.0              1.0          no  "
            ],
            "text/html": [
              "\n",
              "  <div id=\"df-a09cc3f8-6273-4d3b-a896-1f8b63cd55e2\">\n",
              "    <div class=\"colab-df-container\">\n",
              "      <div>\n",
              "<style scoped>\n",
              "    .dataframe tbody tr th:only-of-type {\n",
              "        vertical-align: middle;\n",
              "    }\n",
              "\n",
              "    .dataframe tbody tr th {\n",
              "        vertical-align: top;\n",
              "    }\n",
              "\n",
              "    .dataframe thead th {\n",
              "        text-align: right;\n",
              "    }\n",
              "</style>\n",
              "<table border=\"1\" class=\"dataframe\">\n",
              "  <thead>\n",
              "    <tr style=\"text-align: right;\">\n",
              "      <th></th>\n",
              "      <th>airline</th>\n",
              "      <th>overall</th>\n",
              "      <th>cabin</th>\n",
              "      <th>seat_comfort</th>\n",
              "      <th>cabin_service</th>\n",
              "      <th>food_bev</th>\n",
              "      <th>entertainment</th>\n",
              "      <th>ground_service</th>\n",
              "      <th>value_for_money</th>\n",
              "      <th>recommended</th>\n",
              "    </tr>\n",
              "  </thead>\n",
              "  <tbody>\n",
              "    <tr>\n",
              "      <th>0</th>\n",
              "      <td>Turkish Airlines</td>\n",
              "      <td>7.0</td>\n",
              "      <td>Economy Class</td>\n",
              "      <td>4.0</td>\n",
              "      <td>5.0</td>\n",
              "      <td>4.0</td>\n",
              "      <td>4.0</td>\n",
              "      <td>2.0</td>\n",
              "      <td>4.0</td>\n",
              "      <td>yes</td>\n",
              "    </tr>\n",
              "    <tr>\n",
              "      <th>1</th>\n",
              "      <td>Turkish Airlines</td>\n",
              "      <td>2.0</td>\n",
              "      <td>Economy Class</td>\n",
              "      <td>4.0</td>\n",
              "      <td>1.0</td>\n",
              "      <td>1.0</td>\n",
              "      <td>1.0</td>\n",
              "      <td>1.0</td>\n",
              "      <td>1.0</td>\n",
              "      <td>no</td>\n",
              "    </tr>\n",
              "    <tr>\n",
              "      <th>2</th>\n",
              "      <td>Turkish Airlines</td>\n",
              "      <td>3.0</td>\n",
              "      <td>Economy Class</td>\n",
              "      <td>1.0</td>\n",
              "      <td>4.0</td>\n",
              "      <td>1.0</td>\n",
              "      <td>3.0</td>\n",
              "      <td>1.0</td>\n",
              "      <td>2.0</td>\n",
              "      <td>no</td>\n",
              "    </tr>\n",
              "    <tr>\n",
              "      <th>3</th>\n",
              "      <td>Turkish Airlines</td>\n",
              "      <td>10.0</td>\n",
              "      <td>Economy Class</td>\n",
              "      <td>4.0</td>\n",
              "      <td>5.0</td>\n",
              "      <td>5.0</td>\n",
              "      <td>5.0</td>\n",
              "      <td>5.0</td>\n",
              "      <td>5.0</td>\n",
              "      <td>yes</td>\n",
              "    </tr>\n",
              "    <tr>\n",
              "      <th>4</th>\n",
              "      <td>Turkish Airlines</td>\n",
              "      <td>1.0</td>\n",
              "      <td>Economy Class</td>\n",
              "      <td>1.0</td>\n",
              "      <td>1.0</td>\n",
              "      <td>1.0</td>\n",
              "      <td>1.0</td>\n",
              "      <td>1.0</td>\n",
              "      <td>1.0</td>\n",
              "      <td>no</td>\n",
              "    </tr>\n",
              "  </tbody>\n",
              "</table>\n",
              "</div>\n",
              "      <button class=\"colab-df-convert\" onclick=\"convertToInteractive('df-a09cc3f8-6273-4d3b-a896-1f8b63cd55e2')\"\n",
              "              title=\"Convert this dataframe to an interactive table.\"\n",
              "              style=\"display:none;\">\n",
              "        \n",
              "  <svg xmlns=\"http://www.w3.org/2000/svg\" height=\"24px\"viewBox=\"0 0 24 24\"\n",
              "       width=\"24px\">\n",
              "    <path d=\"M0 0h24v24H0V0z\" fill=\"none\"/>\n",
              "    <path d=\"M18.56 5.44l.94 2.06.94-2.06 2.06-.94-2.06-.94-.94-2.06-.94 2.06-2.06.94zm-11 1L8.5 8.5l.94-2.06 2.06-.94-2.06-.94L8.5 2.5l-.94 2.06-2.06.94zm10 10l.94 2.06.94-2.06 2.06-.94-2.06-.94-.94-2.06-.94 2.06-2.06.94z\"/><path d=\"M17.41 7.96l-1.37-1.37c-.4-.4-.92-.59-1.43-.59-.52 0-1.04.2-1.43.59L10.3 9.45l-7.72 7.72c-.78.78-.78 2.05 0 2.83L4 21.41c.39.39.9.59 1.41.59.51 0 1.02-.2 1.41-.59l7.78-7.78 2.81-2.81c.8-.78.8-2.07 0-2.86zM5.41 20L4 18.59l7.72-7.72 1.47 1.35L5.41 20z\"/>\n",
              "  </svg>\n",
              "      </button>\n",
              "      \n",
              "  <style>\n",
              "    .colab-df-container {\n",
              "      display:flex;\n",
              "      flex-wrap:wrap;\n",
              "      gap: 12px;\n",
              "    }\n",
              "\n",
              "    .colab-df-convert {\n",
              "      background-color: #E8F0FE;\n",
              "      border: none;\n",
              "      border-radius: 50%;\n",
              "      cursor: pointer;\n",
              "      display: none;\n",
              "      fill: #1967D2;\n",
              "      height: 32px;\n",
              "      padding: 0 0 0 0;\n",
              "      width: 32px;\n",
              "    }\n",
              "\n",
              "    .colab-df-convert:hover {\n",
              "      background-color: #E2EBFA;\n",
              "      box-shadow: 0px 1px 2px rgba(60, 64, 67, 0.3), 0px 1px 3px 1px rgba(60, 64, 67, 0.15);\n",
              "      fill: #174EA6;\n",
              "    }\n",
              "\n",
              "    [theme=dark] .colab-df-convert {\n",
              "      background-color: #3B4455;\n",
              "      fill: #D2E3FC;\n",
              "    }\n",
              "\n",
              "    [theme=dark] .colab-df-convert:hover {\n",
              "      background-color: #434B5C;\n",
              "      box-shadow: 0px 1px 3px 1px rgba(0, 0, 0, 0.15);\n",
              "      filter: drop-shadow(0px 1px 2px rgba(0, 0, 0, 0.3));\n",
              "      fill: #FFFFFF;\n",
              "    }\n",
              "  </style>\n",
              "\n",
              "      <script>\n",
              "        const buttonEl =\n",
              "          document.querySelector('#df-a09cc3f8-6273-4d3b-a896-1f8b63cd55e2 button.colab-df-convert');\n",
              "        buttonEl.style.display =\n",
              "          google.colab.kernel.accessAllowed ? 'block' : 'none';\n",
              "\n",
              "        async function convertToInteractive(key) {\n",
              "          const element = document.querySelector('#df-a09cc3f8-6273-4d3b-a896-1f8b63cd55e2');\n",
              "          const dataTable =\n",
              "            await google.colab.kernel.invokeFunction('convertToInteractive',\n",
              "                                                     [key], {});\n",
              "          if (!dataTable) return;\n",
              "\n",
              "          const docLinkHtml = 'Like what you see? Visit the ' +\n",
              "            '<a target=\"_blank\" href=https://colab.research.google.com/notebooks/data_table.ipynb>data table notebook</a>'\n",
              "            + ' to learn more about interactive tables.';\n",
              "          element.innerHTML = '';\n",
              "          dataTable['output_type'] = 'display_data';\n",
              "          await google.colab.output.renderOutput(dataTable, element);\n",
              "          const docLink = document.createElement('div');\n",
              "          docLink.innerHTML = docLinkHtml;\n",
              "          element.appendChild(docLink);\n",
              "        }\n",
              "      </script>\n",
              "    </div>\n",
              "  </div>\n",
              "  "
            ]
          },
          "metadata": {},
          "execution_count": 31
        }
      ],
      "source": [
        "df.head()"
      ]
    },
    {
      "cell_type": "code",
      "execution_count": 32,
      "metadata": {
        "colab": {
          "base_uri": "https://localhost:8080/",
          "height": 405
        },
        "id": "2cpNv-rMTLVz",
        "outputId": "36b13575-9f10-4984-c2c3-1cad859a1658"
      },
      "outputs": [
        {
          "output_type": "execute_result",
          "data": {
            "text/plain": [
              "<matplotlib.axes._subplots.AxesSubplot at 0x7f16030e4290>"
            ]
          },
          "metadata": {},
          "execution_count": 32
        },
        {
          "output_type": "display_data",
          "data": {
            "text/plain": [
              "<Figure size 576x432 with 1 Axes>"
            ],
            "image/png": "[encoded data removed]"
          },
          "metadata": {
            "needs_background": "light"
          }
        }
      ],
      "source": [
        "#setting the figure size and plotting the graph\n",
        "plt.figure(figsize=(8,6))\n",
        "sns.countplot(df['cabin'], hue=df['recommended'])\n",
        "\n"
      ]
    },
    {
      "cell_type": "markdown",
      "metadata": {
        "id": "131QIL5adszP"
      },
      "source": [
        "* For Economy class, Number of 'NO' recommendations are more than 'YES' recommendations.\n",
        "\n",
        "\n",
        "* For business class and first class, Number of 'YES' recommendations are more than 'NO' recommendations.\n",
        "\n",
        "*   For Premium account number of 'YES' recommendation and 'NO' recommendations are approximately equal.\n",
        "\n",
        "\n",
        "\n",
        "\n",
        "\n",
        "\n",
        "\n"
      ]
    },
    {
      "cell_type": "markdown",
      "metadata": {
        "id": "QMG1Cf3Ak-Aq"
      },
      "source": [
        " ## What is the total recommendation percentage for all airlines?"
      ]
    },
    {
      "cell_type": "code",
      "execution_count": 33,
      "metadata": {
        "colab": {
          "base_uri": "https://localhost:8080/",
          "height": 320
        },
        "id": "bKRS3OdQY6Ri",
        "outputId": "4471d4b1-e713-40ff-fc0a-8d86b7967951"
      },
      "outputs": [
        {
          "output_type": "execute_result",
          "data": {
            "text/plain": [
              "<matplotlib.axes._subplots.AxesSubplot at 0x7f1601fc2cd0>"
            ]
          },
          "metadata": {},
          "execution_count": 33
        },
        {
          "output_type": "display_data",
          "data": {
            "text/plain": [
              "<Figure size 720x360 with 1 Axes>"
            ],
            "image/png": "[encoded data removed]"
          },
          "metadata": {}
        }
      ],
      "source": [
        "#Plotting bar graph to identify classes of dependent variable\n",
        "sns.set_palette('gist_ncar')\n",
        "df['recommended'].value_counts().plot(kind='pie',autopct='%1.0f%%',figsize=(10,5))"
      ]
    },
    {
      "cell_type": "markdown",
      "metadata": {
        "id": "_-qHdHMylpRd"
      },
      "source": [
        "The overall recommendation percentage for all airlines is 47% which is less than recommended 'NO' by 53%. Dependent feature have balanced data."
      ]
    },
    {
      "cell_type": "markdown",
      "metadata": {
        "id": "CG2yEsLsobon"
      },
      "source": [
        "#What is the maximum overall rating got by different airlines?"
      ]
    },
    {
      "cell_type": "code",
      "execution_count": 34,
      "metadata": {
        "colab": {
          "base_uri": "https://localhost:8080/",
          "height": 673
        },
        "id": "r2ha34pnlBHe",
        "outputId": "0034220f-a967-4f5c-8271-a16cfa620891"
      },
      "outputs": [
        {
          "output_type": "execute_result",
          "data": {
            "text/plain": [
              "Text(0, 0.5, 'overall rating')"
            ]
          },
          "metadata": {},
          "execution_count": 34
        },
        {
          "output_type": "display_data",
          "data": {
            "text/plain": [
              "<Figure size 1800x576 with 1 Axes>"
            ],
            "image/png": "[encoded data removed]"
          },
          "metadata": {
            "needs_background": "light"
          }
        }
      ],
      "source": [
        "#figure size\n",
        "plt.figure(figsize=(25,8))\n",
        "#barplot\n",
        "sns.barplot(x='airline', y='overall', data=df)\n",
        "#font size\n",
        "plt.xticks(rotation=90,fontsize=14)                                                             \n",
        "plt.yticks(fontsize=15)\n",
        "#labels\n",
        "plt.xlabel('airlines', fontsize= 20)\n",
        "plt.ylabel('overall rating', fontsize= 20)"
      ]
    },
    {
      "cell_type": "markdown",
      "metadata": {
        "id": "vy91otNur_Td"
      },
      "source": [
        "* The maximum overall ratings are received by Qatar airlines, Aegean airlines,Asiana airlines, China southern Airlines etc ( rating is around 7.5-8).\n",
        "*  The minimum overall rating is around 2.5 received by frontier airlines\n",
        "\n",
        "\n",
        "\n",
        "\n",
        "\n"
      ]
    },
    {
      "cell_type": "markdown",
      "metadata": {
        "id": "7M86dMK-tngB"
      },
      "source": [
        "##Which airlines got the maximum and minmum recommendations?"
      ]
    },
    {
      "cell_type": "code",
      "execution_count": 35,
      "metadata": {
        "colab": {
          "base_uri": "https://localhost:8080/",
          "height": 661
        },
        "id": "a6fCaLZdrKr_",
        "outputId": "2888d454-b15e-4965-ea7d-edd91b33e6b3"
      },
      "outputs": [
        {
          "output_type": "execute_result",
          "data": {
            "text/plain": [
              "Text(0, 0.5, 'Count')"
            ]
          },
          "metadata": {},
          "execution_count": 35
        },
        {
          "output_type": "display_data",
          "data": {
            "text/plain": [
              "<Figure size 1800x576 with 1 Axes>"
            ],
            "image/png": "[encoded data removed]"
          },
          "metadata": {
            "needs_background": "light"
          }
        }
      ],
      "source": [
        "#figure size\n",
        "plt.figure(figsize=(25,8))\n",
        "#barplot\n",
        "sns.countplot(x='airline', hue='recommended', data=df)\n",
        "#font size\n",
        "plt.xticks(rotation=90,fontsize=14)                                                             \n",
        "plt.yticks(fontsize=15)\n",
        "#labels\n",
        "plt.xlabel('airlines', fontsize= 20)\n",
        "plt.ylabel('Count', fontsize= 20)"
      ]
    },
    {
      "cell_type": "markdown",
      "metadata": {
        "id": "2N5ClM10v2Dw"
      },
      "source": [
        "\n",
        "\n",
        "1.   American airlines,united airlines,spirit and frontier irlines received maximum 'NO' recommendations.\n",
        "2.   Chins southern airlines, Qatar  and British airways received maximum 'YES' recommendations. Thai smile, Tunisair, Air arabia, adria airways received minimum 'Yes' recommendations.\n",
        "\n"
      ]
    },
    {
      "cell_type": "markdown",
      "source": [
        "##Checking the frequency of values"
      ],
      "metadata": {
        "id": "QZAgaPs2fMey"
      }
    },
    {
      "cell_type": "code",
      "execution_count": 36,
      "metadata": {
        "id": "zNx5OivqVaQl"
      },
      "outputs": [],
      "source": [
        "# replacing yes =1 and no =0 in recommended column\n",
        "df['recommended'].replace({'yes':1,'no':0},inplace=True)"
      ]
    },
    {
      "cell_type": "code",
      "source": [
        "features=['overall','seat_comfort','cabin_service','food_bev','entertainment','ground_service','value_for_money']"
      ],
      "metadata": {
        "id": "3ZsJ_McswjhR"
      },
      "execution_count": 37,
      "outputs": []
    },
    {
      "cell_type": "code",
      "source": [
        "# plotting histogram for all numeric feature \n",
        "for i in features:\n",
        "  #figure size\n",
        "  plt.rcParams['figure.figsize']=(15,12)\n",
        "  #histogram plot\n",
        "  plt.hist(df[i], bins=10)\n",
        "  #title of plot\n",
        "  plt.title(i+\" Plot\")\n",
        "  #label\n",
        "  plt.xlabel(i)\n",
        "  plt.ylabel(\"Frequency\")\n",
        "  plt.show()"
      ],
      "metadata": {
        "colab": {
          "base_uri": "https://localhost:8080/",
          "height": 1000
        },
        "id": "zRnecydYfVOw",
        "outputId": "ec8ca3b6-753a-4e0e-db80-c95feb29fa42"
      },
      "execution_count": 38,
      "outputs": [
        {
          "output_type": "display_data",
          "data": {
            "text/plain": [
              "<Figure size 1080x864 with 1 Axes>"
            ],
            "image/png": "[encoded data removed]"
          },
          "metadata": {
            "needs_background": "light"
          }
        },
        {
          "output_type": "display_data",
          "data": {
            "text/plain": [
              "<Figure size 1080x864 with 1 Axes>"
            ],
            "image/png": "[encoded data removed]"
          },
          "metadata": {
            "needs_background": "light"
          }
        },
        {
          "output_type": "display_data",
          "data": {
            "text/plain": [
              "<Figure size 1080x864 with 1 Axes>"
            ],
            "image/png": "[encoded data removed]"
          },
          "metadata": {
            "needs_background": "light"
          }
        },
        {
          "output_type": "display_data",
          "data": {
            "text/plain": [
              "<Figure size 1080x864 with 1 Axes>"
            ],
            "image/png": "[encoded data removed]"
          },
          "metadata": {
            "needs_background": "light"
          }
        },
        {
          "output_type": "display_data",
          "data": {
            "text/plain": [
              "<Figure size 1080x864 with 1 Axes>"
            ],
            "image/png": "[encoded data removed]"
          },
          "metadata": {
            "needs_background": "light"
          }
        },
        {
          "output_type": "display_data",
          "data": {
            "text/plain": [
              "<Figure size 1080x864 with 1 Axes>"
            ],
            "image/png": "[encoded data removed]"
          },
          "metadata": {
            "needs_background": "light"
          }
        },
        {
          "output_type": "display_data",
          "data": {
            "text/plain": [
              "<Figure size 1080x864 with 1 Axes>"
            ],
            "image/png": "[encoded data removed]"
          },
          "metadata": {
            "needs_background": "light"
          }
        }
      ]
    },
    {
      "cell_type": "markdown",
      "source": [
        "#Conclusion"
      ],
      "metadata": {
        "id": "cTVeYziABK-A"
      }
    },
    {
      "cell_type": "markdown",
      "metadata": {
        "id": "ZjuIWyHFYf9B"
      },
      "source": [
        "##Correlation\n",
        "\n"
      ]
    },
    {
      "cell_type": "code",
      "execution_count": 39,
      "metadata": {
        "id": "ldpfOcP3ScRO",
        "colab": {
          "base_uri": "https://localhost:8080/",
          "height": 525
        },
        "outputId": "e6d09f74-108b-48bb-cc9a-508316926ac1"
      },
      "outputs": [
        {
          "output_type": "execute_result",
          "data": {
            "text/plain": [
              "<matplotlib.axes._subplots.AxesSubplot at 0x7f160173b8d0>"
            ]
          },
          "metadata": {},
          "execution_count": 39
        },
        {
          "output_type": "display_data",
          "data": {
            "text/plain": [
              "<Figure size 720x504 with 2 Axes>"
            ],
            "image/png": "[encoded data removed]"
          },
          "metadata": {
            "needs_background": "light"
          }
        }
      ],
      "source": [
        "#setting the figure size and plotting the heatmap\n",
        "plt.figure(figsize=(10,7))\n",
        "sns.heatmap(df.corr(),annot=True)"
      ]
    },
    {
      "cell_type": "markdown",
      "metadata": {
        "id": "LDq4yy_AVjnf"
      },
      "source": [
        "\n",
        "\n",
        "1.  'Overall','food bev','cabin_service', 'value_for_money' etc are positively correlated with recommendation.\n",
        "\n",
        "2.  'Overall' is most correlatetd with recommendation.\n",
        "\n",
        "3. entertainment has 0.45 of correlation which is less than others\n",
        "\n",
        "4.  overall and value for money have multicollinearity\n",
        "\n",
        "\n",
        "\n"
      ]
    },
    {
      "cell_type": "code",
      "source": [
        "# Features present in dataset\n",
        "features= df.columns\n",
        "features"
      ],
      "metadata": {
        "id": "_HbiFVjpoSBB",
        "colab": {
          "base_uri": "https://localhost:8080/"
        },
        "outputId": "5937e016-7150-4bf1-ce08-a1467671d645"
      },
      "execution_count": 40,
      "outputs": [
        {
          "output_type": "execute_result",
          "data": {
            "text/plain": [
              "Index(['airline', 'overall', 'cabin', 'seat_comfort', 'cabin_service',\n",
              "       'food_bev', 'entertainment', 'ground_service', 'value_for_money',\n",
              "       'recommended'],\n",
              "      dtype='object')"
            ]
          },
          "metadata": {},
          "execution_count": 40
        }
      ]
    },
    {
      "cell_type": "code",
      "source": [
        "features_1=(['overall','seat_comfort','cabin_service','food_bev','entertainment','ground_service','value_for_money'])"
      ],
      "metadata": {
        "id": "pGGa6VJrlu05"
      },
      "execution_count": 41,
      "outputs": []
    },
    {
      "cell_type": "code",
      "source": [
        "# categoriacal features to do one hot encoding\n",
        "categorical_columns =['airline','cabin']"
      ],
      "metadata": {
        "id": "JgaLUkX8qytm"
      },
      "execution_count": 42,
      "outputs": []
    },
    {
      "cell_type": "code",
      "source": [
        "dummy= pd.get_dummies(df,columns=categorical_columns , drop_first = False)"
      ],
      "metadata": {
        "id": "PQh831GXq4-N"
      },
      "execution_count": 43,
      "outputs": []
    },
    {
      "cell_type": "markdown",
      "source": [
        "##Splitting the Data to Train and Test"
      ],
      "metadata": {
        "id": "qRatrrZtz6ys"
      }
    },
    {
      "cell_type": "code",
      "source": [
        "dummy"
      ],
      "metadata": {
        "id": "5sZxXyOstqS1",
        "colab": {
          "base_uri": "https://localhost:8080/",
          "height": 522
        },
        "outputId": "b14fd9aa-5cb1-4b04-f37a-ae467b494b47"
      },
      "execution_count": 44,
      "outputs": [
        {
          "output_type": "execute_result",
          "data": {
            "text/plain": [
              "       overall  seat_comfort  cabin_service  food_bev  entertainment  \\\n",
              "0          7.0           4.0            5.0       4.0            4.0   \n",
              "1          2.0           4.0            1.0       1.0            1.0   \n",
              "2          3.0           1.0            4.0       1.0            3.0   \n",
              "3         10.0           4.0            5.0       5.0            5.0   \n",
              "4          1.0           1.0            1.0       1.0            1.0   \n",
              "...        ...           ...            ...       ...            ...   \n",
              "53869      5.0           3.0            2.0       3.0            4.0   \n",
              "53870      2.0           2.0            2.0       2.0            1.0   \n",
              "53871      3.0           2.0            2.0       3.0            3.0   \n",
              "53872      4.0           3.0            4.0       2.0            2.0   \n",
              "53873      5.0           3.0            3.0       3.0            3.0   \n",
              "\n",
              "       ground_service  value_for_money  recommended  \\\n",
              "0                 2.0              4.0            1   \n",
              "1                 1.0              1.0            0   \n",
              "2                 1.0              2.0            0   \n",
              "3                 5.0              5.0            1   \n",
              "4                 1.0              1.0            0   \n",
              "...               ...              ...          ...   \n",
              "53869             2.0              4.0            0   \n",
              "53870             1.0              2.0            0   \n",
              "53871             3.0              2.0            0   \n",
              "53872             2.0              2.0            0   \n",
              "53873             3.0              3.0            0   \n",
              "\n",
              "       airline_ANA All Nippon Airways  airline_Adria Airways  ...  \\\n",
              "0                                   0                      0  ...   \n",
              "1                                   0                      0  ...   \n",
              "2                                   0                      0  ...   \n",
              "3                                   0                      0  ...   \n",
              "4                                   0                      0  ...   \n",
              "...                               ...                    ...  ...   \n",
              "53869                               0                      0  ...   \n",
              "53870                               0                      0  ...   \n",
              "53871                               0                      0  ...   \n",
              "53872                               0                      0  ...   \n",
              "53873                               0                      0  ...   \n",
              "\n",
              "       airline_Vueling Airlines  airline_WOW air  airline_Wizz Air  \\\n",
              "0                             0                0                 0   \n",
              "1                             0                0                 0   \n",
              "2                             0                0                 0   \n",
              "3                             0                0                 0   \n",
              "4                             0                0                 0   \n",
              "...                         ...              ...               ...   \n",
              "53869                         0                0                 0   \n",
              "53870                         0                0                 0   \n",
              "53871                         0                0                 0   \n",
              "53872                         0                0                 0   \n",
              "53873                         0                0                 0   \n",
              "\n",
              "       airline_airBaltic  airline_easyJet  airline_flydubai  \\\n",
              "0                      0                0                 0   \n",
              "1                      0                0                 0   \n",
              "2                      0                0                 0   \n",
              "3                      0                0                 0   \n",
              "4                      0                0                 0   \n",
              "...                  ...              ...               ...   \n",
              "53869                  0                0                 0   \n",
              "53870                  0                0                 0   \n",
              "53871                  0                0                 0   \n",
              "53872                  0                0                 0   \n",
              "53873                  0                0                 0   \n",
              "\n",
              "       cabin_Business Class  cabin_Economy Class  cabin_First Class  \\\n",
              "0                         0                    1                  0   \n",
              "1                         0                    1                  0   \n",
              "2                         0                    1                  0   \n",
              "3                         0                    1                  0   \n",
              "4                         0                    1                  0   \n",
              "...                     ...                  ...                ...   \n",
              "53869                     0                    1                  0   \n",
              "53870                     0                    0                  0   \n",
              "53871                     0                    0                  0   \n",
              "53872                     0                    0                  0   \n",
              "53873                     0                    0                  0   \n",
              "\n",
              "       cabin_Premium Economy  \n",
              "0                          0  \n",
              "1                          0  \n",
              "2                          0  \n",
              "3                          0  \n",
              "4                          0  \n",
              "...                      ...  \n",
              "53869                      0  \n",
              "53870                      0  \n",
              "53871                      0  \n",
              "53872                      0  \n",
              "53873                      0  \n",
              "\n",
              "[53874 rows x 93 columns]"
            ],
            "text/html": [
              "\n",
              "  <div id=\"df-b94475b7-28b0-4603-8380-2f8119a99264\">\n",
              "    <div class=\"colab-df-container\">\n",
              "      <div>\n",
              "<style scoped>\n",
              "    .dataframe tbody tr th:only-of-type {\n",
              "        vertical-align: middle;\n",
              "    }\n",
              "\n",
              "    .dataframe tbody tr th {\n",
              "        vertical-align: top;\n",
              "    }\n",
              "\n",
              "    .dataframe thead th {\n",
              "        text-align: right;\n",
              "    }\n",
              "</style>\n",
              "<table border=\"1\" class=\"dataframe\">\n",
              "  <thead>\n",
              "    <tr style=\"text-align: right;\">\n",
              "      <th></th>\n",
              "      <th>overall</th>\n",
              "      <th>seat_comfort</th>\n",
              "      <th>cabin_service</th>\n",
              "      <th>food_bev</th>\n",
              "      <th>entertainment</th>\n",
              "      <th>ground_service</th>\n",
              "      <th>value_for_money</th>\n",
              "      <th>recommended</th>\n",
              "      <th>airline_ANA All Nippon Airways</th>\n",
              "      <th>airline_Adria Airways</th>\n",
              "      <th>...</th>\n",
              "      <th>airline_Vueling Airlines</th>\n",
              "      <th>airline_WOW air</th>\n",
              "      <th>airline_Wizz Air</th>\n",
              "      <th>airline_airBaltic</th>\n",
              "      <th>airline_easyJet</th>\n",
              "      <th>airline_flydubai</th>\n",
              "      <th>cabin_Business Class</th>\n",
              "      <th>cabin_Economy Class</th>\n",
              "      <th>cabin_First Class</th>\n",
              "      <th>cabin_Premium Economy</th>\n",
              "    </tr>\n",
              "  </thead>\n",
              "  <tbody>\n",
              "    <tr>\n",
              "      <th>0</th>\n",
              "      <td>7.0</td>\n",
              "      <td>4.0</td>\n",
              "      <td>5.0</td>\n",
              "      <td>4.0</td>\n",
              "      <td>4.0</td>\n",
              "      <td>2.0</td>\n",
              "      <td>4.0</td>\n",
              "      <td>1</td>\n",
              "      <td>0</td>\n",
              "      <td>0</td>\n",
              "      <td>...</td>\n",
              "      <td>0</td>\n",
              "      <td>0</td>\n",
              "      <td>0</td>\n",
              "      <td>0</td>\n",
              "      <td>0</td>\n",
              "      <td>0</td>\n",
              "      <td>0</td>\n",
              "      <td>1</td>\n",
              "      <td>0</td>\n",
              "      <td>0</td>\n",
              "    </tr>\n",
              "    <tr>\n",
              "      <th>1</th>\n",
              "      <td>2.0</td>\n",
              "      <td>4.0</td>\n",
              "      <td>1.0</td>\n",
              "      <td>1.0</td>\n",
              "      <td>1.0</td>\n",
              "      <td>1.0</td>\n",
              "      <td>1.0</td>\n",
              "      <td>0</td>\n",
              "      <td>0</td>\n",
              "      <td>0</td>\n",
              "      <td>...</td>\n",
              "      <td>0</td>\n",
              "      <td>0</td>\n",
              "      <td>0</td>\n",
              "      <td>0</td>\n",
              "      <td>0</td>\n",
              "      <td>0</td>\n",
              "      <td>0</td>\n",
              "      <td>1</td>\n",
              "      <td>0</td>\n",
              "      <td>0</td>\n",
              "    </tr>\n",
              "    <tr>\n",
              "      <th>2</th>\n",
              "      <td>3.0</td>\n",
              "      <td>1.0</td>\n",
              "      <td>4.0</td>\n",
              "      <td>1.0</td>\n",
              "      <td>3.0</td>\n",
              "      <td>1.0</td>\n",
              "      <td>2.0</td>\n",
              "      <td>0</td>\n",
              "      <td>0</td>\n",
              "      <td>0</td>\n",
              "      <td>...</td>\n",
              "      <td>0</td>\n",
              "      <td>0</td>\n",
              "      <td>0</td>\n",
              "      <td>0</td>\n",
              "      <td>0</td>\n",
              "      <td>0</td>\n",
              "      <td>0</td>\n",
              "      <td>1</td>\n",
              "      <td>0</td>\n",
              "      <td>0</td>\n",
              "    </tr>\n",
              "    <tr>\n",
              "      <th>3</th>\n",
              "      <td>10.0</td>\n",
              "      <td>4.0</td>\n",
              "      <td>5.0</td>\n",
              "      <td>5.0</td>\n",
              "      <td>5.0</td>\n",
              "      <td>5.0</td>\n",
              "      <td>5.0</td>\n",
              "      <td>1</td>\n",
              "      <td>0</td>\n",
              "      <td>0</td>\n",
              "      <td>...</td>\n",
              "      <td>0</td>\n",
              "      <td>0</td>\n",
              "      <td>0</td>\n",
              "      <td>0</td>\n",
              "      <td>0</td>\n",
              "      <td>0</td>\n",
              "      <td>0</td>\n",
              "      <td>1</td>\n",
              "      <td>0</td>\n",
              "      <td>0</td>\n",
              "    </tr>\n",
              "    <tr>\n",
              "      <th>4</th>\n",
              "      <td>1.0</td>\n",
              "      <td>1.0</td>\n",
              "      <td>1.0</td>\n",
              "      <td>1.0</td>\n",
              "      <td>1.0</td>\n",
              "      <td>1.0</td>\n",
              "      <td>1.0</td>\n",
              "      <td>0</td>\n",
              "      <td>0</td>\n",
              "      <td>0</td>\n",
              "      <td>...</td>\n",
              "      <td>0</td>\n",
              "      <td>0</td>\n",
              "      <td>0</td>\n",
              "      <td>0</td>\n",
              "      <td>0</td>\n",
              "      <td>0</td>\n",
              "      <td>0</td>\n",
              "      <td>1</td>\n",
              "      <td>0</td>\n",
              "      <td>0</td>\n",
              "    </tr>\n",
              "    <tr>\n",
              "      <th>...</th>\n",
              "      <td>...</td>\n",
              "      <td>...</td>\n",
              "      <td>...</td>\n",
              "      <td>...</td>\n",
              "      <td>...</td>\n",
              "      <td>...</td>\n",
              "      <td>...</td>\n",
              "      <td>...</td>\n",
              "      <td>...</td>\n",
              "      <td>...</td>\n",
              "      <td>...</td>\n",
              "      <td>...</td>\n",
              "      <td>...</td>\n",
              "      <td>...</td>\n",
              "      <td>...</td>\n",
              "      <td>...</td>\n",
              "      <td>...</td>\n",
              "      <td>...</td>\n",
              "      <td>...</td>\n",
              "      <td>...</td>\n",
              "      <td>...</td>\n",
              "    </tr>\n",
              "    <tr>\n",
              "      <th>53869</th>\n",
              "      <td>5.0</td>\n",
              "      <td>3.0</td>\n",
              "      <td>2.0</td>\n",
              "      <td>3.0</td>\n",
              "      <td>4.0</td>\n",
              "      <td>2.0</td>\n",
              "      <td>4.0</td>\n",
              "      <td>0</td>\n",
              "      <td>0</td>\n",
              "      <td>0</td>\n",
              "      <td>...</td>\n",
              "      <td>0</td>\n",
              "      <td>0</td>\n",
              "      <td>0</td>\n",
              "      <td>0</td>\n",
              "      <td>0</td>\n",
              "      <td>0</td>\n",
              "      <td>0</td>\n",
              "      <td>1</td>\n",
              "      <td>0</td>\n",
              "      <td>0</td>\n",
              "    </tr>\n",
              "    <tr>\n",
              "      <th>53870</th>\n",
              "      <td>2.0</td>\n",
              "      <td>2.0</td>\n",
              "      <td>2.0</td>\n",
              "      <td>2.0</td>\n",
              "      <td>1.0</td>\n",
              "      <td>1.0</td>\n",
              "      <td>2.0</td>\n",
              "      <td>0</td>\n",
              "      <td>0</td>\n",
              "      <td>0</td>\n",
              "      <td>...</td>\n",
              "      <td>0</td>\n",
              "      <td>0</td>\n",
              "      <td>0</td>\n",
              "      <td>0</td>\n",
              "      <td>0</td>\n",
              "      <td>0</td>\n",
              "      <td>0</td>\n",
              "      <td>0</td>\n",
              "      <td>0</td>\n",
              "      <td>0</td>\n",
              "    </tr>\n",
              "    <tr>\n",
              "      <th>53871</th>\n",
              "      <td>3.0</td>\n",
              "      <td>2.0</td>\n",
              "      <td>2.0</td>\n",
              "      <td>3.0</td>\n",
              "      <td>3.0</td>\n",
              "      <td>3.0</td>\n",
              "      <td>2.0</td>\n",
              "      <td>0</td>\n",
              "      <td>0</td>\n",
              "      <td>0</td>\n",
              "      <td>...</td>\n",
              "      <td>0</td>\n",
              "      <td>0</td>\n",
              "      <td>0</td>\n",
              "      <td>0</td>\n",
              "      <td>0</td>\n",
              "      <td>0</td>\n",
              "      <td>0</td>\n",
              "      <td>0</td>\n",
              "      <td>0</td>\n",
              "      <td>0</td>\n",
              "    </tr>\n",
              "    <tr>\n",
              "      <th>53872</th>\n",
              "      <td>4.0</td>\n",
              "      <td>3.0</td>\n",
              "      <td>4.0</td>\n",
              "      <td>2.0</td>\n",
              "      <td>2.0</td>\n",
              "      <td>2.0</td>\n",
              "      <td>2.0</td>\n",
              "      <td>0</td>\n",
              "      <td>0</td>\n",
              "      <td>0</td>\n",
              "      <td>...</td>\n",
              "      <td>0</td>\n",
              "      <td>0</td>\n",
              "      <td>0</td>\n",
              "      <td>0</td>\n",
              "      <td>0</td>\n",
              "      <td>0</td>\n",
              "      <td>0</td>\n",
              "      <td>0</td>\n",
              "      <td>0</td>\n",
              "      <td>0</td>\n",
              "    </tr>\n",
              "    <tr>\n",
              "      <th>53873</th>\n",
              "      <td>5.0</td>\n",
              "      <td>3.0</td>\n",
              "      <td>3.0</td>\n",
              "      <td>3.0</td>\n",
              "      <td>3.0</td>\n",
              "      <td>3.0</td>\n",
              "      <td>3.0</td>\n",
              "      <td>0</td>\n",
              "      <td>0</td>\n",
              "      <td>0</td>\n",
              "      <td>...</td>\n",
              "      <td>0</td>\n",
              "      <td>0</td>\n",
              "      <td>0</td>\n",
              "      <td>0</td>\n",
              "      <td>0</td>\n",
              "      <td>0</td>\n",
              "      <td>0</td>\n",
              "      <td>0</td>\n",
              "      <td>0</td>\n",
              "      <td>0</td>\n",
              "    </tr>\n",
              "  </tbody>\n",
              "</table>\n",
              "<p>53874 rows × 93 columns</p>\n",
              "</div>\n",
              "      <button class=\"colab-df-convert\" onclick=\"convertToInteractive('df-b94475b7-28b0-4603-8380-2f8119a99264')\"\n",
              "              title=\"Convert this dataframe to an interactive table.\"\n",
              "              style=\"display:none;\">\n",
              "        \n",
              "  <svg xmlns=\"http://www.w3.org/2000/svg\" height=\"24px\"viewBox=\"0 0 24 24\"\n",
              "       width=\"24px\">\n",
              "    <path d=\"M0 0h24v24H0V0z\" fill=\"none\"/>\n",
              "    <path d=\"M18.56 5.44l.94 2.06.94-2.06 2.06-.94-2.06-.94-.94-2.06-.94 2.06-2.06.94zm-11 1L8.5 8.5l.94-2.06 2.06-.94-2.06-.94L8.5 2.5l-.94 2.06-2.06.94zm10 10l.94 2.06.94-2.06 2.06-.94-2.06-.94-.94-2.06-.94 2.06-2.06.94z\"/><path d=\"M17.41 7.96l-1.37-1.37c-.4-.4-.92-.59-1.43-.59-.52 0-1.04.2-1.43.59L10.3 9.45l-7.72 7.72c-.78.78-.78 2.05 0 2.83L4 21.41c.39.39.9.59 1.41.59.51 0 1.02-.2 1.41-.59l7.78-7.78 2.81-2.81c.8-.78.8-2.07 0-2.86zM5.41 20L4 18.59l7.72-7.72 1.47 1.35L5.41 20z\"/>\n",
              "  </svg>\n",
              "      </button>\n",
              "      \n",
              "  <style>\n",
              "    .colab-df-container {\n",
              "      display:flex;\n",
              "      flex-wrap:wrap;\n",
              "      gap: 12px;\n",
              "    }\n",
              "\n",
              "    .colab-df-convert {\n",
              "      background-color: #E8F0FE;\n",
              "      border: none;\n",
              "      border-radius: 50%;\n",
              "      cursor: pointer;\n",
              "      display: none;\n",
              "      fill: #1967D2;\n",
              "      height: 32px;\n",
              "      padding: 0 0 0 0;\n",
              "      width: 32px;\n",
              "    }\n",
              "\n",
              "    .colab-df-convert:hover {\n",
              "      background-color: #E2EBFA;\n",
              "      box-shadow: 0px 1px 2px rgba(60, 64, 67, 0.3), 0px 1px 3px 1px rgba(60, 64, 67, 0.15);\n",
              "      fill: #174EA6;\n",
              "    }\n",
              "\n",
              "    [theme=dark] .colab-df-convert {\n",
              "      background-color: #3B4455;\n",
              "      fill: #D2E3FC;\n",
              "    }\n",
              "\n",
              "    [theme=dark] .colab-df-convert:hover {\n",
              "      background-color: #434B5C;\n",
              "      box-shadow: 0px 1px 3px 1px rgba(0, 0, 0, 0.15);\n",
              "      filter: drop-shadow(0px 1px 2px rgba(0, 0, 0, 0.3));\n",
              "      fill: #FFFFFF;\n",
              "    }\n",
              "  </style>\n",
              "\n",
              "      <script>\n",
              "        const buttonEl =\n",
              "          document.querySelector('#df-b94475b7-28b0-4603-8380-2f8119a99264 button.colab-df-convert');\n",
              "        buttonEl.style.display =\n",
              "          google.colab.kernel.accessAllowed ? 'block' : 'none';\n",
              "\n",
              "        async function convertToInteractive(key) {\n",
              "          const element = document.querySelector('#df-b94475b7-28b0-4603-8380-2f8119a99264');\n",
              "          const dataTable =\n",
              "            await google.colab.kernel.invokeFunction('convertToInteractive',\n",
              "                                                     [key], {});\n",
              "          if (!dataTable) return;\n",
              "\n",
              "          const docLinkHtml = 'Like what you see? Visit the ' +\n",
              "            '<a target=\"_blank\" href=https://colab.research.google.com/notebooks/data_table.ipynb>data table notebook</a>'\n",
              "            + ' to learn more about interactive tables.';\n",
              "          element.innerHTML = '';\n",
              "          dataTable['output_type'] = 'display_data';\n",
              "          await google.colab.output.renderOutput(dataTable, element);\n",
              "          const docLink = document.createElement('div');\n",
              "          docLink.innerHTML = docLinkHtml;\n",
              "          element.appendChild(docLink);\n",
              "        }\n",
              "      </script>\n",
              "    </div>\n",
              "  </div>\n",
              "  "
            ]
          },
          "metadata": {},
          "execution_count": 44
        }
      ]
    },
    {
      "cell_type": "code",
      "source": [
        "# Import libraries\n",
        "from sklearn.model_selection import train_test_split"
      ],
      "metadata": {
        "id": "uxe27yivwPFm"
      },
      "execution_count": 45,
      "outputs": []
    },
    {
      "cell_type": "code",
      "source": [
        "#getting the independent variables\n",
        "X = dummy.drop('recommended', axis =1)\n",
        "\n",
        "\n",
        "#getting the dependent variables\n",
        "y= dummy['recommended']"
      ],
      "metadata": {
        "id": "6njowoY4ll0B"
      },
      "execution_count": 46,
      "outputs": []
    },
    {
      "cell_type": "code",
      "source": [
        "# Perform Train Test Split\n",
        "X_train,X_test,y_train,y_test = train_test_split(X,y, test_size =0.2, random_state = 0)"
      ],
      "metadata": {
        "id": "wM1Y4w6mrtCD"
      },
      "execution_count": 47,
      "outputs": []
    },
    {
      "cell_type": "code",
      "source": [
        "# Get shapes for Train and Test set\n",
        "X_train.shape,X_test.shape,y_train.shape,y_test.shape"
      ],
      "metadata": {
        "id": "IRNlthGWstxu",
        "colab": {
          "base_uri": "https://localhost:8080/"
        },
        "outputId": "1a64a11d-2261-43a6-cbd4-22eb589def45"
      },
      "execution_count": 48,
      "outputs": [
        {
          "output_type": "execute_result",
          "data": {
            "text/plain": [
              "((43099, 92), (10775, 92), (43099,), (10775,))"
            ]
          },
          "metadata": {},
          "execution_count": 48
        }
      ]
    },
    {
      "cell_type": "code",
      "source": [
        "column = ['Model','Accuracy','Recall','Precision','f1-score','roc_auc_score']\n",
        "evaluation_metrics_df= pd.DataFrame(columns = column)"
      ],
      "metadata": {
        "id": "IGNpsvtY1FFO"
      },
      "execution_count": 49,
      "outputs": []
    },
    {
      "cell_type": "markdown",
      "source": [
        "Creating Function to store evaluation metrics values"
      ],
      "metadata": {
        "id": "AFBcmxbd1cwZ"
      }
    },
    {
      "cell_type": "code",
      "source": [
        "#creating function for storing evaluation metrices\n",
        "def evaluation_metric(model,y_test,pred_value,metric_df):\n",
        "  metric_df= metric_df.append({'Model': model,\n",
        "                               'Accuracy':accuracy_score(y_test,pred_value),\n",
        "                               'Recall':recall_score(y_test,pred_value),\n",
        "                               'Precision':precision_score(y_test,pred_value),\n",
        "                               'f1-score':f1_score(y_test,pred_value),\n",
        "                               'roc_auc_score':roc_auc_score(y_test,pred_value)},ignore_index=True)\n",
        "  return metric_df"
      ],
      "metadata": {
        "id": "Jl9R4heA1bbN"
      },
      "execution_count": 50,
      "outputs": []
    },
    {
      "cell_type": "markdown",
      "source": [
        "##Logistic Regression"
      ],
      "metadata": {
        "id": "ZHJRlGDj1sNF"
      }
    },
    {
      "cell_type": "code",
      "source": [
        "#logistic regression\n",
        "lr= LogisticRegression(max_iter=10000)\n",
        "lr.fit(X_train, y_train)\n",
        "score=lr.score(X_test,y_test)\n",
        "print(f'Logistic regression score : {score}')"
      ],
      "metadata": {
        "id": "LJvsTmsj1J_v",
        "colab": {
          "base_uri": "https://localhost:8080/"
        },
        "outputId": "89c8cbda-d640-41e2-a854-eb77461b9113"
      },
      "execution_count": 51,
      "outputs": [
        {
          "output_type": "stream",
          "name": "stdout",
          "text": [
            "Logistic regression score : 0.9509976798143851\n"
          ]
        }
      ]
    },
    {
      "cell_type": "code",
      "source": [
        "#model evaluation\n",
        "pred_value = lr.predict(X_test)\n",
        "\n",
        "print(metrics.classification_report(y_test,pred_value))\n",
        "cm = confusion_matrix(y_test,pred_value,labels=[1,0])\n",
        "\n",
        "print(f'\\nAccuracy score % of the model is {round(accuracy_score(y_test,pred_value)*100,2)}%\\n')\n",
        "sns.heatmap(cm, annot=True, fmt = \".1f\",cmap='icefire')\n",
        "plt.title('Confusion Matrix for Logistic Regeression')\n",
        "\n",
        "#calling function to append evaluation metrices\n",
        "evaluation_metrics_df=evaluation_metric('Logistic Regression',y_test,pred_value,evaluation_metrics_df)"
      ],
      "metadata": {
        "id": "qZRKWp4lpr78",
        "colab": {
          "base_uri": "https://localhost:8080/",
          "height": 924
        },
        "outputId": "c8330825-0ff3-4f3b-9988-c36679f2f247"
      },
      "execution_count": 52,
      "outputs": [
        {
          "output_type": "stream",
          "name": "stdout",
          "text": [
            "              precision    recall  f1-score   support\n",
            "\n",
            "           0       0.95      0.96      0.95      5766\n",
            "           1       0.95      0.94      0.95      5009\n",
            "\n",
            "    accuracy                           0.95     10775\n",
            "   macro avg       0.95      0.95      0.95     10775\n",
            "weighted avg       0.95      0.95      0.95     10775\n",
            "\n",
            "\n",
            "Accuracy score % of the model is 95.1%\n",
            "\n"
          ]
        },
        {
          "output_type": "display_data",
          "data": {
            "text/plain": [
              "<Figure size 1080x864 with 2 Axes>"
            ],
            "image/png": "[encoded data removed]"
          },
          "metadata": {
            "needs_background": "light"
          }
        }
      ]
    },
    {
      "cell_type": "code",
      "source": [
        "#ROC curve\n",
        "lr_probability =lr.predict_proba(X_test)[::,1]\n",
        "\n",
        "fpr, tpr, _ = roc_curve(y_test, lr_probability)\n",
        "\n",
        "plt.title('Logistic Regression ROC curve')\n",
        "plt.xlabel('FPR (Precision)')\n",
        "plt.ylabel('TPR (Recall)')\n",
        "\n",
        "plt.plot(fpr,tpr)\n",
        "plt.plot((0,1), ls='dashed',color='black')\n",
        "plt.show()"
      ],
      "metadata": {
        "colab": {
          "base_uri": "https://localhost:8080/",
          "height": 730
        },
        "id": "Nge2xbcYQUiu",
        "outputId": "db83b05e-c07c-45a9-fa73-d4cc5913f0e4"
      },
      "execution_count": 53,
      "outputs": [
        {
          "output_type": "display_data",
          "data": {
            "text/plain": [
              "<Figure size 1080x864 with 1 Axes>"
            ],
            "image/png": "[encoded data removed]"
          },
          "metadata": {
            "needs_background": "light"
          }
        }
      ]
    },
    {
      "cell_type": "markdown",
      "source": [
        "##Decision Tree"
      ],
      "metadata": {
        "id": "NPx0pE-Iz3Vu"
      }
    },
    {
      "cell_type": "code",
      "source": [
        "#Decision Tree\n",
        "dtc =DecisionTreeClassifier()\n",
        "dtc.fit(X_train,y_train)\n",
        "score=dtc.score(X_test,y_test)\n",
        "print(f'Decision Tree score : {score}')"
      ],
      "metadata": {
        "id": "17Xn9v2lz2dQ",
        "colab": {
          "base_uri": "https://localhost:8080/"
        },
        "outputId": "e74b7294-3373-454a-bb6d-f33f66dd6828"
      },
      "execution_count": 54,
      "outputs": [
        {
          "output_type": "stream",
          "name": "stdout",
          "text": [
            "Decision Tree score : 0.9312296983758701\n"
          ]
        }
      ]
    },
    {
      "cell_type": "code",
      "source": [
        "#model evaluation\n",
        "pred_value = dtc.predict(X_test)\n",
        "\n",
        "print(metrics.classification_report(y_test,pred_value))\n",
        "cm = confusion_matrix(y_test,pred_value,labels=[1,0])\n",
        "\n",
        "print(f'\\nAccuracy score % of the model is {round(accuracy_score(y_test,pred_value)*100,2)}%\\n')\n",
        "sns.heatmap(cm, annot=True, fmt = \".1f\",cmap='icefire')\n",
        "plt.title('Confusion Matrix for Decision Tree')\n",
        "\n",
        "#calling function to append evaluation metrices\n",
        "evaluation_metrics_df=evaluation_metric('Decision Tree',y_test,pred_value,evaluation_metrics_df)"
      ],
      "metadata": {
        "id": "HRS8L31rxfiQ",
        "colab": {
          "base_uri": "https://localhost:8080/",
          "height": 924
        },
        "outputId": "cf1f5247-9c7b-4f66-de64-91e8cb69586b"
      },
      "execution_count": 55,
      "outputs": [
        {
          "output_type": "stream",
          "name": "stdout",
          "text": [
            "              precision    recall  f1-score   support\n",
            "\n",
            "           0       0.93      0.94      0.94      5766\n",
            "           1       0.93      0.92      0.93      5009\n",
            "\n",
            "    accuracy                           0.93     10775\n",
            "   macro avg       0.93      0.93      0.93     10775\n",
            "weighted avg       0.93      0.93      0.93     10775\n",
            "\n",
            "\n",
            "Accuracy score % of the model is 93.12%\n",
            "\n"
          ]
        },
        {
          "output_type": "display_data",
          "data": {
            "text/plain": [
              "<Figure size 1080x864 with 2 Axes>"
            ],
            "image/png": "[encoded data removed]"
          },
          "metadata": {
            "needs_background": "light"
          }
        }
      ]
    },
    {
      "cell_type": "code",
      "source": [
        "#ROC curve of decision tree\n",
        "dtc_probability =dtc.predict_proba(X_test)[::,1]\n",
        "\n",
        "fpr, tpr, _ = roc_curve(y_test, dtc_probability)\n",
        "\n",
        "plt.title('Decision tree ROC curve')\n",
        "plt.xlabel('FPR (Precision)')\n",
        "plt.ylabel('TPR (Recall)')\n",
        "\n",
        "plt.plot(fpr,tpr)\n",
        "plt.plot((0,1), ls='dashed',color='black')\n",
        "plt.show()"
      ],
      "metadata": {
        "colab": {
          "base_uri": "https://localhost:8080/",
          "height": 730
        },
        "id": "AtILXLxSTY2z",
        "outputId": "b0abdf3b-fd6b-4841-d339-4c6c2e08a56e"
      },
      "execution_count": 56,
      "outputs": [
        {
          "output_type": "display_data",
          "data": {
            "text/plain": [
              "<Figure size 1080x864 with 1 Axes>"
            ],
            "image/png": "[encoded data removed]"
          },
          "metadata": {
            "needs_background": "light"
          }
        }
      ]
    },
    {
      "cell_type": "markdown",
      "source": [
        "##Random forest"
      ],
      "metadata": {
        "id": "uK9I6LKy03ZT"
      }
    },
    {
      "cell_type": "code",
      "source": [
        "rf=RandomForestClassifier()\n",
        "rf.fit(X_train,y_train)\n",
        "score=rf.score(X_test,y_test)\n",
        "print(f'Random Forest score : {score}')"
      ],
      "metadata": {
        "id": "1-mJg7cdyOTt",
        "colab": {
          "base_uri": "https://localhost:8080/"
        },
        "outputId": "9386db29-a3a6-4e60-ce3c-d7384345539b"
      },
      "execution_count": 57,
      "outputs": [
        {
          "output_type": "stream",
          "name": "stdout",
          "text": [
            "Random Forest score : 0.9487703016241299\n"
          ]
        }
      ]
    },
    {
      "cell_type": "code",
      "source": [
        "pred_value = rf.predict(X_test)\n",
        "\n",
        "print(metrics.classification_report(y_test,pred_value))\n",
        "cm = confusion_matrix(y_test,pred_value,labels=[1,0])\n",
        "\n",
        "print(f'\\nAccuracy score % of the model is {round(accuracy_score(y_test,pred_value)*100,2)}%\\n')\n",
        "sns.heatmap(cm, annot=True, fmt = \".1f\",cmap='icefire')\n",
        "plt.title('Confusion Matrix for Random Forest')\n",
        "\n",
        "\n",
        "#calling function to append evaluation metrices\n",
        "evaluation_metrics_df=evaluation_metric('Random Forest',y_test,pred_value,evaluation_metrics_df)"
      ],
      "metadata": {
        "id": "DwmsENWy1o9k",
        "colab": {
          "base_uri": "https://localhost:8080/",
          "height": 924
        },
        "outputId": "bd81cf33-ef7c-4647-f93d-3b776ee6ba6e"
      },
      "execution_count": 58,
      "outputs": [
        {
          "output_type": "stream",
          "name": "stdout",
          "text": [
            "              precision    recall  f1-score   support\n",
            "\n",
            "           0       0.94      0.96      0.95      5766\n",
            "           1       0.95      0.93      0.94      5009\n",
            "\n",
            "    accuracy                           0.95     10775\n",
            "   macro avg       0.95      0.95      0.95     10775\n",
            "weighted avg       0.95      0.95      0.95     10775\n",
            "\n",
            "\n",
            "Accuracy score % of the model is 94.88%\n",
            "\n"
          ]
        },
        {
          "output_type": "display_data",
          "data": {
            "text/plain": [
              "<Figure size 1080x864 with 2 Axes>"
            ],
            "image/png": "[encoded data removed]"
          },
          "metadata": {
            "needs_background": "light"
          }
        }
      ]
    },
    {
      "cell_type": "code",
      "source": [
        "#ROC curve of decision tree\n",
        "rf_probability =rf.predict_proba(X_test)[::,1]\n",
        "\n",
        "fpr, tpr, _ = roc_curve(y_test, rf_probability)\n",
        "\n",
        "plt.title('Randon free ROC curve')\n",
        "plt.xlabel('FPR (Precision)')\n",
        "plt.ylabel('TPR (Recall)')\n",
        "\n",
        "plt.plot(fpr,tpr)\n",
        "plt.plot((0,1), ls='dashed',color='black')\n",
        "plt.show()"
      ],
      "metadata": {
        "colab": {
          "base_uri": "https://localhost:8080/",
          "height": 730
        },
        "id": "EQDG2qUyULex",
        "outputId": "1f6c9311-3b99-4963-e895-196ffbc371ab"
      },
      "execution_count": 59,
      "outputs": [
        {
          "output_type": "display_data",
          "data": {
            "text/plain": [
              "<Figure size 1080x864 with 1 Axes>"
            ],
            "image/png": "[encoded data removed]"
          },
          "metadata": {
            "needs_background": "light"
          }
        }
      ]
    },
    {
      "cell_type": "markdown",
      "source": [
        "##K_nearest Neighbour Model"
      ],
      "metadata": {
        "id": "0WiC3cBD6ECi"
      }
    },
    {
      "cell_type": "code",
      "source": [
        "#using knn \n",
        "knn=KNeighborsClassifier()\n",
        "knn.fit(X_train,y_train)\n",
        "score=knn.score(X_test,y_test)\n",
        "print(f'K-nearest-neighbour score : {score}')"
      ],
      "metadata": {
        "id": "HIEDynAN2sfi",
        "colab": {
          "base_uri": "https://localhost:8080/"
        },
        "outputId": "3ac67066-db18-4ba7-a38c-b8285eba2745"
      },
      "execution_count": 60,
      "outputs": [
        {
          "output_type": "stream",
          "name": "stdout",
          "text": [
            "K-nearest-neighbour score : 0.9464501160092808\n"
          ]
        }
      ]
    },
    {
      "cell_type": "code",
      "source": [
        "#model evaluation\n",
        "pred_value=knn.predict(X_test)\n",
        "print(metrics.classification_report(y_test,pred_value))\n",
        "cm = confusion_matrix(y_test,pred_value,labels=[1,0])\n",
        "print(f'\\nAccuracy score % of the model is {round(accuracy_score(y_test,pred_value)*100,2)}%\\n')\n",
        "sns.heatmap(cm, annot=True, fmt = \".1f\",cmap='icefire')\n",
        "plt.title('Confusion Matrix for K-nearest-neighbour')\n",
        "#calling function to append evaluation metrices\n",
        "evaluation_metrics_df=evaluation_metric('K-nearest-neighbour',y_test,pred_value,evaluation_metrics_df)\n"
      ],
      "metadata": {
        "id": "pAMWrwWB4EFZ",
        "colab": {
          "base_uri": "https://localhost:8080/",
          "height": 924
        },
        "outputId": "764eb19b-7659-4981-cbc8-cbbe202ae63c"
      },
      "execution_count": 61,
      "outputs": [
        {
          "output_type": "stream",
          "name": "stdout",
          "text": [
            "              precision    recall  f1-score   support\n",
            "\n",
            "           0       0.95      0.95      0.95      5766\n",
            "           1       0.95      0.94      0.94      5009\n",
            "\n",
            "    accuracy                           0.95     10775\n",
            "   macro avg       0.95      0.95      0.95     10775\n",
            "weighted avg       0.95      0.95      0.95     10775\n",
            "\n",
            "\n",
            "Accuracy score % of the model is 94.65%\n",
            "\n"
          ]
        },
        {
          "output_type": "display_data",
          "data": {
            "text/plain": [
              "<Figure size 1080x864 with 2 Axes>"
            ],
            "image/png": "[encoded data removed]"
          },
          "metadata": {
            "needs_background": "light"
          }
        }
      ]
    },
    {
      "cell_type": "code",
      "source": [
        "knn_probability =knn.predict_proba(X_test)[::,1]\n",
        "#area under curve\n",
        "auc_score=roc_auc_score(y_test,knn_probability)\n",
        "auc_score"
      ],
      "metadata": {
        "colab": {
          "base_uri": "https://localhost:8080/"
        },
        "id": "lQX_wEIcf9VG",
        "outputId": "398704e4-8dfa-4694-fd4a-bc59d24bd7ef"
      },
      "execution_count": 62,
      "outputs": [
        {
          "output_type": "execute_result",
          "data": {
            "text/plain": [
              "0.9776157685503588"
            ]
          },
          "metadata": {},
          "execution_count": 62
        }
      ]
    },
    {
      "cell_type": "code",
      "source": [
        "#ROC curve plot\n",
        "fpr, tpr, _ = roc_curve(y_test, rf_probability)\n",
        "\n",
        "plt.title('Random Forest ROC curve')\n",
        "plt.xlabel('FPR (Precision)')\n",
        "plt.ylabel('TPR (Recall)')\n",
        "\n",
        "plt.plot(fpr,tpr)\n",
        "plt.plot((0,1), ls='dashed',color='black')\n",
        "plt.show()"
      ],
      "metadata": {
        "colab": {
          "base_uri": "https://localhost:8080/",
          "height": 730
        },
        "id": "eb9yweIlgC87",
        "outputId": "fa721c13-f573-445f-c82c-3b6afc23a20b"
      },
      "execution_count": 63,
      "outputs": [
        {
          "output_type": "display_data",
          "data": {
            "text/plain": [
              "<Figure size 1080x864 with 1 Axes>"
            ],
            "image/png": "[encoded data removed]"
          },
          "metadata": {
            "needs_background": "light"
          }
        }
      ]
    },
    {
      "cell_type": "markdown",
      "source": [
        "##Accuracy is good, let's try cross validation once. "
      ],
      "metadata": {
        "id": "SxCzhq1VDZHi"
      }
    },
    {
      "cell_type": "markdown",
      "source": [
        "##Random Forest with GridSearchCV"
      ],
      "metadata": {
        "id": "vY9Ya6hSEdMp"
      }
    },
    {
      "cell_type": "code",
      "source": [
        "#Hyperparametric Tuning to get best parameter for evaluation\n",
        "param_dict = {'n_estimators' : [50,80,100],\n",
        "              'max_depth' : [6,8,10,12],\n",
        "              'min_samples_split' : [10,50,100],\n",
        "              'min_samples_leaf' : [30,40,50]}"
      ],
      "metadata": {
        "id": "VuNAAMMdJyw6"
      },
      "execution_count": 64,
      "outputs": []
    },
    {
      "cell_type": "code",
      "source": [
        "#uassigning grid search variable\n",
        "rf_grid = GridSearchCV(estimator=rf,\n",
        "                       param_grid = param_dict,\n",
        "                       cv = 5, verbose=2)"
      ],
      "metadata": {
        "id": "2V-QT1yfOFWR"
      },
      "execution_count": 65,
      "outputs": []
    },
    {
      "cell_type": "code",
      "source": [
        "#Evaluating the optimal parameters\n",
        "rf_grid.fit(X_train,y_train)\n",
        "rf_grid.best_estimator_"
      ],
      "metadata": {
        "id": "pdMbtgCWkTbI",
        "colab": {
          "base_uri": "https://localhost:8080/"
        },
        "outputId": "49239418-099d-4c5b-a976-c8ac3e933f57"
      },
      "execution_count": 66,
      "outputs": [
        {
          "output_type": "stream",
          "name": "stdout",
          "text": [
            "Fitting 5 folds for each of 108 candidates, totalling 540 fits\n",
            "[CV] END max_depth=6, min_samples_leaf=30, min_samples_split=10, n_estimators=50; total time=   0.6s\n",
            "[CV] END max_depth=6, min_samples_leaf=30, min_samples_split=10, n_estimators=50; total time=   0.6s\n",
            "[CV] END max_depth=6, min_samples_leaf=30, min_samples_split=10, n_estimators=50; total time=   0.6s\n",
            "[CV] END max_depth=6, min_samples_leaf=30, min_samples_split=10, n_estimators=50; total time=   0.6s\n",
            "[CV] END max_depth=6, min_samples_leaf=30, min_samples_split=10, n_estimators=50; total time=   0.6s\n",
            "[CV] END max_depth=6, min_samples_leaf=30, min_samples_split=10, n_estimators=80; total time=   0.9s\n",
            "[CV] END max_depth=6, min_samples_leaf=30, min_samples_split=10, n_estimators=80; total time=   0.9s\n",
            "[CV] END max_depth=6, min_samples_leaf=30, min_samples_split=10, n_estimators=80; total time=   0.9s\n",
            "[CV] END max_depth=6, min_samples_leaf=30, min_samples_split=10, n_estimators=80; total time=   0.9s\n",
            "[CV] END max_depth=6, min_samples_leaf=30, min_samples_split=10, n_estimators=80; total time=   0.9s\n",
            "[CV] END max_depth=6, min_samples_leaf=30, min_samples_split=10, n_estimators=100; total time=   1.2s\n",
            "[CV] END max_depth=6, min_samples_leaf=30, min_samples_split=10, n_estimators=100; total time=   1.2s\n",
            "[CV] END max_depth=6, min_samples_leaf=30, min_samples_split=10, n_estimators=100; total time=   1.1s\n",
            "[CV] END max_depth=6, min_samples_leaf=30, min_samples_split=10, n_estimators=100; total time=   1.1s\n",
            "[CV] END max_depth=6, min_samples_leaf=30, min_samples_split=10, n_estimators=100; total time=   1.1s\n",
            "[CV] END max_depth=6, min_samples_leaf=30, min_samples_split=50, n_estimators=50; total time=   0.6s\n",
            "[CV] END max_depth=6, min_samples_leaf=30, min_samples_split=50, n_estimators=50; total time=   0.6s\n",
            "[CV] END max_depth=6, min_samples_leaf=30, min_samples_split=50, n_estimators=50; total time=   0.6s\n",
            "[CV] END max_depth=6, min_samples_leaf=30, min_samples_split=50, n_estimators=50; total time=   0.6s\n",
            "[CV] END max_depth=6, min_samples_leaf=30, min_samples_split=50, n_estimators=50; total time=   0.6s\n",
            "[CV] END max_depth=6, min_samples_leaf=30, min_samples_split=50, n_estimators=80; total time=   0.9s\n",
            "[CV] END max_depth=6, min_samples_leaf=30, min_samples_split=50, n_estimators=80; total time=   1.0s\n",
            "[CV] END max_depth=6, min_samples_leaf=30, min_samples_split=50, n_estimators=80; total time=   0.9s\n",
            "[CV] END max_depth=6, min_samples_leaf=30, min_samples_split=50, n_estimators=80; total time=   0.9s\n",
            "[CV] END max_depth=6, min_samples_leaf=30, min_samples_split=50, n_estimators=80; total time=   0.9s\n",
            "[CV] END max_depth=6, min_samples_leaf=30, min_samples_split=50, n_estimators=100; total time=   1.1s\n",
            "[CV] END max_depth=6, min_samples_leaf=30, min_samples_split=50, n_estimators=100; total time=   1.1s\n",
            "[CV] END max_depth=6, min_samples_leaf=30, min_samples_split=50, n_estimators=100; total time=   1.1s\n",
            "[CV] END max_depth=6, min_samples_leaf=30, min_samples_split=50, n_estimators=100; total time=   1.1s\n",
            "[CV] END max_depth=6, min_samples_leaf=30, min_samples_split=50, n_estimators=100; total time=   1.2s\n",
            "[CV] END max_depth=6, min_samples_leaf=30, min_samples_split=100, n_estimators=50; total time=   0.6s\n",
            "[CV] END max_depth=6, min_samples_leaf=30, min_samples_split=100, n_estimators=50; total time=   0.6s\n",
            "[CV] END max_depth=6, min_samples_leaf=30, min_samples_split=100, n_estimators=50; total time=   0.6s\n",
            "[CV] END max_depth=6, min_samples_leaf=30, min_samples_split=100, n_estimators=50; total time=   0.6s\n",
            "[CV] END max_depth=6, min_samples_leaf=30, min_samples_split=100, n_estimators=50; total time=   0.6s\n",
            "[CV] END max_depth=6, min_samples_leaf=30, min_samples_split=100, n_estimators=80; total time=   0.9s\n",
            "[CV] END max_depth=6, min_samples_leaf=30, min_samples_split=100, n_estimators=80; total time=   0.9s\n",
            "[CV] END max_depth=6, min_samples_leaf=30, min_samples_split=100, n_estimators=80; total time=   0.9s\n",
            "[CV] END max_depth=6, min_samples_leaf=30, min_samples_split=100, n_estimators=80; total time=   0.9s\n",
            "[CV] END max_depth=6, min_samples_leaf=30, min_samples_split=100, n_estimators=80; total time=   1.0s\n",
            "[CV] END max_depth=6, min_samples_leaf=30, min_samples_split=100, n_estimators=100; total time=   1.1s\n",
            "[CV] END max_depth=6, min_samples_leaf=30, min_samples_split=100, n_estimators=100; total time=   1.1s\n",
            "[CV] END max_depth=6, min_samples_leaf=30, min_samples_split=100, n_estimators=100; total time=   1.2s\n",
            "[CV] END max_depth=6, min_samples_leaf=30, min_samples_split=100, n_estimators=100; total time=   1.2s\n",
            "[CV] END max_depth=6, min_samples_leaf=30, min_samples_split=100, n_estimators=100; total time=   1.2s\n",
            "[CV] END max_depth=6, min_samples_leaf=40, min_samples_split=10, n_estimators=50; total time=   0.6s\n",
            "[CV] END max_depth=6, min_samples_leaf=40, min_samples_split=10, n_estimators=50; total time=   0.6s\n",
            "[CV] END max_depth=6, min_samples_leaf=40, min_samples_split=10, n_estimators=50; total time=   0.6s\n",
            "[CV] END max_depth=6, min_samples_leaf=40, min_samples_split=10, n_estimators=50; total time=   0.6s\n",
            "[CV] END max_depth=6, min_samples_leaf=40, min_samples_split=10, n_estimators=50; total time=   0.6s\n",
            "[CV] END max_depth=6, min_samples_leaf=40, min_samples_split=10, n_estimators=80; total time=   1.0s\n",
            "[CV] END max_depth=6, min_samples_leaf=40, min_samples_split=10, n_estimators=80; total time=   0.9s\n",
            "[CV] END max_depth=6, min_samples_leaf=40, min_samples_split=10, n_estimators=80; total time=   1.0s\n",
            "[CV] END max_depth=6, min_samples_leaf=40, min_samples_split=10, n_estimators=80; total time=   0.9s\n",
            "[CV] END max_depth=6, min_samples_leaf=40, min_samples_split=10, n_estimators=80; total time=   0.9s\n",
            "[CV] END max_depth=6, min_samples_leaf=40, min_samples_split=10, n_estimators=100; total time=   1.1s\n",
            "[CV] END max_depth=6, min_samples_leaf=40, min_samples_split=10, n_estimators=100; total time=   1.1s\n",
            "[CV] END max_depth=6, min_samples_leaf=40, min_samples_split=10, n_estimators=100; total time=   1.2s\n",
            "[CV] END max_depth=6, min_samples_leaf=40, min_samples_split=10, n_estimators=100; total time=   1.2s\n",
            "[CV] END max_depth=6, min_samples_leaf=40, min_samples_split=10, n_estimators=100; total time=   1.2s\n",
            "[CV] END max_depth=6, min_samples_leaf=40, min_samples_split=50, n_estimators=50; total time=   0.6s\n",
            "[CV] END max_depth=6, min_samples_leaf=40, min_samples_split=50, n_estimators=50; total time=   0.6s\n",
            "[CV] END max_depth=6, min_samples_leaf=40, min_samples_split=50, n_estimators=50; total time=   0.6s\n",
            "[CV] END max_depth=6, min_samples_leaf=40, min_samples_split=50, n_estimators=50; total time=   0.6s\n",
            "[CV] END max_depth=6, min_samples_leaf=40, min_samples_split=50, n_estimators=50; total time=   0.6s\n",
            "[CV] END max_depth=6, min_samples_leaf=40, min_samples_split=50, n_estimators=80; total time=   0.9s\n",
            "[CV] END max_depth=6, min_samples_leaf=40, min_samples_split=50, n_estimators=80; total time=   0.9s\n",
            "[CV] END max_depth=6, min_samples_leaf=40, min_samples_split=50, n_estimators=80; total time=   0.9s\n",
            "[CV] END max_depth=6, min_samples_leaf=40, min_samples_split=50, n_estimators=80; total time=   1.0s\n",
            "[CV] END max_depth=6, min_samples_leaf=40, min_samples_split=50, n_estimators=80; total time=   1.0s\n",
            "[CV] END max_depth=6, min_samples_leaf=40, min_samples_split=50, n_estimators=100; total time=   1.2s\n",
            "[CV] END max_depth=6, min_samples_leaf=40, min_samples_split=50, n_estimators=100; total time=   1.1s\n",
            "[CV] END max_depth=6, min_samples_leaf=40, min_samples_split=50, n_estimators=100; total time=   1.2s\n",
            "[CV] END max_depth=6, min_samples_leaf=40, min_samples_split=50, n_estimators=100; total time=   1.1s\n",
            "[CV] END max_depth=6, min_samples_leaf=40, min_samples_split=50, n_estimators=100; total time=   1.1s\n",
            "[CV] END max_depth=6, min_samples_leaf=40, min_samples_split=100, n_estimators=50; total time=   0.6s\n",
            "[CV] END max_depth=6, min_samples_leaf=40, min_samples_split=100, n_estimators=50; total time=   0.6s\n",
            "[CV] END max_depth=6, min_samples_leaf=40, min_samples_split=100, n_estimators=50; total time=   0.6s\n",
            "[CV] END max_depth=6, min_samples_leaf=40, min_samples_split=100, n_estimators=50; total time=   0.6s\n",
            "[CV] END max_depth=6, min_samples_leaf=40, min_samples_split=100, n_estimators=50; total time=   0.6s\n",
            "[CV] END max_depth=6, min_samples_leaf=40, min_samples_split=100, n_estimators=80; total time=   1.0s\n",
            "[CV] END max_depth=6, min_samples_leaf=40, min_samples_split=100, n_estimators=80; total time=   0.9s\n",
            "[CV] END max_depth=6, min_samples_leaf=40, min_samples_split=100, n_estimators=80; total time=   0.9s\n",
            "[CV] END max_depth=6, min_samples_leaf=40, min_samples_split=100, n_estimators=80; total time=   0.9s\n",
            "[CV] END max_depth=6, min_samples_leaf=40, min_samples_split=100, n_estimators=80; total time=   0.9s\n",
            "[CV] END max_depth=6, min_samples_leaf=40, min_samples_split=100, n_estimators=100; total time=   1.1s\n",
            "[CV] END max_depth=6, min_samples_leaf=40, min_samples_split=100, n_estimators=100; total time=   1.1s\n",
            "[CV] END max_depth=6, min_samples_leaf=40, min_samples_split=100, n_estimators=100; total time=   1.1s\n",
            "[CV] END max_depth=6, min_samples_leaf=40, min_samples_split=100, n_estimators=100; total time=   1.1s\n",
            "[CV] END max_depth=6, min_samples_leaf=40, min_samples_split=100, n_estimators=100; total time=   1.2s\n",
            "[CV] END max_depth=6, min_samples_leaf=50, min_samples_split=10, n_estimators=50; total time=   0.6s\n",
            "[CV] END max_depth=6, min_samples_leaf=50, min_samples_split=10, n_estimators=50; total time=   0.7s\n",
            "[CV] END max_depth=6, min_samples_leaf=50, min_samples_split=10, n_estimators=50; total time=   0.9s\n",
            "[CV] END max_depth=6, min_samples_leaf=50, min_samples_split=10, n_estimators=50; total time=   0.9s\n",
            "[CV] END max_depth=6, min_samples_leaf=50, min_samples_split=10, n_estimators=50; total time=   0.7s\n",
            "[CV] END max_depth=6, min_samples_leaf=50, min_samples_split=10, n_estimators=80; total time=   0.9s\n",
            "[CV] END max_depth=6, min_samples_leaf=50, min_samples_split=10, n_estimators=80; total time=   0.9s\n",
            "[CV] END max_depth=6, min_samples_leaf=50, min_samples_split=10, n_estimators=80; total time=   0.9s\n",
            "[CV] END max_depth=6, min_samples_leaf=50, min_samples_split=10, n_estimators=80; total time=   0.9s\n",
            "[CV] END max_depth=6, min_samples_leaf=50, min_samples_split=10, n_estimators=80; total time=   0.9s\n",
            "[CV] END max_depth=6, min_samples_leaf=50, min_samples_split=10, n_estimators=100; total time=   1.1s\n",
            "[CV] END max_depth=6, min_samples_leaf=50, min_samples_split=10, n_estimators=100; total time=   1.1s\n",
            "[CV] END max_depth=6, min_samples_leaf=50, min_samples_split=10, n_estimators=100; total time=   1.2s\n",
            "[CV] END max_depth=6, min_samples_leaf=50, min_samples_split=10, n_estimators=100; total time=   1.1s\n",
            "[CV] END max_depth=6, min_samples_leaf=50, min_samples_split=10, n_estimators=100; total time=   1.1s\n",
            "[CV] END max_depth=6, min_samples_leaf=50, min_samples_split=50, n_estimators=50; total time=   0.6s\n",
            "[CV] END max_depth=6, min_samples_leaf=50, min_samples_split=50, n_estimators=50; total time=   0.6s\n",
            "[CV] END max_depth=6, min_samples_leaf=50, min_samples_split=50, n_estimators=50; total time=   0.6s\n",
            "[CV] END max_depth=6, min_samples_leaf=50, min_samples_split=50, n_estimators=50; total time=   0.6s\n",
            "[CV] END max_depth=6, min_samples_leaf=50, min_samples_split=50, n_estimators=50; total time=   0.6s\n",
            "[CV] END max_depth=6, min_samples_leaf=50, min_samples_split=50, n_estimators=80; total time=   0.9s\n",
            "[CV] END max_depth=6, min_samples_leaf=50, min_samples_split=50, n_estimators=80; total time=   0.9s\n",
            "[CV] END max_depth=6, min_samples_leaf=50, min_samples_split=50, n_estimators=80; total time=   1.0s\n",
            "[CV] END max_depth=6, min_samples_leaf=50, min_samples_split=50, n_estimators=80; total time=   0.9s\n",
            "[CV] END max_depth=6, min_samples_leaf=50, min_samples_split=50, n_estimators=80; total time=   0.9s\n",
            "[CV] END max_depth=6, min_samples_leaf=50, min_samples_split=50, n_estimators=100; total time=   1.2s\n",
            "[CV] END max_depth=6, min_samples_leaf=50, min_samples_split=50, n_estimators=100; total time=   1.1s\n",
            "[CV] END max_depth=6, min_samples_leaf=50, min_samples_split=50, n_estimators=100; total time=   1.1s\n",
            "[CV] END max_depth=6, min_samples_leaf=50, min_samples_split=50, n_estimators=100; total time=   1.2s\n",
            "[CV] END max_depth=6, min_samples_leaf=50, min_samples_split=50, n_estimators=100; total time=   1.1s\n",
            "[CV] END max_depth=6, min_samples_leaf=50, min_samples_split=100, n_estimators=50; total time=   0.6s\n",
            "[CV] END max_depth=6, min_samples_leaf=50, min_samples_split=100, n_estimators=50; total time=   0.6s\n",
            "[CV] END max_depth=6, min_samples_leaf=50, min_samples_split=100, n_estimators=50; total time=   0.6s\n",
            "[CV] END max_depth=6, min_samples_leaf=50, min_samples_split=100, n_estimators=50; total time=   0.6s\n",
            "[CV] END max_depth=6, min_samples_leaf=50, min_samples_split=100, n_estimators=50; total time=   0.6s\n",
            "[CV] END max_depth=6, min_samples_leaf=50, min_samples_split=100, n_estimators=80; total time=   0.9s\n",
            "[CV] END max_depth=6, min_samples_leaf=50, min_samples_split=100, n_estimators=80; total time=   0.9s\n",
            "[CV] END max_depth=6, min_samples_leaf=50, min_samples_split=100, n_estimators=80; total time=   0.9s\n",
            "[CV] END max_depth=6, min_samples_leaf=50, min_samples_split=100, n_estimators=80; total time=   1.0s\n",
            "[CV] END max_depth=6, min_samples_leaf=50, min_samples_split=100, n_estimators=80; total time=   0.9s\n",
            "[CV] END max_depth=6, min_samples_leaf=50, min_samples_split=100, n_estimators=100; total time=   1.2s\n",
            "[CV] END max_depth=6, min_samples_leaf=50, min_samples_split=100, n_estimators=100; total time=   1.2s\n",
            "[CV] END max_depth=6, min_samples_leaf=50, min_samples_split=100, n_estimators=100; total time=   1.1s\n",
            "[CV] END max_depth=6, min_samples_leaf=50, min_samples_split=100, n_estimators=100; total time=   1.1s\n",
            "[CV] END max_depth=6, min_samples_leaf=50, min_samples_split=100, n_estimators=100; total time=   1.2s\n",
            "[CV] END max_depth=8, min_samples_leaf=30, min_samples_split=10, n_estimators=50; total time=   0.7s\n",
            "[CV] END max_depth=8, min_samples_leaf=30, min_samples_split=10, n_estimators=50; total time=   0.7s\n",
            "[CV] END max_depth=8, min_samples_leaf=30, min_samples_split=10, n_estimators=50; total time=   0.7s\n",
            "[CV] END max_depth=8, min_samples_leaf=30, min_samples_split=10, n_estimators=50; total time=   0.7s\n",
            "[CV] END max_depth=8, min_samples_leaf=30, min_samples_split=10, n_estimators=50; total time=   0.7s\n",
            "[CV] END max_depth=8, min_samples_leaf=30, min_samples_split=10, n_estimators=80; total time=   1.1s\n",
            "[CV] END max_depth=8, min_samples_leaf=30, min_samples_split=10, n_estimators=80; total time=   1.1s\n",
            "[CV] END max_depth=8, min_samples_leaf=30, min_samples_split=10, n_estimators=80; total time=   1.1s\n",
            "[CV] END max_depth=8, min_samples_leaf=30, min_samples_split=10, n_estimators=80; total time=   1.1s\n",
            "[CV] END max_depth=8, min_samples_leaf=30, min_samples_split=10, n_estimators=80; total time=   1.1s\n",
            "[CV] END max_depth=8, min_samples_leaf=30, min_samples_split=10, n_estimators=100; total time=   1.4s\n",
            "[CV] END max_depth=8, min_samples_leaf=30, min_samples_split=10, n_estimators=100; total time=   1.4s\n",
            "[CV] END max_depth=8, min_samples_leaf=30, min_samples_split=10, n_estimators=100; total time=   1.3s\n",
            "[CV] END max_depth=8, min_samples_leaf=30, min_samples_split=10, n_estimators=100; total time=   1.3s\n",
            "[CV] END max_depth=8, min_samples_leaf=30, min_samples_split=10, n_estimators=100; total time=   1.3s\n",
            "[CV] END max_depth=8, min_samples_leaf=30, min_samples_split=50, n_estimators=50; total time=   0.7s\n",
            "[CV] END max_depth=8, min_samples_leaf=30, min_samples_split=50, n_estimators=50; total time=   0.7s\n",
            "[CV] END max_depth=8, min_samples_leaf=30, min_samples_split=50, n_estimators=50; total time=   0.7s\n",
            "[CV] END max_depth=8, min_samples_leaf=30, min_samples_split=50, n_estimators=50; total time=   0.7s\n",
            "[CV] END max_depth=8, min_samples_leaf=30, min_samples_split=50, n_estimators=50; total time=   0.7s\n",
            "[CV] END max_depth=8, min_samples_leaf=30, min_samples_split=50, n_estimators=80; total time=   1.1s\n",
            "[CV] END max_depth=8, min_samples_leaf=30, min_samples_split=50, n_estimators=80; total time=   1.1s\n",
            "[CV] END max_depth=8, min_samples_leaf=30, min_samples_split=50, n_estimators=80; total time=   1.1s\n",
            "[CV] END max_depth=8, min_samples_leaf=30, min_samples_split=50, n_estimators=80; total time=   1.1s\n",
            "[CV] END max_depth=8, min_samples_leaf=30, min_samples_split=50, n_estimators=80; total time=   1.1s\n",
            "[CV] END max_depth=8, min_samples_leaf=30, min_samples_split=50, n_estimators=100; total time=   1.4s\n",
            "[CV] END max_depth=8, min_samples_leaf=30, min_samples_split=50, n_estimators=100; total time=   1.3s\n",
            "[CV] END max_depth=8, min_samples_leaf=30, min_samples_split=50, n_estimators=100; total time=   1.4s\n",
            "[CV] END max_depth=8, min_samples_leaf=30, min_samples_split=50, n_estimators=100; total time=   1.4s\n",
            "[CV] END max_depth=8, min_samples_leaf=30, min_samples_split=50, n_estimators=100; total time=   1.4s\n",
            "[CV] END max_depth=8, min_samples_leaf=30, min_samples_split=100, n_estimators=50; total time=   0.7s\n",
            "[CV] END max_depth=8, min_samples_leaf=30, min_samples_split=100, n_estimators=50; total time=   0.7s\n",
            "[CV] END max_depth=8, min_samples_leaf=30, min_samples_split=100, n_estimators=50; total time=   0.7s\n",
            "[CV] END max_depth=8, min_samples_leaf=30, min_samples_split=100, n_estimators=50; total time=   0.7s\n",
            "[CV] END max_depth=8, min_samples_leaf=30, min_samples_split=100, n_estimators=50; total time=   0.7s\n",
            "[CV] END max_depth=8, min_samples_leaf=30, min_samples_split=100, n_estimators=80; total time=   1.1s\n",
            "[CV] END max_depth=8, min_samples_leaf=30, min_samples_split=100, n_estimators=80; total time=   1.2s\n",
            "[CV] END max_depth=8, min_samples_leaf=30, min_samples_split=100, n_estimators=80; total time=   1.1s\n",
            "[CV] END max_depth=8, min_samples_leaf=30, min_samples_split=100, n_estimators=80; total time=   1.1s\n",
            "[CV] END max_depth=8, min_samples_leaf=30, min_samples_split=100, n_estimators=80; total time=   1.1s\n",
            "[CV] END max_depth=8, min_samples_leaf=30, min_samples_split=100, n_estimators=100; total time=   1.3s\n",
            "[CV] END max_depth=8, min_samples_leaf=30, min_samples_split=100, n_estimators=100; total time=   1.4s\n",
            "[CV] END max_depth=8, min_samples_leaf=30, min_samples_split=100, n_estimators=100; total time=   1.3s\n",
            "[CV] END max_depth=8, min_samples_leaf=30, min_samples_split=100, n_estimators=100; total time=   1.3s\n",
            "[CV] END max_depth=8, min_samples_leaf=30, min_samples_split=100, n_estimators=100; total time=   1.4s\n",
            "[CV] END max_depth=8, min_samples_leaf=40, min_samples_split=10, n_estimators=50; total time=   0.7s\n",
            "[CV] END max_depth=8, min_samples_leaf=40, min_samples_split=10, n_estimators=50; total time=   0.7s\n",
            "[CV] END max_depth=8, min_samples_leaf=40, min_samples_split=10, n_estimators=50; total time=   0.7s\n",
            "[CV] END max_depth=8, min_samples_leaf=40, min_samples_split=10, n_estimators=50; total time=   0.7s\n",
            "[CV] END max_depth=8, min_samples_leaf=40, min_samples_split=10, n_estimators=50; total time=   0.7s\n",
            "[CV] END max_depth=8, min_samples_leaf=40, min_samples_split=10, n_estimators=80; total time=   1.1s\n",
            "[CV] END max_depth=8, min_samples_leaf=40, min_samples_split=10, n_estimators=80; total time=   1.1s\n",
            "[CV] END max_depth=8, min_samples_leaf=40, min_samples_split=10, n_estimators=80; total time=   1.1s\n",
            "[CV] END max_depth=8, min_samples_leaf=40, min_samples_split=10, n_estimators=80; total time=   1.0s\n",
            "[CV] END max_depth=8, min_samples_leaf=40, min_samples_split=10, n_estimators=80; total time=   1.1s\n",
            "[CV] END max_depth=8, min_samples_leaf=40, min_samples_split=10, n_estimators=100; total time=   1.3s\n",
            "[CV] END max_depth=8, min_samples_leaf=40, min_samples_split=10, n_estimators=100; total time=   1.4s\n",
            "[CV] END max_depth=8, min_samples_leaf=40, min_samples_split=10, n_estimators=100; total time=   1.4s\n",
            "[CV] END max_depth=8, min_samples_leaf=40, min_samples_split=10, n_estimators=100; total time=   1.3s\n",
            "[CV] END max_depth=8, min_samples_leaf=40, min_samples_split=10, n_estimators=100; total time=   1.4s\n",
            "[CV] END max_depth=8, min_samples_leaf=40, min_samples_split=50, n_estimators=50; total time=   0.7s\n",
            "[CV] END max_depth=8, min_samples_leaf=40, min_samples_split=50, n_estimators=50; total time=   0.7s\n",
            "[CV] END max_depth=8, min_samples_leaf=40, min_samples_split=50, n_estimators=50; total time=   0.7s\n",
            "[CV] END max_depth=8, min_samples_leaf=40, min_samples_split=50, n_estimators=50; total time=   0.7s\n",
            "[CV] END max_depth=8, min_samples_leaf=40, min_samples_split=50, n_estimators=50; total time=   0.7s\n",
            "[CV] END max_depth=8, min_samples_leaf=40, min_samples_split=50, n_estimators=80; total time=   1.1s\n",
            "[CV] END max_depth=8, min_samples_leaf=40, min_samples_split=50, n_estimators=80; total time=   1.1s\n",
            "[CV] END max_depth=8, min_samples_leaf=40, min_samples_split=50, n_estimators=80; total time=   1.1s\n",
            "[CV] END max_depth=8, min_samples_leaf=40, min_samples_split=50, n_estimators=80; total time=   1.0s\n",
            "[CV] END max_depth=8, min_samples_leaf=40, min_samples_split=50, n_estimators=80; total time=   1.1s\n",
            "[CV] END max_depth=8, min_samples_leaf=40, min_samples_split=50, n_estimators=100; total time=   1.3s\n",
            "[CV] END max_depth=8, min_samples_leaf=40, min_samples_split=50, n_estimators=100; total time=   1.3s\n",
            "[CV] END max_depth=8, min_samples_leaf=40, min_samples_split=50, n_estimators=100; total time=   1.3s\n",
            "[CV] END max_depth=8, min_samples_leaf=40, min_samples_split=50, n_estimators=100; total time=   1.3s\n",
            "[CV] END max_depth=8, min_samples_leaf=40, min_samples_split=50, n_estimators=100; total time=   1.4s\n",
            "[CV] END max_depth=8, min_samples_leaf=40, min_samples_split=100, n_estimators=50; total time=   0.7s\n",
            "[CV] END max_depth=8, min_samples_leaf=40, min_samples_split=100, n_estimators=50; total time=   0.7s\n",
            "[CV] END max_depth=8, min_samples_leaf=40, min_samples_split=100, n_estimators=50; total time=   0.7s\n",
            "[CV] END max_depth=8, min_samples_leaf=40, min_samples_split=100, n_estimators=50; total time=   0.7s\n",
            "[CV] END max_depth=8, min_samples_leaf=40, min_samples_split=100, n_estimators=50; total time=   0.7s\n",
            "[CV] END max_depth=8, min_samples_leaf=40, min_samples_split=100, n_estimators=80; total time=   1.1s\n",
            "[CV] END max_depth=8, min_samples_leaf=40, min_samples_split=100, n_estimators=80; total time=   1.1s\n",
            "[CV] END max_depth=8, min_samples_leaf=40, min_samples_split=100, n_estimators=80; total time=   1.1s\n",
            "[CV] END max_depth=8, min_samples_leaf=40, min_samples_split=100, n_estimators=80; total time=   1.1s\n",
            "[CV] END max_depth=8, min_samples_leaf=40, min_samples_split=100, n_estimators=80; total time=   1.1s\n",
            "[CV] END max_depth=8, min_samples_leaf=40, min_samples_split=100, n_estimators=100; total time=   1.3s\n",
            "[CV] END max_depth=8, min_samples_leaf=40, min_samples_split=100, n_estimators=100; total time=   1.4s\n",
            "[CV] END max_depth=8, min_samples_leaf=40, min_samples_split=100, n_estimators=100; total time=   1.4s\n",
            "[CV] END max_depth=8, min_samples_leaf=40, min_samples_split=100, n_estimators=100; total time=   1.4s\n",
            "[CV] END max_depth=8, min_samples_leaf=40, min_samples_split=100, n_estimators=100; total time=   1.3s\n",
            "[CV] END max_depth=8, min_samples_leaf=50, min_samples_split=10, n_estimators=50; total time=   0.7s\n",
            "[CV] END max_depth=8, min_samples_leaf=50, min_samples_split=10, n_estimators=50; total time=   0.7s\n",
            "[CV] END max_depth=8, min_samples_leaf=50, min_samples_split=10, n_estimators=50; total time=   0.7s\n",
            "[CV] END max_depth=8, min_samples_leaf=50, min_samples_split=10, n_estimators=50; total time=   0.7s\n",
            "[CV] END max_depth=8, min_samples_leaf=50, min_samples_split=10, n_estimators=50; total time=   0.7s\n",
            "[CV] END max_depth=8, min_samples_leaf=50, min_samples_split=10, n_estimators=80; total time=   1.1s\n",
            "[CV] END max_depth=8, min_samples_leaf=50, min_samples_split=10, n_estimators=80; total time=   1.1s\n",
            "[CV] END max_depth=8, min_samples_leaf=50, min_samples_split=10, n_estimators=80; total time=   1.1s\n",
            "[CV] END max_depth=8, min_samples_leaf=50, min_samples_split=10, n_estimators=80; total time=   1.1s\n",
            "[CV] END max_depth=8, min_samples_leaf=50, min_samples_split=10, n_estimators=80; total time=   1.1s\n",
            "[CV] END max_depth=8, min_samples_leaf=50, min_samples_split=10, n_estimators=100; total time=   1.4s\n",
            "[CV] END max_depth=8, min_samples_leaf=50, min_samples_split=10, n_estimators=100; total time=   1.4s\n",
            "[CV] END max_depth=8, min_samples_leaf=50, min_samples_split=10, n_estimators=100; total time=   1.3s\n",
            "[CV] END max_depth=8, min_samples_leaf=50, min_samples_split=10, n_estimators=100; total time=   1.3s\n",
            "[CV] END max_depth=8, min_samples_leaf=50, min_samples_split=10, n_estimators=100; total time=   1.4s\n",
            "[CV] END max_depth=8, min_samples_leaf=50, min_samples_split=50, n_estimators=50; total time=   0.7s\n",
            "[CV] END max_depth=8, min_samples_leaf=50, min_samples_split=50, n_estimators=50; total time=   0.7s\n",
            "[CV] END max_depth=8, min_samples_leaf=50, min_samples_split=50, n_estimators=50; total time=   0.7s\n",
            "[CV] END max_depth=8, min_samples_leaf=50, min_samples_split=50, n_estimators=50; total time=   0.7s\n",
            "[CV] END max_depth=8, min_samples_leaf=50, min_samples_split=50, n_estimators=50; total time=   0.7s\n",
            "[CV] END max_depth=8, min_samples_leaf=50, min_samples_split=50, n_estimators=80; total time=   1.1s\n",
            "[CV] END max_depth=8, min_samples_leaf=50, min_samples_split=50, n_estimators=80; total time=   1.1s\n",
            "[CV] END max_depth=8, min_samples_leaf=50, min_samples_split=50, n_estimators=80; total time=   1.1s\n",
            "[CV] END max_depth=8, min_samples_leaf=50, min_samples_split=50, n_estimators=80; total time=   1.1s\n",
            "[CV] END max_depth=8, min_samples_leaf=50, min_samples_split=50, n_estimators=80; total time=   1.1s\n",
            "[CV] END max_depth=8, min_samples_leaf=50, min_samples_split=50, n_estimators=100; total time=   1.4s\n",
            "[CV] END max_depth=8, min_samples_leaf=50, min_samples_split=50, n_estimators=100; total time=   1.4s\n",
            "[CV] END max_depth=8, min_samples_leaf=50, min_samples_split=50, n_estimators=100; total time=   1.8s\n",
            "[CV] END max_depth=8, min_samples_leaf=50, min_samples_split=50, n_estimators=100; total time=   1.7s\n",
            "[CV] END max_depth=8, min_samples_leaf=50, min_samples_split=50, n_estimators=100; total time=   1.4s\n",
            "[CV] END max_depth=8, min_samples_leaf=50, min_samples_split=100, n_estimators=50; total time=   0.7s\n",
            "[CV] END max_depth=8, min_samples_leaf=50, min_samples_split=100, n_estimators=50; total time=   0.7s\n",
            "[CV] END max_depth=8, min_samples_leaf=50, min_samples_split=100, n_estimators=50; total time=   0.7s\n",
            "[CV] END max_depth=8, min_samples_leaf=50, min_samples_split=100, n_estimators=50; total time=   0.7s\n",
            "[CV] END max_depth=8, min_samples_leaf=50, min_samples_split=100, n_estimators=50; total time=   0.7s\n",
            "[CV] END max_depth=8, min_samples_leaf=50, min_samples_split=100, n_estimators=80; total time=   1.1s\n",
            "[CV] END max_depth=8, min_samples_leaf=50, min_samples_split=100, n_estimators=80; total time=   1.1s\n",
            "[CV] END max_depth=8, min_samples_leaf=50, min_samples_split=100, n_estimators=80; total time=   1.1s\n",
            "[CV] END max_depth=8, min_samples_leaf=50, min_samples_split=100, n_estimators=80; total time=   1.0s\n",
            "[CV] END max_depth=8, min_samples_leaf=50, min_samples_split=100, n_estimators=80; total time=   1.1s\n",
            "[CV] END max_depth=8, min_samples_leaf=50, min_samples_split=100, n_estimators=100; total time=   1.4s\n",
            "[CV] END max_depth=8, min_samples_leaf=50, min_samples_split=100, n_estimators=100; total time=   1.3s\n",
            "[CV] END max_depth=8, min_samples_leaf=50, min_samples_split=100, n_estimators=100; total time=   1.3s\n",
            "[CV] END max_depth=8, min_samples_leaf=50, min_samples_split=100, n_estimators=100; total time=   1.3s\n",
            "[CV] END max_depth=8, min_samples_leaf=50, min_samples_split=100, n_estimators=100; total time=   1.3s\n",
            "[CV] END max_depth=10, min_samples_leaf=30, min_samples_split=10, n_estimators=50; total time=   0.8s\n",
            "[CV] END max_depth=10, min_samples_leaf=30, min_samples_split=10, n_estimators=50; total time=   0.8s\n",
            "[CV] END max_depth=10, min_samples_leaf=30, min_samples_split=10, n_estimators=50; total time=   0.8s\n",
            "[CV] END max_depth=10, min_samples_leaf=30, min_samples_split=10, n_estimators=50; total time=   0.8s\n",
            "[CV] END max_depth=10, min_samples_leaf=30, min_samples_split=10, n_estimators=50; total time=   0.8s\n",
            "[CV] END max_depth=10, min_samples_leaf=30, min_samples_split=10, n_estimators=80; total time=   1.2s\n",
            "[CV] END max_depth=10, min_samples_leaf=30, min_samples_split=10, n_estimators=80; total time=   1.3s\n",
            "[CV] END max_depth=10, min_samples_leaf=30, min_samples_split=10, n_estimators=80; total time=   1.2s\n",
            "[CV] END max_depth=10, min_samples_leaf=30, min_samples_split=10, n_estimators=80; total time=   1.3s\n",
            "[CV] END max_depth=10, min_samples_leaf=30, min_samples_split=10, n_estimators=80; total time=   1.2s\n",
            "[CV] END max_depth=10, min_samples_leaf=30, min_samples_split=10, n_estimators=100; total time=   1.6s\n",
            "[CV] END max_depth=10, min_samples_leaf=30, min_samples_split=10, n_estimators=100; total time=   1.6s\n",
            "[CV] END max_depth=10, min_samples_leaf=30, min_samples_split=10, n_estimators=100; total time=   1.6s\n",
            "[CV] END max_depth=10, min_samples_leaf=30, min_samples_split=10, n_estimators=100; total time=   1.5s\n",
            "[CV] END max_depth=10, min_samples_leaf=30, min_samples_split=10, n_estimators=100; total time=   1.6s\n",
            "[CV] END max_depth=10, min_samples_leaf=30, min_samples_split=50, n_estimators=50; total time=   0.8s\n",
            "[CV] END max_depth=10, min_samples_leaf=30, min_samples_split=50, n_estimators=50; total time=   0.7s\n",
            "[CV] END max_depth=10, min_samples_leaf=30, min_samples_split=50, n_estimators=50; total time=   0.7s\n",
            "[CV] END max_depth=10, min_samples_leaf=30, min_samples_split=50, n_estimators=50; total time=   0.8s\n",
            "[CV] END max_depth=10, min_samples_leaf=30, min_samples_split=50, n_estimators=50; total time=   0.8s\n",
            "[CV] END max_depth=10, min_samples_leaf=30, min_samples_split=50, n_estimators=80; total time=   1.2s\n",
            "[CV] END max_depth=10, min_samples_leaf=30, min_samples_split=50, n_estimators=80; total time=   1.2s\n",
            "[CV] END max_depth=10, min_samples_leaf=30, min_samples_split=50, n_estimators=80; total time=   1.2s\n",
            "[CV] END max_depth=10, min_samples_leaf=30, min_samples_split=50, n_estimators=80; total time=   1.2s\n",
            "[CV] END max_depth=10, min_samples_leaf=30, min_samples_split=50, n_estimators=80; total time=   1.2s\n",
            "[CV] END max_depth=10, min_samples_leaf=30, min_samples_split=50, n_estimators=100; total time=   1.6s\n",
            "[CV] END max_depth=10, min_samples_leaf=30, min_samples_split=50, n_estimators=100; total time=   1.5s\n",
            "[CV] END max_depth=10, min_samples_leaf=30, min_samples_split=50, n_estimators=100; total time=   1.5s\n",
            "[CV] END max_depth=10, min_samples_leaf=30, min_samples_split=50, n_estimators=100; total time=   1.5s\n",
            "[CV] END max_depth=10, min_samples_leaf=30, min_samples_split=50, n_estimators=100; total time=   1.5s\n",
            "[CV] END max_depth=10, min_samples_leaf=30, min_samples_split=100, n_estimators=50; total time=   0.8s\n",
            "[CV] END max_depth=10, min_samples_leaf=30, min_samples_split=100, n_estimators=50; total time=   0.8s\n",
            "[CV] END max_depth=10, min_samples_leaf=30, min_samples_split=100, n_estimators=50; total time=   0.8s\n",
            "[CV] END max_depth=10, min_samples_leaf=30, min_samples_split=100, n_estimators=50; total time=   0.8s\n",
            "[CV] END max_depth=10, min_samples_leaf=30, min_samples_split=100, n_estimators=50; total time=   0.8s\n",
            "[CV] END max_depth=10, min_samples_leaf=30, min_samples_split=100, n_estimators=80; total time=   1.3s\n",
            "[CV] END max_depth=10, min_samples_leaf=30, min_samples_split=100, n_estimators=80; total time=   1.2s\n",
            "[CV] END max_depth=10, min_samples_leaf=30, min_samples_split=100, n_estimators=80; total time=   1.2s\n",
            "[CV] END max_depth=10, min_samples_leaf=30, min_samples_split=100, n_estimators=80; total time=   1.2s\n",
            "[CV] END max_depth=10, min_samples_leaf=30, min_samples_split=100, n_estimators=80; total time=   1.2s\n",
            "[CV] END max_depth=10, min_samples_leaf=30, min_samples_split=100, n_estimators=100; total time=   1.5s\n",
            "[CV] END max_depth=10, min_samples_leaf=30, min_samples_split=100, n_estimators=100; total time=   1.5s\n",
            "[CV] END max_depth=10, min_samples_leaf=30, min_samples_split=100, n_estimators=100; total time=   1.5s\n",
            "[CV] END max_depth=10, min_samples_leaf=30, min_samples_split=100, n_estimators=100; total time=   1.5s\n",
            "[CV] END max_depth=10, min_samples_leaf=30, min_samples_split=100, n_estimators=100; total time=   1.5s\n",
            "[CV] END max_depth=10, min_samples_leaf=40, min_samples_split=10, n_estimators=50; total time=   0.7s\n",
            "[CV] END max_depth=10, min_samples_leaf=40, min_samples_split=10, n_estimators=50; total time=   0.8s\n",
            "[CV] END max_depth=10, min_samples_leaf=40, min_samples_split=10, n_estimators=50; total time=   0.7s\n",
            "[CV] END max_depth=10, min_samples_leaf=40, min_samples_split=10, n_estimators=50; total time=   0.8s\n",
            "[CV] END max_depth=10, min_samples_leaf=40, min_samples_split=10, n_estimators=50; total time=   0.8s\n",
            "[CV] END max_depth=10, min_samples_leaf=40, min_samples_split=10, n_estimators=80; total time=   1.2s\n",
            "[CV] END max_depth=10, min_samples_leaf=40, min_samples_split=10, n_estimators=80; total time=   1.2s\n",
            "[CV] END max_depth=10, min_samples_leaf=40, min_samples_split=10, n_estimators=80; total time=   1.2s\n",
            "[CV] END max_depth=10, min_samples_leaf=40, min_samples_split=10, n_estimators=80; total time=   1.2s\n",
            "[CV] END max_depth=10, min_samples_leaf=40, min_samples_split=10, n_estimators=80; total time=   1.2s\n",
            "[CV] END max_depth=10, min_samples_leaf=40, min_samples_split=10, n_estimators=100; total time=   1.5s\n",
            "[CV] END max_depth=10, min_samples_leaf=40, min_samples_split=10, n_estimators=100; total time=   1.5s\n",
            "[CV] END max_depth=10, min_samples_leaf=40, min_samples_split=10, n_estimators=100; total time=   1.5s\n",
            "[CV] END max_depth=10, min_samples_leaf=40, min_samples_split=10, n_estimators=100; total time=   1.5s\n",
            "[CV] END max_depth=10, min_samples_leaf=40, min_samples_split=10, n_estimators=100; total time=   1.5s\n",
            "[CV] END max_depth=10, min_samples_leaf=40, min_samples_split=50, n_estimators=50; total time=   0.7s\n",
            "[CV] END max_depth=10, min_samples_leaf=40, min_samples_split=50, n_estimators=50; total time=   0.8s\n",
            "[CV] END max_depth=10, min_samples_leaf=40, min_samples_split=50, n_estimators=50; total time=   0.7s\n",
            "[CV] END max_depth=10, min_samples_leaf=40, min_samples_split=50, n_estimators=50; total time=   0.8s\n",
            "[CV] END max_depth=10, min_samples_leaf=40, min_samples_split=50, n_estimators=50; total time=   0.8s\n",
            "[CV] END max_depth=10, min_samples_leaf=40, min_samples_split=50, n_estimators=80; total time=   1.5s\n",
            "[CV] END max_depth=10, min_samples_leaf=40, min_samples_split=50, n_estimators=80; total time=   1.8s\n",
            "[CV] END max_depth=10, min_samples_leaf=40, min_samples_split=50, n_estimators=80; total time=   1.4s\n",
            "[CV] END max_depth=10, min_samples_leaf=40, min_samples_split=50, n_estimators=80; total time=   1.2s\n",
            "[CV] END max_depth=10, min_samples_leaf=40, min_samples_split=50, n_estimators=80; total time=   1.2s\n",
            "[CV] END max_depth=10, min_samples_leaf=40, min_samples_split=50, n_estimators=100; total time=   1.5s\n",
            "[CV] END max_depth=10, min_samples_leaf=40, min_samples_split=50, n_estimators=100; total time=   1.6s\n",
            "[CV] END max_depth=10, min_samples_leaf=40, min_samples_split=50, n_estimators=100; total time=   1.5s\n",
            "[CV] END max_depth=10, min_samples_leaf=40, min_samples_split=50, n_estimators=100; total time=   1.5s\n",
            "[CV] END max_depth=10, min_samples_leaf=40, min_samples_split=50, n_estimators=100; total time=   1.6s\n",
            "[CV] END max_depth=10, min_samples_leaf=40, min_samples_split=100, n_estimators=50; total time=   0.8s\n",
            "[CV] END max_depth=10, min_samples_leaf=40, min_samples_split=100, n_estimators=50; total time=   0.7s\n",
            "[CV] END max_depth=10, min_samples_leaf=40, min_samples_split=100, n_estimators=50; total time=   0.7s\n",
            "[CV] END max_depth=10, min_samples_leaf=40, min_samples_split=100, n_estimators=50; total time=   0.8s\n",
            "[CV] END max_depth=10, min_samples_leaf=40, min_samples_split=100, n_estimators=50; total time=   0.8s\n",
            "[CV] END max_depth=10, min_samples_leaf=40, min_samples_split=100, n_estimators=80; total time=   1.2s\n",
            "[CV] END max_depth=10, min_samples_leaf=40, min_samples_split=100, n_estimators=80; total time=   1.1s\n",
            "[CV] END max_depth=10, min_samples_leaf=40, min_samples_split=100, n_estimators=80; total time=   1.2s\n",
            "[CV] END max_depth=10, min_samples_leaf=40, min_samples_split=100, n_estimators=80; total time=   1.2s\n",
            "[CV] END max_depth=10, min_samples_leaf=40, min_samples_split=100, n_estimators=80; total time=   1.2s\n",
            "[CV] END max_depth=10, min_samples_leaf=40, min_samples_split=100, n_estimators=100; total time=   1.5s\n",
            "[CV] END max_depth=10, min_samples_leaf=40, min_samples_split=100, n_estimators=100; total time=   1.5s\n",
            "[CV] END max_depth=10, min_samples_leaf=40, min_samples_split=100, n_estimators=100; total time=   1.5s\n",
            "[CV] END max_depth=10, min_samples_leaf=40, min_samples_split=100, n_estimators=100; total time=   1.5s\n",
            "[CV] END max_depth=10, min_samples_leaf=40, min_samples_split=100, n_estimators=100; total time=   1.5s\n",
            "[CV] END max_depth=10, min_samples_leaf=50, min_samples_split=10, n_estimators=50; total time=   0.8s\n",
            "[CV] END max_depth=10, min_samples_leaf=50, min_samples_split=10, n_estimators=50; total time=   0.8s\n",
            "[CV] END max_depth=10, min_samples_leaf=50, min_samples_split=10, n_estimators=50; total time=   0.8s\n",
            "[CV] END max_depth=10, min_samples_leaf=50, min_samples_split=10, n_estimators=50; total time=   0.7s\n",
            "[CV] END max_depth=10, min_samples_leaf=50, min_samples_split=10, n_estimators=50; total time=   0.8s\n",
            "[CV] END max_depth=10, min_samples_leaf=50, min_samples_split=10, n_estimators=80; total time=   1.2s\n",
            "[CV] END max_depth=10, min_samples_leaf=50, min_samples_split=10, n_estimators=80; total time=   1.2s\n",
            "[CV] END max_depth=10, min_samples_leaf=50, min_samples_split=10, n_estimators=80; total time=   1.2s\n",
            "[CV] END max_depth=10, min_samples_leaf=50, min_samples_split=10, n_estimators=80; total time=   1.2s\n",
            "[CV] END max_depth=10, min_samples_leaf=50, min_samples_split=10, n_estimators=80; total time=   1.2s\n",
            "[CV] END max_depth=10, min_samples_leaf=50, min_samples_split=10, n_estimators=100; total time=   1.5s\n",
            "[CV] END max_depth=10, min_samples_leaf=50, min_samples_split=10, n_estimators=100; total time=   1.5s\n",
            "[CV] END max_depth=10, min_samples_leaf=50, min_samples_split=10, n_estimators=100; total time=   1.5s\n",
            "[CV] END max_depth=10, min_samples_leaf=50, min_samples_split=10, n_estimators=100; total time=   1.5s\n",
            "[CV] END max_depth=10, min_samples_leaf=50, min_samples_split=10, n_estimators=100; total time=   1.5s\n",
            "[CV] END max_depth=10, min_samples_leaf=50, min_samples_split=50, n_estimators=50; total time=   0.7s\n",
            "[CV] END max_depth=10, min_samples_leaf=50, min_samples_split=50, n_estimators=50; total time=   0.8s\n",
            "[CV] END max_depth=10, min_samples_leaf=50, min_samples_split=50, n_estimators=50; total time=   0.7s\n",
            "[CV] END max_depth=10, min_samples_leaf=50, min_samples_split=50, n_estimators=50; total time=   0.7s\n",
            "[CV] END max_depth=10, min_samples_leaf=50, min_samples_split=50, n_estimators=50; total time=   0.8s\n",
            "[CV] END max_depth=10, min_samples_leaf=50, min_samples_split=50, n_estimators=80; total time=   1.2s\n",
            "[CV] END max_depth=10, min_samples_leaf=50, min_samples_split=50, n_estimators=80; total time=   1.1s\n",
            "[CV] END max_depth=10, min_samples_leaf=50, min_samples_split=50, n_estimators=80; total time=   1.2s\n",
            "[CV] END max_depth=10, min_samples_leaf=50, min_samples_split=50, n_estimators=80; total time=   1.2s\n",
            "[CV] END max_depth=10, min_samples_leaf=50, min_samples_split=50, n_estimators=80; total time=   1.2s\n",
            "[CV] END max_depth=10, min_samples_leaf=50, min_samples_split=50, n_estimators=100; total time=   1.5s\n",
            "[CV] END max_depth=10, min_samples_leaf=50, min_samples_split=50, n_estimators=100; total time=   1.4s\n",
            "[CV] END max_depth=10, min_samples_leaf=50, min_samples_split=50, n_estimators=100; total time=   1.5s\n",
            "[CV] END max_depth=10, min_samples_leaf=50, min_samples_split=50, n_estimators=100; total time=   1.5s\n",
            "[CV] END max_depth=10, min_samples_leaf=50, min_samples_split=50, n_estimators=100; total time=   1.5s\n",
            "[CV] END max_depth=10, min_samples_leaf=50, min_samples_split=100, n_estimators=50; total time=   0.8s\n",
            "[CV] END max_depth=10, min_samples_leaf=50, min_samples_split=100, n_estimators=50; total time=   0.7s\n",
            "[CV] END max_depth=10, min_samples_leaf=50, min_samples_split=100, n_estimators=50; total time=   0.8s\n",
            "[CV] END max_depth=10, min_samples_leaf=50, min_samples_split=100, n_estimators=50; total time=   1.0s\n",
            "[CV] END max_depth=10, min_samples_leaf=50, min_samples_split=100, n_estimators=50; total time=   1.2s\n",
            "[CV] END max_depth=10, min_samples_leaf=50, min_samples_split=100, n_estimators=80; total time=   1.5s\n",
            "[CV] END max_depth=10, min_samples_leaf=50, min_samples_split=100, n_estimators=80; total time=   1.2s\n",
            "[CV] END max_depth=10, min_samples_leaf=50, min_samples_split=100, n_estimators=80; total time=   1.2s\n",
            "[CV] END max_depth=10, min_samples_leaf=50, min_samples_split=100, n_estimators=80; total time=   1.2s\n",
            "[CV] END max_depth=10, min_samples_leaf=50, min_samples_split=100, n_estimators=80; total time=   1.2s\n",
            "[CV] END max_depth=10, min_samples_leaf=50, min_samples_split=100, n_estimators=100; total time=   1.5s\n",
            "[CV] END max_depth=10, min_samples_leaf=50, min_samples_split=100, n_estimators=100; total time=   1.5s\n",
            "[CV] END max_depth=10, min_samples_leaf=50, min_samples_split=100, n_estimators=100; total time=   1.5s\n",
            "[CV] END max_depth=10, min_samples_leaf=50, min_samples_split=100, n_estimators=100; total time=   1.5s\n",
            "[CV] END max_depth=10, min_samples_leaf=50, min_samples_split=100, n_estimators=100; total time=   1.5s\n",
            "[CV] END max_depth=12, min_samples_leaf=30, min_samples_split=10, n_estimators=50; total time=   0.9s\n",
            "[CV] END max_depth=12, min_samples_leaf=30, min_samples_split=10, n_estimators=50; total time=   0.9s\n",
            "[CV] END max_depth=12, min_samples_leaf=30, min_samples_split=10, n_estimators=50; total time=   0.9s\n",
            "[CV] END max_depth=12, min_samples_leaf=30, min_samples_split=10, n_estimators=50; total time=   0.9s\n",
            "[CV] END max_depth=12, min_samples_leaf=30, min_samples_split=10, n_estimators=50; total time=   0.9s\n",
            "[CV] END max_depth=12, min_samples_leaf=30, min_samples_split=10, n_estimators=80; total time=   1.4s\n",
            "[CV] END max_depth=12, min_samples_leaf=30, min_samples_split=10, n_estimators=80; total time=   1.3s\n",
            "[CV] END max_depth=12, min_samples_leaf=30, min_samples_split=10, n_estimators=80; total time=   1.4s\n",
            "[CV] END max_depth=12, min_samples_leaf=30, min_samples_split=10, n_estimators=80; total time=   1.3s\n",
            "[CV] END max_depth=12, min_samples_leaf=30, min_samples_split=10, n_estimators=80; total time=   1.4s\n",
            "[CV] END max_depth=12, min_samples_leaf=30, min_samples_split=10, n_estimators=100; total time=   1.6s\n",
            "[CV] END max_depth=12, min_samples_leaf=30, min_samples_split=10, n_estimators=100; total time=   1.6s\n",
            "[CV] END max_depth=12, min_samples_leaf=30, min_samples_split=10, n_estimators=100; total time=   1.7s\n",
            "[CV] END max_depth=12, min_samples_leaf=30, min_samples_split=10, n_estimators=100; total time=   1.7s\n",
            "[CV] END max_depth=12, min_samples_leaf=30, min_samples_split=10, n_estimators=100; total time=   1.7s\n",
            "[CV] END max_depth=12, min_samples_leaf=30, min_samples_split=50, n_estimators=50; total time=   0.9s\n",
            "[CV] END max_depth=12, min_samples_leaf=30, min_samples_split=50, n_estimators=50; total time=   0.9s\n",
            "[CV] END max_depth=12, min_samples_leaf=30, min_samples_split=50, n_estimators=50; total time=   0.9s\n",
            "[CV] END max_depth=12, min_samples_leaf=30, min_samples_split=50, n_estimators=50; total time=   0.8s\n",
            "[CV] END max_depth=12, min_samples_leaf=30, min_samples_split=50, n_estimators=50; total time=   0.9s\n",
            "[CV] END max_depth=12, min_samples_leaf=30, min_samples_split=50, n_estimators=80; total time=   1.4s\n",
            "[CV] END max_depth=12, min_samples_leaf=30, min_samples_split=50, n_estimators=80; total time=   1.3s\n",
            "[CV] END max_depth=12, min_samples_leaf=30, min_samples_split=50, n_estimators=80; total time=   1.3s\n",
            "[CV] END max_depth=12, min_samples_leaf=30, min_samples_split=50, n_estimators=80; total time=   1.4s\n",
            "[CV] END max_depth=12, min_samples_leaf=30, min_samples_split=50, n_estimators=80; total time=   1.3s\n",
            "[CV] END max_depth=12, min_samples_leaf=30, min_samples_split=50, n_estimators=100; total time=   1.7s\n",
            "[CV] END max_depth=12, min_samples_leaf=30, min_samples_split=50, n_estimators=100; total time=   1.7s\n",
            "[CV] END max_depth=12, min_samples_leaf=30, min_samples_split=50, n_estimators=100; total time=   1.7s\n",
            "[CV] END max_depth=12, min_samples_leaf=30, min_samples_split=50, n_estimators=100; total time=   1.7s\n",
            "[CV] END max_depth=12, min_samples_leaf=30, min_samples_split=50, n_estimators=100; total time=   1.7s\n",
            "[CV] END max_depth=12, min_samples_leaf=30, min_samples_split=100, n_estimators=50; total time=   0.9s\n",
            "[CV] END max_depth=12, min_samples_leaf=30, min_samples_split=100, n_estimators=50; total time=   0.9s\n",
            "[CV] END max_depth=12, min_samples_leaf=30, min_samples_split=100, n_estimators=50; total time=   0.9s\n",
            "[CV] END max_depth=12, min_samples_leaf=30, min_samples_split=100, n_estimators=50; total time=   0.9s\n",
            "[CV] END max_depth=12, min_samples_leaf=30, min_samples_split=100, n_estimators=50; total time=   0.9s\n",
            "[CV] END max_depth=12, min_samples_leaf=30, min_samples_split=100, n_estimators=80; total time=   1.4s\n",
            "[CV] END max_depth=12, min_samples_leaf=30, min_samples_split=100, n_estimators=80; total time=   1.3s\n",
            "[CV] END max_depth=12, min_samples_leaf=30, min_samples_split=100, n_estimators=80; total time=   1.3s\n",
            "[CV] END max_depth=12, min_samples_leaf=30, min_samples_split=100, n_estimators=80; total time=   1.4s\n",
            "[CV] END max_depth=12, min_samples_leaf=30, min_samples_split=100, n_estimators=80; total time=   1.3s\n",
            "[CV] END max_depth=12, min_samples_leaf=30, min_samples_split=100, n_estimators=100; total time=   1.7s\n",
            "[CV] END max_depth=12, min_samples_leaf=30, min_samples_split=100, n_estimators=100; total time=   1.7s\n",
            "[CV] END max_depth=12, min_samples_leaf=30, min_samples_split=100, n_estimators=100; total time=   1.7s\n",
            "[CV] END max_depth=12, min_samples_leaf=30, min_samples_split=100, n_estimators=100; total time=   1.6s\n",
            "[CV] END max_depth=12, min_samples_leaf=30, min_samples_split=100, n_estimators=100; total time=   1.7s\n",
            "[CV] END max_depth=12, min_samples_leaf=40, min_samples_split=10, n_estimators=50; total time=   0.8s\n",
            "[CV] END max_depth=12, min_samples_leaf=40, min_samples_split=10, n_estimators=50; total time=   0.8s\n",
            "[CV] END max_depth=12, min_samples_leaf=40, min_samples_split=10, n_estimators=50; total time=   0.9s\n",
            "[CV] END max_depth=12, min_samples_leaf=40, min_samples_split=10, n_estimators=50; total time=   0.9s\n",
            "[CV] END max_depth=12, min_samples_leaf=40, min_samples_split=10, n_estimators=50; total time=   0.8s\n",
            "[CV] END max_depth=12, min_samples_leaf=40, min_samples_split=10, n_estimators=80; total time=   1.3s\n",
            "[CV] END max_depth=12, min_samples_leaf=40, min_samples_split=10, n_estimators=80; total time=   1.3s\n",
            "[CV] END max_depth=12, min_samples_leaf=40, min_samples_split=10, n_estimators=80; total time=   1.3s\n",
            "[CV] END max_depth=12, min_samples_leaf=40, min_samples_split=10, n_estimators=80; total time=   1.3s\n",
            "[CV] END max_depth=12, min_samples_leaf=40, min_samples_split=10, n_estimators=80; total time=   1.3s\n",
            "[CV] END max_depth=12, min_samples_leaf=40, min_samples_split=10, n_estimators=100; total time=   1.6s\n",
            "[CV] END max_depth=12, min_samples_leaf=40, min_samples_split=10, n_estimators=100; total time=   1.6s\n",
            "[CV] END max_depth=12, min_samples_leaf=40, min_samples_split=10, n_estimators=100; total time=   1.6s\n",
            "[CV] END max_depth=12, min_samples_leaf=40, min_samples_split=10, n_estimators=100; total time=   1.7s\n",
            "[CV] END max_depth=12, min_samples_leaf=40, min_samples_split=10, n_estimators=100; total time=   1.6s\n",
            "[CV] END max_depth=12, min_samples_leaf=40, min_samples_split=50, n_estimators=50; total time=   0.9s\n",
            "[CV] END max_depth=12, min_samples_leaf=40, min_samples_split=50, n_estimators=50; total time=   0.8s\n",
            "[CV] END max_depth=12, min_samples_leaf=40, min_samples_split=50, n_estimators=50; total time=   0.8s\n",
            "[CV] END max_depth=12, min_samples_leaf=40, min_samples_split=50, n_estimators=50; total time=   0.8s\n",
            "[CV] END max_depth=12, min_samples_leaf=40, min_samples_split=50, n_estimators=50; total time=   0.8s\n",
            "[CV] END max_depth=12, min_samples_leaf=40, min_samples_split=50, n_estimators=80; total time=   1.3s\n",
            "[CV] END max_depth=12, min_samples_leaf=40, min_samples_split=50, n_estimators=80; total time=   1.3s\n",
            "[CV] END max_depth=12, min_samples_leaf=40, min_samples_split=50, n_estimators=80; total time=   1.3s\n",
            "[CV] END max_depth=12, min_samples_leaf=40, min_samples_split=50, n_estimators=80; total time=   1.3s\n",
            "[CV] END max_depth=12, min_samples_leaf=40, min_samples_split=50, n_estimators=80; total time=   1.3s\n",
            "[CV] END max_depth=12, min_samples_leaf=40, min_samples_split=50, n_estimators=100; total time=   1.6s\n",
            "[CV] END max_depth=12, min_samples_leaf=40, min_samples_split=50, n_estimators=100; total time=   1.7s\n",
            "[CV] END max_depth=12, min_samples_leaf=40, min_samples_split=50, n_estimators=100; total time=   1.7s\n",
            "[CV] END max_depth=12, min_samples_leaf=40, min_samples_split=50, n_estimators=100; total time=   1.7s\n",
            "[CV] END max_depth=12, min_samples_leaf=40, min_samples_split=50, n_estimators=100; total time=   1.7s\n",
            "[CV] END max_depth=12, min_samples_leaf=40, min_samples_split=100, n_estimators=50; total time=   0.8s\n",
            "[CV] END max_depth=12, min_samples_leaf=40, min_samples_split=100, n_estimators=50; total time=   0.8s\n",
            "[CV] END max_depth=12, min_samples_leaf=40, min_samples_split=100, n_estimators=50; total time=   0.9s\n",
            "[CV] END max_depth=12, min_samples_leaf=40, min_samples_split=100, n_estimators=50; total time=   0.9s\n",
            "[CV] END max_depth=12, min_samples_leaf=40, min_samples_split=100, n_estimators=50; total time=   0.8s\n",
            "[CV] END max_depth=12, min_samples_leaf=40, min_samples_split=100, n_estimators=80; total time=   1.3s\n",
            "[CV] END max_depth=12, min_samples_leaf=40, min_samples_split=100, n_estimators=80; total time=   1.3s\n",
            "[CV] END max_depth=12, min_samples_leaf=40, min_samples_split=100, n_estimators=80; total time=   1.3s\n",
            "[CV] END max_depth=12, min_samples_leaf=40, min_samples_split=100, n_estimators=80; total time=   1.3s\n",
            "[CV] END max_depth=12, min_samples_leaf=40, min_samples_split=100, n_estimators=80; total time=   1.3s\n",
            "[CV] END max_depth=12, min_samples_leaf=40, min_samples_split=100, n_estimators=100; total time=   1.6s\n",
            "[CV] END max_depth=12, min_samples_leaf=40, min_samples_split=100, n_estimators=100; total time=   1.6s\n",
            "[CV] END max_depth=12, min_samples_leaf=40, min_samples_split=100, n_estimators=100; total time=   1.7s\n",
            "[CV] END max_depth=12, min_samples_leaf=40, min_samples_split=100, n_estimators=100; total time=   1.7s\n",
            "[CV] END max_depth=12, min_samples_leaf=40, min_samples_split=100, n_estimators=100; total time=   1.6s\n",
            "[CV] END max_depth=12, min_samples_leaf=50, min_samples_split=10, n_estimators=50; total time=   0.8s\n",
            "[CV] END max_depth=12, min_samples_leaf=50, min_samples_split=10, n_estimators=50; total time=   0.8s\n",
            "[CV] END max_depth=12, min_samples_leaf=50, min_samples_split=10, n_estimators=50; total time=   0.8s\n",
            "[CV] END max_depth=12, min_samples_leaf=50, min_samples_split=10, n_estimators=50; total time=   0.9s\n",
            "[CV] END max_depth=12, min_samples_leaf=50, min_samples_split=10, n_estimators=50; total time=   0.8s\n",
            "[CV] END max_depth=12, min_samples_leaf=50, min_samples_split=10, n_estimators=80; total time=   1.3s\n",
            "[CV] END max_depth=12, min_samples_leaf=50, min_samples_split=10, n_estimators=80; total time=   1.3s\n",
            "[CV] END max_depth=12, min_samples_leaf=50, min_samples_split=10, n_estimators=80; total time=   1.3s\n",
            "[CV] END max_depth=12, min_samples_leaf=50, min_samples_split=10, n_estimators=80; total time=   1.3s\n",
            "[CV] END max_depth=12, min_samples_leaf=50, min_samples_split=10, n_estimators=80; total time=   1.2s\n",
            "[CV] END max_depth=12, min_samples_leaf=50, min_samples_split=10, n_estimators=100; total time=   1.6s\n",
            "[CV] END max_depth=12, min_samples_leaf=50, min_samples_split=10, n_estimators=100; total time=   1.6s\n",
            "[CV] END max_depth=12, min_samples_leaf=50, min_samples_split=10, n_estimators=100; total time=   1.6s\n",
            "[CV] END max_depth=12, min_samples_leaf=50, min_samples_split=10, n_estimators=100; total time=   1.6s\n",
            "[CV] END max_depth=12, min_samples_leaf=50, min_samples_split=10, n_estimators=100; total time=   1.6s\n",
            "[CV] END max_depth=12, min_samples_leaf=50, min_samples_split=50, n_estimators=50; total time=   0.8s\n",
            "[CV] END max_depth=12, min_samples_leaf=50, min_samples_split=50, n_estimators=50; total time=   0.8s\n",
            "[CV] END max_depth=12, min_samples_leaf=50, min_samples_split=50, n_estimators=50; total time=   0.8s\n",
            "[CV] END max_depth=12, min_samples_leaf=50, min_samples_split=50, n_estimators=50; total time=   0.8s\n",
            "[CV] END max_depth=12, min_samples_leaf=50, min_samples_split=50, n_estimators=50; total time=   0.8s\n",
            "[CV] END max_depth=12, min_samples_leaf=50, min_samples_split=50, n_estimators=80; total time=   1.3s\n",
            "[CV] END max_depth=12, min_samples_leaf=50, min_samples_split=50, n_estimators=80; total time=   1.3s\n",
            "[CV] END max_depth=12, min_samples_leaf=50, min_samples_split=50, n_estimators=80; total time=   1.3s\n",
            "[CV] END max_depth=12, min_samples_leaf=50, min_samples_split=50, n_estimators=80; total time=   1.3s\n",
            "[CV] END max_depth=12, min_samples_leaf=50, min_samples_split=50, n_estimators=80; total time=   1.3s\n",
            "[CV] END max_depth=12, min_samples_leaf=50, min_samples_split=50, n_estimators=100; total time=   1.6s\n",
            "[CV] END max_depth=12, min_samples_leaf=50, min_samples_split=50, n_estimators=100; total time=   1.6s\n",
            "[CV] END max_depth=12, min_samples_leaf=50, min_samples_split=50, n_estimators=100; total time=   2.1s\n",
            "[CV] END max_depth=12, min_samples_leaf=50, min_samples_split=50, n_estimators=100; total time=   1.9s\n",
            "[CV] END max_depth=12, min_samples_leaf=50, min_samples_split=50, n_estimators=100; total time=   1.6s\n",
            "[CV] END max_depth=12, min_samples_leaf=50, min_samples_split=100, n_estimators=50; total time=   0.8s\n",
            "[CV] END max_depth=12, min_samples_leaf=50, min_samples_split=100, n_estimators=50; total time=   0.8s\n",
            "[CV] END max_depth=12, min_samples_leaf=50, min_samples_split=100, n_estimators=50; total time=   0.9s\n",
            "[CV] END max_depth=12, min_samples_leaf=50, min_samples_split=100, n_estimators=50; total time=   0.8s\n",
            "[CV] END max_depth=12, min_samples_leaf=50, min_samples_split=100, n_estimators=50; total time=   0.8s\n",
            "[CV] END max_depth=12, min_samples_leaf=50, min_samples_split=100, n_estimators=80; total time=   1.3s\n",
            "[CV] END max_depth=12, min_samples_leaf=50, min_samples_split=100, n_estimators=80; total time=   1.3s\n",
            "[CV] END max_depth=12, min_samples_leaf=50, min_samples_split=100, n_estimators=80; total time=   1.3s\n",
            "[CV] END max_depth=12, min_samples_leaf=50, min_samples_split=100, n_estimators=80; total time=   1.3s\n",
            "[CV] END max_depth=12, min_samples_leaf=50, min_samples_split=100, n_estimators=80; total time=   1.3s\n",
            "[CV] END max_depth=12, min_samples_leaf=50, min_samples_split=100, n_estimators=100; total time=   1.6s\n",
            "[CV] END max_depth=12, min_samples_leaf=50, min_samples_split=100, n_estimators=100; total time=   1.6s\n",
            "[CV] END max_depth=12, min_samples_leaf=50, min_samples_split=100, n_estimators=100; total time=   1.6s\n",
            "[CV] END max_depth=12, min_samples_leaf=50, min_samples_split=100, n_estimators=100; total time=   1.5s\n",
            "[CV] END max_depth=12, min_samples_leaf=50, min_samples_split=100, n_estimators=100; total time=   1.6s\n"
          ]
        },
        {
          "output_type": "execute_result",
          "data": {
            "text/plain": [
              "RandomForestClassifier(max_depth=12, min_samples_leaf=30, min_samples_split=10,\n",
              "                       n_estimators=80)"
            ]
          },
          "metadata": {},
          "execution_count": 66
        }
      ]
    },
    {
      "cell_type": "code",
      "source": [
        "#getting best parameter from grid search\n",
        "rf_grid.best_params_"
      ],
      "metadata": {
        "id": "z7c_jhKOlGkx",
        "colab": {
          "base_uri": "https://localhost:8080/"
        },
        "outputId": "c6f83395-60d3-4e6f-c03a-e5a1cf09510e"
      },
      "execution_count": 67,
      "outputs": [
        {
          "output_type": "execute_result",
          "data": {
            "text/plain": [
              "{'max_depth': 12,\n",
              " 'min_samples_leaf': 30,\n",
              " 'min_samples_split': 10,\n",
              " 'n_estimators': 80}"
            ]
          },
          "metadata": {},
          "execution_count": 67
        }
      ]
    },
    {
      "cell_type": "code",
      "source": [
        "#assigning best param variable\n",
        "rf_grid_best = rf_grid.best_estimator_"
      ],
      "metadata": {
        "id": "TgIYLsMtp1yp"
      },
      "execution_count": 68,
      "outputs": []
    },
    {
      "cell_type": "code",
      "source": [
        "#model evaluation\n",
        "pred_value = rf_grid_best.predict(X_test)\n",
        "\n",
        "\n",
        "print(metrics.classification_report(y_test,pred_value))\n",
        "cm = confusion_matrix(y_test,pred_value,labels=[1,0])\n",
        "\n",
        "print(f'\\nAccuracy score % of the model is {round(accuracy_score(y_test,pred_value)*100,2)}%\\n')\n",
        "sns.heatmap(cm, annot=True, fmt = \".1f\",cmap='icefire')\n",
        "plt.title('Confusion Matrix for Random Forest with GridSearchCV')\n",
        "\n",
        "\n",
        "#calling function to append evaluation metrices\n",
        "evaluation_metrics_df=evaluation_metric('Random Forest with GridSearchCV',y_test,pred_value,evaluation_metrics_df)"
      ],
      "metadata": {
        "id": "13KzZ9HjreRF",
        "colab": {
          "base_uri": "https://localhost:8080/",
          "height": 924
        },
        "outputId": "8ca6d15d-f457-42b9-ec50-25bf16e3ecee"
      },
      "execution_count": 69,
      "outputs": [
        {
          "output_type": "stream",
          "name": "stdout",
          "text": [
            "              precision    recall  f1-score   support\n",
            "\n",
            "           0       0.95      0.96      0.95      5766\n",
            "           1       0.96      0.94      0.95      5009\n",
            "\n",
            "    accuracy                           0.95     10775\n",
            "   macro avg       0.95      0.95      0.95     10775\n",
            "weighted avg       0.95      0.95      0.95     10775\n",
            "\n",
            "\n",
            "Accuracy score % of the model is 95.11%\n",
            "\n"
          ]
        },
        {
          "output_type": "display_data",
          "data": {
            "text/plain": [
              "<Figure size 1080x864 with 2 Axes>"
            ],
            "image/png": "[encoded data removed]"
          },
          "metadata": {
            "needs_background": "light"
          }
        }
      ]
    },
    {
      "cell_type": "code",
      "source": [
        "knn_probability =knn.predict_proba(X_test)[::,1]\n",
        "rf_gridprobability=rf_grid.best_estimator_proba(X_test)[::,1]\n",
        "#area under curve\n",
        "auc_score=roc_auc_score(y_test,knn_probability)\n",
        "auc_score"
      ],
      "metadata": {
        "colab": {
          "base_uri": "https://localhost:8080/",
          "height": 235
        },
        "id": "4eTfV8BuX6uw",
        "outputId": "fcfc67c6-4d80-41d7-cfba-30f68e7261e0"
      },
      "execution_count": 70,
      "outputs": [
        {
          "output_type": "error",
          "ename": "AttributeError",
          "evalue": "ignored",
          "traceback": [
            "\u001b[0;31m---------------------------------------------------------------------------\u001b[0m",
            "\u001b[0;31mAttributeError\u001b[0m                            Traceback (most recent call last)",
            "\u001b[0;32m<ipython-input-70-412b9b9aea1b>\u001b[0m in \u001b[0;36m<module>\u001b[0;34m\u001b[0m\n\u001b[1;32m      1\u001b[0m \u001b[0mknn_probability\u001b[0m \u001b[0;34m=\u001b[0m\u001b[0mknn\u001b[0m\u001b[0;34m.\u001b[0m\u001b[0mpredict_proba\u001b[0m\u001b[0;34m(\u001b[0m\u001b[0mX_test\u001b[0m\u001b[0;34m)\u001b[0m\u001b[0;34m[\u001b[0m\u001b[0;34m:\u001b[0m\u001b[0;34m:\u001b[0m\u001b[0;34m,\u001b[0m\u001b[0;36m1\u001b[0m\u001b[0;34m]\u001b[0m\u001b[0;34m\u001b[0m\u001b[0;34m\u001b[0m\u001b[0m\n\u001b[0;32m----> 2\u001b[0;31m \u001b[0mrf_gridprobability\u001b[0m\u001b[0;34m=\u001b[0m\u001b[0mrf_grid\u001b[0m\u001b[0;34m.\u001b[0m\u001b[0mbest_estimator_proba\u001b[0m\u001b[0;34m(\u001b[0m\u001b[0mX_test\u001b[0m\u001b[0;34m)\u001b[0m\u001b[0;34m[\u001b[0m\u001b[0;34m:\u001b[0m\u001b[0;34m:\u001b[0m\u001b[0;34m,\u001b[0m\u001b[0;36m1\u001b[0m\u001b[0;34m]\u001b[0m\u001b[0;34m\u001b[0m\u001b[0;34m\u001b[0m\u001b[0m\n\u001b[0m\u001b[1;32m      3\u001b[0m \u001b[0;31m#area under curve\u001b[0m\u001b[0;34m\u001b[0m\u001b[0;34m\u001b[0m\u001b[0;34m\u001b[0m\u001b[0m\n\u001b[1;32m      4\u001b[0m \u001b[0mauc_score\u001b[0m\u001b[0;34m=\u001b[0m\u001b[0mroc_auc_score\u001b[0m\u001b[0;34m(\u001b[0m\u001b[0my_test\u001b[0m\u001b[0;34m,\u001b[0m\u001b[0mknn_probability\u001b[0m\u001b[0;34m)\u001b[0m\u001b[0;34m\u001b[0m\u001b[0;34m\u001b[0m\u001b[0m\n\u001b[1;32m      5\u001b[0m \u001b[0mauc_score\u001b[0m\u001b[0;34m\u001b[0m\u001b[0;34m\u001b[0m\u001b[0m\n",
            "\u001b[0;31mAttributeError\u001b[0m: 'GridSearchCV' object has no attribute 'best_estimator_proba'"
          ]
        }
      ]
    },
    {
      "cell_type": "code",
      "source": [
        "#ROC curve plot\n",
        "fpr, tpr, _ = roc_curve(y_test, rf_gridprobability)\n",
        "\n",
        "plt.title('Random Forest ROC curve')\n",
        "plt.xlabel('FPR (Precision)')\n",
        "plt.ylabel('TPR (Recall)')\n",
        "\n",
        "plt.plot(fpr,tpr)\n",
        "plt.plot((0,1), ls='dashed',color='black')\n",
        "plt.show()"
      ],
      "metadata": {
        "id": "UhP9BQQfWCju"
      },
      "execution_count": null,
      "outputs": []
    },
    {
      "cell_type": "markdown",
      "source": [
        "##Conclusion"
      ],
      "metadata": {
        "id": "U3aIDtiIuzKW"
      }
    },
    {
      "cell_type": "markdown",
      "source": [
        "1.  'Overall','food bev','cabin_service', 'value_for_money' etc are positively correlated with recommendation. these parameters should be improved to provide better service and hence it will improve recommendation chances for airline.\n",
        "2. Logistic regression, decision tree, random forest and K-Nearest neighbour gave good results in terms of accuracy. Highest accuracy obtained is 95.1% with logistic regression.\n",
        "3. Random forest with Gridsearch CV also gave good accuracy approximately equal to logistic regression (95.08%)."
      ],
      "metadata": {
        "id": "if5KRUCkup7s"
      }
    }
  ],
  "metadata": {
    "colab": {
      "collapsed_sections": [],
      "provenance": [],
      "include_colab_link": true
    },
    "kernelspec": {
      "display_name": "Python 3",
      "name": "python3"
    },
    "language_info": {
      "name": "python"
    }
  },
  "nbformat": 4,
  "nbformat_minor": 0
}